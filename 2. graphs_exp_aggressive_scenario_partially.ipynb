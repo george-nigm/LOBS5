{
 "cells": [
  {
   "cell_type": "code",
   "execution_count": 1,
   "metadata": {},
   "outputs": [
    {
     "name": "stdout",
     "output_type": "stream",
     "text": [
      "/app\n"
     ]
    }
   ],
   "source": [
    "%cd /app"
   ]
  },
  {
   "cell_type": "code",
   "execution_count": 2,
   "metadata": {},
   "outputs": [
    {
     "name": "stderr",
     "output_type": "stream",
     "text": [
      "2025-08-05 10:15:49.346707: W external/xla/xla/service/gpu/nvptx_compiler.cc:718] The NVIDIA driver's CUDA version is 12.8 which is older than the ptxas CUDA version (12.9.41). Because the driver is older than the ptxas version, XLA is disabling parallel compilation, which may slow down compilation. You should update your NVIDIA driver or use the NVIDIA-provided CUDA forward compatibility packages.\n",
      "WARNING:absl:Type handler registry overriding type \"<class 'float'>\" collision on scalar\n",
      "WARNING:absl:Type handler registry overriding type \"<class 'bytes'>\" collision on scalar\n",
      "WARNING:absl:Type handler registry overriding type \"<class 'numpy.number'>\" collision on scalar\n",
      "2025-08-05 10:15:51.756943: W tensorflow/compiler/tf2tensorrt/utils/py_utils.cc:38] TF-TRT Warning: Could not find TensorRT\n"
     ]
    }
   ],
   "source": [
    "import argparse\n",
    "import os\n",
    "import sys\n",
    "\n",
    "os.environ[\"XLA_PYTHON_CLIENT_PREALLOCATE\"] = \"false\"\n",
    "\n",
    "import torch\n",
    "torch.multiprocessing.set_start_method('spawn')\n",
    "\n",
    "import jax\n",
    "from lob.encoding import Vocab, Message_Tokenizer\n",
    "\n",
    "from lob import inference_no_errcorr as inference\n",
    "from lob.init_train import init_train_state, load_checkpoint, load_metadata, load_args_from_checkpoint\n",
    "\n",
    "from lob import inference_no_errcorr as inference\n",
    "import lob.encoding as encoding\n",
    "import preproc as preproc\n",
    "\n",
    "import jax.numpy as jnp\n",
    "import numpy as np\n",
    "\n",
    "from pathlib import Path\n",
    "import os\n",
    "\n",
    "import pandas as pd\n",
    "import plotly.graph_objs as go\n",
    "import yaml\n",
    "\n",
    "from filtration_utils import summary_table, build_zero_padded_series, plot_midprice_series_with_insertions, prepare_volatility_filtered_series, plot_midprice_series_with_mean_std"
   ]
  },
  {
   "cell_type": "code",
   "execution_count": 3,
   "metadata": {},
   "outputs": [],
   "source": [
    "# experiment_name = 'exp_92_20250702_215802'\n",
    "experiment_name = 'exp_24_20250805_101039'\n",
    "\n",
    "\n",
    "CONFIG_PATH = f\"/app/data_saved/{experiment_name}/used_config.yaml\"\n",
    "\n",
    "# Load YAML config\n",
    "with open(CONFIG_PATH, 'r') as f:\n",
    "    config = yaml.safe_load(f)\n",
    "\n",
    "# Extract values\n",
    "num_insertions      = config[\"num_insertions\"]\n",
    "num_coolings        = config[\"num_coolings\"]\n",
    "midprice_step_size  = config[\"midprice_step_size\"]\n",
    "hist_msgs           = config[\"n_messages\"]\n",
    "n_gen_msgs          = config[\"n_gen_msgs\"]\n",
    "Direction           = config[\"DIRECTION_i\"]"
   ]
  },
  {
   "cell_type": "code",
   "execution_count": 4,
   "metadata": {},
   "outputs": [
    {
     "name": "stdout",
     "output_type": "stream",
     "text": [
      "Aggressive buy\n",
      "\n",
      "num_insertions: 20\n",
      "num_coolings: 30\n",
      "midprice_step_size: 1\n",
      "hist_msgs: 500\n",
      "n_gen_msgs: 50\n"
     ]
    }
   ],
   "source": [
    "print(f\"Aggressive {'buy' if Direction == 0 else 'sell'}\\n\")\n",
    "print(f'num_insertions: {num_insertions}')\n",
    "print(f'num_coolings: {num_coolings}')\n",
    "print(f'midprice_step_size: {midprice_step_size}')\n",
    "print(f'hist_msgs: {hist_msgs}')\n",
    "print(f'n_gen_msgs: {n_gen_msgs}')"
   ]
  },
  {
   "cell_type": "code",
   "execution_count": 5,
   "metadata": {},
   "outputs": [
    {
     "name": "stdout",
     "output_type": "stream",
     "text": [
      "      id                                        merged_data\n",
      "0   2787  [897700, 897700, 897700, 897700, 897700, 89770...\n",
      "1   4668  [887000, 887000, 887000, 887000, 887000, 88700...\n",
      "2  14606  [867800, 867800, 867800, 867800, 867800, 86780...\n",
      "3  16120  [872300, 872300, 872300, 872300, 872300, 87230...\n"
     ]
    }
   ],
   "source": [
    "hist_steps = hist_msgs // midprice_step_size       # 500\n",
    "gen_steps = n_gen_msgs // midprice_step_size     # 50\n",
    "gen_block = gen_steps + 1                        # 51\n",
    "\n",
    "merged = summary_table(experiment_name)\n",
    "x, all_series = build_zero_padded_series(hist_msgs, n_gen_msgs, midprice_step_size, merged)\n",
    "\n",
    "print(merged)"
   ]
  },
  {
   "cell_type": "code",
   "execution_count": 6,
   "metadata": {},
   "outputs": [
    {
     "name": "stdout",
     "output_type": "stream",
     "text": [
      "insertion positions: [551, 602, 653, 704, 755, 806, 857, 908, 959, 1010, 1061, 1112, 1163, 1214, 1265, 1316, 1367, 1418, 1469, 1520]\n",
      "cooling positions:   [1571, 1622, 1673, 1724, 1775, 1826, 1877, 1928, 1979, 2030, 2081, 2132, 2183, 2234, 2285, 2336, 2387, 2438, 2489, 2540, 2591, 2642, 2693, 2744, 2795, 2846, 2897, 2948, 2999, 3050]\n"
     ]
    },
    {
     "data": {
      "application/vnd.plotly.v1+json": {
       "config": {
        "plotlyServerURL": "https://plot.ly"
       },
       "data": [
        {
         "hoverinfo": "skip",
         "line": {
          "width": 1
         },
         "mode": "lines",
         "name": "id 2787",
         "opacity": 1,
         "type": "scatter",
         "x": {
          "bdata": "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",
          "dtype": "i2"
         },
         "y": {
          "bdata": "AAAAAAAAAAAAAAAAAAAAAAAAAAAAAAAAAAAAAAAAAAAAAAAAAAAAAAAAAAAAAAAAAAAAAAAAAAAAAAAAAAAAAAAAAAAAAAAAAAAAAAAAAAAAAAAAAAAAAAAAAAAAAAAAAAAAAAAAAAAAAAAAAAAAAAAAAAAAAAAAAAAAAAAAAAAAAAAAAAAAAAAAAAAAAAAAAAAAAAAAAAAAAAAAAAAAAAAAAAAAAAAAAAAAAAAAAAAAAAAAAAAAAAAAAAAAAAAAAAAAAAAAAAAAAAAAAAAAAAAAAAAAAAAAAAAAAAAAAAAAAAAAAAAAAAAAAAAAAAAAAAAAAAAAAAAAAAAAAAAAAAAAAAAAAAAAAAAAAAAAAAAAAAAAAAAAAAAAAAAAAAAAAAAAAAAAAAAAAAAAAAAAAAAAAAAAAAAAAAAAAAAAnP+c/5z/nP+c/5z/nP+c/5z/nP+c/5z/nP+c/5z/nP+c/5z/nP+c/5z/nP+c/5z/nP+c/5z/nP+c/5z/nP+c/5z/nP+c/5z/nP+c/5z/nP+c/5z/nP+c/5z/nP+c/5z/nP+c/5z/nP+c/5z/nP+c/5z/nP+c/5z/nP+c/5z/nP+c/5z/nP+c/5z/nP+c/5z/nP+c/5z/nP8AAAAAAAAAAAAAAAAAAAAAAAAAAAAAAAAAAAAAAAAAAAAAAAAAAAAAAAAAAAAAAAAAAAAAAAAAAAAAAAAAAAAAAAAAAAAAAAAAAAAAAAAAAAAAAAAAAAAAAAAAAAAAAAAAAAAAAAAAAAAAAAAAAAAAAAAAAAAAAAAAAAAAAAAAAAAAAAAAAAAAAAAAAAAAAAAAAAAAAAAAAAAAAAAAAAAAAAAAAAAAAAAAAAAAAAAAAAAAAAAAAAAAAAAAAAAAAAAAAAAAAAAAAAAAAAAAAAAAAAAAAAAAAAAAAAAAAAAAAAAAAAAAAAAAAAAAAAAAAAAAAAAAAACc/5z/nP+c/5z/nP+c/5z/nP+c/5z/nP+c/5z/nP+c/5z/nP+c/5z/nP+c/5z/nP+c/5z/nP+c/5z/nP+c/5z/nP+c/5z/nP+c/5z/nP+c/5z/nP+c/5z/nP+c/5z/nP+c/5z/nP+c/5z/nP+c/5z/nP+c/5z/nP+c/5z/nP+c/5z/nP+c/5z/nP+c/5z/nP+c/5z/nP+c/5z/nP+c/5z/nP+c/5z/nP+c/5z/nP+c/5z/nP+c/5z/nP+c/5z/nP+c/5z/nP+c/5z/nP+c/5z/nP+c/5z/nP+c/5z/nP+c/5z/nP+c/5z/nP+c/5z/nP+c/5z/nP+c/5z/nP+c/5z/nP+c/5z/nP+c/5z/nP+c/5z/nP+c/5z/nP+c/5z/nP+c/5z/nP+c/5z/nP+c/5z/nP+c/5z/nP+c/5z/nP+c/5z/nP+c/5z/nP+c/5z/nP+c/5z/nP+c/5z/nP+c/5z/nP+c/5z/nP+c/5z/nP+c/5z/nP+c/5z/nP+c/5z/nP8AAAAAAAAAAAAAAAAAAAAAAAAAAAAAAAAAAAAAAAAAAAAAAAAAAAAAAAAAAAAAAAAAAAAAAAAAAAAAAAAAAAAAAAAAAAAAAAAAAAAAAAAAAAAAAAAAAAAAAAAAAAAAAAAAAAAAAABkAGQAZABkAGQAZABkAGQAZABkAMgAyADIAMgAyADIAMgAyADIAMgAyADIAMgAyADIAMgAyADIAMgAyADIAMgAyADIAMgAyADIAMgAyADIAMgAyADIAMgAyADIAMgAyADIAMgAyADIACwBLAEsASwBLAEsASwBLAEsASwBLAEsASwBLAEsASwBLAEsASwBLAEsASwBLAEsASwBLAEsASwBLAEsASwBLAEsASwBLAEsASwBLAEsASwBLAEsASwBLAEsASwBLAEsASwBLAGQAZABkAGQAZABkAGQAZABkAGQAZABkAGQAZABkAGQAZABkAGQAZABkAGQAZABkAGQAZABkAGQAZABkAGQAZABkAGQAZABkAGQAZABkAGQAZABkAGQAZABkAGQAZABkAGQAZABkAH0AfQB9AH0AfQB9AH0AfQB9AH0AfQB9AH0AfQB9AH0AfQB9AH0AfQB9AH0AfQB9AH0AfQB9AH0AfQB9AH0AfQB9AH0AfQB9AH0AfQB9AH0AfQB9AH0AfQB9AH0AfQB9AH0AfQB9AFYAlgCWAJYAlgCWAJYAlgCWAJYAlgCWAJYAlgCWAJYAlgCWAJYAlgCWAJYAlgCWAJYAlgCWAJYAlgCWAJYAlgCWAJYAlgCWAJYAlgCWAJYAlgCWAJYAlgCWAJYAlgCWAJYAlgCWAK8Ag==",
          "dtype": "i2"
         }
        },
        {
         "hoverinfo": "skip",
         "line": {
          "width": 1
         },
         "mode": "lines",
         "name": "id 4668",
         "opacity": 1,
         "type": "scatter",
         "x": {
          "bdata": "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",
          "dtype": "i2"
         },
         "y": {
          "bdata": "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",
          "dtype": "i2"
         }
        },
        {
         "hoverinfo": "skip",
         "line": {
          "width": 1
         },
         "mode": "lines",
         "name": "id 14606",
         "opacity": 1,
         "type": "scatter",
         "x": {
          "bdata": "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",
          "dtype": "i2"
         },
         "y": {
          "bdata": "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",
          "dtype": "i2"
         }
        },
        {
         "hoverinfo": "skip",
         "line": {
          "width": 1
         },
         "mode": "lines",
         "name": "id 16120",
         "opacity": 1,
         "type": "scatter",
         "x": {
          "bdata": "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",
          "dtype": "i2"
         },
         "y": {
          "bdata": "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",
          "dtype": "i2"
         }
        }
       ],
       "layout": {
        "annotations": [
         {
          "showarrow": false,
          "text": "0-line",
          "x": 1,
          "xanchor": "right",
          "xref": "x domain",
          "y": 0,
          "yanchor": "top",
          "yref": "y"
         },
         {
          "align": "left",
          "showarrow": false,
          "text": "Midprice every 1 msgs;<br>solid red = insertion (every 50 msgs +1 step);<br>dashed red = cooling (same spacing); blue = end of history.",
          "x": 0,
          "xref": "paper",
          "y": -0.225,
          "yref": "paper"
         }
        ],
        "height": 800,
        "hovermode": "x unified",
        "margin": {
         "b": 150
        },
        "shapes": [
         {
          "line": {
           "color": "blue",
           "dash": "dash",
           "width": 2
          },
          "type": "line",
          "x0": 500,
          "x1": 500,
          "xref": "x",
          "y0": 0,
          "y1": 1,
          "yref": "y domain"
         },
         {
          "line": {
           "color": "red",
           "dash": "solid",
           "width": 2
          },
          "type": "line",
          "x0": 551,
          "x1": 551,
          "xref": "x",
          "y0": 0,
          "y1": 1,
          "yref": "y domain"
         },
         {
          "line": {
           "color": "red",
           "dash": "solid",
           "width": 2
          },
          "type": "line",
          "x0": 602,
          "x1": 602,
          "xref": "x",
          "y0": 0,
          "y1": 1,
          "yref": "y domain"
         },
         {
          "line": {
           "color": "red",
           "dash": "solid",
           "width": 2
          },
          "type": "line",
          "x0": 653,
          "x1": 653,
          "xref": "x",
          "y0": 0,
          "y1": 1,
          "yref": "y domain"
         },
         {
          "line": {
           "color": "red",
           "dash": "solid",
           "width": 2
          },
          "type": "line",
          "x0": 704,
          "x1": 704,
          "xref": "x",
          "y0": 0,
          "y1": 1,
          "yref": "y domain"
         },
         {
          "line": {
           "color": "red",
           "dash": "solid",
           "width": 2
          },
          "type": "line",
          "x0": 755,
          "x1": 755,
          "xref": "x",
          "y0": 0,
          "y1": 1,
          "yref": "y domain"
         },
         {
          "line": {
           "color": "red",
           "dash": "solid",
           "width": 2
          },
          "type": "line",
          "x0": 806,
          "x1": 806,
          "xref": "x",
          "y0": 0,
          "y1": 1,
          "yref": "y domain"
         },
         {
          "line": {
           "color": "red",
           "dash": "solid",
           "width": 2
          },
          "type": "line",
          "x0": 857,
          "x1": 857,
          "xref": "x",
          "y0": 0,
          "y1": 1,
          "yref": "y domain"
         },
         {
          "line": {
           "color": "red",
           "dash": "solid",
           "width": 2
          },
          "type": "line",
          "x0": 908,
          "x1": 908,
          "xref": "x",
          "y0": 0,
          "y1": 1,
          "yref": "y domain"
         },
         {
          "line": {
           "color": "red",
           "dash": "solid",
           "width": 2
          },
          "type": "line",
          "x0": 959,
          "x1": 959,
          "xref": "x",
          "y0": 0,
          "y1": 1,
          "yref": "y domain"
         },
         {
          "line": {
           "color": "red",
           "dash": "solid",
           "width": 2
          },
          "type": "line",
          "x0": 1010,
          "x1": 1010,
          "xref": "x",
          "y0": 0,
          "y1": 1,
          "yref": "y domain"
         },
         {
          "line": {
           "color": "red",
           "dash": "solid",
           "width": 2
          },
          "type": "line",
          "x0": 1061,
          "x1": 1061,
          "xref": "x",
          "y0": 0,
          "y1": 1,
          "yref": "y domain"
         },
         {
          "line": {
           "color": "red",
           "dash": "solid",
           "width": 2
          },
          "type": "line",
          "x0": 1112,
          "x1": 1112,
          "xref": "x",
          "y0": 0,
          "y1": 1,
          "yref": "y domain"
         },
         {
          "line": {
           "color": "red",
           "dash": "solid",
           "width": 2
          },
          "type": "line",
          "x0": 1163,
          "x1": 1163,
          "xref": "x",
          "y0": 0,
          "y1": 1,
          "yref": "y domain"
         },
         {
          "line": {
           "color": "red",
           "dash": "solid",
           "width": 2
          },
          "type": "line",
          "x0": 1214,
          "x1": 1214,
          "xref": "x",
          "y0": 0,
          "y1": 1,
          "yref": "y domain"
         },
         {
          "line": {
           "color": "red",
           "dash": "solid",
           "width": 2
          },
          "type": "line",
          "x0": 1265,
          "x1": 1265,
          "xref": "x",
          "y0": 0,
          "y1": 1,
          "yref": "y domain"
         },
         {
          "line": {
           "color": "red",
           "dash": "solid",
           "width": 2
          },
          "type": "line",
          "x0": 1316,
          "x1": 1316,
          "xref": "x",
          "y0": 0,
          "y1": 1,
          "yref": "y domain"
         },
         {
          "line": {
           "color": "red",
           "dash": "solid",
           "width": 2
          },
          "type": "line",
          "x0": 1367,
          "x1": 1367,
          "xref": "x",
          "y0": 0,
          "y1": 1,
          "yref": "y domain"
         },
         {
          "line": {
           "color": "red",
           "dash": "solid",
           "width": 2
          },
          "type": "line",
          "x0": 1418,
          "x1": 1418,
          "xref": "x",
          "y0": 0,
          "y1": 1,
          "yref": "y domain"
         },
         {
          "line": {
           "color": "red",
           "dash": "solid",
           "width": 2
          },
          "type": "line",
          "x0": 1469,
          "x1": 1469,
          "xref": "x",
          "y0": 0,
          "y1": 1,
          "yref": "y domain"
         },
         {
          "line": {
           "color": "red",
           "dash": "solid",
           "width": 2
          },
          "type": "line",
          "x0": 1520,
          "x1": 1520,
          "xref": "x",
          "y0": 0,
          "y1": 1,
          "yref": "y domain"
         },
         {
          "line": {
           "color": "red",
           "dash": "dash",
           "width": 2
          },
          "type": "line",
          "x0": 1571,
          "x1": 1571,
          "xref": "x",
          "y0": 0,
          "y1": 1,
          "yref": "y domain"
         },
         {
          "line": {
           "color": "red",
           "dash": "dash",
           "width": 2
          },
          "type": "line",
          "x0": 1622,
          "x1": 1622,
          "xref": "x",
          "y0": 0,
          "y1": 1,
          "yref": "y domain"
         },
         {
          "line": {
           "color": "red",
           "dash": "dash",
           "width": 2
          },
          "type": "line",
          "x0": 1673,
          "x1": 1673,
          "xref": "x",
          "y0": 0,
          "y1": 1,
          "yref": "y domain"
         },
         {
          "line": {
           "color": "red",
           "dash": "dash",
           "width": 2
          },
          "type": "line",
          "x0": 1724,
          "x1": 1724,
          "xref": "x",
          "y0": 0,
          "y1": 1,
          "yref": "y domain"
         },
         {
          "line": {
           "color": "red",
           "dash": "dash",
           "width": 2
          },
          "type": "line",
          "x0": 1775,
          "x1": 1775,
          "xref": "x",
          "y0": 0,
          "y1": 1,
          "yref": "y domain"
         },
         {
          "line": {
           "color": "red",
           "dash": "dash",
           "width": 2
          },
          "type": "line",
          "x0": 1826,
          "x1": 1826,
          "xref": "x",
          "y0": 0,
          "y1": 1,
          "yref": "y domain"
         },
         {
          "line": {
           "color": "red",
           "dash": "dash",
           "width": 2
          },
          "type": "line",
          "x0": 1877,
          "x1": 1877,
          "xref": "x",
          "y0": 0,
          "y1": 1,
          "yref": "y domain"
         },
         {
          "line": {
           "color": "red",
           "dash": "dash",
           "width": 2
          },
          "type": "line",
          "x0": 1928,
          "x1": 1928,
          "xref": "x",
          "y0": 0,
          "y1": 1,
          "yref": "y domain"
         },
         {
          "line": {
           "color": "red",
           "dash": "dash",
           "width": 2
          },
          "type": "line",
          "x0": 1979,
          "x1": 1979,
          "xref": "x",
          "y0": 0,
          "y1": 1,
          "yref": "y domain"
         },
         {
          "line": {
           "color": "red",
           "dash": "dash",
           "width": 2
          },
          "type": "line",
          "x0": 2030,
          "x1": 2030,
          "xref": "x",
          "y0": 0,
          "y1": 1,
          "yref": "y domain"
         },
         {
          "line": {
           "color": "red",
           "dash": "dash",
           "width": 2
          },
          "type": "line",
          "x0": 2081,
          "x1": 2081,
          "xref": "x",
          "y0": 0,
          "y1": 1,
          "yref": "y domain"
         },
         {
          "line": {
           "color": "red",
           "dash": "dash",
           "width": 2
          },
          "type": "line",
          "x0": 2132,
          "x1": 2132,
          "xref": "x",
          "y0": 0,
          "y1": 1,
          "yref": "y domain"
         },
         {
          "line": {
           "color": "red",
           "dash": "dash",
           "width": 2
          },
          "type": "line",
          "x0": 2183,
          "x1": 2183,
          "xref": "x",
          "y0": 0,
          "y1": 1,
          "yref": "y domain"
         },
         {
          "line": {
           "color": "red",
           "dash": "dash",
           "width": 2
          },
          "type": "line",
          "x0": 2234,
          "x1": 2234,
          "xref": "x",
          "y0": 0,
          "y1": 1,
          "yref": "y domain"
         },
         {
          "line": {
           "color": "red",
           "dash": "dash",
           "width": 2
          },
          "type": "line",
          "x0": 2285,
          "x1": 2285,
          "xref": "x",
          "y0": 0,
          "y1": 1,
          "yref": "y domain"
         },
         {
          "line": {
           "color": "red",
           "dash": "dash",
           "width": 2
          },
          "type": "line",
          "x0": 2336,
          "x1": 2336,
          "xref": "x",
          "y0": 0,
          "y1": 1,
          "yref": "y domain"
         },
         {
          "line": {
           "color": "red",
           "dash": "dash",
           "width": 2
          },
          "type": "line",
          "x0": 2387,
          "x1": 2387,
          "xref": "x",
          "y0": 0,
          "y1": 1,
          "yref": "y domain"
         },
         {
          "line": {
           "color": "red",
           "dash": "dash",
           "width": 2
          },
          "type": "line",
          "x0": 2438,
          "x1": 2438,
          "xref": "x",
          "y0": 0,
          "y1": 1,
          "yref": "y domain"
         },
         {
          "line": {
           "color": "red",
           "dash": "dash",
           "width": 2
          },
          "type": "line",
          "x0": 2489,
          "x1": 2489,
          "xref": "x",
          "y0": 0,
          "y1": 1,
          "yref": "y domain"
         },
         {
          "line": {
           "color": "red",
           "dash": "dash",
           "width": 2
          },
          "type": "line",
          "x0": 2540,
          "x1": 2540,
          "xref": "x",
          "y0": 0,
          "y1": 1,
          "yref": "y domain"
         },
         {
          "line": {
           "color": "red",
           "dash": "dash",
           "width": 2
          },
          "type": "line",
          "x0": 2591,
          "x1": 2591,
          "xref": "x",
          "y0": 0,
          "y1": 1,
          "yref": "y domain"
         },
         {
          "line": {
           "color": "red",
           "dash": "dash",
           "width": 2
          },
          "type": "line",
          "x0": 2642,
          "x1": 2642,
          "xref": "x",
          "y0": 0,
          "y1": 1,
          "yref": "y domain"
         },
         {
          "line": {
           "color": "red",
           "dash": "dash",
           "width": 2
          },
          "type": "line",
          "x0": 2693,
          "x1": 2693,
          "xref": "x",
          "y0": 0,
          "y1": 1,
          "yref": "y domain"
         },
         {
          "line": {
           "color": "red",
           "dash": "dash",
           "width": 2
          },
          "type": "line",
          "x0": 2744,
          "x1": 2744,
          "xref": "x",
          "y0": 0,
          "y1": 1,
          "yref": "y domain"
         },
         {
          "line": {
           "color": "red",
           "dash": "dash",
           "width": 2
          },
          "type": "line",
          "x0": 2795,
          "x1": 2795,
          "xref": "x",
          "y0": 0,
          "y1": 1,
          "yref": "y domain"
         },
         {
          "line": {
           "color": "red",
           "dash": "dash",
           "width": 2
          },
          "type": "line",
          "x0": 2846,
          "x1": 2846,
          "xref": "x",
          "y0": 0,
          "y1": 1,
          "yref": "y domain"
         },
         {
          "line": {
           "color": "red",
           "dash": "dash",
           "width": 2
          },
          "type": "line",
          "x0": 2897,
          "x1": 2897,
          "xref": "x",
          "y0": 0,
          "y1": 1,
          "yref": "y domain"
         },
         {
          "line": {
           "color": "red",
           "dash": "dash",
           "width": 2
          },
          "type": "line",
          "x0": 2948,
          "x1": 2948,
          "xref": "x",
          "y0": 0,
          "y1": 1,
          "yref": "y domain"
         },
         {
          "line": {
           "color": "red",
           "dash": "dash",
           "width": 2
          },
          "type": "line",
          "x0": 2999,
          "x1": 2999,
          "xref": "x",
          "y0": 0,
          "y1": 1,
          "yref": "y domain"
         },
         {
          "line": {
           "color": "red",
           "dash": "dash",
           "width": 2
          },
          "type": "line",
          "x0": 3050,
          "x1": 3050,
          "xref": "x",
          "y0": 0,
          "y1": 1,
          "yref": "y domain"
         },
         {
          "line": {
           "color": "black",
           "dash": "solid",
           "width": 2
          },
          "type": "line",
          "x0": 0,
          "x1": 1,
          "xref": "x domain",
          "y0": 0,
          "y1": 0,
          "yref": "y"
         }
        ],
        "template": {
         "data": {
          "bar": [
           {
            "error_x": {
             "color": "#2a3f5f"
            },
            "error_y": {
             "color": "#2a3f5f"
            },
            "marker": {
             "line": {
              "color": "white",
              "width": 0.5
             },
             "pattern": {
              "fillmode": "overlay",
              "size": 10,
              "solidity": 0.2
             }
            },
            "type": "bar"
           }
          ],
          "barpolar": [
           {
            "marker": {
             "line": {
              "color": "white",
              "width": 0.5
             },
             "pattern": {
              "fillmode": "overlay",
              "size": 10,
              "solidity": 0.2
             }
            },
            "type": "barpolar"
           }
          ],
          "carpet": [
           {
            "aaxis": {
             "endlinecolor": "#2a3f5f",
             "gridcolor": "#C8D4E3",
             "linecolor": "#C8D4E3",
             "minorgridcolor": "#C8D4E3",
             "startlinecolor": "#2a3f5f"
            },
            "baxis": {
             "endlinecolor": "#2a3f5f",
             "gridcolor": "#C8D4E3",
             "linecolor": "#C8D4E3",
             "minorgridcolor": "#C8D4E3",
             "startlinecolor": "#2a3f5f"
            },
            "type": "carpet"
           }
          ],
          "choropleth": [
           {
            "colorbar": {
             "outlinewidth": 0,
             "ticks": ""
            },
            "type": "choropleth"
           }
          ],
          "contour": [
           {
            "colorbar": {
             "outlinewidth": 0,
             "ticks": ""
            },
            "colorscale": [
             [
              0,
              "#0d0887"
             ],
             [
              0.1111111111111111,
              "#46039f"
             ],
             [
              0.2222222222222222,
              "#7201a8"
             ],
             [
              0.3333333333333333,
              "#9c179e"
             ],
             [
              0.4444444444444444,
              "#bd3786"
             ],
             [
              0.5555555555555556,
              "#d8576b"
             ],
             [
              0.6666666666666666,
              "#ed7953"
             ],
             [
              0.7777777777777778,
              "#fb9f3a"
             ],
             [
              0.8888888888888888,
              "#fdca26"
             ],
             [
              1,
              "#f0f921"
             ]
            ],
            "type": "contour"
           }
          ],
          "contourcarpet": [
           {
            "colorbar": {
             "outlinewidth": 0,
             "ticks": ""
            },
            "type": "contourcarpet"
           }
          ],
          "heatmap": [
           {
            "colorbar": {
             "outlinewidth": 0,
             "ticks": ""
            },
            "colorscale": [
             [
              0,
              "#0d0887"
             ],
             [
              0.1111111111111111,
              "#46039f"
             ],
             [
              0.2222222222222222,
              "#7201a8"
             ],
             [
              0.3333333333333333,
              "#9c179e"
             ],
             [
              0.4444444444444444,
              "#bd3786"
             ],
             [
              0.5555555555555556,
              "#d8576b"
             ],
             [
              0.6666666666666666,
              "#ed7953"
             ],
             [
              0.7777777777777778,
              "#fb9f3a"
             ],
             [
              0.8888888888888888,
              "#fdca26"
             ],
             [
              1,
              "#f0f921"
             ]
            ],
            "type": "heatmap"
           }
          ],
          "histogram": [
           {
            "marker": {
             "pattern": {
              "fillmode": "overlay",
              "size": 10,
              "solidity": 0.2
             }
            },
            "type": "histogram"
           }
          ],
          "histogram2d": [
           {
            "colorbar": {
             "outlinewidth": 0,
             "ticks": ""
            },
            "colorscale": [
             [
              0,
              "#0d0887"
             ],
             [
              0.1111111111111111,
              "#46039f"
             ],
             [
              0.2222222222222222,
              "#7201a8"
             ],
             [
              0.3333333333333333,
              "#9c179e"
             ],
             [
              0.4444444444444444,
              "#bd3786"
             ],
             [
              0.5555555555555556,
              "#d8576b"
             ],
             [
              0.6666666666666666,
              "#ed7953"
             ],
             [
              0.7777777777777778,
              "#fb9f3a"
             ],
             [
              0.8888888888888888,
              "#fdca26"
             ],
             [
              1,
              "#f0f921"
             ]
            ],
            "type": "histogram2d"
           }
          ],
          "histogram2dcontour": [
           {
            "colorbar": {
             "outlinewidth": 0,
             "ticks": ""
            },
            "colorscale": [
             [
              0,
              "#0d0887"
             ],
             [
              0.1111111111111111,
              "#46039f"
             ],
             [
              0.2222222222222222,
              "#7201a8"
             ],
             [
              0.3333333333333333,
              "#9c179e"
             ],
             [
              0.4444444444444444,
              "#bd3786"
             ],
             [
              0.5555555555555556,
              "#d8576b"
             ],
             [
              0.6666666666666666,
              "#ed7953"
             ],
             [
              0.7777777777777778,
              "#fb9f3a"
             ],
             [
              0.8888888888888888,
              "#fdca26"
             ],
             [
              1,
              "#f0f921"
             ]
            ],
            "type": "histogram2dcontour"
           }
          ],
          "mesh3d": [
           {
            "colorbar": {
             "outlinewidth": 0,
             "ticks": ""
            },
            "type": "mesh3d"
           }
          ],
          "parcoords": [
           {
            "line": {
             "colorbar": {
              "outlinewidth": 0,
              "ticks": ""
             }
            },
            "type": "parcoords"
           }
          ],
          "pie": [
           {
            "automargin": true,
            "type": "pie"
           }
          ],
          "scatter": [
           {
            "fillpattern": {
             "fillmode": "overlay",
             "size": 10,
             "solidity": 0.2
            },
            "type": "scatter"
           }
          ],
          "scatter3d": [
           {
            "line": {
             "colorbar": {
              "outlinewidth": 0,
              "ticks": ""
             }
            },
            "marker": {
             "colorbar": {
              "outlinewidth": 0,
              "ticks": ""
             }
            },
            "type": "scatter3d"
           }
          ],
          "scattercarpet": [
           {
            "marker": {
             "colorbar": {
              "outlinewidth": 0,
              "ticks": ""
             }
            },
            "type": "scattercarpet"
           }
          ],
          "scattergeo": [
           {
            "marker": {
             "colorbar": {
              "outlinewidth": 0,
              "ticks": ""
             }
            },
            "type": "scattergeo"
           }
          ],
          "scattergl": [
           {
            "marker": {
             "colorbar": {
              "outlinewidth": 0,
              "ticks": ""
             }
            },
            "type": "scattergl"
           }
          ],
          "scattermap": [
           {
            "marker": {
             "colorbar": {
              "outlinewidth": 0,
              "ticks": ""
             }
            },
            "type": "scattermap"
           }
          ],
          "scattermapbox": [
           {
            "marker": {
             "colorbar": {
              "outlinewidth": 0,
              "ticks": ""
             }
            },
            "type": "scattermapbox"
           }
          ],
          "scatterpolar": [
           {
            "marker": {
             "colorbar": {
              "outlinewidth": 0,
              "ticks": ""
             }
            },
            "type": "scatterpolar"
           }
          ],
          "scatterpolargl": [
           {
            "marker": {
             "colorbar": {
              "outlinewidth": 0,
              "ticks": ""
             }
            },
            "type": "scatterpolargl"
           }
          ],
          "scatterternary": [
           {
            "marker": {
             "colorbar": {
              "outlinewidth": 0,
              "ticks": ""
             }
            },
            "type": "scatterternary"
           }
          ],
          "surface": [
           {
            "colorbar": {
             "outlinewidth": 0,
             "ticks": ""
            },
            "colorscale": [
             [
              0,
              "#0d0887"
             ],
             [
              0.1111111111111111,
              "#46039f"
             ],
             [
              0.2222222222222222,
              "#7201a8"
             ],
             [
              0.3333333333333333,
              "#9c179e"
             ],
             [
              0.4444444444444444,
              "#bd3786"
             ],
             [
              0.5555555555555556,
              "#d8576b"
             ],
             [
              0.6666666666666666,
              "#ed7953"
             ],
             [
              0.7777777777777778,
              "#fb9f3a"
             ],
             [
              0.8888888888888888,
              "#fdca26"
             ],
             [
              1,
              "#f0f921"
             ]
            ],
            "type": "surface"
           }
          ],
          "table": [
           {
            "cells": {
             "fill": {
              "color": "#EBF0F8"
             },
             "line": {
              "color": "white"
             }
            },
            "header": {
             "fill": {
              "color": "#C8D4E3"
             },
             "line": {
              "color": "white"
             }
            },
            "type": "table"
           }
          ]
         },
         "layout": {
          "annotationdefaults": {
           "arrowcolor": "#2a3f5f",
           "arrowhead": 0,
           "arrowwidth": 1
          },
          "autotypenumbers": "strict",
          "coloraxis": {
           "colorbar": {
            "outlinewidth": 0,
            "ticks": ""
           }
          },
          "colorscale": {
           "diverging": [
            [
             0,
             "#8e0152"
            ],
            [
             0.1,
             "#c51b7d"
            ],
            [
             0.2,
             "#de77ae"
            ],
            [
             0.3,
             "#f1b6da"
            ],
            [
             0.4,
             "#fde0ef"
            ],
            [
             0.5,
             "#f7f7f7"
            ],
            [
             0.6,
             "#e6f5d0"
            ],
            [
             0.7,
             "#b8e186"
            ],
            [
             0.8,
             "#7fbc41"
            ],
            [
             0.9,
             "#4d9221"
            ],
            [
             1,
             "#276419"
            ]
           ],
           "sequential": [
            [
             0,
             "#0d0887"
            ],
            [
             0.1111111111111111,
             "#46039f"
            ],
            [
             0.2222222222222222,
             "#7201a8"
            ],
            [
             0.3333333333333333,
             "#9c179e"
            ],
            [
             0.4444444444444444,
             "#bd3786"
            ],
            [
             0.5555555555555556,
             "#d8576b"
            ],
            [
             0.6666666666666666,
             "#ed7953"
            ],
            [
             0.7777777777777778,
             "#fb9f3a"
            ],
            [
             0.8888888888888888,
             "#fdca26"
            ],
            [
             1,
             "#f0f921"
            ]
           ],
           "sequentialminus": [
            [
             0,
             "#0d0887"
            ],
            [
             0.1111111111111111,
             "#46039f"
            ],
            [
             0.2222222222222222,
             "#7201a8"
            ],
            [
             0.3333333333333333,
             "#9c179e"
            ],
            [
             0.4444444444444444,
             "#bd3786"
            ],
            [
             0.5555555555555556,
             "#d8576b"
            ],
            [
             0.6666666666666666,
             "#ed7953"
            ],
            [
             0.7777777777777778,
             "#fb9f3a"
            ],
            [
             0.8888888888888888,
             "#fdca26"
            ],
            [
             1,
             "#f0f921"
            ]
           ]
          },
          "colorway": [
           "#636efa",
           "#EF553B",
           "#00cc96",
           "#ab63fa",
           "#FFA15A",
           "#19d3f3",
           "#FF6692",
           "#B6E880",
           "#FF97FF",
           "#FECB52"
          ],
          "font": {
           "color": "#2a3f5f"
          },
          "geo": {
           "bgcolor": "white",
           "lakecolor": "white",
           "landcolor": "white",
           "showlakes": true,
           "showland": true,
           "subunitcolor": "#C8D4E3"
          },
          "hoverlabel": {
           "align": "left"
          },
          "hovermode": "closest",
          "mapbox": {
           "style": "light"
          },
          "paper_bgcolor": "white",
          "plot_bgcolor": "white",
          "polar": {
           "angularaxis": {
            "gridcolor": "#EBF0F8",
            "linecolor": "#EBF0F8",
            "ticks": ""
           },
           "bgcolor": "white",
           "radialaxis": {
            "gridcolor": "#EBF0F8",
            "linecolor": "#EBF0F8",
            "ticks": ""
           }
          },
          "scene": {
           "xaxis": {
            "backgroundcolor": "white",
            "gridcolor": "#DFE8F3",
            "gridwidth": 2,
            "linecolor": "#EBF0F8",
            "showbackground": true,
            "ticks": "",
            "zerolinecolor": "#EBF0F8"
           },
           "yaxis": {
            "backgroundcolor": "white",
            "gridcolor": "#DFE8F3",
            "gridwidth": 2,
            "linecolor": "#EBF0F8",
            "showbackground": true,
            "ticks": "",
            "zerolinecolor": "#EBF0F8"
           },
           "zaxis": {
            "backgroundcolor": "white",
            "gridcolor": "#DFE8F3",
            "gridwidth": 2,
            "linecolor": "#EBF0F8",
            "showbackground": true,
            "ticks": "",
            "zerolinecolor": "#EBF0F8"
           }
          },
          "shapedefaults": {
           "line": {
            "color": "#2a3f5f"
           }
          },
          "ternary": {
           "aaxis": {
            "gridcolor": "#DFE8F3",
            "linecolor": "#A2B1C6",
            "ticks": ""
           },
           "baxis": {
            "gridcolor": "#DFE8F3",
            "linecolor": "#A2B1C6",
            "ticks": ""
           },
           "bgcolor": "white",
           "caxis": {
            "gridcolor": "#DFE8F3",
            "linecolor": "#A2B1C6",
            "ticks": ""
           }
          },
          "title": {
           "x": 0.05
          },
          "xaxis": {
           "automargin": true,
           "gridcolor": "#EBF0F8",
           "linecolor": "#EBF0F8",
           "ticks": "",
           "title": {
            "standoff": 15
           },
           "zerolinecolor": "#EBF0F8",
           "zerolinewidth": 2
          },
          "yaxis": {
           "automargin": true,
           "gridcolor": "#EBF0F8",
           "linecolor": "#EBF0F8",
           "ticks": "",
           "title": {
            "standoff": 15
           },
           "zerolinecolor": "#EBF0F8",
           "zerolinewidth": 2
          }
         }
        },
        "title": {
         "text": "All midprice series (zeroed) with insertion/cooling lines"
        },
        "width": 1200,
        "xaxis": {
         "showgrid": false,
         "title": {
          "text": "Index"
         }
        },
        "yaxis": {
         "showgrid": false,
         "title": {
          "text": "Price – first_price"
         }
        }
       }
      }
     },
     "metadata": {},
     "output_type": "display_data"
    }
   ],
   "source": [
    "fig = plot_midprice_series_with_insertions(\n",
    "    merged,\n",
    "    all_series,\n",
    "    x,\n",
    "    hist_steps,\n",
    "    gen_block,\n",
    "    num_insertions,\n",
    "    num_coolings,\n",
    "    n_gen_msgs,\n",
    "    midprice_step_size\n",
    ")\n",
    "fig.show()"
   ]
  },
  {
   "cell_type": "code",
   "execution_count": 7,
   "metadata": {},
   "outputs": [
    {
     "name": "stdout",
     "output_type": "stream",
     "text": [
      "      id     std_dev  max_abs_dev\n",
      "0  16120  265.771216         1000\n",
      "1   2787  221.881646          700\n",
      "2  14606  130.907884          500\n",
      "3   4668  148.356013          400\n",
      "\n",
      "Before filtering: 4 samples\n",
      "\n",
      "After filtering: 3 samples\n"
     ]
    }
   ],
   "source": [
    "x, all_series, merged, hist_steps, gen_block = prepare_volatility_filtered_series(merged, hist_msgs, n_gen_msgs, midprice_step_size, volatility_cutoff=0.3)"
   ]
  },
  {
   "cell_type": "code",
   "execution_count": 8,
   "metadata": {},
   "outputs": [
    {
     "name": "stdout",
     "output_type": "stream",
     "text": [
      "insertion positions: [551, 602, 653, 704, 755, 806, 857, 908, 959, 1010, 1061, 1112, 1163, 1214, 1265, 1316, 1367, 1418, 1469, 1520]\n",
      "cooling positions:   [1571, 1622, 1673, 1724, 1775, 1826, 1877, 1928, 1979, 2030, 2081, 2132, 2183, 2234, 2285, 2336, 2387, 2438, 2489, 2540, 2591, 2642, 2693, 2744, 2795, 2846, 2897, 2948, 2999, 3050]\n"
     ]
    },
    {
     "data": {
      "application/vnd.plotly.v1+json": {
       "config": {
        "plotlyServerURL": "https://plot.ly"
       },
       "data": [
        {
         "hoverinfo": "skip",
         "line": {
          "width": 1
         },
         "mode": "lines",
         "name": "id 2787",
         "opacity": 1,
         "type": "scatter",
         "x": {
          "bdata": "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",
          "dtype": "i2"
         },
         "y": {
          "bdata": "AAAAAAAAAAAAAAAAAAAAAAAAAAAAAAAAAAAAAAAAAAAAAAAAAAAAAAAAAAAAAAAAAAAAAAAAAAAAAAAAAAAAAAAAAAAAAAAAAAAAAAAAAAAAAAAAAAAAAAAAAAAAAAAAAAAAAAAAAAAAAAAAAAAAAAAAAAAAAAAAAAAAAAAAAAAAAAAAAAAAAAAAAAAAAAAAAAAAAAAAAAAAAAAAAAAAAAAAAAAAAAAAAAAAAAAAAAAAAAAAAAAAAAAAAAAAAAAAAAAAAAAAAAAAAAAAAAAAAAAAAAAAAAAAAAAAAAAAAAAAAAAAAAAAAAAAAAAAAAAAAAAAAAAAAAAAAAAAAAAAAAAAAAAAAAAAAAAAAAAAAAAAAAAAAAAAAAAAAAAAAAAAAAAAAAAAAAAAAAAAAAAAAAAAAAAAAAAAAAAAAAAAnP+c/5z/nP+c/5z/nP+c/5z/nP+c/5z/nP+c/5z/nP+c/5z/nP+c/5z/nP+c/5z/nP+c/5z/nP+c/5z/nP+c/5z/nP+c/5z/nP+c/5z/nP+c/5z/nP+c/5z/nP+c/5z/nP+c/5z/nP+c/5z/nP+c/5z/nP+c/5z/nP+c/5z/nP+c/5z/nP+c/5z/nP+c/5z/nP+c/5z/nP8AAAAAAAAAAAAAAAAAAAAAAAAAAAAAAAAAAAAAAAAAAAAAAAAAAAAAAAAAAAAAAAAAAAAAAAAAAAAAAAAAAAAAAAAAAAAAAAAAAAAAAAAAAAAAAAAAAAAAAAAAAAAAAAAAAAAAAAAAAAAAAAAAAAAAAAAAAAAAAAAAAAAAAAAAAAAAAAAAAAAAAAAAAAAAAAAAAAAAAAAAAAAAAAAAAAAAAAAAAAAAAAAAAAAAAAAAAAAAAAAAAAAAAAAAAAAAAAAAAAAAAAAAAAAAAAAAAAAAAAAAAAAAAAAAAAAAAAAAAAAAAAAAAAAAAAAAAAAAAAAAAAAAAACc/5z/nP+c/5z/nP+c/5z/nP+c/5z/nP+c/5z/nP+c/5z/nP+c/5z/nP+c/5z/nP+c/5z/nP+c/5z/nP+c/5z/nP+c/5z/nP+c/5z/nP+c/5z/nP+c/5z/nP+c/5z/nP+c/5z/nP+c/5z/nP+c/5z/nP+c/5z/nP+c/5z/nP+c/5z/nP+c/5z/nP+c/5z/nP+c/5z/nP+c/5z/nP+c/5z/nP+c/5z/nP+c/5z/nP+c/5z/nP+c/5z/nP+c/5z/nP+c/5z/nP+c/5z/nP+c/5z/nP+c/5z/nP+c/5z/nP+c/5z/nP+c/5z/nP+c/5z/nP+c/5z/nP+c/5z/nP+c/5z/nP+c/5z/nP+c/5z/nP+c/5z/nP+c/5z/nP+c/5z/nP+c/5z/nP+c/5z/nP+c/5z/nP+c/5z/nP+c/5z/nP+c/5z/nP+c/5z/nP+c/5z/nP+c/5z/nP+c/5z/nP+c/5z/nP+c/5z/nP+c/5z/nP+c/5z/nP+c/5z/nP+c/5z/nP8AAAAAAAAAAAAAAAAAAAAAAAAAAAAAAAAAAAAAAAAAAAAAAAAAAAAAAAAAAAAAAAAAAAAAAAAAAAAAAAAAAAAAAAAAAAAAAAAAAAAAAAAAAAAAAAAAAAAAAAAAAAAAAAAAAAAAAABkAGQAZABkAGQAZABkAGQAZABkAMgAyADIAMgAyADIAMgAyADIAMgAyADIAMgAyADIAMgAyADIAMgAyADIAMgAyADIAMgAyADIAMgAyADIAMgAyADIAMgAyADIAMgAyADIAMgAyADIACwBLAEsASwBLAEsASwBLAEsASwBLAEsASwBLAEsASwBLAEsASwBLAEsASwBLAEsASwBLAEsASwBLAEsASwBLAEsASwBLAEsASwBLAEsASwBLAEsASwBLAEsASwBLAEsASwBLAGQAZABkAGQAZABkAGQAZABkAGQAZABkAGQAZABkAGQAZABkAGQAZABkAGQAZABkAGQAZABkAGQAZABkAGQAZABkAGQAZABkAGQAZABkAGQAZABkAGQAZABkAGQAZABkAGQAZABkAH0AfQB9AH0AfQB9AH0AfQB9AH0AfQB9AH0AfQB9AH0AfQB9AH0AfQB9AH0AfQB9AH0AfQB9AH0AfQB9AH0AfQB9AH0AfQB9AH0AfQB9AH0AfQB9AH0AfQB9AH0AfQB9AH0AfQB9AFYAlgCWAJYAlgCWAJYAlgCWAJYAlgCWAJYAlgCWAJYAlgCWAJYAlgCWAJYAlgCWAJYAlgCWAJYAlgCWAJYAlgCWAJYAlgCWAJYAlgCWAJYAlgCWAJYAlgCWAJYAlgCWAJYAlgCWAK8Ag==",
          "dtype": "i2"
         }
        },
        {
         "hoverinfo": "skip",
         "line": {
          "width": 1
         },
         "mode": "lines",
         "name": "id 4668",
         "opacity": 1,
         "type": "scatter",
         "x": {
          "bdata": "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",
          "dtype": "i2"
         },
         "y": {
          "bdata": "AAAAAAAAAAAAAAAAAAAAAAAAAAAAAAAAAAAAAAAAAAAAAAAAAAAAAAAAAAAAAJz/nP+c/5z/AAAAAAAAAACc/5z/nP+c/5z/nP+c/5z/nP+c/5z/nP+c/5z/OP84/zj/OP84/zj/OP84/zj/OP84/zj/OP84/zj/OP84/zj/OP84/zj/OP84/zj/OP84/zj/OP84/zj/OP84/zj/OP84/zj/OP84/zj/OP84/zj/OP84/zj/nP+c/5z/nP+c/5z/nP+c/5z/nP+c/5z/nP+c/5z/nP+c/5z/nP+c/5z/nP+c/zj/OP84/zj/OP84/zj/OP84/zj/OP84/zj/OP84/zj/OP84/zj/OP84/zj/OP84/zj/OP84/zj/OP84/zj/OP84/zj/OP84/zj/OP84/zj/OP84/zj/OP84/zj/OP84/zj/OP84/zj/OP84/zj/OP84/zj/OP/U/tT+1P7U/tT+1P7U/tT+1P7U/tT+1P7U/tT+cP5w/nD+cP5w/nD+cP5w/nD+cP5w/nD+cP5w/tT+1P7U/tT+1P7U/tT+1P7U/tT+1P7U/tT+1P7U/tT+1P7U/tT+1P7U/tT+1P7U/tT+1P7U/tT+1P7U/tT+1P7U/tT+1P7U/tT+1P7U/tT+1P7U/tT+1P7U/tT+1P7U/tT+1P7U/nD+cP5w/nD+cP5w/nD+cP5w/nD+cP5w/nD+cP5w/nD+cP7U/tT+1P7U/tT+1P7U/tT+1P7U/tT+1P7U/tT+1P7U/tT+1P7U/tT+1P7U/tT+1P7U/tT+1P7U/tT+1P7U/tT+1P7U/tT+1P7U/tT+1P7U/tT+1P7U/tT+cP5w/nD+cP5w/nD+cP5w/nD+1P7U/tT+1P7U/tT+1P7U/tT+1P7U/tT+1P7U/tT+1P7U/tT+1P7U/tT+1P7U/tT+1P7U/tT+1P7U/tT+1P7U/tT+1P7U/tT+1P7U/tT+1P7U/tT+1P7U/tT+1P7U/tT+1P7U/tT+1P7U/tT+1P7U/tT+1P7U/tT+1P7U/tT+1P7U/tT+1P7U/tT+1P7U/tT+1P7U/tT+1P7U/tT+1P7U/tT+1P7U/tT+1P7U/tT+1P7U/tT+1P7U/tT+1P7U/tT+1P7U/tT+1P7U/tT+1P7U/tT+1P7U/tT+1P7U/tT+1P7U/tT+1P7U/tT+1P7U/tT+1P7U/tT+1P7U/tT+1P44/zj/nP+c/5z/nP+c/5z/nP+c/5z/nP+c/5z/nP+c/5z/nP+c/zj/OP84/zj/OP84/zj/OP84/zj/OP84/zj/OP84/zj/OP84/zj/OP84/5z/nP+c/5z/nP+c/5z/nP+c/5z/nP+c/5z/nP+c/wAAAAAAAJz/nP+c/5z/nP+c/5z/nP+c/5z/nP+c/5z/nP+c/5z/nP+c/zj/nP+c/5z/nP+c/5z/nP+c/5z/nP+c/5z/nP+c/5z/nP+c/zj/OP84/zj/OP84/zj/OP+c/wAAAAAAAAAAAAAAAAAAAAAAAAAAAAAAAAAAAAAAAAAAAAAAAAAAAAAAAAAAAAAAAJz/AAAAAAAAAAAAAAAAAAAAAAAAAAAAAAAAAAAAAAAAAAAAAJz/nP+c/5z/nP+c/5z/nP8AAAAAAAAAAAAAAAAAAAAAAAAAAAAAAAAAAAAAAAAAAAAAAAAAAAAAAAAAAAAAAAAAAJz/AACc/5z/nP+c/5z/nP+c/5z/nP+c/5z/nP+c/5z/nP+c/zj/OP84/zj/OP84/zj/OP+c/wAAAAAAAAAAAAAAAAAAAAAAAAAAAAAAAAAAAAAAAAAAAAAAAAAAAAAAAAAAAAAAAJz/AAAAAAAAAAAAAAAAAAAAAAAAAAAAAJz/nP+c/5z/nP+c/5z/nP+c/5z/nP+c/wAAAAAAAGQAZABkAGQAZABkAGQAZABkAGQAZABkAGQAZABkAGQAZABkAGQAZABkAGQAZABkAJz/nP+c/5z/nP+c/5z/nP+c/5z/nP+c/5z/nP+c/5z/nP+c/5z/nP+c/5z/nP+c/5z/nP9kAMgAyAAsASwBLAEsASwBLAEsASwBLAEsASwBLAEsASwBLAEsAcgAyADIAMgAyADIAGQAZABkAGQAZABkAGQAZABkAGQAZABkAGQAZABkAGQAZABkAGQAAACc/5z/1P7U/tT+1P44/5z/nP+c/5z/nP+c/5z/nP+c/5z/nP+c/5z/nP+c/5z/nP+c/5z/nP+c/5z/nP+c/5z/nP+c/5z/nP+c/5z/nP+c/5z/nP+c/5z/nP+c/5z/nP+c/5z/nP+c/5z/nP+c/5z/nP84/w==",
          "dtype": "i2"
         }
        },
        {
         "hoverinfo": "skip",
         "line": {
          "width": 1
         },
         "mode": "lines",
         "name": "id 14606",
         "opacity": 1,
         "type": "scatter",
         "x": {
          "bdata": "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",
          "dtype": "i2"
         },
         "y": {
          "bdata": "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",
          "dtype": "i2"
         }
        },
        {
         "fill": "toself",
         "fillcolor": "rgba(0,0,0,0.3)",
         "hoverinfo": "skip",
         "line": {
          "color": "rgba(0,0,0,0)"
         },
         "name": "±1 std",
         "showlegend": true,
         "type": "scatter",
         "x": {
          "bdata": "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",
          "dtype": "i2"
         },
         "y": {
          "bdata": "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",
          "dtype": "f8"
         }
        },
        {
         "line": {
          "color": "black",
          "width": 4
         },
         "mode": "lines",
         "name": "Mean",
         "type": "scatter",
         "x": {
          "bdata": "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",
          "dtype": "i2"
         },
         "y": {
          "bdata": "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",
          "dtype": "f8"
         }
        }
       ],
       "layout": {
        "annotations": [
         {
          "showarrow": false,
          "text": "0-line",
          "x": 1,
          "xanchor": "right",
          "xref": "x domain",
          "y": 0,
          "yanchor": "top",
          "yref": "y"
         },
         {
          "align": "left",
          "showarrow": false,
          "text": "Midprice every 1 msgs;<br>solid red = insertion (every 50 msgs +1 step);<br>dashed red = cooling (same spacing); blue = end of history.",
          "x": 0,
          "xref": "paper",
          "y": -0.225,
          "yref": "paper"
         }
        ],
        "height": 800,
        "hovermode": "x unified",
        "margin": {
         "b": 150
        },
        "shapes": [
         {
          "line": {
           "color": "blue",
           "dash": "dash",
           "width": 2
          },
          "type": "line",
          "x0": 500,
          "x1": 500,
          "xref": "x",
          "y0": 0,
          "y1": 1,
          "yref": "y domain"
         },
         {
          "line": {
           "color": "red",
           "dash": "solid",
           "width": 2
          },
          "type": "line",
          "x0": 551,
          "x1": 551,
          "xref": "x",
          "y0": 0,
          "y1": 1,
          "yref": "y domain"
         },
         {
          "line": {
           "color": "red",
           "dash": "solid",
           "width": 2
          },
          "type": "line",
          "x0": 602,
          "x1": 602,
          "xref": "x",
          "y0": 0,
          "y1": 1,
          "yref": "y domain"
         },
         {
          "line": {
           "color": "red",
           "dash": "solid",
           "width": 2
          },
          "type": "line",
          "x0": 653,
          "x1": 653,
          "xref": "x",
          "y0": 0,
          "y1": 1,
          "yref": "y domain"
         },
         {
          "line": {
           "color": "red",
           "dash": "solid",
           "width": 2
          },
          "type": "line",
          "x0": 704,
          "x1": 704,
          "xref": "x",
          "y0": 0,
          "y1": 1,
          "yref": "y domain"
         },
         {
          "line": {
           "color": "red",
           "dash": "solid",
           "width": 2
          },
          "type": "line",
          "x0": 755,
          "x1": 755,
          "xref": "x",
          "y0": 0,
          "y1": 1,
          "yref": "y domain"
         },
         {
          "line": {
           "color": "red",
           "dash": "solid",
           "width": 2
          },
          "type": "line",
          "x0": 806,
          "x1": 806,
          "xref": "x",
          "y0": 0,
          "y1": 1,
          "yref": "y domain"
         },
         {
          "line": {
           "color": "red",
           "dash": "solid",
           "width": 2
          },
          "type": "line",
          "x0": 857,
          "x1": 857,
          "xref": "x",
          "y0": 0,
          "y1": 1,
          "yref": "y domain"
         },
         {
          "line": {
           "color": "red",
           "dash": "solid",
           "width": 2
          },
          "type": "line",
          "x0": 908,
          "x1": 908,
          "xref": "x",
          "y0": 0,
          "y1": 1,
          "yref": "y domain"
         },
         {
          "line": {
           "color": "red",
           "dash": "solid",
           "width": 2
          },
          "type": "line",
          "x0": 959,
          "x1": 959,
          "xref": "x",
          "y0": 0,
          "y1": 1,
          "yref": "y domain"
         },
         {
          "line": {
           "color": "red",
           "dash": "solid",
           "width": 2
          },
          "type": "line",
          "x0": 1010,
          "x1": 1010,
          "xref": "x",
          "y0": 0,
          "y1": 1,
          "yref": "y domain"
         },
         {
          "line": {
           "color": "red",
           "dash": "solid",
           "width": 2
          },
          "type": "line",
          "x0": 1061,
          "x1": 1061,
          "xref": "x",
          "y0": 0,
          "y1": 1,
          "yref": "y domain"
         },
         {
          "line": {
           "color": "red",
           "dash": "solid",
           "width": 2
          },
          "type": "line",
          "x0": 1112,
          "x1": 1112,
          "xref": "x",
          "y0": 0,
          "y1": 1,
          "yref": "y domain"
         },
         {
          "line": {
           "color": "red",
           "dash": "solid",
           "width": 2
          },
          "type": "line",
          "x0": 1163,
          "x1": 1163,
          "xref": "x",
          "y0": 0,
          "y1": 1,
          "yref": "y domain"
         },
         {
          "line": {
           "color": "red",
           "dash": "solid",
           "width": 2
          },
          "type": "line",
          "x0": 1214,
          "x1": 1214,
          "xref": "x",
          "y0": 0,
          "y1": 1,
          "yref": "y domain"
         },
         {
          "line": {
           "color": "red",
           "dash": "solid",
           "width": 2
          },
          "type": "line",
          "x0": 1265,
          "x1": 1265,
          "xref": "x",
          "y0": 0,
          "y1": 1,
          "yref": "y domain"
         },
         {
          "line": {
           "color": "red",
           "dash": "solid",
           "width": 2
          },
          "type": "line",
          "x0": 1316,
          "x1": 1316,
          "xref": "x",
          "y0": 0,
          "y1": 1,
          "yref": "y domain"
         },
         {
          "line": {
           "color": "red",
           "dash": "solid",
           "width": 2
          },
          "type": "line",
          "x0": 1367,
          "x1": 1367,
          "xref": "x",
          "y0": 0,
          "y1": 1,
          "yref": "y domain"
         },
         {
          "line": {
           "color": "red",
           "dash": "solid",
           "width": 2
          },
          "type": "line",
          "x0": 1418,
          "x1": 1418,
          "xref": "x",
          "y0": 0,
          "y1": 1,
          "yref": "y domain"
         },
         {
          "line": {
           "color": "red",
           "dash": "solid",
           "width": 2
          },
          "type": "line",
          "x0": 1469,
          "x1": 1469,
          "xref": "x",
          "y0": 0,
          "y1": 1,
          "yref": "y domain"
         },
         {
          "line": {
           "color": "red",
           "dash": "solid",
           "width": 2
          },
          "type": "line",
          "x0": 1520,
          "x1": 1520,
          "xref": "x",
          "y0": 0,
          "y1": 1,
          "yref": "y domain"
         },
         {
          "line": {
           "color": "red",
           "dash": "dash",
           "width": 2
          },
          "type": "line",
          "x0": 1571,
          "x1": 1571,
          "xref": "x",
          "y0": 0,
          "y1": 1,
          "yref": "y domain"
         },
         {
          "line": {
           "color": "red",
           "dash": "dash",
           "width": 2
          },
          "type": "line",
          "x0": 1622,
          "x1": 1622,
          "xref": "x",
          "y0": 0,
          "y1": 1,
          "yref": "y domain"
         },
         {
          "line": {
           "color": "red",
           "dash": "dash",
           "width": 2
          },
          "type": "line",
          "x0": 1673,
          "x1": 1673,
          "xref": "x",
          "y0": 0,
          "y1": 1,
          "yref": "y domain"
         },
         {
          "line": {
           "color": "red",
           "dash": "dash",
           "width": 2
          },
          "type": "line",
          "x0": 1724,
          "x1": 1724,
          "xref": "x",
          "y0": 0,
          "y1": 1,
          "yref": "y domain"
         },
         {
          "line": {
           "color": "red",
           "dash": "dash",
           "width": 2
          },
          "type": "line",
          "x0": 1775,
          "x1": 1775,
          "xref": "x",
          "y0": 0,
          "y1": 1,
          "yref": "y domain"
         },
         {
          "line": {
           "color": "red",
           "dash": "dash",
           "width": 2
          },
          "type": "line",
          "x0": 1826,
          "x1": 1826,
          "xref": "x",
          "y0": 0,
          "y1": 1,
          "yref": "y domain"
         },
         {
          "line": {
           "color": "red",
           "dash": "dash",
           "width": 2
          },
          "type": "line",
          "x0": 1877,
          "x1": 1877,
          "xref": "x",
          "y0": 0,
          "y1": 1,
          "yref": "y domain"
         },
         {
          "line": {
           "color": "red",
           "dash": "dash",
           "width": 2
          },
          "type": "line",
          "x0": 1928,
          "x1": 1928,
          "xref": "x",
          "y0": 0,
          "y1": 1,
          "yref": "y domain"
         },
         {
          "line": {
           "color": "red",
           "dash": "dash",
           "width": 2
          },
          "type": "line",
          "x0": 1979,
          "x1": 1979,
          "xref": "x",
          "y0": 0,
          "y1": 1,
          "yref": "y domain"
         },
         {
          "line": {
           "color": "red",
           "dash": "dash",
           "width": 2
          },
          "type": "line",
          "x0": 2030,
          "x1": 2030,
          "xref": "x",
          "y0": 0,
          "y1": 1,
          "yref": "y domain"
         },
         {
          "line": {
           "color": "red",
           "dash": "dash",
           "width": 2
          },
          "type": "line",
          "x0": 2081,
          "x1": 2081,
          "xref": "x",
          "y0": 0,
          "y1": 1,
          "yref": "y domain"
         },
         {
          "line": {
           "color": "red",
           "dash": "dash",
           "width": 2
          },
          "type": "line",
          "x0": 2132,
          "x1": 2132,
          "xref": "x",
          "y0": 0,
          "y1": 1,
          "yref": "y domain"
         },
         {
          "line": {
           "color": "red",
           "dash": "dash",
           "width": 2
          },
          "type": "line",
          "x0": 2183,
          "x1": 2183,
          "xref": "x",
          "y0": 0,
          "y1": 1,
          "yref": "y domain"
         },
         {
          "line": {
           "color": "red",
           "dash": "dash",
           "width": 2
          },
          "type": "line",
          "x0": 2234,
          "x1": 2234,
          "xref": "x",
          "y0": 0,
          "y1": 1,
          "yref": "y domain"
         },
         {
          "line": {
           "color": "red",
           "dash": "dash",
           "width": 2
          },
          "type": "line",
          "x0": 2285,
          "x1": 2285,
          "xref": "x",
          "y0": 0,
          "y1": 1,
          "yref": "y domain"
         },
         {
          "line": {
           "color": "red",
           "dash": "dash",
           "width": 2
          },
          "type": "line",
          "x0": 2336,
          "x1": 2336,
          "xref": "x",
          "y0": 0,
          "y1": 1,
          "yref": "y domain"
         },
         {
          "line": {
           "color": "red",
           "dash": "dash",
           "width": 2
          },
          "type": "line",
          "x0": 2387,
          "x1": 2387,
          "xref": "x",
          "y0": 0,
          "y1": 1,
          "yref": "y domain"
         },
         {
          "line": {
           "color": "red",
           "dash": "dash",
           "width": 2
          },
          "type": "line",
          "x0": 2438,
          "x1": 2438,
          "xref": "x",
          "y0": 0,
          "y1": 1,
          "yref": "y domain"
         },
         {
          "line": {
           "color": "red",
           "dash": "dash",
           "width": 2
          },
          "type": "line",
          "x0": 2489,
          "x1": 2489,
          "xref": "x",
          "y0": 0,
          "y1": 1,
          "yref": "y domain"
         },
         {
          "line": {
           "color": "red",
           "dash": "dash",
           "width": 2
          },
          "type": "line",
          "x0": 2540,
          "x1": 2540,
          "xref": "x",
          "y0": 0,
          "y1": 1,
          "yref": "y domain"
         },
         {
          "line": {
           "color": "red",
           "dash": "dash",
           "width": 2
          },
          "type": "line",
          "x0": 2591,
          "x1": 2591,
          "xref": "x",
          "y0": 0,
          "y1": 1,
          "yref": "y domain"
         },
         {
          "line": {
           "color": "red",
           "dash": "dash",
           "width": 2
          },
          "type": "line",
          "x0": 2642,
          "x1": 2642,
          "xref": "x",
          "y0": 0,
          "y1": 1,
          "yref": "y domain"
         },
         {
          "line": {
           "color": "red",
           "dash": "dash",
           "width": 2
          },
          "type": "line",
          "x0": 2693,
          "x1": 2693,
          "xref": "x",
          "y0": 0,
          "y1": 1,
          "yref": "y domain"
         },
         {
          "line": {
           "color": "red",
           "dash": "dash",
           "width": 2
          },
          "type": "line",
          "x0": 2744,
          "x1": 2744,
          "xref": "x",
          "y0": 0,
          "y1": 1,
          "yref": "y domain"
         },
         {
          "line": {
           "color": "red",
           "dash": "dash",
           "width": 2
          },
          "type": "line",
          "x0": 2795,
          "x1": 2795,
          "xref": "x",
          "y0": 0,
          "y1": 1,
          "yref": "y domain"
         },
         {
          "line": {
           "color": "red",
           "dash": "dash",
           "width": 2
          },
          "type": "line",
          "x0": 2846,
          "x1": 2846,
          "xref": "x",
          "y0": 0,
          "y1": 1,
          "yref": "y domain"
         },
         {
          "line": {
           "color": "red",
           "dash": "dash",
           "width": 2
          },
          "type": "line",
          "x0": 2897,
          "x1": 2897,
          "xref": "x",
          "y0": 0,
          "y1": 1,
          "yref": "y domain"
         },
         {
          "line": {
           "color": "red",
           "dash": "dash",
           "width": 2
          },
          "type": "line",
          "x0": 2948,
          "x1": 2948,
          "xref": "x",
          "y0": 0,
          "y1": 1,
          "yref": "y domain"
         },
         {
          "line": {
           "color": "red",
           "dash": "dash",
           "width": 2
          },
          "type": "line",
          "x0": 2999,
          "x1": 2999,
          "xref": "x",
          "y0": 0,
          "y1": 1,
          "yref": "y domain"
         },
         {
          "line": {
           "color": "red",
           "dash": "dash",
           "width": 2
          },
          "type": "line",
          "x0": 3050,
          "x1": 3050,
          "xref": "x",
          "y0": 0,
          "y1": 1,
          "yref": "y domain"
         },
         {
          "line": {
           "color": "black",
           "dash": "solid",
           "width": 2
          },
          "type": "line",
          "x0": 0,
          "x1": 1,
          "xref": "x domain",
          "y0": 0,
          "y1": 0,
          "yref": "y"
         }
        ],
        "template": {
         "data": {
          "bar": [
           {
            "error_x": {
             "color": "#2a3f5f"
            },
            "error_y": {
             "color": "#2a3f5f"
            },
            "marker": {
             "line": {
              "color": "white",
              "width": 0.5
             },
             "pattern": {
              "fillmode": "overlay",
              "size": 10,
              "solidity": 0.2
             }
            },
            "type": "bar"
           }
          ],
          "barpolar": [
           {
            "marker": {
             "line": {
              "color": "white",
              "width": 0.5
             },
             "pattern": {
              "fillmode": "overlay",
              "size": 10,
              "solidity": 0.2
             }
            },
            "type": "barpolar"
           }
          ],
          "carpet": [
           {
            "aaxis": {
             "endlinecolor": "#2a3f5f",
             "gridcolor": "#C8D4E3",
             "linecolor": "#C8D4E3",
             "minorgridcolor": "#C8D4E3",
             "startlinecolor": "#2a3f5f"
            },
            "baxis": {
             "endlinecolor": "#2a3f5f",
             "gridcolor": "#C8D4E3",
             "linecolor": "#C8D4E3",
             "minorgridcolor": "#C8D4E3",
             "startlinecolor": "#2a3f5f"
            },
            "type": "carpet"
           }
          ],
          "choropleth": [
           {
            "colorbar": {
             "outlinewidth": 0,
             "ticks": ""
            },
            "type": "choropleth"
           }
          ],
          "contour": [
           {
            "colorbar": {
             "outlinewidth": 0,
             "ticks": ""
            },
            "colorscale": [
             [
              0,
              "#0d0887"
             ],
             [
              0.1111111111111111,
              "#46039f"
             ],
             [
              0.2222222222222222,
              "#7201a8"
             ],
             [
              0.3333333333333333,
              "#9c179e"
             ],
             [
              0.4444444444444444,
              "#bd3786"
             ],
             [
              0.5555555555555556,
              "#d8576b"
             ],
             [
              0.6666666666666666,
              "#ed7953"
             ],
             [
              0.7777777777777778,
              "#fb9f3a"
             ],
             [
              0.8888888888888888,
              "#fdca26"
             ],
             [
              1,
              "#f0f921"
             ]
            ],
            "type": "contour"
           }
          ],
          "contourcarpet": [
           {
            "colorbar": {
             "outlinewidth": 0,
             "ticks": ""
            },
            "type": "contourcarpet"
           }
          ],
          "heatmap": [
           {
            "colorbar": {
             "outlinewidth": 0,
             "ticks": ""
            },
            "colorscale": [
             [
              0,
              "#0d0887"
             ],
             [
              0.1111111111111111,
              "#46039f"
             ],
             [
              0.2222222222222222,
              "#7201a8"
             ],
             [
              0.3333333333333333,
              "#9c179e"
             ],
             [
              0.4444444444444444,
              "#bd3786"
             ],
             [
              0.5555555555555556,
              "#d8576b"
             ],
             [
              0.6666666666666666,
              "#ed7953"
             ],
             [
              0.7777777777777778,
              "#fb9f3a"
             ],
             [
              0.8888888888888888,
              "#fdca26"
             ],
             [
              1,
              "#f0f921"
             ]
            ],
            "type": "heatmap"
           }
          ],
          "histogram": [
           {
            "marker": {
             "pattern": {
              "fillmode": "overlay",
              "size": 10,
              "solidity": 0.2
             }
            },
            "type": "histogram"
           }
          ],
          "histogram2d": [
           {
            "colorbar": {
             "outlinewidth": 0,
             "ticks": ""
            },
            "colorscale": [
             [
              0,
              "#0d0887"
             ],
             [
              0.1111111111111111,
              "#46039f"
             ],
             [
              0.2222222222222222,
              "#7201a8"
             ],
             [
              0.3333333333333333,
              "#9c179e"
             ],
             [
              0.4444444444444444,
              "#bd3786"
             ],
             [
              0.5555555555555556,
              "#d8576b"
             ],
             [
              0.6666666666666666,
              "#ed7953"
             ],
             [
              0.7777777777777778,
              "#fb9f3a"
             ],
             [
              0.8888888888888888,
              "#fdca26"
             ],
             [
              1,
              "#f0f921"
             ]
            ],
            "type": "histogram2d"
           }
          ],
          "histogram2dcontour": [
           {
            "colorbar": {
             "outlinewidth": 0,
             "ticks": ""
            },
            "colorscale": [
             [
              0,
              "#0d0887"
             ],
             [
              0.1111111111111111,
              "#46039f"
             ],
             [
              0.2222222222222222,
              "#7201a8"
             ],
             [
              0.3333333333333333,
              "#9c179e"
             ],
             [
              0.4444444444444444,
              "#bd3786"
             ],
             [
              0.5555555555555556,
              "#d8576b"
             ],
             [
              0.6666666666666666,
              "#ed7953"
             ],
             [
              0.7777777777777778,
              "#fb9f3a"
             ],
             [
              0.8888888888888888,
              "#fdca26"
             ],
             [
              1,
              "#f0f921"
             ]
            ],
            "type": "histogram2dcontour"
           }
          ],
          "mesh3d": [
           {
            "colorbar": {
             "outlinewidth": 0,
             "ticks": ""
            },
            "type": "mesh3d"
           }
          ],
          "parcoords": [
           {
            "line": {
             "colorbar": {
              "outlinewidth": 0,
              "ticks": ""
             }
            },
            "type": "parcoords"
           }
          ],
          "pie": [
           {
            "automargin": true,
            "type": "pie"
           }
          ],
          "scatter": [
           {
            "fillpattern": {
             "fillmode": "overlay",
             "size": 10,
             "solidity": 0.2
            },
            "type": "scatter"
           }
          ],
          "scatter3d": [
           {
            "line": {
             "colorbar": {
              "outlinewidth": 0,
              "ticks": ""
             }
            },
            "marker": {
             "colorbar": {
              "outlinewidth": 0,
              "ticks": ""
             }
            },
            "type": "scatter3d"
           }
          ],
          "scattercarpet": [
           {
            "marker": {
             "colorbar": {
              "outlinewidth": 0,
              "ticks": ""
             }
            },
            "type": "scattercarpet"
           }
          ],
          "scattergeo": [
           {
            "marker": {
             "colorbar": {
              "outlinewidth": 0,
              "ticks": ""
             }
            },
            "type": "scattergeo"
           }
          ],
          "scattergl": [
           {
            "marker": {
             "colorbar": {
              "outlinewidth": 0,
              "ticks": ""
             }
            },
            "type": "scattergl"
           }
          ],
          "scattermap": [
           {
            "marker": {
             "colorbar": {
              "outlinewidth": 0,
              "ticks": ""
             }
            },
            "type": "scattermap"
           }
          ],
          "scattermapbox": [
           {
            "marker": {
             "colorbar": {
              "outlinewidth": 0,
              "ticks": ""
             }
            },
            "type": "scattermapbox"
           }
          ],
          "scatterpolar": [
           {
            "marker": {
             "colorbar": {
              "outlinewidth": 0,
              "ticks": ""
             }
            },
            "type": "scatterpolar"
           }
          ],
          "scatterpolargl": [
           {
            "marker": {
             "colorbar": {
              "outlinewidth": 0,
              "ticks": ""
             }
            },
            "type": "scatterpolargl"
           }
          ],
          "scatterternary": [
           {
            "marker": {
             "colorbar": {
              "outlinewidth": 0,
              "ticks": ""
             }
            },
            "type": "scatterternary"
           }
          ],
          "surface": [
           {
            "colorbar": {
             "outlinewidth": 0,
             "ticks": ""
            },
            "colorscale": [
             [
              0,
              "#0d0887"
             ],
             [
              0.1111111111111111,
              "#46039f"
             ],
             [
              0.2222222222222222,
              "#7201a8"
             ],
             [
              0.3333333333333333,
              "#9c179e"
             ],
             [
              0.4444444444444444,
              "#bd3786"
             ],
             [
              0.5555555555555556,
              "#d8576b"
             ],
             [
              0.6666666666666666,
              "#ed7953"
             ],
             [
              0.7777777777777778,
              "#fb9f3a"
             ],
             [
              0.8888888888888888,
              "#fdca26"
             ],
             [
              1,
              "#f0f921"
             ]
            ],
            "type": "surface"
           }
          ],
          "table": [
           {
            "cells": {
             "fill": {
              "color": "#EBF0F8"
             },
             "line": {
              "color": "white"
             }
            },
            "header": {
             "fill": {
              "color": "#C8D4E3"
             },
             "line": {
              "color": "white"
             }
            },
            "type": "table"
           }
          ]
         },
         "layout": {
          "annotationdefaults": {
           "arrowcolor": "#2a3f5f",
           "arrowhead": 0,
           "arrowwidth": 1
          },
          "autotypenumbers": "strict",
          "coloraxis": {
           "colorbar": {
            "outlinewidth": 0,
            "ticks": ""
           }
          },
          "colorscale": {
           "diverging": [
            [
             0,
             "#8e0152"
            ],
            [
             0.1,
             "#c51b7d"
            ],
            [
             0.2,
             "#de77ae"
            ],
            [
             0.3,
             "#f1b6da"
            ],
            [
             0.4,
             "#fde0ef"
            ],
            [
             0.5,
             "#f7f7f7"
            ],
            [
             0.6,
             "#e6f5d0"
            ],
            [
             0.7,
             "#b8e186"
            ],
            [
             0.8,
             "#7fbc41"
            ],
            [
             0.9,
             "#4d9221"
            ],
            [
             1,
             "#276419"
            ]
           ],
           "sequential": [
            [
             0,
             "#0d0887"
            ],
            [
             0.1111111111111111,
             "#46039f"
            ],
            [
             0.2222222222222222,
             "#7201a8"
            ],
            [
             0.3333333333333333,
             "#9c179e"
            ],
            [
             0.4444444444444444,
             "#bd3786"
            ],
            [
             0.5555555555555556,
             "#d8576b"
            ],
            [
             0.6666666666666666,
             "#ed7953"
            ],
            [
             0.7777777777777778,
             "#fb9f3a"
            ],
            [
             0.8888888888888888,
             "#fdca26"
            ],
            [
             1,
             "#f0f921"
            ]
           ],
           "sequentialminus": [
            [
             0,
             "#0d0887"
            ],
            [
             0.1111111111111111,
             "#46039f"
            ],
            [
             0.2222222222222222,
             "#7201a8"
            ],
            [
             0.3333333333333333,
             "#9c179e"
            ],
            [
             0.4444444444444444,
             "#bd3786"
            ],
            [
             0.5555555555555556,
             "#d8576b"
            ],
            [
             0.6666666666666666,
             "#ed7953"
            ],
            [
             0.7777777777777778,
             "#fb9f3a"
            ],
            [
             0.8888888888888888,
             "#fdca26"
            ],
            [
             1,
             "#f0f921"
            ]
           ]
          },
          "colorway": [
           "#636efa",
           "#EF553B",
           "#00cc96",
           "#ab63fa",
           "#FFA15A",
           "#19d3f3",
           "#FF6692",
           "#B6E880",
           "#FF97FF",
           "#FECB52"
          ],
          "font": {
           "color": "#2a3f5f"
          },
          "geo": {
           "bgcolor": "white",
           "lakecolor": "white",
           "landcolor": "white",
           "showlakes": true,
           "showland": true,
           "subunitcolor": "#C8D4E3"
          },
          "hoverlabel": {
           "align": "left"
          },
          "hovermode": "closest",
          "mapbox": {
           "style": "light"
          },
          "paper_bgcolor": "white",
          "plot_bgcolor": "white",
          "polar": {
           "angularaxis": {
            "gridcolor": "#EBF0F8",
            "linecolor": "#EBF0F8",
            "ticks": ""
           },
           "bgcolor": "white",
           "radialaxis": {
            "gridcolor": "#EBF0F8",
            "linecolor": "#EBF0F8",
            "ticks": ""
           }
          },
          "scene": {
           "xaxis": {
            "backgroundcolor": "white",
            "gridcolor": "#DFE8F3",
            "gridwidth": 2,
            "linecolor": "#EBF0F8",
            "showbackground": true,
            "ticks": "",
            "zerolinecolor": "#EBF0F8"
           },
           "yaxis": {
            "backgroundcolor": "white",
            "gridcolor": "#DFE8F3",
            "gridwidth": 2,
            "linecolor": "#EBF0F8",
            "showbackground": true,
            "ticks": "",
            "zerolinecolor": "#EBF0F8"
           },
           "zaxis": {
            "backgroundcolor": "white",
            "gridcolor": "#DFE8F3",
            "gridwidth": 2,
            "linecolor": "#EBF0F8",
            "showbackground": true,
            "ticks": "",
            "zerolinecolor": "#EBF0F8"
           }
          },
          "shapedefaults": {
           "line": {
            "color": "#2a3f5f"
           }
          },
          "ternary": {
           "aaxis": {
            "gridcolor": "#DFE8F3",
            "linecolor": "#A2B1C6",
            "ticks": ""
           },
           "baxis": {
            "gridcolor": "#DFE8F3",
            "linecolor": "#A2B1C6",
            "ticks": ""
           },
           "bgcolor": "white",
           "caxis": {
            "gridcolor": "#DFE8F3",
            "linecolor": "#A2B1C6",
            "ticks": ""
           }
          },
          "title": {
           "x": 0.05
          },
          "xaxis": {
           "automargin": true,
           "gridcolor": "#EBF0F8",
           "linecolor": "#EBF0F8",
           "ticks": "",
           "title": {
            "standoff": 15
           },
           "zerolinecolor": "#EBF0F8",
           "zerolinewidth": 2
          },
          "yaxis": {
           "automargin": true,
           "gridcolor": "#EBF0F8",
           "linecolor": "#EBF0F8",
           "ticks": "",
           "title": {
            "standoff": 15
           },
           "zerolinecolor": "#EBF0F8",
           "zerolinewidth": 2
          }
         }
        },
        "title": {
         "text": "All midprice series (zeroed) with insertion/cooling lines"
        },
        "width": 1200,
        "xaxis": {
         "showgrid": false,
         "title": {
          "text": "Index"
         }
        },
        "yaxis": {
         "showgrid": false,
         "title": {
          "text": "Price – first_price"
         }
        }
       }
      }
     },
     "metadata": {},
     "output_type": "display_data"
    }
   ],
   "source": [
    "fig, mean_series, std_series = plot_midprice_series_with_mean_std(\n",
    "    merged=merged,\n",
    "    all_series=all_series,\n",
    "    x=x,\n",
    "    hist_steps=hist_steps,\n",
    "    gen_block=gen_block,\n",
    "    num_insertions=num_insertions,\n",
    "    num_coolings=num_coolings,\n",
    "    n_gen_msgs=n_gen_msgs,\n",
    "    midprice_step_size=midprice_step_size,\n",
    ")\n",
    "fig.show()"
   ]
  },
  {
   "cell_type": "code",
   "execution_count": 9,
   "metadata": {},
   "outputs": [],
   "source": [
    "# np.save(\"/app/data_saved/exp_96_20250703_212149/exp_96_20250703_212149_mean.npy\", mean_series)\n",
    "# np.save(\"/app/data_saved/exp_96_20250703_212149/exp_96_20250703_212149_std.npy\", std_series)"
   ]
  },
  {
   "cell_type": "markdown",
   "metadata": {},
   "source": [
    "# ----------------------------------------------------"
   ]
  },
  {
   "cell_type": "markdown",
   "metadata": {},
   "source": [
    "# ----------------------------------------------------"
   ]
  },
  {
   "cell_type": "markdown",
   "metadata": {},
   "source": [
    "# ----------------------------------------------------"
   ]
  },
  {
   "cell_type": "markdown",
   "metadata": {},
   "source": [
    "# OREDER-PLAYER"
   ]
  },
  {
   "cell_type": "code",
   "execution_count": 10,
   "metadata": {},
   "outputs": [],
   "source": [
    "# import os, glob, re\n",
    "# import numpy as np\n",
    "# import pandas as pd\n",
    "\n",
    "# # PRINT EACH NAME + SHAPE WHEN LOADING\n",
    "# def build_and_merge(folder, batch_prefix, inp_prefix):\n",
    "#     # STEP 1: load every .npy (shape (batch_size, time, feat)) into a DataFrame\n",
    "#     files   = glob.glob(os.path.join(folder, \"*.npy\"))\n",
    "#     rx_iter = re.compile(rf\"{re.escape(batch_prefix)}_\\[(.+)\\]_iter_(\\d+)\\.npy$\")\n",
    "#     rx_inp  = re.compile(rf\"{re.escape(inp_prefix)}_\\[(.+)\\]\\.npy$\")\n",
    "#     rec = []\n",
    "#     for f in files:\n",
    "#         nm = os.path.basename(f)\n",
    "#         m  = rx_iter.match(nm)\n",
    "#         if m:\n",
    "#             rng, itr = m.group(1).replace(\" \", \"\"), int(m.group(2))\n",
    "#         else:\n",
    "#             m2 = rx_inp.match(nm)\n",
    "#             if not m2:\n",
    "#                 continue\n",
    "#             rng, itr = m2.group(1).replace(\" \", \"\"), 0\n",
    "#         batch = np.load(f)  # shape (batch_size, time, features)\n",
    "\n",
    "#         # ======== PRINT FILE NAME AND SHAPE =========\n",
    "#         print(f\"Loaded {nm} with shape {batch.shape}\")\n",
    "#         # ============================================\n",
    "\n",
    "#         rec.append({\"range\": rng, \"iteration\": itr, \"batch\": batch})\n",
    "#     df = pd.DataFrame(rec).sort_values([\"range\",\"iteration\"]).reset_index(drop=True)\n",
    "\n",
    "#     # STEP 2: parse the comma‐separated list of IDs into Python lists\n",
    "#     df[\"ids\"] = df[\"range\"].str.split(\",\").apply(lambda L: [int(x) for x in L])\n",
    "\n",
    "#     # explode each batch into one row per sample\n",
    "#     rows = []\n",
    "#     for _, r in df.iterrows():\n",
    "#         for idx, sample_id in enumerate(r[\"ids\"]):\n",
    "#             single = r[\"batch\"][idx]   # shape (time, features)\n",
    "#             rows.append({\n",
    "#                 \"id\":        sample_id,\n",
    "#                 \"iteration\": r[\"iteration\"],\n",
    "#                 \"data\":      single\n",
    "#             })\n",
    "#     df_sorted = pd.DataFrame(rows).sort_values([\"id\",\"iteration\"]).reset_index(drop=True)\n",
    "\n",
    "#     # STEP 3: for each id, concatenate all its iterations end-to-end\n",
    "#     merged = []\n",
    "#     for id_val, grp in df_sorted.groupby(\"id\", sort=True):\n",
    "#         arrs = [row.data for _, row in grp.iterrows()]\n",
    "#         big  = np.concatenate(arrs, axis=0)   # (sum_time, features)\n",
    "#         merged.append({\"id\": id_val, \"merged_data\": big})\n",
    "#     merged_df = pd.DataFrame(merged).sort_values(\"id\").reset_index(drop=True)\n",
    "\n",
    "#     return df, df_sorted, merged_df\n",
    "\n",
    "# # — example usage —\n",
    "# b_folder      = f\"/app/data_saved/{experiment_name}/b_seq_gen_doubled\"\n",
    "# b_batch_pref  = \"b_seq_gen_doubled_batch\"\n",
    "# b_inp_pref    = \"b_seq_inp\"\n",
    "# _, b_sorted, b_merged = build_and_merge(b_folder, b_batch_pref, b_inp_pref)\n",
    "\n",
    "# m_folder      = f\"/app/data_saved/{experiment_name}/msgs_decoded_doubled\"\n",
    "# m_batch_pref  = \"msgs_decoded_doubled_batch\"\n",
    "# m_inp_pref    = \"m_seq_raw_inp\"\n",
    "# _, m_sorted, m_merged = build_and_merge(m_folder, m_batch_pref, m_inp_pref)\n",
    "\n",
    "# # build your dicts\n",
    "# b_dict = { int(r.id): np.array(r.merged_data) for _, r in b_merged.iterrows() }\n",
    "# m_dict = { int(r.id): np.array(r.merged_data) for _, r in m_merged.iterrows() }\n",
    "\n",
    "# # prepend zero‐row so that your interactive plot indexing from t=1…T works\n",
    "# for d in (b_dict, m_dict):\n",
    "#     for key, arr in d.items():\n",
    "#         zero = np.zeros((1, arr.shape[1]), dtype=arr.dtype)\n",
    "#         d[key] = np.vstack([zero, arr])"
   ]
  },
  {
   "cell_type": "code",
   "execution_count": 11,
   "metadata": {},
   "outputs": [
    {
     "name": "stdout",
     "output_type": "stream",
     "text": [
      "Loaded b_seq_gen_doubled_batch_[14606, 16120, 2787, 4668]_iter_6.npy with shape (4, 501, 501)\n",
      "Loaded b_seq_inp_[14606, 16120, 2787, 4668].npy with shape (4, 500, 501)\n",
      "Loaded b_seq_gen_doubled_batch_[14606, 16120, 2787, 4668]_iter_4.npy with shape (4, 501, 501)\n",
      "Loaded b_seq_gen_doubled_batch_[14606, 16120, 2787, 4668]_iter_2.npy with shape (4, 501, 501)\n",
      "Loaded b_seq_gen_doubled_batch_[14606, 16120, 2787, 4668]_iter_1.npy with shape (4, 501, 501)\n",
      "Loaded b_seq_gen_doubled_batch_[14606, 16120, 2787, 4668]_iter_3.npy with shape (4, 501, 501)\n",
      "Loaded b_seq_gen_doubled_batch_[14606, 16120, 2787, 4668]_iter_7.npy with shape (4, 501, 501)\n",
      "Loaded b_seq_gen_doubled_batch_[14606, 16120, 2787, 4668]_iter_5.npy with shape (4, 501, 501)\n",
      "Loaded msgs_decoded_doubled_batch_[14606, 16120, 2787, 4668]_iter_5.npy with shape (4, 51, 14)\n",
      "Loaded msgs_decoded_doubled_batch_[14606, 16120, 2787, 4668]_iter_7.npy with shape (4, 51, 14)\n",
      "Loaded m_seq_raw_inp_[14606, 16120, 2787, 4668].npy with shape (4, 500, 14)\n",
      "Loaded msgs_decoded_doubled_batch_[14606, 16120, 2787, 4668]_iter_4.npy with shape (4, 51, 14)\n",
      "Loaded msgs_decoded_doubled_batch_[14606, 16120, 2787, 4668]_iter_2.npy with shape (4, 51, 14)\n",
      "Loaded msgs_decoded_doubled_batch_[14606, 16120, 2787, 4668]_iter_3.npy with shape (4, 51, 14)\n",
      "Loaded msgs_decoded_doubled_batch_[14606, 16120, 2787, 4668]_iter_1.npy with shape (4, 51, 14)\n",
      "Loaded msgs_decoded_doubled_batch_[14606, 16120, 2787, 4668]_iter_6.npy with shape (4, 51, 14)\n"
     ]
    }
   ],
   "source": [
    "import os, glob, re\n",
    "import numpy as np\n",
    "import pandas as pd\n",
    "\n",
    "def build_and_merge(folder, batch_prefix, inp_prefix):\n",
    "    # STEP 1: load every .npy (shape (batch_size, time, feat)) into a DataFrame\n",
    "    files   = glob.glob(os.path.join(folder, \"*.npy\"))\n",
    "    rx_iter = re.compile(rf\"{re.escape(batch_prefix)}_\\[(.+)\\]_iter_(\\d+)\\.npy$\")\n",
    "    rx_inp  = re.compile(rf\"{re.escape(inp_prefix)}_\\[(.+)\\]\\.npy$\")\n",
    "    rec = []\n",
    "    for f in files:\n",
    "        nm = os.path.basename(f)\n",
    "        m  = rx_iter.match(nm)\n",
    "        if m:\n",
    "            rng, itr = m.group(1).replace(\" \", \"\"), int(m.group(2))\n",
    "        else:\n",
    "            m2 = rx_inp.match(nm)\n",
    "            if not m2:\n",
    "                continue\n",
    "            rng, itr = m2.group(1).replace(\" \", \"\"), 0\n",
    "\n",
    "        batch = np.load(f)  # shape (batch_size, time, features)\n",
    "        print(f\"Loaded {nm} with shape {batch.shape}\")\n",
    "\n",
    "        rec.append({\"range\": rng, \"iteration\": itr, \"batch\": batch})\n",
    "    df = pd.DataFrame(rec).sort_values([\"range\",\"iteration\"]).reset_index(drop=True)\n",
    "\n",
    "    # STEP 2: parse the comma‐separated list of IDs into Python lists\n",
    "    df[\"ids\"] = df[\"range\"].str.split(\",\").apply(lambda L: [int(x) for x in L])\n",
    "\n",
    "    # explode each batch into one row per sample, с учётом slicing\n",
    "    rows = []\n",
    "    for _, r in df.iterrows():\n",
    "        for idx, sample_id in enumerate(r[\"ids\"]):\n",
    "            single = r[\"batch\"][idx]   # shape (time, features)\n",
    "\n",
    "            # ====== здесь происходит нужный slice ======\n",
    "            if r[\"iteration\"] > 0:\n",
    "                # для первой генерации — последние 51, для остальных — по 50\n",
    "                n_keep = 51 if r[\"iteration\"] == 1 else 50\n",
    "                single = single[-n_keep:, :]\n",
    "            # ============================================\n",
    "\n",
    "            rows.append({\n",
    "                \"id\":        sample_id,\n",
    "                \"iteration\": r[\"iteration\"],\n",
    "                \"data\":      single\n",
    "            })\n",
    "\n",
    "    df_sorted = pd.DataFrame(rows).sort_values([\"id\",\"iteration\"]).reset_index(drop=True)\n",
    "\n",
    "    # STEP 3: для каждого id склеить его кусочки\n",
    "    merged = []\n",
    "    for id_val, grp in df_sorted.groupby(\"id\", sort=True):\n",
    "        arrs = [row.data for _, row in grp.iterrows()]\n",
    "        big  = np.concatenate(arrs, axis=0)   # (sum_time, features)\n",
    "        merged.append({\"id\": id_val, \"merged_data\": big})\n",
    "    merged_df = pd.DataFrame(merged).sort_values(\"id\").reset_index(drop=True)\n",
    "\n",
    "    return df, df_sorted, merged_df\n",
    "\n",
    "b_folder      = f\"/app/data_saved/{experiment_name}/b_seq_gen_doubled\"\n",
    "b_batch_pref  = \"b_seq_gen_doubled_batch\"\n",
    "b_inp_pref    = \"b_seq_inp\"\n",
    "\n",
    "m_folder      = f\"/app/data_saved/{experiment_name}/msgs_decoded_doubled\"\n",
    "m_batch_pref  = \"msgs_decoded_doubled_batch\"\n",
    "m_inp_pref    = \"m_seq_raw_inp\"\n",
    "\n",
    "_, b_sorted, b_merged = build_and_merge(b_folder, b_batch_pref, b_inp_pref)\n",
    "_, m_sorted, m_merged = build_and_merge(m_folder, m_batch_pref, m_inp_pref)\n",
    "\n",
    "# Словари\n",
    "b_dict = { int(r.id): np.array(r.merged_data) for _, r in b_merged.iterrows() }\n",
    "m_dict = { int(r.id): np.array(r.merged_data) for _, r in m_merged.iterrows() }\n",
    "\n",
    "# prepend zero‐row для интерактивного индекса\n",
    "for d in (b_dict, m_dict):\n",
    "    for key, arr in d.items():\n",
    "        zero = np.zeros((1, arr.shape[1]), dtype=arr.dtype)\n",
    "        d[key] = np.vstack([zero, arr])"
   ]
  },
  {
   "cell_type": "code",
   "execution_count": 12,
   "metadata": {},
   "outputs": [],
   "source": [
    "# m_dict[14606].shape"
   ]
  },
  {
   "cell_type": "code",
   "execution_count": 13,
   "metadata": {},
   "outputs": [
    {
     "data": {
      "text/html": [
       "<div>\n",
       "<style scoped>\n",
       "    .dataframe tbody tr th:only-of-type {\n",
       "        vertical-align: middle;\n",
       "    }\n",
       "\n",
       "    .dataframe tbody tr th {\n",
       "        vertical-align: top;\n",
       "    }\n",
       "\n",
       "    .dataframe thead th {\n",
       "        text-align: right;\n",
       "    }\n",
       "</style>\n",
       "<table border=\"1\" class=\"dataframe\">\n",
       "  <thead>\n",
       "    <tr style=\"text-align: right;\">\n",
       "      <th></th>\n",
       "      <th>id</th>\n",
       "      <th>merged_data</th>\n",
       "    </tr>\n",
       "  </thead>\n",
       "  <tbody>\n",
       "    <tr>\n",
       "      <th>0</th>\n",
       "      <td>2787</td>\n",
       "      <td>[[0.0, 0.0, 0.0, 0.0, 0.0, 0.0, 0.0, 0.0, 0.0,...</td>\n",
       "    </tr>\n",
       "    <tr>\n",
       "      <th>1</th>\n",
       "      <td>4668</td>\n",
       "      <td>[[0.0, 0.0, 0.0, 0.0, 0.0, 0.0, 0.0, 0.0, 0.0,...</td>\n",
       "    </tr>\n",
       "    <tr>\n",
       "      <th>2</th>\n",
       "      <td>14606</td>\n",
       "      <td>[[0.0, 0.0, 0.0, 0.0, 0.0, 0.0, 0.0, 0.0, 0.0,...</td>\n",
       "    </tr>\n",
       "    <tr>\n",
       "      <th>3</th>\n",
       "      <td>16120</td>\n",
       "      <td>[[0.0, 0.0, 0.0, 0.0, 0.0, 0.0, 0.0, 0.0, 0.0,...</td>\n",
       "    </tr>\n",
       "  </tbody>\n",
       "</table>\n",
       "</div>"
      ],
      "text/plain": [
       "      id                                        merged_data\n",
       "0   2787  [[0.0, 0.0, 0.0, 0.0, 0.0, 0.0, 0.0, 0.0, 0.0,...\n",
       "1   4668  [[0.0, 0.0, 0.0, 0.0, 0.0, 0.0, 0.0, 0.0, 0.0,...\n",
       "2  14606  [[0.0, 0.0, 0.0, 0.0, 0.0, 0.0, 0.0, 0.0, 0.0,...\n",
       "3  16120  [[0.0, 0.0, 0.0, 0.0, 0.0, 0.0, 0.0, 0.0, 0.0,..."
      ]
     },
     "execution_count": 13,
     "metadata": {},
     "output_type": "execute_result"
    }
   ],
   "source": [
    "b_merged"
   ]
  },
  {
   "cell_type": "code",
   "execution_count": 14,
   "metadata": {},
   "outputs": [],
   "source": [
    "# b_dict[14606].shape"
   ]
  },
  {
   "cell_type": "code",
   "execution_count": 15,
   "metadata": {},
   "outputs": [
    {
     "data": {
      "application/vnd.jupyter.widget-view+json": {
       "model_id": "78e7a09af93d436e9566be150b81382b",
       "version_major": 2,
       "version_minor": 0
      },
      "text/plain": [
       "HBox(children=(Dropdown(description='Sample ID:', options=(2787, 4668, 14606, 16120), value=2787), Button(desc…"
      ]
     },
     "metadata": {},
     "output_type": "display_data"
    },
    {
     "data": {
      "application/vnd.jupyter.widget-view+json": {
       "model_id": "5ddccd57b8354306bb3fb077139e1730",
       "version_major": 2,
       "version_minor": 0
      },
      "text/plain": [
       "FigureWidget({\n",
       "    'data': [{'marker': {'color': 'orange'},\n",
       "              'type': 'bar',\n",
       "              'uid': '3e34705f-4b62-4de3-b712-9d6435298b95',\n",
       "              'x': {'bdata': '9fb3+Pn6+/z9/v8AAQIDBAUGBwgJCgs=', 'dtype': 'i1'},\n",
       "              'xaxis': 'x',\n",
       "              'y': {'bdata': ('AAAAAAAAAAAAAAAAAAAAAAAAAAAAAA' ... 'AAAAAAAAAAAAAAAAAAAAAAAAAAAAA='),\n",
       "                    'dtype': 'f4'},\n",
       "              'yaxis': 'y'},\n",
       "             {'marker': {'color': [orange, red, red, red, red, red, red, red, red,\n",
       "                                   red, red, orange, red, red, red, red, red, red,\n",
       "                                   red, red, red, red, orange]},\n",
       "              'type': 'bar',\n",
       "              'uid': 'bb22aa57-c4b6-43a0-8587-a109997483ac',\n",
       "              'x': {'bdata': '9fb3+Pn6+/z9/v8AAQIDBAUGBwgJCgs=', 'dtype': 'i1'},\n",
       "              'xaxis': 'x2',\n",
       "              'y': {'bdata': ('AAAAAFCNlz4JrDw/2KPwPobrkT/azj' ... 'K/tcj2vipcz77BymG/NDOzvgAAAAA='),\n",
       "                    'dtype': 'f4'},\n",
       "              'yaxis': 'y2'}],\n",
       "    'layout': {'annotations': [{'font': {'size': 16},\n",
       "                                'showarrow': False,\n",
       "                                'text': 'Book state 0',\n",
       "                                'x': 0.225,\n",
       "                                'xanchor': 'center',\n",
       "                                'xref': 'paper',\n",
       "                                'y': 1.0,\n",
       "                                'yanchor': 'bottom',\n",
       "                                'yref': 'paper'},\n",
       "                               {'font': {'size': 16},\n",
       "                                'showarrow': False,\n",
       "                                'text': 'Book state 1',\n",
       "                                'x': 0.775,\n",
       "                                'xanchor': 'center',\n",
       "                                'xref': 'paper',\n",
       "                                'y': 1.0,\n",
       "                                'yanchor': 'bottom',\n",
       "                                'yref': 'paper'}],\n",
       "               'height': 400,\n",
       "               'showlegend': False,\n",
       "               'template': '...',\n",
       "               'width': 800,\n",
       "               'xaxis': {'anchor': 'y', 'domain': [0.0, 0.45]},\n",
       "               'xaxis2': {'anchor': 'y2', 'domain': [0.55, 1.0]},\n",
       "               'yaxis': {'anchor': 'x', 'domain': [0.0, 1.0]},\n",
       "               'yaxis2': {'anchor': 'x2', 'domain': [0.0, 1.0]}}\n",
       "})"
      ]
     },
     "metadata": {},
     "output_type": "display_data"
    },
    {
     "data": {
      "application/vnd.jupyter.widget-view+json": {
       "model_id": "6cb4c1d16b1a49c3bef8efbfced1d90a",
       "version_major": 2,
       "version_minor": 0
      },
      "text/plain": [
       "HTML(value='<b>Limit • Buy • abs=897600 • rel=-1 • size=22<br></b>raw:[693834242, 1, 1, 897600, -1, 22, 0, 0, …"
      ]
     },
     "metadata": {},
     "output_type": "display_data"
    }
   ],
   "source": [
    "import numpy as np\n",
    "import pandas as pd\n",
    "import plotly.graph_objs as go\n",
    "from plotly.subplots import make_subplots\n",
    "import ipywidgets as widgets\n",
    "from IPython.display import display\n",
    "\n",
    "def interactive_lob_plot(b_seq_inp, msg_seq_raw):\n",
    "    # allow DataFrame or dict\n",
    "    if isinstance(b_seq_inp, pd.DataFrame):\n",
    "        b_seq_inp = {int(r.id): np.array(r.merged_data) for _,r in b_seq_inp.iterrows()}\n",
    "    if isinstance(msg_seq_raw, pd.DataFrame):\n",
    "        msg_seq_raw = {int(r.id): np.array(r.merged_data) for _,r in msg_seq_raw.iterrows()}\n",
    "\n",
    "    # controls\n",
    "    id_dd       = widgets.Dropdown(options=sorted(b_seq_inp.keys()), description=\"Sample ID:\")\n",
    "    time_slider = widgets.IntSlider(min=1, max=1, step=1, description=\"t:\")\n",
    "    btn_prev    = widgets.Button(description=\"←\")\n",
    "    btn_next    = widgets.Button(description=\"→\")\n",
    "    msg_box     = widgets.HTML()\n",
    "\n",
    "    # figure with two subplots\n",
    "    fig = make_subplots(rows=1, cols=2, subplot_titles=[\"Book state t–1\",\"Book state t\"])\n",
    "    fig.add_trace(go.Bar(x=[],y=[]), row=1,col=1)\n",
    "    fig.add_trace(go.Bar(x=[],y=[]), row=1,col=2)\n",
    "    fig.update_layout(width=800, height=400, showlegend=False, template='plotly_white')\n",
    "    fig_widget = go.FigureWidget(fig)\n",
    "\n",
    "    def update_slider_range(*_):\n",
    "        arr = b_seq_inp[id_dd.value]\n",
    "        # now slider runs 1…(T−1)\n",
    "        time_slider.min = 1\n",
    "        time_slider.max = arr.shape[0] - 1\n",
    "        time_slider.value = 1\n",
    "\n",
    "    def update_plot(*_):\n",
    "        sid = id_dd.value\n",
    "        t   = time_slider.value\n",
    "        arr = b_seq_inp[sid]\n",
    "        msgs= msg_seq_raw[sid]\n",
    "\n",
    "        # take book states at t−1 and t\n",
    "        s0 = arr[t-1, 240:263]\n",
    "        s1 = arr[t,   240:263]\n",
    "\n",
    "        # s0 = arr[t-1]\n",
    "        # s1 = arr[t]\n",
    "\n",
    "\n",
    "        diff = abs(s1) - abs(s0)\n",
    "        x = np.arange(len(s0)) - len(s0)//2\n",
    "\n",
    "        with fig_widget.batch_update():\n",
    "            fig_widget.data = []\n",
    "            fig_widget.add_bar(x=x, y=s0, row=1, col=1, marker_color='orange')\n",
    "            \n",
    "            colors = ['orange' if abs(d)<1e-8 else ('red' if d>0 else 'blue') for d in diff]\n",
    "                        \n",
    "            fig_widget.add_bar(x=x, y=s1, row=1, col=2, marker_color=colors)\n",
    "            fig_widget.layout.annotations[0].text = f\"Book state {t-1}\"\n",
    "            fig_widget.layout.annotations[1].text = f\"Book state {t}\"\n",
    "\n",
    "        # show message at index t\n",
    "        m = msgs[t].astype(int)\n",
    "        # fields: [0]=timestamp, [1]=etype, [2]=dir, [3]=abspr, [4]=relpr, [5]=size, …\n",
    "        et, dr, abspr, relpr, sz = m[1], m[2], m[3], m[4], m[5]\n",
    "        et_map = {1:\"Limit\",2:\"PartialCancel\",3:\"Delete\",4:\"Execution\"}\n",
    "        dr_map = {1:\"Buy\",0:\"Sell\"}\n",
    "        info = (\n",
    "            f\"{et_map.get(et,'?')} • \"\n",
    "            f\"{dr_map.get(dr,'?')} • \"\n",
    "            f\"abs={abspr} • rel={relpr} • size={sz}\"\n",
    "        )\n",
    "        msg_box.value = f\"<b>{info}<br></b>raw:{m.tolist()}\"\n",
    "\n",
    "    def on_prev(b):\n",
    "        if time_slider.value>time_slider.min:\n",
    "            time_slider.value -= 1\n",
    "    def on_next(b):\n",
    "        if time_slider.value<time_slider.max:\n",
    "            time_slider.value += 1\n",
    "\n",
    "    # wire up events\n",
    "    id_dd.observe(lambda c: update_slider_range(), names='value')\n",
    "    time_slider.observe(lambda c: update_plot(), names='value')\n",
    "    btn_prev.on_click(on_prev)\n",
    "    btn_next.on_click(on_next)\n",
    "\n",
    "    # initial draw\n",
    "    update_slider_range()\n",
    "    update_plot()\n",
    "\n",
    "    display(widgets.HBox([id_dd, btn_prev, btn_next, time_slider]))\n",
    "    display(fig_widget, msg_box)\n",
    "\n",
    "\n",
    "interactive_lob_plot(b_dict, m_dict)"
   ]
  },
  {
   "cell_type": "code",
   "execution_count": 16,
   "metadata": {},
   "outputs": [
    {
     "name": "stdout",
     "output_type": "stream",
     "text": [
      "Sample ID 2787: Execution at indices [149, 150, 151, 200, 208, 214, 221, 304, 340, 341, 537, 544, 545, 546, 551, 601, 651, 701, 751, 801, 851]\n",
      "Sample ID 4668: Execution at indices [184, 251, 270, 449, 551, 601, 651, 701, 751, 800, 801, 851]\n",
      "Sample ID 14606: Execution at indices [104, 105, 317, 321, 323, 324, 350, 376, 377, 378, 437, 522, 551, 572, 574, 575, 577, 582, 593, 594, 595, 597, 601, 622, 624, 625, 627, 632, 647, 651, 661, 667, 672, 674, 675, 677, 682, 693, 694, 695, 696, 697, 701, 711, 717, 722, 724, 725, 727, 732, 743, 744, 745, 747, 751, 772, 774, 775, 777, 782, 793, 794, 795, 797, 801, 822, 824, 825, 827, 832, 843, 844, 845, 847, 851]\n",
      "Sample ID 16120: Execution at indices [78, 79, 80, 105, 106, 107, 385, 551, 601, 651, 701, 722, 723, 724, 725, 751, 801, 851]\n"
     ]
    }
   ],
   "source": [
    "def show_execution_indices(m_dict):\n",
    "    \"\"\"\n",
    "    For each sample_id in m_dict, prints indices t where etype == 4 (Execution).\n",
    "    \"\"\"\n",
    "    for sid, msgs in m_dict.items():\n",
    "        etypes = msgs[:, 1]\n",
    "        exec_indices = np.where(etypes == 4)[0]\n",
    "        if len(exec_indices) > 0:\n",
    "            print(f\"Sample ID {sid}: Execution at indices {exec_indices.tolist()}\")\n",
    "        else:\n",
    "            print(f\"Sample ID {sid}: No Executions found\")\n",
    "\n",
    "show_execution_indices(m_dict)"
   ]
  },
  {
   "cell_type": "code",
   "execution_count": 17,
   "metadata": {},
   "outputs": [
    {
     "data": {
      "text/html": [
       "<pre style=\"white-space:pre;overflow-x:auto;line-height:normal;font-family:Menlo,'DejaVu Sans Mono',consolas,'Courier New',monospace\"><span style=\"color: #800000; text-decoration-color: #800000\">╭─────────────────────────────── </span><span style=\"color: #800000; text-decoration-color: #800000; font-weight: bold\">Traceback </span><span style=\"color: #bf7f7f; text-decoration-color: #bf7f7f; font-weight: bold\">(most recent call last)</span><span style=\"color: #800000; text-decoration-color: #800000\"> ────────────────────────────────╮</span>\n",
       "<span style=\"color: #800000; text-decoration-color: #800000\">│</span> in <span style=\"color: #00ff00; text-decoration-color: #00ff00\">&lt;module&gt;</span>:<span style=\"color: #0000ff; text-decoration-color: #0000ff\">9</span>                                                                                    <span style=\"color: #800000; text-decoration-color: #800000\">│</span>\n",
       "<span style=\"color: #800000; text-decoration-color: #800000\">│</span>                                                                                                  <span style=\"color: #800000; text-decoration-color: #800000\">│</span>\n",
       "<span style=\"color: #800000; text-decoration-color: #800000\">│</span>   <span style=\"color: #7f7f7f; text-decoration-color: #7f7f7f\"> 6 </span>before_insert_file = <span style=\"color: #808000; text-decoration-color: #808000\">\"/app/data_saved/exp_67_20250701_164001/msgs_decoded_doubled/msgs_d</span>    <span style=\"color: #800000; text-decoration-color: #800000\">│</span>\n",
       "<span style=\"color: #800000; text-decoration-color: #800000\">│</span>   <span style=\"color: #7f7f7f; text-decoration-color: #7f7f7f\"> 7 </span>                                                                                            <span style=\"color: #800000; text-decoration-color: #800000\">│</span>\n",
       "<span style=\"color: #800000; text-decoration-color: #800000\">│</span>   <span style=\"color: #7f7f7f; text-decoration-color: #7f7f7f\"> 8 # Загрузка</span>                                                                                  <span style=\"color: #800000; text-decoration-color: #800000\">│</span>\n",
       "<span style=\"color: #800000; text-decoration-color: #800000\">│</span> <span style=\"color: #800000; text-decoration-color: #800000\">❱ </span> 9 arr_inp = np.load(inp_file)                                                                 <span style=\"color: #800000; text-decoration-color: #800000\">│</span>\n",
       "<span style=\"color: #800000; text-decoration-color: #800000\">│</span>   <span style=\"color: #7f7f7f; text-decoration-color: #7f7f7f\">10 </span>arr_iter = np.load(iter_file)                                                               <span style=\"color: #800000; text-decoration-color: #800000\">│</span>\n",
       "<span style=\"color: #800000; text-decoration-color: #800000\">│</span>   <span style=\"color: #7f7f7f; text-decoration-color: #7f7f7f\">11 </span>                                                                                            <span style=\"color: #800000; text-decoration-color: #800000\">│</span>\n",
       "<span style=\"color: #800000; text-decoration-color: #800000\">│</span>   <span style=\"color: #7f7f7f; text-decoration-color: #7f7f7f\">12 # id = 2787 находится в первой позиции [0]</span>                                                  <span style=\"color: #800000; text-decoration-color: #800000\">│</span>\n",
       "<span style=\"color: #800000; text-decoration-color: #800000\">│</span>                                                                                                  <span style=\"color: #800000; text-decoration-color: #800000\">│</span>\n",
       "<span style=\"color: #800000; text-decoration-color: #800000\">│</span> <span style=\"color: #bfbf7f; text-decoration-color: #bfbf7f\">/opt/conda/envs/myenv/lib/python3.12/site-packages/numpy/lib/</span><span style=\"color: #808000; text-decoration-color: #808000; font-weight: bold\">npyio.py</span>:<span style=\"color: #0000ff; text-decoration-color: #0000ff\">427</span> in <span style=\"color: #00ff00; text-decoration-color: #00ff00\">load</span>                <span style=\"color: #800000; text-decoration-color: #800000\">│</span>\n",
       "<span style=\"color: #800000; text-decoration-color: #800000\">│</span>                                                                                                  <span style=\"color: #800000; text-decoration-color: #800000\">│</span>\n",
       "<span style=\"color: #800000; text-decoration-color: #800000\">│</span>   <span style=\"color: #7f7f7f; text-decoration-color: #7f7f7f\"> 424 </span><span style=\"color: #7f7f7f; text-decoration-color: #7f7f7f\">│   │   │   </span>fid = file                                                                    <span style=\"color: #800000; text-decoration-color: #800000\">│</span>\n",
       "<span style=\"color: #800000; text-decoration-color: #800000\">│</span>   <span style=\"color: #7f7f7f; text-decoration-color: #7f7f7f\"> 425 </span><span style=\"color: #7f7f7f; text-decoration-color: #7f7f7f\">│   │   │   </span>own_fid = <span style=\"color: #0000ff; text-decoration-color: #0000ff\">False</span>                                                               <span style=\"color: #800000; text-decoration-color: #800000\">│</span>\n",
       "<span style=\"color: #800000; text-decoration-color: #800000\">│</span>   <span style=\"color: #7f7f7f; text-decoration-color: #7f7f7f\"> 426 </span><span style=\"color: #7f7f7f; text-decoration-color: #7f7f7f\">│   │   </span><span style=\"color: #0000ff; text-decoration-color: #0000ff\">else</span>:                                                                             <span style=\"color: #800000; text-decoration-color: #800000\">│</span>\n",
       "<span style=\"color: #800000; text-decoration-color: #800000\">│</span> <span style=\"color: #800000; text-decoration-color: #800000\">❱ </span> 427 <span style=\"color: #7f7f7f; text-decoration-color: #7f7f7f\">│   │   │   </span>fid = stack.enter_context(<span style=\"color: #00ffff; text-decoration-color: #00ffff\">open</span>(os_fspath(file), <span style=\"color: #808000; text-decoration-color: #808000\">\"rb\"</span>))                        <span style=\"color: #800000; text-decoration-color: #800000\">│</span>\n",
       "<span style=\"color: #800000; text-decoration-color: #800000\">│</span>   <span style=\"color: #7f7f7f; text-decoration-color: #7f7f7f\"> 428 </span><span style=\"color: #7f7f7f; text-decoration-color: #7f7f7f\">│   │   │   </span>own_fid = <span style=\"color: #0000ff; text-decoration-color: #0000ff\">True</span>                                                                <span style=\"color: #800000; text-decoration-color: #800000\">│</span>\n",
       "<span style=\"color: #800000; text-decoration-color: #800000\">│</span>   <span style=\"color: #7f7f7f; text-decoration-color: #7f7f7f\"> 429 </span><span style=\"color: #7f7f7f; text-decoration-color: #7f7f7f\">│   │   </span>                                                                                  <span style=\"color: #800000; text-decoration-color: #800000\">│</span>\n",
       "<span style=\"color: #800000; text-decoration-color: #800000\">│</span>   <span style=\"color: #7f7f7f; text-decoration-color: #7f7f7f\"> 430 </span><span style=\"color: #7f7f7f; text-decoration-color: #7f7f7f\">│   │   </span><span style=\"color: #7f7f7f; text-decoration-color: #7f7f7f\"># Code to distinguish from NumPy binary files and pickles.</span>                        <span style=\"color: #800000; text-decoration-color: #800000\">│</span>\n",
       "<span style=\"color: #800000; text-decoration-color: #800000\">╰──────────────────────────────────────────────────────────────────────────────────────────────────╯</span>\n",
       "<span style=\"color: #ff0000; text-decoration-color: #ff0000; font-weight: bold\">FileNotFoundError: </span><span style=\"font-weight: bold\">[</span>Errno <span style=\"color: #008080; text-decoration-color: #008080; font-weight: bold\">2</span><span style=\"font-weight: bold\">]</span> No such file or directory: \n",
       "<span style=\"color: #008000; text-decoration-color: #008000\">'/app/data_saved/exp_67_20250701_164001/msgs_decoded_doubled/m_seq_raw_inp_[14606, 16120].npy'</span>\n",
       "</pre>\n"
      ],
      "text/plain": [
       "\u001b[31m╭─\u001b[0m\u001b[31m──────────────────────────────\u001b[0m\u001b[31m \u001b[0m\u001b[1;31mTraceback \u001b[0m\u001b[1;2;31m(most recent call last)\u001b[0m\u001b[31m \u001b[0m\u001b[31m───────────────────────────────\u001b[0m\u001b[31m─╮\u001b[0m\n",
       "\u001b[31m│\u001b[0m in \u001b[92m<module>\u001b[0m:\u001b[94m9\u001b[0m                                                                                    \u001b[31m│\u001b[0m\n",
       "\u001b[31m│\u001b[0m                                                                                                  \u001b[31m│\u001b[0m\n",
       "\u001b[31m│\u001b[0m   \u001b[2m 6 \u001b[0mbefore_insert_file = \u001b[33m\"\u001b[0m\u001b[33m/app/data_saved/exp_67_20250701_164001/msgs_decoded_doubled/msgs_d\u001b[0m    \u001b[31m│\u001b[0m\n",
       "\u001b[31m│\u001b[0m   \u001b[2m 7 \u001b[0m                                                                                            \u001b[31m│\u001b[0m\n",
       "\u001b[31m│\u001b[0m   \u001b[2m 8 \u001b[0m\u001b[2m# Загрузка\u001b[0m                                                                                  \u001b[31m│\u001b[0m\n",
       "\u001b[31m│\u001b[0m \u001b[31m❱ \u001b[0m 9 arr_inp = np.load(inp_file)                                                                 \u001b[31m│\u001b[0m\n",
       "\u001b[31m│\u001b[0m   \u001b[2m10 \u001b[0marr_iter = np.load(iter_file)                                                               \u001b[31m│\u001b[0m\n",
       "\u001b[31m│\u001b[0m   \u001b[2m11 \u001b[0m                                                                                            \u001b[31m│\u001b[0m\n",
       "\u001b[31m│\u001b[0m   \u001b[2m12 \u001b[0m\u001b[2m# id = 2787 находится в первой позиции [0]\u001b[0m                                                  \u001b[31m│\u001b[0m\n",
       "\u001b[31m│\u001b[0m                                                                                                  \u001b[31m│\u001b[0m\n",
       "\u001b[31m│\u001b[0m \u001b[2;33m/opt/conda/envs/myenv/lib/python3.12/site-packages/numpy/lib/\u001b[0m\u001b[1;33mnpyio.py\u001b[0m:\u001b[94m427\u001b[0m in \u001b[92mload\u001b[0m                \u001b[31m│\u001b[0m\n",
       "\u001b[31m│\u001b[0m                                                                                                  \u001b[31m│\u001b[0m\n",
       "\u001b[31m│\u001b[0m   \u001b[2m 424 \u001b[0m\u001b[2m│   │   │   \u001b[0mfid = file                                                                    \u001b[31m│\u001b[0m\n",
       "\u001b[31m│\u001b[0m   \u001b[2m 425 \u001b[0m\u001b[2m│   │   │   \u001b[0mown_fid = \u001b[94mFalse\u001b[0m                                                               \u001b[31m│\u001b[0m\n",
       "\u001b[31m│\u001b[0m   \u001b[2m 426 \u001b[0m\u001b[2m│   │   \u001b[0m\u001b[94melse\u001b[0m:                                                                             \u001b[31m│\u001b[0m\n",
       "\u001b[31m│\u001b[0m \u001b[31m❱ \u001b[0m 427 \u001b[2m│   │   │   \u001b[0mfid = stack.enter_context(\u001b[96mopen\u001b[0m(os_fspath(file), \u001b[33m\"\u001b[0m\u001b[33mrb\u001b[0m\u001b[33m\"\u001b[0m))                        \u001b[31m│\u001b[0m\n",
       "\u001b[31m│\u001b[0m   \u001b[2m 428 \u001b[0m\u001b[2m│   │   │   \u001b[0mown_fid = \u001b[94mTrue\u001b[0m                                                                \u001b[31m│\u001b[0m\n",
       "\u001b[31m│\u001b[0m   \u001b[2m 429 \u001b[0m\u001b[2m│   │   \u001b[0m                                                                                  \u001b[31m│\u001b[0m\n",
       "\u001b[31m│\u001b[0m   \u001b[2m 430 \u001b[0m\u001b[2m│   │   \u001b[0m\u001b[2m# Code to distinguish from NumPy binary files and pickles.\u001b[0m                        \u001b[31m│\u001b[0m\n",
       "\u001b[31m╰──────────────────────────────────────────────────────────────────────────────────────────────────╯\u001b[0m\n",
       "\u001b[1;91mFileNotFoundError: \u001b[0m\u001b[1m[\u001b[0mErrno \u001b[1;36m2\u001b[0m\u001b[1m]\u001b[0m No such file or directory: \n",
       "\u001b[32m'/app/data_saved/exp_67_20250701_164001/msgs_decoded_doubled/m_seq_raw_inp_\u001b[0m\u001b[32m[\u001b[0m\u001b[32m14606, 16120\u001b[0m\u001b[32m]\u001b[0m\u001b[32m.npy'\u001b[0m\n"
      ]
     },
     "metadata": {},
     "output_type": "display_data"
    }
   ],
   "source": [
    "import numpy as np\n",
    "\n",
    "# Явные пути к файлам\n",
    "inp_file = \"/app/data_saved/exp_67_20250701_164001/msgs_decoded_doubled/m_seq_raw_inp_[14606, 16120].npy\"\n",
    "iter_file = \"/app/data_saved/exp_67_20250701_164001/msgs_decoded_doubled/msgs_decoded_doubled_batch_[14606, 16120]_iter_1.npy\"\n",
    "before_insert_file = \"/app/data_saved/exp_67_20250701_164001/msgs_decoded_doubled/msgs_decoded_before_insert_batch_[14606, 16120]_iter_1.npy\"\n",
    "\n",
    "# Загрузка\n",
    "arr_inp = np.load(inp_file)\n",
    "arr_iter = np.load(iter_file)\n",
    "\n",
    "# id = 2787 находится в первой позиции [0]\n",
    "row_inp = arr_inp[0, -1, :]\n",
    "row_iter = arr_iter[0, 0, :]\n",
    "\n",
    "# Печать\n",
    "print(row_inp)\n",
    "print(row_iter)"
   ]
  },
  {
   "cell_type": "code",
   "execution_count": null,
   "metadata": {},
   "outputs": [],
   "source": [
    "import numpy as np\n",
    "import matplotlib.pyplot as plt\n",
    "import ipywidgets as widgets\n",
    "from IPython.display import display\n",
    "\n",
    "# === 1️⃣ Указываю ТВОИ актуальные пути ===\n",
    "inp_file = \"/app/data_saved/exp_73_20250701_210502/b_seq_gen_doubled/b_seq_inp_[14606, 16120].npy\"\n",
    "iter_file = \"/app/data_saved/exp_73_20250701_210502/b_seq_gen_doubled/b_seq_gen_doubled_batch_[14606, 16120]_iter_1.npy\"\n",
    "before_insert_file = \"/app/data_saved/exp_73_20250701_210502/b_seq_gen_doubled/b_seq_gen_before_insert_batch_[14606, 16120]_iter_1.npy\"\n",
    "\n",
    "# === 2️⃣ Загружаем массивы ===\n",
    "arr_inp = np.load(inp_file)\n",
    "arr_iter = np.load(iter_file)\n",
    "arr_before_insert = np.load(before_insert_file)\n",
    "\n",
    "feat_range = slice(240, 263)\n",
    "x = np.arange(240, 263) - ((263 - 240) // 2)\n",
    "\n",
    "# inp\n",
    "batch_size_inp, T_inp, _ = arr_inp.shape\n",
    "# iter_1\n",
    "batch_size_iter, T_iter, _ = arr_iter.shape\n",
    "# before_insert\n",
    "batch_size_bef, T_bef, _ = arr_before_insert.shape\n",
    "\n",
    "# === 3️⃣ Создаём виджеты ===\n",
    "sample_slider_inp = widgets.IntSlider(min=0, max=batch_size_inp-1, step=1, value=0, description=\"sample_inp\")\n",
    "t_slider_inp = widgets.IntSlider(min=0, max=T_inp-1, step=1, value=T_inp-1, description=\"t_inp\")\n",
    "\n",
    "sample_slider_iter = widgets.IntSlider(min=0, max=batch_size_iter-1, step=1, value=0, description=\"sample_iter\")\n",
    "t_slider_iter = widgets.IntSlider(min=0, max=T_iter-1, step=1, value=0, description=\"t_iter\")\n",
    "\n",
    "sample_slider_bef = widgets.IntSlider(min=0, max=batch_size_bef-1, step=1, value=0, description=\"sample_bef\")\n",
    "t_slider_bef = widgets.IntSlider(min=0, max=T_bef-1, step=1, value=0, description=\"t_bef\")\n",
    "\n",
    "# === 4️⃣ Функция отрисовки ===\n",
    "def plot_all(sample_inp, t_inp, sample_iter, t_iter, sample_bef, t_bef):\n",
    "    row_inp = arr_inp[sample_inp, t_inp, feat_range]\n",
    "    row_iter = arr_iter[sample_iter, t_iter, feat_range]\n",
    "    row_bef = arr_before_insert[sample_bef, t_bef, feat_range]\n",
    "    \n",
    "    fig, axs = plt.subplots(1, 3, figsize=(18, 4), sharey=True)\n",
    "\n",
    "    axs[0].bar(x, row_inp, color='orange')\n",
    "    axs[0].set_title(f\"inp[{t_inp}] | sample {sample_inp}\")\n",
    "    axs[0].set_xlabel(\"Level rel to mid\")\n",
    "    axs[0].grid(True, alpha=0.3)\n",
    "\n",
    "    axs[1].bar(x, row_iter, color='orange')\n",
    "    axs[1].set_title(f\"iter_1[{t_iter}] | sample {sample_iter}\")\n",
    "    axs[1].set_xlabel(\"Level rel to mid\")\n",
    "    axs[1].grid(True, alpha=0.3)\n",
    "\n",
    "    axs[2].bar(x, row_bef, color='orange')\n",
    "    axs[2].set_title(f\"before_insert[{t_bef}] | sample {sample_bef}\")\n",
    "    axs[2].set_xlabel(\"Level rel to mid\")\n",
    "    axs[2].grid(True, alpha=0.3)\n",
    "\n",
    "    axs[0].set_ylabel(\"Normalized volume\")\n",
    "    plt.show()\n",
    "\n",
    "# === 5️⃣ Отображаем виджеты и связываем с функцией ===\n",
    "ui = widgets.VBox([\n",
    "    widgets.HBox([sample_slider_inp, t_slider_inp]),\n",
    "    widgets.HBox([sample_slider_iter, t_slider_iter]),\n",
    "    widgets.HBox([sample_slider_bef, t_slider_bef]),\n",
    "])\n",
    "\n",
    "out = widgets.interactive_output(\n",
    "    plot_all,\n",
    "    {\n",
    "        'sample_inp': sample_slider_inp,\n",
    "        't_inp': t_slider_inp,\n",
    "        'sample_iter': sample_slider_iter,\n",
    "        't_iter': t_slider_iter,\n",
    "        'sample_bef': sample_slider_bef,\n",
    "        't_bef': t_slider_bef,\n",
    "    }\n",
    ")\n",
    "\n",
    "display(ui, out)"
   ]
  },
  {
   "cell_type": "code",
   "execution_count": null,
   "metadata": {},
   "outputs": [],
   "source": [
    "import numpy as np\n",
    "import ipywidgets as widgets\n",
    "from IPython.display import display\n",
    "\n",
    "# === 1️⃣ Указываю актуальные пути ===\n",
    "inp_file = \"/app/data_saved/exp_67_20250701_164001/msgs_decoded_doubled/m_seq_raw_inp_[14606, 16120].npy\"\n",
    "iter_file = \"/app/data_saved/exp_67_20250701_164001/msgs_decoded_doubled/msgs_decoded_doubled_batch_[14606, 16120]_iter_1.npy\"\n",
    "before_insert_file = \"/app/data_saved/exp_67_20250701_164001/msgs_decoded_doubled/msgs_decoded_before_insert_batch_[14606, 16120]_iter_1.npy\"\n",
    "\n",
    "# === 2️⃣ Загружаем массивы ===\n",
    "arr_inp = np.load(inp_file)\n",
    "arr_iter = np.load(iter_file)\n",
    "arr_before_insert = np.load(before_insert_file)\n",
    "\n",
    "batch_size_inp, T_inp, _ = arr_inp.shape\n",
    "batch_size_iter, T_iter, _ = arr_iter.shape\n",
    "batch_size_bef, T_bef, _ = arr_before_insert.shape\n",
    "\n",
    "# === 3️⃣ Виджеты ===\n",
    "sample_slider_inp = widgets.IntSlider(min=0, max=batch_size_inp-1, step=1, value=0, description=\"sample_inp\")\n",
    "t_slider_inp = widgets.IntSlider(min=0, max=T_inp-1, step=1, value=0, description=\"t_inp\")\n",
    "\n",
    "sample_slider_iter = widgets.IntSlider(min=0, max=batch_size_iter-1, step=1, value=0, description=\"sample_iter\")\n",
    "t_slider_iter = widgets.IntSlider(min=0, max=T_iter-1, step=1, value=0, description=\"t_iter\")\n",
    "\n",
    "sample_slider_bef = widgets.IntSlider(min=0, max=batch_size_bef-1, step=1, value=0, description=\"sample_bef\")\n",
    "t_slider_bef = widgets.IntSlider(min=0, max=T_bef-1, step=1, value=0, description=\"t_bef\")\n",
    "\n",
    "# === 4️⃣ Функция вывода сообщений ===\n",
    "def print_all(sample_inp, t_inp, sample_iter, t_iter, sample_bef, t_bef):\n",
    "    msg_inp = arr_inp[sample_inp, t_inp]\n",
    "    msg_iter = arr_iter[sample_iter, t_iter]\n",
    "    msg_bef = arr_before_insert[sample_bef, t_bef]\n",
    "\n",
    "    print(f\"📌 inp[{t_inp}] | sample {sample_inp}:\\n{msg_inp.astype(int).tolist()}\\n\")\n",
    "    print(f\"📌 iter_1[{t_iter}] | sample {sample_iter}:\\n{msg_iter.astype(int).tolist()}\\n\")\n",
    "    print(f\"📌 before_insert[{t_bef}] | sample {sample_bef}:\\n{msg_bef.astype(int).tolist()}\\n\")\n",
    "\n",
    "# === 5️⃣ Отображение виджетов и связка ===\n",
    "ui = widgets.VBox([\n",
    "    widgets.HBox([sample_slider_inp, t_slider_inp]),\n",
    "    widgets.HBox([sample_slider_iter, t_slider_iter]),\n",
    "    widgets.HBox([sample_slider_bef, t_slider_bef]),\n",
    "])\n",
    "\n",
    "out = widgets.interactive_output(\n",
    "    print_all,\n",
    "    {\n",
    "        'sample_inp': sample_slider_inp,\n",
    "        't_inp': t_slider_inp,\n",
    "        'sample_iter': sample_slider_iter,\n",
    "        't_iter': t_slider_iter,\n",
    "        'sample_bef': sample_slider_bef,\n",
    "        't_bef': t_slider_bef,\n",
    "    }\n",
    ")\n",
    "\n",
    "display(ui, out)"
   ]
  },
  {
   "cell_type": "code",
   "execution_count": null,
   "metadata": {},
   "outputs": [],
   "source": [
    "import numpy as np\n",
    "import plotly.graph_objects as go\n",
    "\n",
    "# Load data\n",
    "mean_92 = np.load(\"/app/data_saved/exp_92_20250702_215802/exp_92_20250702_215802_mean.npy\")\n",
    "std_92 = np.load(\"/app/data_saved/exp_92_20250702_215802/exp_92_20250702_215802_std.npy\")\n",
    "mean_96 = np.load(\"/app/data_saved/exp_96_20250703_212149/exp_96_20250703_212149_mean.npy\")\n",
    "std_96 = np.load(\"/app/data_saved/exp_96_20250703_212149/exp_96_20250703_212149_std.npy\")\n",
    "\n",
    "mean_96 = -mean_96\n",
    "# std_96 = -std_96\n",
    "\n",
    "x_92 = np.arange(len(mean_92))\n",
    "x_96 = np.arange(len(mean_96))\n",
    "\n",
    "min_y = min(np.min(mean_92 - std_92), np.min(mean_96 - std_96))\n",
    "max_y = max(np.max(mean_92 + std_92), np.max(mean_96 + std_96))\n",
    "\n",
    "fig = go.Figure()\n",
    "\n",
    "# exp_92 (now RED)\n",
    "fig.add_trace(go.Scatter(\n",
    "    x=np.concatenate([x_92, x_92[::-1]]),\n",
    "    y=np.concatenate([mean_92 + std_92, (mean_92 - std_92)[::-1]]),\n",
    "    fill='toself',\n",
    "    fillcolor='rgba(200, 0, 0, 0.2)',\n",
    "    line=dict(color='rgba(255,255,255,0)'),\n",
    "    hoverinfo=\"skip\",\n",
    "    name=\"exp_92 ±1 std\"\n",
    "))\n",
    "fig.add_trace(go.Scatter(\n",
    "    x=x_92,\n",
    "    y=mean_92,\n",
    "    mode='lines',\n",
    "    line=dict(color='red', width=2),\n",
    "    name=\"exp_92 mean\"\n",
    "))\n",
    "\n",
    "# exp_96 (now BLUE)\n",
    "fig.add_trace(go.Scatter(\n",
    "    x=np.concatenate([x_96, x_96[::-1]]),\n",
    "    y=np.concatenate([mean_96 + std_96, (mean_96 - std_96)[::-1]]),\n",
    "    fill='toself',\n",
    "    fillcolor='rgba(0, 100, 200, 0.2)',\n",
    "    line=dict(color='rgba(255,255,255,0)'),\n",
    "    hoverinfo=\"skip\",\n",
    "    name=\"exp_96 ±1 std\"\n",
    "))\n",
    "fig.add_trace(go.Scatter(\n",
    "    x=x_96,\n",
    "    y=mean_96,\n",
    "    mode='lines',\n",
    "    line=dict(color='blue', width=2),\n",
    "    name=\"exp_96 mean\"\n",
    "))\n",
    "\n",
    "# Vertical dashed lines\n",
    "fig.add_shape(type=\"line\", x0=500, x1=500, y0=min_y, y1=max_y,\n",
    "              line=dict(color=\"black\", dash=\"dash\"))\n",
    "fig.add_shape(type=\"line\", x0=1000, x1=1000, y0=min_y, y1=max_y,\n",
    "              line=dict(color=\"blue\", dash=\"dash\"))\n",
    "fig.add_shape(type=\"line\", x0=1500, x1=1500, y0=min_y, y1=max_y,\n",
    "              line=dict(color=\"red\", dash=\"dash\"))\n",
    "\n",
    "# Horizontal zero line\n",
    "fig.add_shape(\n",
    "    type=\"line\",\n",
    "    x0=0,\n",
    "    x1=max(len(x_92), len(x_96)),\n",
    "    y0=0,\n",
    "    y1=0,\n",
    "    line=dict(color=\"gray\")\n",
    ")\n",
    "\n",
    "# Layout\n",
    "fig.update_layout(\n",
    "    title=\"Aggresive buy (red, 144 samples, 20 buys, 30 cooldown) VS sell (blue, 98 samples, 10 buys & 40 cooldown)\",\n",
    "    xaxis_title=\"Message Index\",\n",
    "    yaxis_title=\"Midprice (zeroed at first price)\",\n",
    "    template=\"plotly_white\",\n",
    "    height=800,\n",
    "    width=1000,\n",
    "    legend=dict(orientation=\"h\", y=-0.2),\n",
    "    hovermode=\"x unified\",\n",
    ")\n",
    "\n",
    "fig.show()"
   ]
  },
  {
   "cell_type": "code",
   "execution_count": null,
   "metadata": {},
   "outputs": [],
   "source": []
  }
 ],
 "metadata": {
  "kernelspec": {
   "display_name": "myenv",
   "language": "python",
   "name": "python3"
  },
  "language_info": {
   "codemirror_mode": {
    "name": "ipython",
    "version": 3
   },
   "file_extension": ".py",
   "mimetype": "text/x-python",
   "name": "python",
   "nbconvert_exporter": "python",
   "pygments_lexer": "ipython3",
   "version": "3.12.3"
  }
 },
 "nbformat": 4,
 "nbformat_minor": 2
}
