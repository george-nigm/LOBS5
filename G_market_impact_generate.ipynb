{
 "cells": [
  {
   "cell_type": "code",
   "execution_count": 1,
   "metadata": {},
   "outputs": [
    {
     "name": "stdout",
     "output_type": "stream",
     "text": [
      "/app\n"
     ]
    }
   ],
   "source": [
    "%cd /app"
   ]
  },
  {
   "cell_type": "code",
   "execution_count": 2,
   "metadata": {},
   "outputs": [
    {
     "name": "stderr",
     "output_type": "stream",
     "text": [
      "2025-02-20 16:57:55.797039: W external/xla/xla/service/gpu/nvptx_compiler.cc:718] The NVIDIA driver's CUDA version is 12.6 which is older than the ptxas CUDA version (12.8.61). Because the driver is older than the ptxas version, XLA is disabling parallel compilation, which may slow down compilation. You should update your NVIDIA driver or use the NVIDIA-provided CUDA forward compatibility packages.\n",
      "WARNING:absl:Type handler registry overriding type \"<class 'float'>\" collision on scalar\n",
      "WARNING:absl:Type handler registry overriding type \"<class 'bytes'>\" collision on scalar\n",
      "WARNING:absl:Type handler registry overriding type \"<class 'numpy.number'>\" collision on scalar\n",
      "2025-02-20 16:57:58.937497: W tensorflow/compiler/tf2tensorrt/utils/py_utils.cc:38] TF-TRT Warning: Could not find TensorRT\n"
     ]
    }
   ],
   "source": [
    "import argparse\n",
    "import os\n",
    "import sys\n",
    "\n",
    "os.environ[\"XLA_PYTHON_CLIENT_PREALLOCATE\"] = \"false\"\n",
    "\n",
    "import torch\n",
    "torch.multiprocessing.set_start_method('spawn')\n",
    "\n",
    "import jax\n",
    "from lob.encoding import Vocab, Message_Tokenizer\n",
    "\n",
    "from lob import inference_no_errcorr as inference\n",
    "from lob.init_train import init_train_state, load_checkpoint, load_metadata, load_args_from_checkpoint\n",
    "\n",
    "from lob import inference_no_errcorr as inference"
   ]
  },
  {
   "cell_type": "code",
   "execution_count": 3,
   "metadata": {},
   "outputs": [],
   "source": [
    "save_folder = 'data_saved/'\n",
    "batch_size =2\n",
    "model_size = 'large'\n",
    "data_dir ='data/test_set/'\n",
    "rng_seed = 42\n",
    "sample_all = False # action='store_true'"
   ]
  },
  {
   "cell_type": "code",
   "execution_count": 4,
   "metadata": {},
   "outputs": [],
   "source": [
    "stock = 'GOOG'  # 'GOOG', 'INTC'\n",
    "n_gen_msgs = 500 # how many messages to generate into the future\n",
    "n_samples = 4"
   ]
  },
  {
   "cell_type": "code",
   "execution_count": 5,
   "metadata": {},
   "outputs": [],
   "source": [
    "n_messages = 500  # length of input sequence to model\n",
    "# batch_size = batch_size\n",
    "\n",
    "v = Vocab()\n",
    "n_classes = len(v)\n",
    "seq_len = n_messages * Message_Tokenizer.MSG_LEN\n",
    "book_dim = 501 #b_enc.shape[1]\n",
    "book_seq_len = n_messages\n",
    "\n",
    "n_eval_messages = n_gen_msgs  # how many to load from dataset\n",
    "eval_seq_len = n_eval_messages * Message_Tokenizer.MSG_LEN\n",
    "\n",
    "rng = jax.random.key(rng_seed)\n",
    "rng, rng_ = jax.random.split(rng)"
   ]
  },
  {
   "cell_type": "code",
   "execution_count": 6,
   "metadata": {},
   "outputs": [],
   "source": [
    "if stock == 'GOOG':\n",
    "    # ckpt_path = './checkpoints/treasured-leaf-149_84yhvzjt/' # 0.5 y GOOG, (full model)\n",
    "    ckpt_path = './checkpoints/denim-elevator-754_czg1ss71/' # large model\n",
    "    # ckpt_path = './checkpoints/stilted-deluge-759_8g3vqor4'  # small model\n",
    "elif stock == 'INTC':\n",
    "    # ckpt_path = './checkpoints/pleasant-cherry-152_i6h5n74c/' # 0.5 y INTC, (full model)\n",
    "    ckpt_path = './checkpoints/eager-sea-755_2rw1ofs3/'  # large model\n",
    "else:\n",
    "    raise ValueError(f'stock {stock} not recognized')"
   ]
  },
  {
   "cell_type": "code",
   "execution_count": 7,
   "metadata": {},
   "outputs": [
    {
     "name": "stdout",
     "output_type": "stream",
     "text": [
      "Loading metadata: ./checkpoints/denim-elevator-754_czg1ss71/\n"
     ]
    }
   ],
   "source": [
    "print('Loading metadata:', ckpt_path)\n",
    "args_ckpt = load_metadata(ckpt_path)"
   ]
  },
  {
   "cell_type": "code",
   "execution_count": 8,
   "metadata": {},
   "outputs": [],
   "source": [
    "# scale down to single GPU, single sample inference\n",
    "args_ckpt.bsz = 1 #1, 10\n",
    "args_ckpt.num_devices = 1\n",
    "\n",
    "batchnorm = args_ckpt.batchnorm"
   ]
  },
  {
   "cell_type": "code",
   "execution_count": 9,
   "metadata": {},
   "outputs": [
    {
     "name": "stdout",
     "output_type": "stream",
     "text": [
      "Initializing model...\n",
      "configuring standard optimization setup\n",
      "[*] Trainable Parameters: 35776312\n",
      "\n",
      "Loading model checkpoint...\n",
      "param count: 35776312\n"
     ]
    },
    {
     "name": "stderr",
     "output_type": "stream",
     "text": [
      "/tmp/ipykernel_689544/2594640255.py:22: DeprecationWarning: jax.tree_leaves is deprecated: use jax.tree.leaves (jax v0.4.25 or newer) or jax.tree_util.tree_leaves (any JAX version).\n",
      "  param_count = sum(x.size for x in jax.tree_leaves(state.params))\n"
     ]
    }
   ],
   "source": [
    "# load train state from disk\n",
    "\n",
    "print('Initializing model...')\n",
    "new_train_state, model_cls = init_train_state(\n",
    "    args_ckpt,\n",
    "    n_classes=n_classes,\n",
    "    seq_len=seq_len,\n",
    "    book_dim=book_dim,\n",
    "    book_seq_len=book_seq_len,\n",
    ")\n",
    "\n",
    "print('\\nLoading model checkpoint...')\n",
    "ckpt = load_checkpoint(\n",
    "    new_train_state,\n",
    "    ckpt_path,\n",
    "    train=False,\n",
    ")\n",
    "state = ckpt['model']\n",
    "\n",
    "model = model_cls(training=False, step_rescale=1.0)\n",
    "\n",
    "param_count = sum(x.size for x in jax.tree_leaves(state.params))\n",
    "print('param count:', param_count)"
   ]
  },
  {
   "cell_type": "code",
   "execution_count": 10,
   "metadata": {},
   "outputs": [
    {
     "name": "stdout",
     "output_type": "stream",
     "text": [
      "Directory Path: data/test_set/GOOG\n"
     ]
    }
   ],
   "source": [
    "data_dir = data_dir + stock\n",
    "# data_dir = data_dir + 'GOOG'\n",
    "print(f\"Directory Path: {data_dir}\")"
   ]
  },
  {
   "cell_type": "code",
   "execution_count": 11,
   "metadata": {},
   "outputs": [
    {
     "name": "stdout",
     "output_type": "stream",
     "text": [
      "There are 36 files in the folder data/test_set/GOOG.\n"
     ]
    }
   ],
   "source": [
    "# Using home directory\n",
    "from pathlib import Path\n",
    "import os\n",
    "\n",
    "# data_dir = Path.home() / \"data/test_set/GOOG\"\n",
    "# Or use a relative path from current working directory\n",
    "# data_dir = Path(\"data/test_set/GOOG\")\n",
    "data_dir = Path(data_dir)\n",
    "\n",
    "Path(data_dir).mkdir(parents=True, exist_ok=True)\n",
    "folder_path = Path(data_dir)\n",
    "file_count = len([f for f in folder_path.iterdir() if f.is_file()])\n",
    "print(f\"There are {file_count} files in the folder {str(data_dir)}.\")"
   ]
  },
  {
   "cell_type": "code",
   "execution_count": 12,
   "metadata": {},
   "outputs": [
    {
     "name": "stdout",
     "output_type": "stream",
     "text": [
      "500 500\n"
     ]
    }
   ],
   "source": [
    "print(n_messages, n_eval_messages)"
   ]
  },
  {
   "cell_type": "code",
   "execution_count": 13,
   "metadata": {},
   "outputs": [
    {
     "name": "stdout",
     "output_type": "stream",
     "text": [
      "Current working directory: /app\n",
      "Successfully created or verified directory: data/test_set/GOOG\n",
      "There are 36 files in the folder data/test_set/GOOG.\n"
     ]
    }
   ],
   "source": [
    "from pathlib import Path\n",
    "import os\n",
    "\n",
    "# Print current working directory to help verify the path\n",
    "print(f\"Current working directory: {os.getcwd()}\")\n",
    "\n",
    "# Use relative path to data/test_set/GOOG\n",
    "data_dir = Path(\"data/test_set/GOOG\")\n",
    "\n",
    "try:\n",
    "    Path(data_dir).mkdir(parents=True, exist_ok=True)\n",
    "    print(f\"Successfully created or verified directory: {data_dir}\")\n",
    "    \n",
    "    file_count = len([f for f in Path(data_dir).iterdir() if f.is_file()])\n",
    "    print(f\"There are {file_count} files in the folder {data_dir}.\")\n",
    "except Exception as e:\n",
    "    print(f\"Error: {str(e)}\")"
   ]
  },
  {
   "cell_type": "code",
   "execution_count": 14,
   "metadata": {},
   "outputs": [],
   "source": [
    "ds = inference.get_dataset(data_dir, n_messages, n_eval_messages)"
   ]
  },
  {
   "cell_type": "code",
   "execution_count": 15,
   "metadata": {},
   "outputs": [
    {
     "data": {
      "text/plain": [
       "'data_saved/'"
      ]
     },
     "execution_count": 15,
     "metadata": {},
     "output_type": "execute_result"
    }
   ],
   "source": [
    "save_folder"
   ]
  },
  {
   "cell_type": "code",
   "execution_count": 16,
   "metadata": {},
   "outputs": [
    {
     "name": "stdout",
     "output_type": "stream",
     "text": [
      "Generating...\n"
     ]
    },
    {
     "name": "stderr",
     "output_type": "stream",
     "text": [
      "  0%|          | 0/2 [00:00<?, ?it/s]"
     ]
    },
    {
     "name": "stdout",
     "output_type": "stream",
     "text": [
      "BATCH [4497, 6855]\n",
      "!!!\n",
      "<gymnax_exchange.jaxob.jorderbook.OrderBook object at 0x7fc3583f0380>\n",
      "book_l2_init - shape (2, 40)\n",
      "\n",
      "\n",
      "m_seq_raw_inp - shape (2, 500, 14)\n",
      "\n",
      "\n",
      "BEFORE generate_batched(...)\n",
      "\n",
      "\n",
      "sample_top_n - -1\n",
      "\n",
      "\n",
      "tick_size - 100\n",
      "\n",
      "\n",
      "m_seq_inp - shape (2, 11000): [[ 1005 12010 12007 ...   103   518   863]\n",
      " [ 1003 12009 12008 ...   785    50   388]]\n",
      "\n",
      "\n",
      "b_seq_inp - shape (2, 500, 501): [[[ 0.  0.  0. ...  0.  0.  0.]\n",
      "  [ 0.  0.  0. ...  0.  0.  0.]\n",
      "  [ 0.  0.  0. ...  0.  0.  0.]\n",
      "  ...\n",
      "  [ 0.  0.  0. ...  0.  0.  0.]\n",
      "  [ 0.  0.  0. ...  0.  0.  0.]\n",
      "  [ 0.  0.  0. ...  0.  0.  0.]]\n",
      "\n",
      " [[ 0.  0.  0. ...  0.  0.  0.]\n",
      "  [ 0.  0.  0. ...  0.  0.  0.]\n",
      "  [ 0.  0.  0. ...  0.  0.  0.]\n",
      "  ...\n",
      "  [ 0.  0.  0. ...  0.  0.  0.]\n",
      "  [-1.  0.  0. ...  0.  0.  0.]\n",
      "  [ 0.  0.  0. ...  0.  0.  0.]]]\n",
      "\n",
      "\n",
      "n_gen_msgs - 500\n",
      "\n",
      "\n",
      "sim_states_init - LobState(asks=Array([[[   884800,        25, 815683086,         0,     53062,\n",
      "         256032794],\n",
      "        [   885000,       100, 815712022,         0,     53063,\n",
      "         240275783],\n",
      "        [   884700,        25,   -900004,   -900000,         0,\n",
      "                 0],\n",
      "        ...,\n",
      "        [       -1,        -1,        -1,        -1,        -1,\n",
      "                -1],\n",
      "        [       -1,        -1,        -1,        -1,        -1,\n",
      "                -1],\n",
      "        [       -1,        -1,        -1,        -1,        -1,\n",
      "                -1]],\n",
      "\n",
      "       [[   874900,       100,   -900000,   -900000,         0,\n",
      "                 0],\n",
      "        [   875000,       680,   -900002,   -900000,         0,\n",
      "                 0],\n",
      "        [   875100,       913,   -900004,   -900000,         0,\n",
      "                 0],\n",
      "        ...,\n",
      "        [       -1,        -1,        -1,        -1,        -1,\n",
      "                -1],\n",
      "        [       -1,        -1,        -1,        -1,        -1,\n",
      "                -1],\n",
      "        [       -1,        -1,        -1,        -1,        -1,\n",
      "                -1]]], dtype=int32), bids=Array([[[   884300,       100, 815652774,         0,     53061,\n",
      "         200875507],\n",
      "        [   884200,       200,   -900003,   -900000,         0,\n",
      "                 0],\n",
      "        [   884100,       625,   -900005,   -900000,         0,\n",
      "                 0],\n",
      "        ...,\n",
      "        [       -1,        -1,        -1,        -1,        -1,\n",
      "                -1],\n",
      "        [       -1,        -1,        -1,        -1,        -1,\n",
      "                -1],\n",
      "        [       -1,        -1,        -1,        -1,        -1,\n",
      "                -1]],\n",
      "\n",
      "       [[   874200,       600, 637908734,         0,     49832,\n",
      "         480660839],\n",
      "        [       -1,        -1,        -1,        -1,        -1,\n",
      "                -1],\n",
      "        [   874600,       100,   -900005,   -900000,         0,\n",
      "                 0],\n",
      "        ...,\n",
      "        [       -1,        -1,        -1,        -1,        -1,\n",
      "                -1],\n",
      "        [       -1,        -1,        -1,        -1,        -1,\n",
      "                -1],\n",
      "        [       -1,        -1,        -1,        -1,        -1,\n",
      "                -1]]], dtype=int32), trades=Array([[[   884500,       100, 815628826, 815628826,     53061,\n",
      "         851850301],\n",
      "        [   884500,         7, 815653146, 815653146,     53061,\n",
      "         851850301],\n",
      "        [       -1,        -1,        -1,        -1,        -1,\n",
      "                -1],\n",
      "        ...,\n",
      "        [       -1,        -1,        -1,        -1,        -1,\n",
      "                -1],\n",
      "        [       -1,        -1,        -1,        -1,        -1,\n",
      "                -1],\n",
      "        [       -1,        -1,        -1,        -1,        -1,\n",
      "                -1]],\n",
      "\n",
      "       [[       -1,        -1,        -1,        -1,        -1,\n",
      "                -1],\n",
      "        [       -1,        -1,        -1,        -1,        -1,\n",
      "                -1],\n",
      "        [       -1,        -1,        -1,        -1,        -1,\n",
      "                -1],\n",
      "        ...,\n",
      "        [       -1,        -1,        -1,        -1,        -1,\n",
      "                -1],\n",
      "        [       -1,        -1,        -1,        -1,        -1,\n",
      "                -1],\n",
      "        [       -1,        -1,        -1,        -1,        -1,\n",
      "                -1]]], dtype=int32), key=Array([[3164236999, 3984487275],\n",
      "       [3164236999, 3984487275]], dtype=uint32))\n",
      "\n",
      "\n",
      "jax.random.split(rng_, batch_size) - Array((2,), dtype=key<fry>) overlaying:\n",
      "[[1981879981  700366195]\n",
      " [3459285118  528138134]]\n",
      "\n",
      "\n"
     ]
    },
    {
     "name": "stderr",
     "output_type": "stream",
     "text": [
      "  0%|          | 0/2 [06:34<?, ?it/s]\n"
     ]
    },
    {
     "data": {
      "text/html": [
       "<pre style=\"white-space:pre;overflow-x:auto;line-height:normal;font-family:Menlo,'DejaVu Sans Mono',consolas,'Courier New',monospace\"><span style=\"color: #800000; text-decoration-color: #800000\">╭─────────────────────────────── </span><span style=\"color: #800000; text-decoration-color: #800000; font-weight: bold\">Traceback </span><span style=\"color: #bf7f7f; text-decoration-color: #bf7f7f; font-weight: bold\">(most recent call last)</span><span style=\"color: #800000; text-decoration-color: #800000\"> ────────────────────────────────╮</span>\n",
       "<span style=\"color: #800000; text-decoration-color: #800000\">│</span> in <span style=\"color: #00ff00; text-decoration-color: #00ff00\">&lt;module&gt;</span>:<span style=\"color: #0000ff; text-decoration-color: #0000ff\">2</span>                                                                                    <span style=\"color: #800000; text-decoration-color: #800000\">│</span>\n",
       "<span style=\"color: #800000; text-decoration-color: #800000\">│</span>                                                                                                  <span style=\"color: #800000; text-decoration-color: #800000\">│</span>\n",
       "<span style=\"color: #800000; text-decoration-color: #800000\">│</span>   <span style=\"color: #7f7f7f; text-decoration-color: #7f7f7f\"> 1 </span><span style=\"color: #00ffff; text-decoration-color: #00ffff\">print</span>(<span style=\"color: #808000; text-decoration-color: #808000\">'Generating...'</span>)                                                                      <span style=\"color: #800000; text-decoration-color: #800000\">│</span>\n",
       "<span style=\"color: #800000; text-decoration-color: #800000\">│</span> <span style=\"color: #800000; text-decoration-color: #800000\">❱ </span> 2 inference.sample_new(                                                                       <span style=\"color: #800000; text-decoration-color: #800000\">│</span>\n",
       "<span style=\"color: #800000; text-decoration-color: #800000\">│</span>   <span style=\"color: #7f7f7f; text-decoration-color: #7f7f7f\"> 3 </span><span style=\"color: #7f7f7f; text-decoration-color: #7f7f7f\">│   </span>n_samples,                                                                              <span style=\"color: #800000; text-decoration-color: #800000\">│</span>\n",
       "<span style=\"color: #800000; text-decoration-color: #800000\">│</span>   <span style=\"color: #7f7f7f; text-decoration-color: #7f7f7f\"> 4 </span><span style=\"color: #7f7f7f; text-decoration-color: #7f7f7f\">│   </span>batch_size,                                                                             <span style=\"color: #800000; text-decoration-color: #800000\">│</span>\n",
       "<span style=\"color: #800000; text-decoration-color: #800000\">│</span>   <span style=\"color: #7f7f7f; text-decoration-color: #7f7f7f\"> 5 </span><span style=\"color: #7f7f7f; text-decoration-color: #7f7f7f\">│   </span>ds,                                                                                     <span style=\"color: #800000; text-decoration-color: #800000\">│</span>\n",
       "<span style=\"color: #800000; text-decoration-color: #800000\">│</span>                                                                                                  <span style=\"color: #800000; text-decoration-color: #800000\">│</span>\n",
       "<span style=\"color: #800000; text-decoration-color: #800000\">│</span> <span style=\"color: #bfbf7f; text-decoration-color: #bfbf7f\">/app/lob/</span><span style=\"color: #808000; text-decoration-color: #808000; font-weight: bold\">inference_no_errcorr.py</span>:<span style=\"color: #0000ff; text-decoration-color: #0000ff\">1149</span> in <span style=\"color: #00ff00; text-decoration-color: #00ff00\">sample_new</span>                                              <span style=\"color: #800000; text-decoration-color: #800000\">│</span>\n",
       "<span style=\"color: #800000; text-decoration-color: #800000\">│</span>                                                                                                  <span style=\"color: #800000; text-decoration-color: #800000\">│</span>\n",
       "<span style=\"color: #800000; text-decoration-color: #800000\">│</span>   <span style=\"color: #7f7f7f; text-decoration-color: #7f7f7f\">1146 </span><span style=\"color: #7f7f7f; text-decoration-color: #7f7f7f\">│   │   </span><span style=\"color: #00ffff; text-decoration-color: #00ffff\">print</span>(<span style=\"color: #808000; text-decoration-color: #808000\">f'sim_states_init - {</span>sim_states_init<span style=\"color: #808000; text-decoration-color: #808000\">}\\n\\n'</span>)                                 <span style=\"color: #800000; text-decoration-color: #800000\">│</span>\n",
       "<span style=\"color: #800000; text-decoration-color: #800000\">│</span>   <span style=\"color: #7f7f7f; text-decoration-color: #7f7f7f\">1147 </span><span style=\"color: #7f7f7f; text-decoration-color: #7f7f7f\">│   │   </span><span style=\"color: #00ffff; text-decoration-color: #00ffff\">print</span>(<span style=\"color: #808000; text-decoration-color: #808000\">f'jax.random.split(rng_, batch_size) - {</span>jax.random.split(rng_,<span style=\"color: #808080; text-decoration-color: #808080\"> </span>batch_size)  <span style=\"color: #800000; text-decoration-color: #800000\">│</span>\n",
       "<span style=\"color: #800000; text-decoration-color: #800000\">│</span>   <span style=\"color: #7f7f7f; text-decoration-color: #7f7f7f\">1148 </span><span style=\"color: #7f7f7f; text-decoration-color: #7f7f7f\">│   │   </span>                                                                                  <span style=\"color: #800000; text-decoration-color: #800000\">│</span>\n",
       "<span style=\"color: #800000; text-decoration-color: #800000\">│</span> <span style=\"color: #800000; text-decoration-color: #800000\">❱ </span>1149 <span style=\"color: #7f7f7f; text-decoration-color: #7f7f7f\">│   │   </span>m_seq_gen, b_seq_gen, msgs_decoded, l2_book_states, num_errors = generate_batche  <span style=\"color: #800000; text-decoration-color: #800000\">│</span>\n",
       "<span style=\"color: #800000; text-decoration-color: #800000\">│</span>   <span style=\"color: #7f7f7f; text-decoration-color: #7f7f7f\">1150 </span><span style=\"color: #7f7f7f; text-decoration-color: #7f7f7f\">│   │   │   </span>sim_init,                                                                     <span style=\"color: #800000; text-decoration-color: #800000\">│</span>\n",
       "<span style=\"color: #800000; text-decoration-color: #800000\">│</span>   <span style=\"color: #7f7f7f; text-decoration-color: #7f7f7f\">1151 </span><span style=\"color: #7f7f7f; text-decoration-color: #7f7f7f\">│   │   │   </span>train_state,                                                                  <span style=\"color: #800000; text-decoration-color: #800000\">│</span>\n",
       "<span style=\"color: #800000; text-decoration-color: #800000\">│</span>   <span style=\"color: #7f7f7f; text-decoration-color: #7f7f7f\">1152 </span><span style=\"color: #7f7f7f; text-decoration-color: #7f7f7f\">│   │   │   </span>model,                                                                        <span style=\"color: #800000; text-decoration-color: #800000\">│</span>\n",
       "<span style=\"color: #800000; text-decoration-color: #800000\">│</span>                                                                                                  <span style=\"color: #800000; text-decoration-color: #800000\">│</span>\n",
       "<span style=\"color: #800000; text-decoration-color: #800000\">│</span> <span style=\"color: #bfbf7f; text-decoration-color: #bfbf7f\">/opt/conda/envs/myenv/lib/python3.12/site-packages/jax/_src/</span><span style=\"color: #808000; text-decoration-color: #808000; font-weight: bold\">traceback_util.py</span>:<span style=\"color: #0000ff; text-decoration-color: #0000ff\">179</span> in             <span style=\"color: #800000; text-decoration-color: #800000\">│</span>\n",
       "<span style=\"color: #800000; text-decoration-color: #800000\">│</span> <span style=\"color: #00ff00; text-decoration-color: #00ff00\">reraise_with_filtered_traceback</span>                                                                  <span style=\"color: #800000; text-decoration-color: #800000\">│</span>\n",
       "<span style=\"color: #800000; text-decoration-color: #800000\">│</span>                                                                                                  <span style=\"color: #800000; text-decoration-color: #800000\">│</span>\n",
       "<span style=\"color: #800000; text-decoration-color: #800000\">│</span>   <span style=\"color: #7f7f7f; text-decoration-color: #7f7f7f\">176 </span><span style=\"color: #7f7f7f; text-decoration-color: #7f7f7f\">  </span><span style=\"color: #0000ff; text-decoration-color: #0000ff\">def</span> <span style=\"color: #00ff00; text-decoration-color: #00ff00\">reraise_with_filtered_traceback</span>(*args, **kwargs):                                    <span style=\"color: #800000; text-decoration-color: #800000\">│</span>\n",
       "<span style=\"color: #800000; text-decoration-color: #800000\">│</span>   <span style=\"color: #7f7f7f; text-decoration-color: #7f7f7f\">177 </span><span style=\"color: #7f7f7f; text-decoration-color: #7f7f7f\">│   </span>__tracebackhide__ = <span style=\"color: #0000ff; text-decoration-color: #0000ff\">True</span>                                                               <span style=\"color: #800000; text-decoration-color: #800000\">│</span>\n",
       "<span style=\"color: #800000; text-decoration-color: #800000\">│</span>   <span style=\"color: #7f7f7f; text-decoration-color: #7f7f7f\">178 </span><span style=\"color: #7f7f7f; text-decoration-color: #7f7f7f\">│   </span><span style=\"color: #0000ff; text-decoration-color: #0000ff\">try</span>:                                                                                   <span style=\"color: #800000; text-decoration-color: #800000\">│</span>\n",
       "<span style=\"color: #800000; text-decoration-color: #800000\">│</span> <span style=\"color: #800000; text-decoration-color: #800000\">❱ </span>179 <span style=\"color: #7f7f7f; text-decoration-color: #7f7f7f\">│     </span><span style=\"color: #0000ff; text-decoration-color: #0000ff\">return</span> fun(*args, **kwargs)                                                          <span style=\"color: #800000; text-decoration-color: #800000\">│</span>\n",
       "<span style=\"color: #800000; text-decoration-color: #800000\">│</span>   <span style=\"color: #7f7f7f; text-decoration-color: #7f7f7f\">180 </span><span style=\"color: #7f7f7f; text-decoration-color: #7f7f7f\">│   </span><span style=\"color: #0000ff; text-decoration-color: #0000ff\">except</span> <span style=\"color: #00ffff; text-decoration-color: #00ffff\">Exception</span> <span style=\"color: #0000ff; text-decoration-color: #0000ff\">as</span> e:                                                                 <span style=\"color: #800000; text-decoration-color: #800000\">│</span>\n",
       "<span style=\"color: #800000; text-decoration-color: #800000\">│</span>   <span style=\"color: #7f7f7f; text-decoration-color: #7f7f7f\">181 </span><span style=\"color: #7f7f7f; text-decoration-color: #7f7f7f\">│     </span>mode = _filtering_mode()                                                             <span style=\"color: #800000; text-decoration-color: #800000\">│</span>\n",
       "<span style=\"color: #800000; text-decoration-color: #800000\">│</span>   <span style=\"color: #7f7f7f; text-decoration-color: #7f7f7f\">182 </span><span style=\"color: #7f7f7f; text-decoration-color: #7f7f7f\">│     </span><span style=\"color: #0000ff; text-decoration-color: #0000ff\">if</span> _is_under_reraiser(e) <span style=\"color: #ff00ff; text-decoration-color: #ff00ff\">or</span> mode == <span style=\"color: #808000; text-decoration-color: #808000\">\"off\"</span>:                                           <span style=\"color: #800000; text-decoration-color: #800000\">│</span>\n",
       "<span style=\"color: #800000; text-decoration-color: #800000\">│</span>                                                                                                  <span style=\"color: #800000; text-decoration-color: #800000\">│</span>\n",
       "<span style=\"color: #800000; text-decoration-color: #800000\">│</span> <span style=\"color: #bfbf7f; text-decoration-color: #bfbf7f\">/opt/conda/envs/myenv/lib/python3.12/site-packages/jax/_src/</span><span style=\"color: #808000; text-decoration-color: #808000; font-weight: bold\">pjit.py</span>:<span style=\"color: #0000ff; text-decoration-color: #0000ff\">298</span> in <span style=\"color: #00ff00; text-decoration-color: #00ff00\">cache_miss</span>            <span style=\"color: #800000; text-decoration-color: #800000\">│</span>\n",
       "<span style=\"color: #800000; text-decoration-color: #800000\">│</span>                                                                                                  <span style=\"color: #800000; text-decoration-color: #800000\">│</span>\n",
       "<span style=\"color: #800000; text-decoration-color: #800000\">│</span>   <span style=\"color: #7f7f7f; text-decoration-color: #7f7f7f\"> 295 </span><span style=\"color: #7f7f7f; text-decoration-color: #7f7f7f\">  </span>                                                                                        <span style=\"color: #800000; text-decoration-color: #800000\">│</span>\n",
       "<span style=\"color: #800000; text-decoration-color: #800000\">│</span>   <span style=\"color: #7f7f7f; text-decoration-color: #7f7f7f\"> 296 </span><span style=\"color: #7f7f7f; text-decoration-color: #7f7f7f\">  </span><span style=\"color: #ff00ff; text-decoration-color: #ff00ff; font-weight: bold\">@api_boundary</span>                                                                           <span style=\"color: #800000; text-decoration-color: #800000\">│</span>\n",
       "<span style=\"color: #800000; text-decoration-color: #800000\">│</span>   <span style=\"color: #7f7f7f; text-decoration-color: #7f7f7f\"> 297 </span><span style=\"color: #7f7f7f; text-decoration-color: #7f7f7f\">  </span><span style=\"color: #0000ff; text-decoration-color: #0000ff\">def</span> <span style=\"color: #00ff00; text-decoration-color: #00ff00\">cache_miss</span>(*args, **kwargs):                                                        <span style=\"color: #800000; text-decoration-color: #800000\">│</span>\n",
       "<span style=\"color: #800000; text-decoration-color: #800000\">│</span> <span style=\"color: #800000; text-decoration-color: #800000\">❱ </span> 298 <span style=\"color: #7f7f7f; text-decoration-color: #7f7f7f\">│   </span>outs, out_flat, out_tree, args_flat, jaxpr, attrs_tracked = _python_pjit_helper(      <span style=\"color: #800000; text-decoration-color: #800000\">│</span>\n",
       "<span style=\"color: #800000; text-decoration-color: #800000\">│</span>   <span style=\"color: #7f7f7f; text-decoration-color: #7f7f7f\"> 299 </span><span style=\"color: #7f7f7f; text-decoration-color: #7f7f7f\">│   │   </span>jit_info, *args, **kwargs)                                                        <span style=\"color: #800000; text-decoration-color: #800000\">│</span>\n",
       "<span style=\"color: #800000; text-decoration-color: #800000\">│</span>   <span style=\"color: #7f7f7f; text-decoration-color: #7f7f7f\"> 300 </span><span style=\"color: #7f7f7f; text-decoration-color: #7f7f7f\">│   </span>executable = _read_most_recent_pjit_call_executable(jaxpr)                            <span style=\"color: #800000; text-decoration-color: #800000\">│</span>\n",
       "<span style=\"color: #800000; text-decoration-color: #800000\">│</span>   <span style=\"color: #7f7f7f; text-decoration-color: #7f7f7f\"> 301 </span><span style=\"color: #7f7f7f; text-decoration-color: #7f7f7f\">│   </span>maybe_fastpath_data = _get_fastpath_data(                                             <span style=\"color: #800000; text-decoration-color: #800000\">│</span>\n",
       "<span style=\"color: #800000; text-decoration-color: #800000\">│</span>                                                                                                  <span style=\"color: #800000; text-decoration-color: #800000\">│</span>\n",
       "<span style=\"color: #800000; text-decoration-color: #800000\">│</span> <span style=\"color: #bfbf7f; text-decoration-color: #bfbf7f\">/opt/conda/envs/myenv/lib/python3.12/site-packages/jax/_src/</span><span style=\"color: #808000; text-decoration-color: #808000; font-weight: bold\">pjit.py</span>:<span style=\"color: #0000ff; text-decoration-color: #0000ff\">176</span> in <span style=\"color: #00ff00; text-decoration-color: #00ff00\">_python_pjit_helper</span>   <span style=\"color: #800000; text-decoration-color: #800000\">│</span>\n",
       "<span style=\"color: #800000; text-decoration-color: #800000\">│</span>                                                                                                  <span style=\"color: #800000; text-decoration-color: #800000\">│</span>\n",
       "<span style=\"color: #800000; text-decoration-color: #800000\">│</span>   <span style=\"color: #7f7f7f; text-decoration-color: #7f7f7f\"> 173 </span><span style=\"color: #7f7f7f; text-decoration-color: #7f7f7f\">│   </span>args_flat = [*init_states, *args_flat]                                                <span style=\"color: #800000; text-decoration-color: #800000\">│</span>\n",
       "<span style=\"color: #800000; text-decoration-color: #800000\">│</span>   <span style=\"color: #7f7f7f; text-decoration-color: #7f7f7f\"> 174 </span><span style=\"color: #7f7f7f; text-decoration-color: #7f7f7f\">  </span>                                                                                        <span style=\"color: #800000; text-decoration-color: #800000\">│</span>\n",
       "<span style=\"color: #800000; text-decoration-color: #800000\">│</span>   <span style=\"color: #7f7f7f; text-decoration-color: #7f7f7f\"> 175 </span><span style=\"color: #7f7f7f; text-decoration-color: #7f7f7f\">  </span><span style=\"color: #0000ff; text-decoration-color: #0000ff\">try</span>:                                                                                    <span style=\"color: #800000; text-decoration-color: #800000\">│</span>\n",
       "<span style=\"color: #800000; text-decoration-color: #800000\">│</span> <span style=\"color: #800000; text-decoration-color: #800000\">❱ </span> 176 <span style=\"color: #7f7f7f; text-decoration-color: #7f7f7f\">│   </span>out_flat = pjit_p.bind(*args_flat, **params)                                          <span style=\"color: #800000; text-decoration-color: #800000\">│</span>\n",
       "<span style=\"color: #800000; text-decoration-color: #800000\">│</span>   <span style=\"color: #7f7f7f; text-decoration-color: #7f7f7f\"> 177 </span><span style=\"color: #7f7f7f; text-decoration-color: #7f7f7f\">  </span><span style=\"color: #0000ff; text-decoration-color: #0000ff\">except</span> pxla.DeviceAssignmentMismatchError <span style=\"color: #0000ff; text-decoration-color: #0000ff\">as</span> e:                                         <span style=\"color: #800000; text-decoration-color: #800000\">│</span>\n",
       "<span style=\"color: #800000; text-decoration-color: #800000\">│</span>   <span style=\"color: #7f7f7f; text-decoration-color: #7f7f7f\"> 178 </span><span style=\"color: #7f7f7f; text-decoration-color: #7f7f7f\">│   </span>fails, = e.args                                                                       <span style=\"color: #800000; text-decoration-color: #800000\">│</span>\n",
       "<span style=\"color: #800000; text-decoration-color: #800000\">│</span>   <span style=\"color: #7f7f7f; text-decoration-color: #7f7f7f\"> 179 </span><span style=\"color: #7f7f7f; text-decoration-color: #7f7f7f\">│   </span>api_name = <span style=\"color: #808000; text-decoration-color: #808000\">'jit'</span> <span style=\"color: #0000ff; text-decoration-color: #0000ff\">if</span> params[<span style=\"color: #808000; text-decoration-color: #808000\">'resource_env'</span>] <span style=\"color: #ff00ff; text-decoration-color: #ff00ff\">is</span> <span style=\"color: #0000ff; text-decoration-color: #0000ff\">None</span> <span style=\"color: #0000ff; text-decoration-color: #0000ff\">else</span> <span style=\"color: #808000; text-decoration-color: #808000\">'pjit'</span>                        <span style=\"color: #800000; text-decoration-color: #800000\">│</span>\n",
       "<span style=\"color: #800000; text-decoration-color: #800000\">│</span>                                                                                                  <span style=\"color: #800000; text-decoration-color: #800000\">│</span>\n",
       "<span style=\"color: #800000; text-decoration-color: #800000\">│</span> <span style=\"color: #bfbf7f; text-decoration-color: #bfbf7f\">/opt/conda/envs/myenv/lib/python3.12/site-packages/jax/_src/</span><span style=\"color: #808000; text-decoration-color: #808000; font-weight: bold\">core.py</span>:<span style=\"color: #0000ff; text-decoration-color: #0000ff\">2788</span> in <span style=\"color: #00ff00; text-decoration-color: #00ff00\">bind</span>                 <span style=\"color: #800000; text-decoration-color: #800000\">│</span>\n",
       "<span style=\"color: #800000; text-decoration-color: #800000\">│</span>                                                                                                  <span style=\"color: #800000; text-decoration-color: #800000\">│</span>\n",
       "<span style=\"color: #800000; text-decoration-color: #800000\">│</span>   <span style=\"color: #7f7f7f; text-decoration-color: #7f7f7f\">2785 </span><span style=\"color: #7f7f7f; text-decoration-color: #7f7f7f\">│   │   │   │   │   </span>default=<span style=\"color: #0000ff; text-decoration-color: #0000ff\">None</span>, key=<span style=\"color: #0000ff; text-decoration-color: #0000ff\">lambda</span> t: <span style=\"color: #00ffff; text-decoration-color: #00ffff\">getattr</span>(t, <span style=\"color: #808000; text-decoration-color: #808000\">'level'</span>, -<span style=\"color: #0000ff; text-decoration-color: #0000ff\">1</span>))                  <span style=\"color: #800000; text-decoration-color: #800000\">│</span>\n",
       "<span style=\"color: #800000; text-decoration-color: #800000\">│</span>   <span style=\"color: #7f7f7f; text-decoration-color: #7f7f7f\">2786 </span><span style=\"color: #7f7f7f; text-decoration-color: #7f7f7f\">│   </span>top_trace = (top_trace <span style=\"color: #0000ff; text-decoration-color: #0000ff\">if</span> <span style=\"color: #ff00ff; text-decoration-color: #ff00ff\">not</span> axis_main <span style=\"color: #ff00ff; text-decoration-color: #ff00ff\">or</span> axis_main.level &lt; top_trace.level          <span style=\"color: #800000; text-decoration-color: #800000\">│</span>\n",
       "<span style=\"color: #800000; text-decoration-color: #800000\">│</span>   <span style=\"color: #7f7f7f; text-decoration-color: #7f7f7f\">2787 </span><span style=\"color: #7f7f7f; text-decoration-color: #7f7f7f\">│   │   │   │    </span><span style=\"color: #0000ff; text-decoration-color: #0000ff\">else</span> axis_main.with_cur_sublevel())                                      <span style=\"color: #800000; text-decoration-color: #800000\">│</span>\n",
       "<span style=\"color: #800000; text-decoration-color: #800000\">│</span> <span style=\"color: #800000; text-decoration-color: #800000\">❱ </span>2788 <span style=\"color: #7f7f7f; text-decoration-color: #7f7f7f\">│   </span><span style=\"color: #0000ff; text-decoration-color: #0000ff\">return</span> <span style=\"color: #00ffff; text-decoration-color: #00ffff\">self</span>.bind_with_trace(top_trace, args, params)                                  <span style=\"color: #800000; text-decoration-color: #800000\">│</span>\n",
       "<span style=\"color: #800000; text-decoration-color: #800000\">│</span>   <span style=\"color: #7f7f7f; text-decoration-color: #7f7f7f\">2789 </span>                                                                                          <span style=\"color: #800000; text-decoration-color: #800000\">│</span>\n",
       "<span style=\"color: #800000; text-decoration-color: #800000\">│</span>   <span style=\"color: #7f7f7f; text-decoration-color: #7f7f7f\">2790 </span>                                                                                          <span style=\"color: #800000; text-decoration-color: #800000\">│</span>\n",
       "<span style=\"color: #800000; text-decoration-color: #800000\">│</span>   <span style=\"color: #7f7f7f; text-decoration-color: #7f7f7f\">2791 # ------------------- Jaxpr checking -------------------</span>                                  <span style=\"color: #800000; text-decoration-color: #800000\">│</span>\n",
       "<span style=\"color: #800000; text-decoration-color: #800000\">│</span>                                                                                                  <span style=\"color: #800000; text-decoration-color: #800000\">│</span>\n",
       "<span style=\"color: #800000; text-decoration-color: #800000\">│</span> <span style=\"color: #bfbf7f; text-decoration-color: #bfbf7f\">/opt/conda/envs/myenv/lib/python3.12/site-packages/jax/_src/</span><span style=\"color: #808000; text-decoration-color: #808000; font-weight: bold\">core.py</span>:<span style=\"color: #0000ff; text-decoration-color: #0000ff\">425</span> in <span style=\"color: #00ff00; text-decoration-color: #00ff00\">bind_with_trace</span>       <span style=\"color: #800000; text-decoration-color: #800000\">│</span>\n",
       "<span style=\"color: #800000; text-decoration-color: #800000\">│</span>                                                                                                  <span style=\"color: #800000; text-decoration-color: #800000\">│</span>\n",
       "<span style=\"color: #800000; text-decoration-color: #800000\">│</span>   <span style=\"color: #7f7f7f; text-decoration-color: #7f7f7f\"> 422 </span><span style=\"color: #7f7f7f; text-decoration-color: #7f7f7f\">│   </span><span style=\"color: #0000ff; text-decoration-color: #0000ff\">return</span> <span style=\"color: #00ffff; text-decoration-color: #00ffff\">self</span>.bind_with_trace(find_top_trace(args), args, params)                       <span style=\"color: #800000; text-decoration-color: #800000\">│</span>\n",
       "<span style=\"color: #800000; text-decoration-color: #800000\">│</span>   <span style=\"color: #7f7f7f; text-decoration-color: #7f7f7f\"> 423 </span><span style=\"color: #7f7f7f; text-decoration-color: #7f7f7f\">  </span>                                                                                        <span style=\"color: #800000; text-decoration-color: #800000\">│</span>\n",
       "<span style=\"color: #800000; text-decoration-color: #800000\">│</span>   <span style=\"color: #7f7f7f; text-decoration-color: #7f7f7f\"> 424 </span><span style=\"color: #7f7f7f; text-decoration-color: #7f7f7f\">  </span><span style=\"color: #0000ff; text-decoration-color: #0000ff\">def</span> <span style=\"color: #00ff00; text-decoration-color: #00ff00\">bind_with_trace</span>(<span style=\"color: #00ffff; text-decoration-color: #00ffff\">self</span>, trace, args, params):                                         <span style=\"color: #800000; text-decoration-color: #800000\">│</span>\n",
       "<span style=\"color: #800000; text-decoration-color: #800000\">│</span> <span style=\"color: #800000; text-decoration-color: #800000\">❱ </span> 425 <span style=\"color: #7f7f7f; text-decoration-color: #7f7f7f\">│   </span>out = trace.process_primitive(<span style=\"color: #00ffff; text-decoration-color: #00ffff\">self</span>, <span style=\"color: #00ffff; text-decoration-color: #00ffff\">map</span>(trace.full_raise, args), params)              <span style=\"color: #800000; text-decoration-color: #800000\">│</span>\n",
       "<span style=\"color: #800000; text-decoration-color: #800000\">│</span>   <span style=\"color: #7f7f7f; text-decoration-color: #7f7f7f\"> 426 </span><span style=\"color: #7f7f7f; text-decoration-color: #7f7f7f\">│   </span><span style=\"color: #0000ff; text-decoration-color: #0000ff\">return</span> <span style=\"color: #00ffff; text-decoration-color: #00ffff\">map</span>(full_lower, out) <span style=\"color: #0000ff; text-decoration-color: #0000ff\">if</span> <span style=\"color: #00ffff; text-decoration-color: #00ffff\">self</span>.multiple_results <span style=\"color: #0000ff; text-decoration-color: #0000ff\">else</span> full_lower(out)             <span style=\"color: #800000; text-decoration-color: #800000\">│</span>\n",
       "<span style=\"color: #800000; text-decoration-color: #800000\">│</span>   <span style=\"color: #7f7f7f; text-decoration-color: #7f7f7f\"> 427 </span><span style=\"color: #7f7f7f; text-decoration-color: #7f7f7f\">  </span>                                                                                        <span style=\"color: #800000; text-decoration-color: #800000\">│</span>\n",
       "<span style=\"color: #800000; text-decoration-color: #800000\">│</span>   <span style=\"color: #7f7f7f; text-decoration-color: #7f7f7f\"> 428 </span><span style=\"color: #7f7f7f; text-decoration-color: #7f7f7f\">  </span><span style=\"color: #0000ff; text-decoration-color: #0000ff\">def</span> <span style=\"color: #00ff00; text-decoration-color: #00ff00\">def_impl</span>(<span style=\"color: #00ffff; text-decoration-color: #00ffff\">self</span>, impl):                                                               <span style=\"color: #800000; text-decoration-color: #800000\">│</span>\n",
       "<span style=\"color: #800000; text-decoration-color: #800000\">│</span>                                                                                                  <span style=\"color: #800000; text-decoration-color: #800000\">│</span>\n",
       "<span style=\"color: #800000; text-decoration-color: #800000\">│</span> <span style=\"color: #bfbf7f; text-decoration-color: #bfbf7f\">/opt/conda/envs/myenv/lib/python3.12/site-packages/jax/_src/</span><span style=\"color: #808000; text-decoration-color: #808000; font-weight: bold\">core.py</span>:<span style=\"color: #0000ff; text-decoration-color: #0000ff\">913</span> in <span style=\"color: #00ff00; text-decoration-color: #00ff00\">process_primitive</span>     <span style=\"color: #800000; text-decoration-color: #800000\">│</span>\n",
       "<span style=\"color: #800000; text-decoration-color: #800000\">│</span>                                                                                                  <span style=\"color: #800000; text-decoration-color: #800000\">│</span>\n",
       "<span style=\"color: #800000; text-decoration-color: #800000\">│</span>   <span style=\"color: #7f7f7f; text-decoration-color: #7f7f7f\"> 910 </span><span style=\"color: #7f7f7f; text-decoration-color: #7f7f7f\">  </span>lift = sublift = pure                                                                   <span style=\"color: #800000; text-decoration-color: #800000\">│</span>\n",
       "<span style=\"color: #800000; text-decoration-color: #800000\">│</span>   <span style=\"color: #7f7f7f; text-decoration-color: #7f7f7f\"> 911 </span><span style=\"color: #7f7f7f; text-decoration-color: #7f7f7f\">  </span>                                                                                        <span style=\"color: #800000; text-decoration-color: #800000\">│</span>\n",
       "<span style=\"color: #800000; text-decoration-color: #800000\">│</span>   <span style=\"color: #7f7f7f; text-decoration-color: #7f7f7f\"> 912 </span><span style=\"color: #7f7f7f; text-decoration-color: #7f7f7f\">  </span><span style=\"color: #0000ff; text-decoration-color: #0000ff\">def</span> <span style=\"color: #00ff00; text-decoration-color: #00ff00\">process_primitive</span>(<span style=\"color: #00ffff; text-decoration-color: #00ffff\">self</span>, primitive, tracers, params):                                <span style=\"color: #800000; text-decoration-color: #800000\">│</span>\n",
       "<span style=\"color: #800000; text-decoration-color: #800000\">│</span> <span style=\"color: #800000; text-decoration-color: #800000\">❱ </span> 913 <span style=\"color: #7f7f7f; text-decoration-color: #7f7f7f\">│   </span><span style=\"color: #0000ff; text-decoration-color: #0000ff\">return</span> primitive.impl(*tracers, **params)                                             <span style=\"color: #800000; text-decoration-color: #800000\">│</span>\n",
       "<span style=\"color: #800000; text-decoration-color: #800000\">│</span>   <span style=\"color: #7f7f7f; text-decoration-color: #7f7f7f\"> 914 </span><span style=\"color: #7f7f7f; text-decoration-color: #7f7f7f\">  </span>                                                                                        <span style=\"color: #800000; text-decoration-color: #800000\">│</span>\n",
       "<span style=\"color: #800000; text-decoration-color: #800000\">│</span>   <span style=\"color: #7f7f7f; text-decoration-color: #7f7f7f\"> 915 </span><span style=\"color: #7f7f7f; text-decoration-color: #7f7f7f\">  </span><span style=\"color: #0000ff; text-decoration-color: #0000ff\">def</span> <span style=\"color: #00ff00; text-decoration-color: #00ff00\">process_call</span>(<span style=\"color: #00ffff; text-decoration-color: #00ffff\">self</span>, primitive, f, tracers, params):                                  <span style=\"color: #800000; text-decoration-color: #800000\">│</span>\n",
       "<span style=\"color: #800000; text-decoration-color: #800000\">│</span>   <span style=\"color: #7f7f7f; text-decoration-color: #7f7f7f\"> 916 </span><span style=\"color: #7f7f7f; text-decoration-color: #7f7f7f\">│   </span><span style=\"color: #0000ff; text-decoration-color: #0000ff\">return</span> primitive.impl(f, *tracers, **params)                                          <span style=\"color: #800000; text-decoration-color: #800000\">│</span>\n",
       "<span style=\"color: #800000; text-decoration-color: #800000\">│</span>                                                                                                  <span style=\"color: #800000; text-decoration-color: #800000\">│</span>\n",
       "<span style=\"color: #800000; text-decoration-color: #800000\">│</span> <span style=\"color: #bfbf7f; text-decoration-color: #bfbf7f\">/opt/conda/envs/myenv/lib/python3.12/site-packages/jax/_src/</span><span style=\"color: #808000; text-decoration-color: #808000; font-weight: bold\">pjit.py</span>:<span style=\"color: #0000ff; text-decoration-color: #0000ff\">1488</span> in <span style=\"color: #00ff00; text-decoration-color: #00ff00\">_pjit_call_impl</span>      <span style=\"color: #800000; text-decoration-color: #800000\">│</span>\n",
       "<span style=\"color: #800000; text-decoration-color: #800000\">│</span>                                                                                                  <span style=\"color: #800000; text-decoration-color: #800000\">│</span>\n",
       "<span style=\"color: #800000; text-decoration-color: #800000\">│</span>   <span style=\"color: #7f7f7f; text-decoration-color: #7f7f7f\">1485 </span><span style=\"color: #7f7f7f; text-decoration-color: #7f7f7f\">  </span>has_explicit_sharding = _pjit_explicit_sharding(                                        <span style=\"color: #800000; text-decoration-color: #800000\">│</span>\n",
       "<span style=\"color: #800000; text-decoration-color: #800000\">│</span>   <span style=\"color: #7f7f7f; text-decoration-color: #7f7f7f\">1486 </span><span style=\"color: #7f7f7f; text-decoration-color: #7f7f7f\">│     </span>in_shardings, out_shardings, <span style=\"color: #0000ff; text-decoration-color: #0000ff\">None</span>, <span style=\"color: #0000ff; text-decoration-color: #0000ff\">None</span>)                                            <span style=\"color: #800000; text-decoration-color: #800000\">│</span>\n",
       "<span style=\"color: #800000; text-decoration-color: #800000\">│</span>   <span style=\"color: #7f7f7f; text-decoration-color: #7f7f7f\">1487 </span><span style=\"color: #7f7f7f; text-decoration-color: #7f7f7f\">  </span><span style=\"color: #0000ff; text-decoration-color: #0000ff\">if</span> xla_extension_version &gt;= <span style=\"color: #0000ff; text-decoration-color: #0000ff\">226</span>:                                                        <span style=\"color: #800000; text-decoration-color: #800000\">│</span>\n",
       "<span style=\"color: #800000; text-decoration-color: #800000\">│</span> <span style=\"color: #800000; text-decoration-color: #800000\">❱ </span>1488 <span style=\"color: #7f7f7f; text-decoration-color: #7f7f7f\">│   </span><span style=\"color: #0000ff; text-decoration-color: #0000ff\">return</span> xc._xla.pjit(                                                                  <span style=\"color: #800000; text-decoration-color: #800000\">│</span>\n",
       "<span style=\"color: #800000; text-decoration-color: #800000\">│</span>   <span style=\"color: #7f7f7f; text-decoration-color: #7f7f7f\">1489 </span><span style=\"color: #7f7f7f; text-decoration-color: #7f7f7f\">│   │   </span>name, f, call_impl_cache_miss, [], [], donated_argnums,                           <span style=\"color: #800000; text-decoration-color: #800000\">│</span>\n",
       "<span style=\"color: #800000; text-decoration-color: #800000\">│</span>   <span style=\"color: #7f7f7f; text-decoration-color: #7f7f7f\">1490 </span><span style=\"color: #7f7f7f; text-decoration-color: #7f7f7f\">│   │   </span>tree_util.dispatch_registry,                                                      <span style=\"color: #800000; text-decoration-color: #800000\">│</span>\n",
       "<span style=\"color: #800000; text-decoration-color: #800000\">│</span>   <span style=\"color: #7f7f7f; text-decoration-color: #7f7f7f\">1491 </span><span style=\"color: #7f7f7f; text-decoration-color: #7f7f7f\">│   │   </span>pxla.shard_arg <span style=\"color: #0000ff; text-decoration-color: #0000ff\">if</span> xla_extension_version &gt;= <span style=\"color: #0000ff; text-decoration-color: #0000ff\">229</span> <span style=\"color: #0000ff; text-decoration-color: #0000ff\">else</span> pxla.temp_shard_arg,  <span style=\"color: #7f7f7f; text-decoration-color: #7f7f7f\"># type</span>  <span style=\"color: #800000; text-decoration-color: #800000\">│</span>\n",
       "<span style=\"color: #800000; text-decoration-color: #800000\">│</span>                                                                                                  <span style=\"color: #800000; text-decoration-color: #800000\">│</span>\n",
       "<span style=\"color: #800000; text-decoration-color: #800000\">│</span> <span style=\"color: #bfbf7f; text-decoration-color: #bfbf7f\">/opt/conda/envs/myenv/lib/python3.12/site-packages/jax/_src/</span><span style=\"color: #808000; text-decoration-color: #808000; font-weight: bold\">pjit.py</span>:<span style=\"color: #0000ff; text-decoration-color: #0000ff\">1471</span> in <span style=\"color: #00ff00; text-decoration-color: #00ff00\">call_impl_cache_miss</span> <span style=\"color: #800000; text-decoration-color: #800000\">│</span>\n",
       "<span style=\"color: #800000; text-decoration-color: #800000\">│</span>                                                                                                  <span style=\"color: #800000; text-decoration-color: #800000\">│</span>\n",
       "<span style=\"color: #800000; text-decoration-color: #800000\">│</span>   <span style=\"color: #7f7f7f; text-decoration-color: #7f7f7f\">1468 </span><span style=\"color: #7f7f7f; text-decoration-color: #7f7f7f\">│   │   │   │   │   </span>in_shardings, out_shardings, resource_env,                            <span style=\"color: #800000; text-decoration-color: #800000\">│</span>\n",
       "<span style=\"color: #800000; text-decoration-color: #800000\">│</span>   <span style=\"color: #7f7f7f; text-decoration-color: #7f7f7f\">1469 </span><span style=\"color: #7f7f7f; text-decoration-color: #7f7f7f\">│   │   │   │   │   </span>donated_invars, name, keep_unused, inline):                           <span style=\"color: #800000; text-decoration-color: #800000\">│</span>\n",
       "<span style=\"color: #800000; text-decoration-color: #800000\">│</span>   <span style=\"color: #7f7f7f; text-decoration-color: #7f7f7f\">1470 </span><span style=\"color: #7f7f7f; text-decoration-color: #7f7f7f\">  </span><span style=\"color: #0000ff; text-decoration-color: #0000ff\">def</span> <span style=\"color: #00ff00; text-decoration-color: #00ff00\">call_impl_cache_miss</span>(*args_, **kwargs_):                                            <span style=\"color: #800000; text-decoration-color: #800000\">│</span>\n",
       "<span style=\"color: #800000; text-decoration-color: #800000\">│</span> <span style=\"color: #800000; text-decoration-color: #800000\">❱ </span>1471 <span style=\"color: #7f7f7f; text-decoration-color: #7f7f7f\">│   </span>out_flat, compiled = _pjit_call_impl_python(                                          <span style=\"color: #800000; text-decoration-color: #800000\">│</span>\n",
       "<span style=\"color: #800000; text-decoration-color: #800000\">│</span>   <span style=\"color: #7f7f7f; text-decoration-color: #7f7f7f\">1472 </span><span style=\"color: #7f7f7f; text-decoration-color: #7f7f7f\">│   │   </span>*args, jaxpr=jaxpr, in_shardings=in_shardings,                                    <span style=\"color: #800000; text-decoration-color: #800000\">│</span>\n",
       "<span style=\"color: #800000; text-decoration-color: #800000\">│</span>   <span style=\"color: #7f7f7f; text-decoration-color: #7f7f7f\">1473 </span><span style=\"color: #7f7f7f; text-decoration-color: #7f7f7f\">│   │   </span>out_shardings=out_shardings, resource_env=resource_env,                           <span style=\"color: #800000; text-decoration-color: #800000\">│</span>\n",
       "<span style=\"color: #800000; text-decoration-color: #800000\">│</span>   <span style=\"color: #7f7f7f; text-decoration-color: #7f7f7f\">1474 </span><span style=\"color: #7f7f7f; text-decoration-color: #7f7f7f\">│   │   </span>donated_invars=donated_invars, name=name, keep_unused=keep_unused,                <span style=\"color: #800000; text-decoration-color: #800000\">│</span>\n",
       "<span style=\"color: #800000; text-decoration-color: #800000\">│</span>                                                                                                  <span style=\"color: #800000; text-decoration-color: #800000\">│</span>\n",
       "<span style=\"color: #800000; text-decoration-color: #800000\">│</span> <span style=\"color: #bfbf7f; text-decoration-color: #bfbf7f\">/opt/conda/envs/myenv/lib/python3.12/site-packages/jax/_src/</span><span style=\"color: #808000; text-decoration-color: #808000; font-weight: bold\">pjit.py</span>:<span style=\"color: #0000ff; text-decoration-color: #0000ff\">1427</span> in                      <span style=\"color: #800000; text-decoration-color: #800000\">│</span>\n",
       "<span style=\"color: #800000; text-decoration-color: #800000\">│</span> <span style=\"color: #00ff00; text-decoration-color: #00ff00\">_pjit_call_impl_python</span>                                                                           <span style=\"color: #800000; text-decoration-color: #800000\">│</span>\n",
       "<span style=\"color: #800000; text-decoration-color: #800000\">│</span>                                                                                                  <span style=\"color: #800000; text-decoration-color: #800000\">│</span>\n",
       "<span style=\"color: #800000; text-decoration-color: #800000\">│</span>   <span style=\"color: #7f7f7f; text-decoration-color: #7f7f7f\">1424 </span><span style=\"color: #7f7f7f; text-decoration-color: #7f7f7f\">│   │   │   │   │   │     </span>(<span style=\"color: #808000; text-decoration-color: #808000\">\"abstract args\"</span>, <span style=\"color: #00ffff; text-decoration-color: #00ffff\">map</span>(xla.abstractify, args)),                  <span style=\"color: #800000; text-decoration-color: #800000\">│</span>\n",
       "<span style=\"color: #800000; text-decoration-color: #800000\">│</span>   <span style=\"color: #7f7f7f; text-decoration-color: #7f7f7f\">1425 </span><span style=\"color: #7f7f7f; text-decoration-color: #7f7f7f\">│   │   │   │   │   │     </span>(<span style=\"color: #808000; text-decoration-color: #808000\">\"fingerprint\"</span>, fingerprint))                                   <span style=\"color: #800000; text-decoration-color: #800000\">│</span>\n",
       "<span style=\"color: #800000; text-decoration-color: #800000\">│</span>   <span style=\"color: #7f7f7f; text-decoration-color: #7f7f7f\">1426 </span><span style=\"color: #7f7f7f; text-decoration-color: #7f7f7f\">  </span><span style=\"color: #0000ff; text-decoration-color: #0000ff\">try</span>:                                                                                    <span style=\"color: #800000; text-decoration-color: #800000\">│</span>\n",
       "<span style=\"color: #800000; text-decoration-color: #800000\">│</span> <span style=\"color: #800000; text-decoration-color: #800000\">❱ </span>1427 <span style=\"color: #7f7f7f; text-decoration-color: #7f7f7f\">│   </span><span style=\"color: #0000ff; text-decoration-color: #0000ff\">return</span> compiled.unsafe_call(*args), compiled                                          <span style=\"color: #800000; text-decoration-color: #800000\">│</span>\n",
       "<span style=\"color: #800000; text-decoration-color: #800000\">│</span>   <span style=\"color: #7f7f7f; text-decoration-color: #7f7f7f\">1428 </span><span style=\"color: #7f7f7f; text-decoration-color: #7f7f7f\">  </span><span style=\"color: #0000ff; text-decoration-color: #0000ff\">except</span> <span style=\"color: #00ffff; text-decoration-color: #00ffff\">FloatingPointError</span> <span style=\"color: #0000ff; text-decoration-color: #0000ff\">as</span> e:                                                         <span style=\"color: #800000; text-decoration-color: #800000\">│</span>\n",
       "<span style=\"color: #800000; text-decoration-color: #800000\">│</span>   <span style=\"color: #7f7f7f; text-decoration-color: #7f7f7f\">1429 </span><span style=\"color: #7f7f7f; text-decoration-color: #7f7f7f\">│   </span><span style=\"color: #0000ff; text-decoration-color: #0000ff\">assert</span> config.debug_nans.value <span style=\"color: #ff00ff; text-decoration-color: #ff00ff\">or</span> config.debug_infs.value  <span style=\"color: #7f7f7f; text-decoration-color: #7f7f7f\"># compiled_fun can only r</span>  <span style=\"color: #800000; text-decoration-color: #800000\">│</span>\n",
       "<span style=\"color: #800000; text-decoration-color: #800000\">│</span>   <span style=\"color: #7f7f7f; text-decoration-color: #7f7f7f\">1430 </span>                                                                                          <span style=\"color: #800000; text-decoration-color: #800000\">│</span>\n",
       "<span style=\"color: #800000; text-decoration-color: #800000\">│</span>                                                                                                  <span style=\"color: #800000; text-decoration-color: #800000\">│</span>\n",
       "<span style=\"color: #800000; text-decoration-color: #800000\">│</span> <span style=\"color: #bfbf7f; text-decoration-color: #bfbf7f\">/opt/conda/envs/myenv/lib/python3.12/site-packages/jax/_src/</span><span style=\"color: #808000; text-decoration-color: #808000; font-weight: bold\">profiler.py</span>:<span style=\"color: #0000ff; text-decoration-color: #0000ff\">335</span> in <span style=\"color: #00ff00; text-decoration-color: #00ff00\">wrapper</span>           <span style=\"color: #800000; text-decoration-color: #800000\">│</span>\n",
       "<span style=\"color: #800000; text-decoration-color: #800000\">│</span>                                                                                                  <span style=\"color: #800000; text-decoration-color: #800000\">│</span>\n",
       "<span style=\"color: #800000; text-decoration-color: #800000\">│</span>   <span style=\"color: #7f7f7f; text-decoration-color: #7f7f7f\">332 </span><span style=\"color: #7f7f7f; text-decoration-color: #7f7f7f\">  </span><span style=\"color: #ff00ff; text-decoration-color: #ff00ff; font-weight: bold\">@wraps</span>(func)                                                                             <span style=\"color: #800000; text-decoration-color: #800000\">│</span>\n",
       "<span style=\"color: #800000; text-decoration-color: #800000\">│</span>   <span style=\"color: #7f7f7f; text-decoration-color: #7f7f7f\">333 </span><span style=\"color: #7f7f7f; text-decoration-color: #7f7f7f\">  </span><span style=\"color: #0000ff; text-decoration-color: #0000ff\">def</span> <span style=\"color: #00ff00; text-decoration-color: #00ff00\">wrapper</span>(*args, **kwargs):                                                            <span style=\"color: #800000; text-decoration-color: #800000\">│</span>\n",
       "<span style=\"color: #800000; text-decoration-color: #800000\">│</span>   <span style=\"color: #7f7f7f; text-decoration-color: #7f7f7f\">334 </span><span style=\"color: #7f7f7f; text-decoration-color: #7f7f7f\">│   </span><span style=\"color: #0000ff; text-decoration-color: #0000ff\">with</span> TraceAnnotation(name, **decorator_kwargs):                                        <span style=\"color: #800000; text-decoration-color: #800000\">│</span>\n",
       "<span style=\"color: #800000; text-decoration-color: #800000\">│</span> <span style=\"color: #800000; text-decoration-color: #800000\">❱ </span>335 <span style=\"color: #7f7f7f; text-decoration-color: #7f7f7f\">│     </span><span style=\"color: #0000ff; text-decoration-color: #0000ff\">return</span> func(*args, **kwargs)                                                         <span style=\"color: #800000; text-decoration-color: #800000\">│</span>\n",
       "<span style=\"color: #800000; text-decoration-color: #800000\">│</span>   <span style=\"color: #7f7f7f; text-decoration-color: #7f7f7f\">336 </span><span style=\"color: #7f7f7f; text-decoration-color: #7f7f7f\">│   </span><span style=\"color: #0000ff; text-decoration-color: #0000ff\">return</span> wrapper                                                                         <span style=\"color: #800000; text-decoration-color: #800000\">│</span>\n",
       "<span style=\"color: #800000; text-decoration-color: #800000\">│</span>   <span style=\"color: #7f7f7f; text-decoration-color: #7f7f7f\">337 </span><span style=\"color: #7f7f7f; text-decoration-color: #7f7f7f\">  </span><span style=\"color: #0000ff; text-decoration-color: #0000ff\">return</span> wrapper                                                                           <span style=\"color: #800000; text-decoration-color: #800000\">│</span>\n",
       "<span style=\"color: #800000; text-decoration-color: #800000\">│</span>   <span style=\"color: #7f7f7f; text-decoration-color: #7f7f7f\">338 </span>                                                                                           <span style=\"color: #800000; text-decoration-color: #800000\">│</span>\n",
       "<span style=\"color: #800000; text-decoration-color: #800000\">│</span>                                                                                                  <span style=\"color: #800000; text-decoration-color: #800000\">│</span>\n",
       "<span style=\"color: #800000; text-decoration-color: #800000\">│</span> <span style=\"color: #bfbf7f; text-decoration-color: #bfbf7f\">/opt/conda/envs/myenv/lib/python3.12/site-packages/jax/_src/interpreters/</span><span style=\"color: #808000; text-decoration-color: #808000; font-weight: bold\">pxla.py</span>:<span style=\"color: #0000ff; text-decoration-color: #0000ff\">1213</span> in         <span style=\"color: #800000; text-decoration-color: #800000\">│</span>\n",
       "<span style=\"color: #800000; text-decoration-color: #800000\">│</span> <span style=\"color: #00ff00; text-decoration-color: #00ff00\">__call__</span>                                                                                         <span style=\"color: #800000; text-decoration-color: #800000\">│</span>\n",
       "<span style=\"color: #800000; text-decoration-color: #800000\">│</span>                                                                                                  <span style=\"color: #800000; text-decoration-color: #800000\">│</span>\n",
       "<span style=\"color: #800000; text-decoration-color: #800000\">│</span>   <span style=\"color: #7f7f7f; text-decoration-color: #7f7f7f\">1210 </span><span style=\"color: #7f7f7f; text-decoration-color: #7f7f7f\">│     </span>sharded_runtime_token = results.consume_token()                                     <span style=\"color: #800000; text-decoration-color: #800000\">│</span>\n",
       "<span style=\"color: #800000; text-decoration-color: #800000\">│</span>   <span style=\"color: #7f7f7f; text-decoration-color: #7f7f7f\">1211 </span><span style=\"color: #7f7f7f; text-decoration-color: #7f7f7f\">│     </span><span style=\"color: #00ffff; text-decoration-color: #00ffff\">self</span>._handle_token_bufs(result_token_bufs, sharded_runtime_token)                   <span style=\"color: #800000; text-decoration-color: #800000\">│</span>\n",
       "<span style=\"color: #800000; text-decoration-color: #800000\">│</span>   <span style=\"color: #7f7f7f; text-decoration-color: #7f7f7f\">1212 </span><span style=\"color: #7f7f7f; text-decoration-color: #7f7f7f\">│   </span><span style=\"color: #0000ff; text-decoration-color: #0000ff\">else</span>:                                                                                 <span style=\"color: #800000; text-decoration-color: #800000\">│</span>\n",
       "<span style=\"color: #800000; text-decoration-color: #800000\">│</span> <span style=\"color: #800000; text-decoration-color: #800000\">❱ </span>1213 <span style=\"color: #7f7f7f; text-decoration-color: #7f7f7f\">│     </span>results = <span style=\"color: #00ffff; text-decoration-color: #00ffff\">self</span>.xla_executable.execute_sharded(input_bufs)                           <span style=\"color: #800000; text-decoration-color: #800000\">│</span>\n",
       "<span style=\"color: #800000; text-decoration-color: #800000\">│</span>   <span style=\"color: #7f7f7f; text-decoration-color: #7f7f7f\">1214 </span><span style=\"color: #7f7f7f; text-decoration-color: #7f7f7f\">│   </span><span style=\"color: #0000ff; text-decoration-color: #0000ff\">if</span> dispatch.needs_check_special():                                                    <span style=\"color: #800000; text-decoration-color: #800000\">│</span>\n",
       "<span style=\"color: #800000; text-decoration-color: #800000\">│</span>   <span style=\"color: #7f7f7f; text-decoration-color: #7f7f7f\">1215 </span><span style=\"color: #7f7f7f; text-decoration-color: #7f7f7f\">│     </span>out_arrays = results.disassemble_into_single_device_arrays()                        <span style=\"color: #800000; text-decoration-color: #800000\">│</span>\n",
       "<span style=\"color: #800000; text-decoration-color: #800000\">│</span>   <span style=\"color: #7f7f7f; text-decoration-color: #7f7f7f\">1216 </span><span style=\"color: #7f7f7f; text-decoration-color: #7f7f7f\">│     </span><span style=\"color: #0000ff; text-decoration-color: #0000ff\">for</span> arrays <span style=\"color: #ff00ff; text-decoration-color: #ff00ff\">in</span> out_arrays:                                                           <span style=\"color: #800000; text-decoration-color: #800000\">│</span>\n",
       "<span style=\"color: #800000; text-decoration-color: #800000\">╰──────────────────────────────────────────────────────────────────────────────────────────────────╯</span>\n",
       "<span style=\"color: #ff0000; text-decoration-color: #ff0000; font-weight: bold\">KeyboardInterrupt</span>\n",
       "</pre>\n"
      ],
      "text/plain": [
       "\u001b[31m╭─\u001b[0m\u001b[31m──────────────────────────────\u001b[0m\u001b[31m \u001b[0m\u001b[1;31mTraceback \u001b[0m\u001b[1;2;31m(most recent call last)\u001b[0m\u001b[31m \u001b[0m\u001b[31m───────────────────────────────\u001b[0m\u001b[31m─╮\u001b[0m\n",
       "\u001b[31m│\u001b[0m in \u001b[92m<module>\u001b[0m:\u001b[94m2\u001b[0m                                                                                    \u001b[31m│\u001b[0m\n",
       "\u001b[31m│\u001b[0m                                                                                                  \u001b[31m│\u001b[0m\n",
       "\u001b[31m│\u001b[0m   \u001b[2m 1 \u001b[0m\u001b[96mprint\u001b[0m(\u001b[33m'\u001b[0m\u001b[33mGenerating...\u001b[0m\u001b[33m'\u001b[0m)                                                                      \u001b[31m│\u001b[0m\n",
       "\u001b[31m│\u001b[0m \u001b[31m❱ \u001b[0m 2 inference.sample_new(                                                                       \u001b[31m│\u001b[0m\n",
       "\u001b[31m│\u001b[0m   \u001b[2m 3 \u001b[0m\u001b[2m│   \u001b[0mn_samples,                                                                              \u001b[31m│\u001b[0m\n",
       "\u001b[31m│\u001b[0m   \u001b[2m 4 \u001b[0m\u001b[2m│   \u001b[0mbatch_size,                                                                             \u001b[31m│\u001b[0m\n",
       "\u001b[31m│\u001b[0m   \u001b[2m 5 \u001b[0m\u001b[2m│   \u001b[0mds,                                                                                     \u001b[31m│\u001b[0m\n",
       "\u001b[31m│\u001b[0m                                                                                                  \u001b[31m│\u001b[0m\n",
       "\u001b[31m│\u001b[0m \u001b[2;33m/app/lob/\u001b[0m\u001b[1;33minference_no_errcorr.py\u001b[0m:\u001b[94m1149\u001b[0m in \u001b[92msample_new\u001b[0m                                              \u001b[31m│\u001b[0m\n",
       "\u001b[31m│\u001b[0m                                                                                                  \u001b[31m│\u001b[0m\n",
       "\u001b[31m│\u001b[0m   \u001b[2m1146 \u001b[0m\u001b[2m│   │   \u001b[0m\u001b[96mprint\u001b[0m(\u001b[33mf\u001b[0m\u001b[33m'\u001b[0m\u001b[33msim_states_init - \u001b[0m\u001b[33m{\u001b[0msim_states_init\u001b[33m}\u001b[0m\u001b[33m\\n\u001b[0m\u001b[33m\\n\u001b[0m\u001b[33m'\u001b[0m)                                 \u001b[31m│\u001b[0m\n",
       "\u001b[31m│\u001b[0m   \u001b[2m1147 \u001b[0m\u001b[2m│   │   \u001b[0m\u001b[96mprint\u001b[0m(\u001b[33mf\u001b[0m\u001b[33m'\u001b[0m\u001b[33mjax.random.split(rng_, batch_size) - \u001b[0m\u001b[33m{\u001b[0mjax.random.split(rng_,\u001b[90m \u001b[0mbatch_size)  \u001b[31m│\u001b[0m\n",
       "\u001b[31m│\u001b[0m   \u001b[2m1148 \u001b[0m\u001b[2m│   │   \u001b[0m                                                                                  \u001b[31m│\u001b[0m\n",
       "\u001b[31m│\u001b[0m \u001b[31m❱ \u001b[0m1149 \u001b[2m│   │   \u001b[0mm_seq_gen, b_seq_gen, msgs_decoded, l2_book_states, num_errors = generate_batche  \u001b[31m│\u001b[0m\n",
       "\u001b[31m│\u001b[0m   \u001b[2m1150 \u001b[0m\u001b[2m│   │   │   \u001b[0msim_init,                                                                     \u001b[31m│\u001b[0m\n",
       "\u001b[31m│\u001b[0m   \u001b[2m1151 \u001b[0m\u001b[2m│   │   │   \u001b[0mtrain_state,                                                                  \u001b[31m│\u001b[0m\n",
       "\u001b[31m│\u001b[0m   \u001b[2m1152 \u001b[0m\u001b[2m│   │   │   \u001b[0mmodel,                                                                        \u001b[31m│\u001b[0m\n",
       "\u001b[31m│\u001b[0m                                                                                                  \u001b[31m│\u001b[0m\n",
       "\u001b[31m│\u001b[0m \u001b[2;33m/opt/conda/envs/myenv/lib/python3.12/site-packages/jax/_src/\u001b[0m\u001b[1;33mtraceback_util.py\u001b[0m:\u001b[94m179\u001b[0m in             \u001b[31m│\u001b[0m\n",
       "\u001b[31m│\u001b[0m \u001b[92mreraise_with_filtered_traceback\u001b[0m                                                                  \u001b[31m│\u001b[0m\n",
       "\u001b[31m│\u001b[0m                                                                                                  \u001b[31m│\u001b[0m\n",
       "\u001b[31m│\u001b[0m   \u001b[2m176 \u001b[0m\u001b[2m  \u001b[0m\u001b[94mdef\u001b[0m \u001b[92mreraise_with_filtered_traceback\u001b[0m(*args, **kwargs):                                    \u001b[31m│\u001b[0m\n",
       "\u001b[31m│\u001b[0m   \u001b[2m177 \u001b[0m\u001b[2m│   \u001b[0m__tracebackhide__ = \u001b[94mTrue\u001b[0m                                                               \u001b[31m│\u001b[0m\n",
       "\u001b[31m│\u001b[0m   \u001b[2m178 \u001b[0m\u001b[2m│   \u001b[0m\u001b[94mtry\u001b[0m:                                                                                   \u001b[31m│\u001b[0m\n",
       "\u001b[31m│\u001b[0m \u001b[31m❱ \u001b[0m179 \u001b[2m│     \u001b[0m\u001b[94mreturn\u001b[0m fun(*args, **kwargs)                                                          \u001b[31m│\u001b[0m\n",
       "\u001b[31m│\u001b[0m   \u001b[2m180 \u001b[0m\u001b[2m│   \u001b[0m\u001b[94mexcept\u001b[0m \u001b[96mException\u001b[0m \u001b[94mas\u001b[0m e:                                                                 \u001b[31m│\u001b[0m\n",
       "\u001b[31m│\u001b[0m   \u001b[2m181 \u001b[0m\u001b[2m│     \u001b[0mmode = _filtering_mode()                                                             \u001b[31m│\u001b[0m\n",
       "\u001b[31m│\u001b[0m   \u001b[2m182 \u001b[0m\u001b[2m│     \u001b[0m\u001b[94mif\u001b[0m _is_under_reraiser(e) \u001b[95mor\u001b[0m mode == \u001b[33m\"\u001b[0m\u001b[33moff\u001b[0m\u001b[33m\"\u001b[0m:                                           \u001b[31m│\u001b[0m\n",
       "\u001b[31m│\u001b[0m                                                                                                  \u001b[31m│\u001b[0m\n",
       "\u001b[31m│\u001b[0m \u001b[2;33m/opt/conda/envs/myenv/lib/python3.12/site-packages/jax/_src/\u001b[0m\u001b[1;33mpjit.py\u001b[0m:\u001b[94m298\u001b[0m in \u001b[92mcache_miss\u001b[0m            \u001b[31m│\u001b[0m\n",
       "\u001b[31m│\u001b[0m                                                                                                  \u001b[31m│\u001b[0m\n",
       "\u001b[31m│\u001b[0m   \u001b[2m 295 \u001b[0m\u001b[2m  \u001b[0m                                                                                        \u001b[31m│\u001b[0m\n",
       "\u001b[31m│\u001b[0m   \u001b[2m 296 \u001b[0m\u001b[2m  \u001b[0m\u001b[1;95m@api_boundary\u001b[0m                                                                           \u001b[31m│\u001b[0m\n",
       "\u001b[31m│\u001b[0m   \u001b[2m 297 \u001b[0m\u001b[2m  \u001b[0m\u001b[94mdef\u001b[0m \u001b[92mcache_miss\u001b[0m(*args, **kwargs):                                                        \u001b[31m│\u001b[0m\n",
       "\u001b[31m│\u001b[0m \u001b[31m❱ \u001b[0m 298 \u001b[2m│   \u001b[0mouts, out_flat, out_tree, args_flat, jaxpr, attrs_tracked = _python_pjit_helper(      \u001b[31m│\u001b[0m\n",
       "\u001b[31m│\u001b[0m   \u001b[2m 299 \u001b[0m\u001b[2m│   │   \u001b[0mjit_info, *args, **kwargs)                                                        \u001b[31m│\u001b[0m\n",
       "\u001b[31m│\u001b[0m   \u001b[2m 300 \u001b[0m\u001b[2m│   \u001b[0mexecutable = _read_most_recent_pjit_call_executable(jaxpr)                            \u001b[31m│\u001b[0m\n",
       "\u001b[31m│\u001b[0m   \u001b[2m 301 \u001b[0m\u001b[2m│   \u001b[0mmaybe_fastpath_data = _get_fastpath_data(                                             \u001b[31m│\u001b[0m\n",
       "\u001b[31m│\u001b[0m                                                                                                  \u001b[31m│\u001b[0m\n",
       "\u001b[31m│\u001b[0m \u001b[2;33m/opt/conda/envs/myenv/lib/python3.12/site-packages/jax/_src/\u001b[0m\u001b[1;33mpjit.py\u001b[0m:\u001b[94m176\u001b[0m in \u001b[92m_python_pjit_helper\u001b[0m   \u001b[31m│\u001b[0m\n",
       "\u001b[31m│\u001b[0m                                                                                                  \u001b[31m│\u001b[0m\n",
       "\u001b[31m│\u001b[0m   \u001b[2m 173 \u001b[0m\u001b[2m│   \u001b[0margs_flat = [*init_states, *args_flat]                                                \u001b[31m│\u001b[0m\n",
       "\u001b[31m│\u001b[0m   \u001b[2m 174 \u001b[0m\u001b[2m  \u001b[0m                                                                                        \u001b[31m│\u001b[0m\n",
       "\u001b[31m│\u001b[0m   \u001b[2m 175 \u001b[0m\u001b[2m  \u001b[0m\u001b[94mtry\u001b[0m:                                                                                    \u001b[31m│\u001b[0m\n",
       "\u001b[31m│\u001b[0m \u001b[31m❱ \u001b[0m 176 \u001b[2m│   \u001b[0mout_flat = pjit_p.bind(*args_flat, **params)                                          \u001b[31m│\u001b[0m\n",
       "\u001b[31m│\u001b[0m   \u001b[2m 177 \u001b[0m\u001b[2m  \u001b[0m\u001b[94mexcept\u001b[0m pxla.DeviceAssignmentMismatchError \u001b[94mas\u001b[0m e:                                         \u001b[31m│\u001b[0m\n",
       "\u001b[31m│\u001b[0m   \u001b[2m 178 \u001b[0m\u001b[2m│   \u001b[0mfails, = e.args                                                                       \u001b[31m│\u001b[0m\n",
       "\u001b[31m│\u001b[0m   \u001b[2m 179 \u001b[0m\u001b[2m│   \u001b[0mapi_name = \u001b[33m'\u001b[0m\u001b[33mjit\u001b[0m\u001b[33m'\u001b[0m \u001b[94mif\u001b[0m params[\u001b[33m'\u001b[0m\u001b[33mresource_env\u001b[0m\u001b[33m'\u001b[0m] \u001b[95mis\u001b[0m \u001b[94mNone\u001b[0m \u001b[94melse\u001b[0m \u001b[33m'\u001b[0m\u001b[33mpjit\u001b[0m\u001b[33m'\u001b[0m                        \u001b[31m│\u001b[0m\n",
       "\u001b[31m│\u001b[0m                                                                                                  \u001b[31m│\u001b[0m\n",
       "\u001b[31m│\u001b[0m \u001b[2;33m/opt/conda/envs/myenv/lib/python3.12/site-packages/jax/_src/\u001b[0m\u001b[1;33mcore.py\u001b[0m:\u001b[94m2788\u001b[0m in \u001b[92mbind\u001b[0m                 \u001b[31m│\u001b[0m\n",
       "\u001b[31m│\u001b[0m                                                                                                  \u001b[31m│\u001b[0m\n",
       "\u001b[31m│\u001b[0m   \u001b[2m2785 \u001b[0m\u001b[2m│   │   │   │   │   \u001b[0mdefault=\u001b[94mNone\u001b[0m, key=\u001b[94mlambda\u001b[0m t: \u001b[96mgetattr\u001b[0m(t, \u001b[33m'\u001b[0m\u001b[33mlevel\u001b[0m\u001b[33m'\u001b[0m, -\u001b[94m1\u001b[0m))                  \u001b[31m│\u001b[0m\n",
       "\u001b[31m│\u001b[0m   \u001b[2m2786 \u001b[0m\u001b[2m│   \u001b[0mtop_trace = (top_trace \u001b[94mif\u001b[0m \u001b[95mnot\u001b[0m axis_main \u001b[95mor\u001b[0m axis_main.level < top_trace.level          \u001b[31m│\u001b[0m\n",
       "\u001b[31m│\u001b[0m   \u001b[2m2787 \u001b[0m\u001b[2m│   │   │   │    \u001b[0m\u001b[94melse\u001b[0m axis_main.with_cur_sublevel())                                      \u001b[31m│\u001b[0m\n",
       "\u001b[31m│\u001b[0m \u001b[31m❱ \u001b[0m2788 \u001b[2m│   \u001b[0m\u001b[94mreturn\u001b[0m \u001b[96mself\u001b[0m.bind_with_trace(top_trace, args, params)                                  \u001b[31m│\u001b[0m\n",
       "\u001b[31m│\u001b[0m   \u001b[2m2789 \u001b[0m                                                                                          \u001b[31m│\u001b[0m\n",
       "\u001b[31m│\u001b[0m   \u001b[2m2790 \u001b[0m                                                                                          \u001b[31m│\u001b[0m\n",
       "\u001b[31m│\u001b[0m   \u001b[2m2791 \u001b[0m\u001b[2m# ------------------- Jaxpr checking -------------------\u001b[0m                                  \u001b[31m│\u001b[0m\n",
       "\u001b[31m│\u001b[0m                                                                                                  \u001b[31m│\u001b[0m\n",
       "\u001b[31m│\u001b[0m \u001b[2;33m/opt/conda/envs/myenv/lib/python3.12/site-packages/jax/_src/\u001b[0m\u001b[1;33mcore.py\u001b[0m:\u001b[94m425\u001b[0m in \u001b[92mbind_with_trace\u001b[0m       \u001b[31m│\u001b[0m\n",
       "\u001b[31m│\u001b[0m                                                                                                  \u001b[31m│\u001b[0m\n",
       "\u001b[31m│\u001b[0m   \u001b[2m 422 \u001b[0m\u001b[2m│   \u001b[0m\u001b[94mreturn\u001b[0m \u001b[96mself\u001b[0m.bind_with_trace(find_top_trace(args), args, params)                       \u001b[31m│\u001b[0m\n",
       "\u001b[31m│\u001b[0m   \u001b[2m 423 \u001b[0m\u001b[2m  \u001b[0m                                                                                        \u001b[31m│\u001b[0m\n",
       "\u001b[31m│\u001b[0m   \u001b[2m 424 \u001b[0m\u001b[2m  \u001b[0m\u001b[94mdef\u001b[0m \u001b[92mbind_with_trace\u001b[0m(\u001b[96mself\u001b[0m, trace, args, params):                                         \u001b[31m│\u001b[0m\n",
       "\u001b[31m│\u001b[0m \u001b[31m❱ \u001b[0m 425 \u001b[2m│   \u001b[0mout = trace.process_primitive(\u001b[96mself\u001b[0m, \u001b[96mmap\u001b[0m(trace.full_raise, args), params)              \u001b[31m│\u001b[0m\n",
       "\u001b[31m│\u001b[0m   \u001b[2m 426 \u001b[0m\u001b[2m│   \u001b[0m\u001b[94mreturn\u001b[0m \u001b[96mmap\u001b[0m(full_lower, out) \u001b[94mif\u001b[0m \u001b[96mself\u001b[0m.multiple_results \u001b[94melse\u001b[0m full_lower(out)             \u001b[31m│\u001b[0m\n",
       "\u001b[31m│\u001b[0m   \u001b[2m 427 \u001b[0m\u001b[2m  \u001b[0m                                                                                        \u001b[31m│\u001b[0m\n",
       "\u001b[31m│\u001b[0m   \u001b[2m 428 \u001b[0m\u001b[2m  \u001b[0m\u001b[94mdef\u001b[0m \u001b[92mdef_impl\u001b[0m(\u001b[96mself\u001b[0m, impl):                                                               \u001b[31m│\u001b[0m\n",
       "\u001b[31m│\u001b[0m                                                                                                  \u001b[31m│\u001b[0m\n",
       "\u001b[31m│\u001b[0m \u001b[2;33m/opt/conda/envs/myenv/lib/python3.12/site-packages/jax/_src/\u001b[0m\u001b[1;33mcore.py\u001b[0m:\u001b[94m913\u001b[0m in \u001b[92mprocess_primitive\u001b[0m     \u001b[31m│\u001b[0m\n",
       "\u001b[31m│\u001b[0m                                                                                                  \u001b[31m│\u001b[0m\n",
       "\u001b[31m│\u001b[0m   \u001b[2m 910 \u001b[0m\u001b[2m  \u001b[0mlift = sublift = pure                                                                   \u001b[31m│\u001b[0m\n",
       "\u001b[31m│\u001b[0m   \u001b[2m 911 \u001b[0m\u001b[2m  \u001b[0m                                                                                        \u001b[31m│\u001b[0m\n",
       "\u001b[31m│\u001b[0m   \u001b[2m 912 \u001b[0m\u001b[2m  \u001b[0m\u001b[94mdef\u001b[0m \u001b[92mprocess_primitive\u001b[0m(\u001b[96mself\u001b[0m, primitive, tracers, params):                                \u001b[31m│\u001b[0m\n",
       "\u001b[31m│\u001b[0m \u001b[31m❱ \u001b[0m 913 \u001b[2m│   \u001b[0m\u001b[94mreturn\u001b[0m primitive.impl(*tracers, **params)                                             \u001b[31m│\u001b[0m\n",
       "\u001b[31m│\u001b[0m   \u001b[2m 914 \u001b[0m\u001b[2m  \u001b[0m                                                                                        \u001b[31m│\u001b[0m\n",
       "\u001b[31m│\u001b[0m   \u001b[2m 915 \u001b[0m\u001b[2m  \u001b[0m\u001b[94mdef\u001b[0m \u001b[92mprocess_call\u001b[0m(\u001b[96mself\u001b[0m, primitive, f, tracers, params):                                  \u001b[31m│\u001b[0m\n",
       "\u001b[31m│\u001b[0m   \u001b[2m 916 \u001b[0m\u001b[2m│   \u001b[0m\u001b[94mreturn\u001b[0m primitive.impl(f, *tracers, **params)                                          \u001b[31m│\u001b[0m\n",
       "\u001b[31m│\u001b[0m                                                                                                  \u001b[31m│\u001b[0m\n",
       "\u001b[31m│\u001b[0m \u001b[2;33m/opt/conda/envs/myenv/lib/python3.12/site-packages/jax/_src/\u001b[0m\u001b[1;33mpjit.py\u001b[0m:\u001b[94m1488\u001b[0m in \u001b[92m_pjit_call_impl\u001b[0m      \u001b[31m│\u001b[0m\n",
       "\u001b[31m│\u001b[0m                                                                                                  \u001b[31m│\u001b[0m\n",
       "\u001b[31m│\u001b[0m   \u001b[2m1485 \u001b[0m\u001b[2m  \u001b[0mhas_explicit_sharding = _pjit_explicit_sharding(                                        \u001b[31m│\u001b[0m\n",
       "\u001b[31m│\u001b[0m   \u001b[2m1486 \u001b[0m\u001b[2m│     \u001b[0min_shardings, out_shardings, \u001b[94mNone\u001b[0m, \u001b[94mNone\u001b[0m)                                            \u001b[31m│\u001b[0m\n",
       "\u001b[31m│\u001b[0m   \u001b[2m1487 \u001b[0m\u001b[2m  \u001b[0m\u001b[94mif\u001b[0m xla_extension_version >= \u001b[94m226\u001b[0m:                                                        \u001b[31m│\u001b[0m\n",
       "\u001b[31m│\u001b[0m \u001b[31m❱ \u001b[0m1488 \u001b[2m│   \u001b[0m\u001b[94mreturn\u001b[0m xc._xla.pjit(                                                                  \u001b[31m│\u001b[0m\n",
       "\u001b[31m│\u001b[0m   \u001b[2m1489 \u001b[0m\u001b[2m│   │   \u001b[0mname, f, call_impl_cache_miss, [], [], donated_argnums,                           \u001b[31m│\u001b[0m\n",
       "\u001b[31m│\u001b[0m   \u001b[2m1490 \u001b[0m\u001b[2m│   │   \u001b[0mtree_util.dispatch_registry,                                                      \u001b[31m│\u001b[0m\n",
       "\u001b[31m│\u001b[0m   \u001b[2m1491 \u001b[0m\u001b[2m│   │   \u001b[0mpxla.shard_arg \u001b[94mif\u001b[0m xla_extension_version >= \u001b[94m229\u001b[0m \u001b[94melse\u001b[0m pxla.temp_shard_arg,  \u001b[2m# type\u001b[0m  \u001b[31m│\u001b[0m\n",
       "\u001b[31m│\u001b[0m                                                                                                  \u001b[31m│\u001b[0m\n",
       "\u001b[31m│\u001b[0m \u001b[2;33m/opt/conda/envs/myenv/lib/python3.12/site-packages/jax/_src/\u001b[0m\u001b[1;33mpjit.py\u001b[0m:\u001b[94m1471\u001b[0m in \u001b[92mcall_impl_cache_miss\u001b[0m \u001b[31m│\u001b[0m\n",
       "\u001b[31m│\u001b[0m                                                                                                  \u001b[31m│\u001b[0m\n",
       "\u001b[31m│\u001b[0m   \u001b[2m1468 \u001b[0m\u001b[2m│   │   │   │   │   \u001b[0min_shardings, out_shardings, resource_env,                            \u001b[31m│\u001b[0m\n",
       "\u001b[31m│\u001b[0m   \u001b[2m1469 \u001b[0m\u001b[2m│   │   │   │   │   \u001b[0mdonated_invars, name, keep_unused, inline):                           \u001b[31m│\u001b[0m\n",
       "\u001b[31m│\u001b[0m   \u001b[2m1470 \u001b[0m\u001b[2m  \u001b[0m\u001b[94mdef\u001b[0m \u001b[92mcall_impl_cache_miss\u001b[0m(*args_, **kwargs_):                                            \u001b[31m│\u001b[0m\n",
       "\u001b[31m│\u001b[0m \u001b[31m❱ \u001b[0m1471 \u001b[2m│   \u001b[0mout_flat, compiled = _pjit_call_impl_python(                                          \u001b[31m│\u001b[0m\n",
       "\u001b[31m│\u001b[0m   \u001b[2m1472 \u001b[0m\u001b[2m│   │   \u001b[0m*args, jaxpr=jaxpr, in_shardings=in_shardings,                                    \u001b[31m│\u001b[0m\n",
       "\u001b[31m│\u001b[0m   \u001b[2m1473 \u001b[0m\u001b[2m│   │   \u001b[0mout_shardings=out_shardings, resource_env=resource_env,                           \u001b[31m│\u001b[0m\n",
       "\u001b[31m│\u001b[0m   \u001b[2m1474 \u001b[0m\u001b[2m│   │   \u001b[0mdonated_invars=donated_invars, name=name, keep_unused=keep_unused,                \u001b[31m│\u001b[0m\n",
       "\u001b[31m│\u001b[0m                                                                                                  \u001b[31m│\u001b[0m\n",
       "\u001b[31m│\u001b[0m \u001b[2;33m/opt/conda/envs/myenv/lib/python3.12/site-packages/jax/_src/\u001b[0m\u001b[1;33mpjit.py\u001b[0m:\u001b[94m1427\u001b[0m in                      \u001b[31m│\u001b[0m\n",
       "\u001b[31m│\u001b[0m \u001b[92m_pjit_call_impl_python\u001b[0m                                                                           \u001b[31m│\u001b[0m\n",
       "\u001b[31m│\u001b[0m                                                                                                  \u001b[31m│\u001b[0m\n",
       "\u001b[31m│\u001b[0m   \u001b[2m1424 \u001b[0m\u001b[2m│   │   │   │   │   │     \u001b[0m(\u001b[33m\"\u001b[0m\u001b[33mabstract args\u001b[0m\u001b[33m\"\u001b[0m, \u001b[96mmap\u001b[0m(xla.abstractify, args)),                  \u001b[31m│\u001b[0m\n",
       "\u001b[31m│\u001b[0m   \u001b[2m1425 \u001b[0m\u001b[2m│   │   │   │   │   │     \u001b[0m(\u001b[33m\"\u001b[0m\u001b[33mfingerprint\u001b[0m\u001b[33m\"\u001b[0m, fingerprint))                                   \u001b[31m│\u001b[0m\n",
       "\u001b[31m│\u001b[0m   \u001b[2m1426 \u001b[0m\u001b[2m  \u001b[0m\u001b[94mtry\u001b[0m:                                                                                    \u001b[31m│\u001b[0m\n",
       "\u001b[31m│\u001b[0m \u001b[31m❱ \u001b[0m1427 \u001b[2m│   \u001b[0m\u001b[94mreturn\u001b[0m compiled.unsafe_call(*args), compiled                                          \u001b[31m│\u001b[0m\n",
       "\u001b[31m│\u001b[0m   \u001b[2m1428 \u001b[0m\u001b[2m  \u001b[0m\u001b[94mexcept\u001b[0m \u001b[96mFloatingPointError\u001b[0m \u001b[94mas\u001b[0m e:                                                         \u001b[31m│\u001b[0m\n",
       "\u001b[31m│\u001b[0m   \u001b[2m1429 \u001b[0m\u001b[2m│   \u001b[0m\u001b[94massert\u001b[0m config.debug_nans.value \u001b[95mor\u001b[0m config.debug_infs.value  \u001b[2m# compiled_fun can only r\u001b[0m  \u001b[31m│\u001b[0m\n",
       "\u001b[31m│\u001b[0m   \u001b[2m1430 \u001b[0m                                                                                          \u001b[31m│\u001b[0m\n",
       "\u001b[31m│\u001b[0m                                                                                                  \u001b[31m│\u001b[0m\n",
       "\u001b[31m│\u001b[0m \u001b[2;33m/opt/conda/envs/myenv/lib/python3.12/site-packages/jax/_src/\u001b[0m\u001b[1;33mprofiler.py\u001b[0m:\u001b[94m335\u001b[0m in \u001b[92mwrapper\u001b[0m           \u001b[31m│\u001b[0m\n",
       "\u001b[31m│\u001b[0m                                                                                                  \u001b[31m│\u001b[0m\n",
       "\u001b[31m│\u001b[0m   \u001b[2m332 \u001b[0m\u001b[2m  \u001b[0m\u001b[1;95m@wraps\u001b[0m(func)                                                                             \u001b[31m│\u001b[0m\n",
       "\u001b[31m│\u001b[0m   \u001b[2m333 \u001b[0m\u001b[2m  \u001b[0m\u001b[94mdef\u001b[0m \u001b[92mwrapper\u001b[0m(*args, **kwargs):                                                            \u001b[31m│\u001b[0m\n",
       "\u001b[31m│\u001b[0m   \u001b[2m334 \u001b[0m\u001b[2m│   \u001b[0m\u001b[94mwith\u001b[0m TraceAnnotation(name, **decorator_kwargs):                                        \u001b[31m│\u001b[0m\n",
       "\u001b[31m│\u001b[0m \u001b[31m❱ \u001b[0m335 \u001b[2m│     \u001b[0m\u001b[94mreturn\u001b[0m func(*args, **kwargs)                                                         \u001b[31m│\u001b[0m\n",
       "\u001b[31m│\u001b[0m   \u001b[2m336 \u001b[0m\u001b[2m│   \u001b[0m\u001b[94mreturn\u001b[0m wrapper                                                                         \u001b[31m│\u001b[0m\n",
       "\u001b[31m│\u001b[0m   \u001b[2m337 \u001b[0m\u001b[2m  \u001b[0m\u001b[94mreturn\u001b[0m wrapper                                                                           \u001b[31m│\u001b[0m\n",
       "\u001b[31m│\u001b[0m   \u001b[2m338 \u001b[0m                                                                                           \u001b[31m│\u001b[0m\n",
       "\u001b[31m│\u001b[0m                                                                                                  \u001b[31m│\u001b[0m\n",
       "\u001b[31m│\u001b[0m \u001b[2;33m/opt/conda/envs/myenv/lib/python3.12/site-packages/jax/_src/interpreters/\u001b[0m\u001b[1;33mpxla.py\u001b[0m:\u001b[94m1213\u001b[0m in         \u001b[31m│\u001b[0m\n",
       "\u001b[31m│\u001b[0m \u001b[92m__call__\u001b[0m                                                                                         \u001b[31m│\u001b[0m\n",
       "\u001b[31m│\u001b[0m                                                                                                  \u001b[31m│\u001b[0m\n",
       "\u001b[31m│\u001b[0m   \u001b[2m1210 \u001b[0m\u001b[2m│     \u001b[0msharded_runtime_token = results.consume_token()                                     \u001b[31m│\u001b[0m\n",
       "\u001b[31m│\u001b[0m   \u001b[2m1211 \u001b[0m\u001b[2m│     \u001b[0m\u001b[96mself\u001b[0m._handle_token_bufs(result_token_bufs, sharded_runtime_token)                   \u001b[31m│\u001b[0m\n",
       "\u001b[31m│\u001b[0m   \u001b[2m1212 \u001b[0m\u001b[2m│   \u001b[0m\u001b[94melse\u001b[0m:                                                                                 \u001b[31m│\u001b[0m\n",
       "\u001b[31m│\u001b[0m \u001b[31m❱ \u001b[0m1213 \u001b[2m│     \u001b[0mresults = \u001b[96mself\u001b[0m.xla_executable.execute_sharded(input_bufs)                           \u001b[31m│\u001b[0m\n",
       "\u001b[31m│\u001b[0m   \u001b[2m1214 \u001b[0m\u001b[2m│   \u001b[0m\u001b[94mif\u001b[0m dispatch.needs_check_special():                                                    \u001b[31m│\u001b[0m\n",
       "\u001b[31m│\u001b[0m   \u001b[2m1215 \u001b[0m\u001b[2m│     \u001b[0mout_arrays = results.disassemble_into_single_device_arrays()                        \u001b[31m│\u001b[0m\n",
       "\u001b[31m│\u001b[0m   \u001b[2m1216 \u001b[0m\u001b[2m│     \u001b[0m\u001b[94mfor\u001b[0m arrays \u001b[95min\u001b[0m out_arrays:                                                           \u001b[31m│\u001b[0m\n",
       "\u001b[31m╰──────────────────────────────────────────────────────────────────────────────────────────────────╯\u001b[0m\n",
       "\u001b[1;91mKeyboardInterrupt\u001b[0m\n"
      ]
     },
     "metadata": {},
     "output_type": "display_data"
    }
   ],
   "source": [
    "print('Generating...')\n",
    "inference.sample_new(\n",
    "    n_samples,\n",
    "    batch_size,\n",
    "    ds,\n",
    "    rng,\n",
    "    seq_len,\n",
    "    n_messages,\n",
    "    n_gen_msgs,\n",
    "    state,\n",
    "    model,\n",
    "    batchnorm,\n",
    "    v.ENCODING,\n",
    "    stock,\n",
    "    save_folder=save_folder + '/' + stock + '/',\n",
    "    sample_all=sample_all,\n",
    ")\n",
    "print('DONE.')"
   ]
  },
  {
   "cell_type": "markdown",
   "metadata": {},
   "source": []
  },
  {
   "cell_type": "markdown",
   "metadata": {},
   "source": [
    "# ------------------------------------\n",
    "# Lob_bench - analyze generated data"
   ]
  },
  {
   "cell_type": "code",
   "execution_count": 17,
   "metadata": {},
   "outputs": [],
   "source": [
    "import sys\n",
    "sys.path.append('/app/lob_bench')"
   ]
  },
  {
   "cell_type": "code",
   "execution_count": 18,
   "metadata": {},
   "outputs": [],
   "source": [
    "import glob\n",
    "import data_loading\n",
    "import impact\n",
    "import matplotlib.pyplot as plt"
   ]
  },
  {
   "cell_type": "code",
   "execution_count": null,
   "metadata": {},
   "outputs": [],
   "source": [
    "message_paths = sorted(glob.glob('/app/data_saved/GOOG/data_gen/GOOG*message*.csv'))\n",
    "book_paths = sorted(glob.glob('/app/data_saved/GOOG/data_gen/GOOG*orderbook*.csv'))\n",
    "\n",
    "print(len(book_paths))"
   ]
  },
  {
   "cell_type": "code",
   "execution_count": 20,
   "metadata": {},
   "outputs": [],
   "source": [
    "m_seqs = [data_loading.load_message_df(path) for path in message_paths]\n",
    "b_seqs = [data_loading.load_book_df(path) for path in book_paths]"
   ]
  },
  {
   "cell_type": "code",
   "execution_count": 21,
   "metadata": {},
   "outputs": [],
   "source": [
    "mb_seqs=[impact._filter_touch_events(m,b) for m,b in zip(m_seqs,b_seqs)]"
   ]
  },
  {
   "cell_type": "code",
   "execution_count": null,
   "metadata": {},
   "outputs": [],
   "source": [
    "res=impact.macro_impact_analyse(3*60,100,32,m_seqs,b_seqs)"
   ]
  },
  {
   "cell_type": "code",
   "execution_count": null,
   "metadata": {},
   "outputs": [],
   "source": [
    "fig = plt.figure()\n",
    "ax = plt.gca()\n",
    "ax.plot(res[1][:],res[0][:], 'o', c='blue', alpha=0.5, markeredgecolor='none')\n",
    "ax.set_title(\"GOOG Real Long Form\")\n",
    "ax.set_ylabel(\"M_i\")\n",
    "ax.set_xlabel(\"P_i\")\n",
    "#ax.set_ylim([-2,2])\n",
    "#ax.set_yscale('log')\n",
    "#ax.set_xscale('log')"
   ]
  },
  {
   "cell_type": "code",
   "execution_count": null,
   "metadata": {},
   "outputs": [],
   "source": [
    "res[0][:]"
   ]
  },
  {
   "cell_type": "code",
   "execution_count": 28,
   "metadata": {},
   "outputs": [],
   "source": [
    "# root_path=\"/data1/sascha/data/sqrt/GOOG/\"\n",
    "\n",
    "root_path=\"/app/data_saved/GOOG/\"\n",
    "\n",
    "loader = data_loading.Simple_Loader(\n",
    "            real_data_path= root_path+\"data_real\",\n",
    "            gen_data_path= root_path+\"data_gen\",\n",
    "            cond_data_path=root_path+\"data_cond\",\n",
    ")"
   ]
  },
  {
   "cell_type": "code",
   "execution_count": null,
   "metadata": {},
   "outputs": [],
   "source": [
    "df=impact.macro_impact_compare(100000,100,32,loader)\n",
    "df\n"
   ]
  },
  {
   "cell_type": "code",
   "execution_count": null,
   "metadata": {},
   "outputs": [],
   "source": []
  },
  {
   "cell_type": "code",
   "execution_count": null,
   "metadata": {},
   "outputs": [],
   "source": []
  },
  {
   "cell_type": "code",
   "execution_count": null,
   "metadata": {},
   "outputs": [],
   "source": []
  },
  {
   "cell_type": "code",
   "execution_count": null,
   "metadata": {},
   "outputs": [],
   "source": []
  }
 ],
 "metadata": {
  "kernelspec": {
   "display_name": "Python 3",
   "language": "python",
   "name": "python3"
  },
  "language_info": {
   "codemirror_mode": {
    "name": "ipython",
    "version": 3
   },
   "file_extension": ".py",
   "mimetype": "text/x-python",
   "name": "python",
   "nbconvert_exporter": "python",
   "pygments_lexer": "ipython3",
   "version": "3.12.3"
  }
 },
 "nbformat": 4,
 "nbformat_minor": 2
}
