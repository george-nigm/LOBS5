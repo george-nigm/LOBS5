{
 "cells": [
  {
   "cell_type": "code",
   "execution_count": 1,
   "metadata": {},
   "outputs": [
    {
     "name": "stdout",
     "output_type": "stream",
     "text": [
      "/app\n"
     ]
    }
   ],
   "source": [
    "%cd /app"
   ]
  },
  {
   "cell_type": "code",
   "execution_count": 2,
   "metadata": {},
   "outputs": [
    {
     "name": "stderr",
     "output_type": "stream",
     "text": [
      "2025-05-15 22:29:24.026180: W external/xla/xla/service/gpu/nvptx_compiler.cc:718] The NVIDIA driver's CUDA version is 12.8 which is older than the ptxas CUDA version (12.9.41). Because the driver is older than the ptxas version, XLA is disabling parallel compilation, which may slow down compilation. You should update your NVIDIA driver or use the NVIDIA-provided CUDA forward compatibility packages.\n",
      "WARNING:absl:Type handler registry overriding type \"<class 'float'>\" collision on scalar\n",
      "WARNING:absl:Type handler registry overriding type \"<class 'bytes'>\" collision on scalar\n",
      "WARNING:absl:Type handler registry overriding type \"<class 'numpy.number'>\" collision on scalar\n",
      "2025-05-15 22:29:26.272548: W tensorflow/compiler/tf2tensorrt/utils/py_utils.cc:38] TF-TRT Warning: Could not find TensorRT\n"
     ]
    }
   ],
   "source": [
    "import argparse\n",
    "import os\n",
    "import sys\n",
    "\n",
    "os.environ[\"XLA_PYTHON_CLIENT_PREALLOCATE\"] = \"false\"\n",
    "\n",
    "import torch\n",
    "torch.multiprocessing.set_start_method('spawn')\n",
    "\n",
    "import jax\n",
    "from lob.encoding import Vocab, Message_Tokenizer\n",
    "\n",
    "from lob import inference_no_errcorr as inference\n",
    "from lob.init_train import init_train_state, load_checkpoint, load_metadata, load_args_from_checkpoint\n",
    "\n",
    "from lob import inference_no_errcorr as inference\n",
    "import lob.encoding as encoding\n",
    "import preproc as preproc\n",
    "\n",
    "import jax.numpy as jnp\n",
    "import numpy as onp\n",
    "\n",
    "from pathlib import Path\n",
    "import os\n",
    "\n",
    "import pandas as pd\n",
    "import plotly.graph_objs as go"
   ]
  },
  {
   "cell_type": "code",
   "execution_count": 3,
   "metadata": {},
   "outputs": [],
   "source": [
    "# experiment_name = 'exp_3_20250429_213228'\n",
    "# num_insertions = 20\n",
    "# num_coolings = 20\n",
    "# midprice_step_size = 1\n",
    "# hist_msgs = 500\n",
    "# n_gen_msgs = 50\n",
    "\n",
    "# experiment_name = '3'\n",
    "# num_insertions = 10\n",
    "# num_coolings = 10\n",
    "# midprice_step_size = 10\n",
    "# hist_msgs = 500\n",
    "# n_gen_msgs = 500\n",
    "\n",
    "experiment_name = 'exp_27_20250515_221221'\n",
    "num_insertions = 20\n",
    "num_coolings = 40\n",
    "midprice_step_size = 1\n",
    "hist_msgs = 500\n",
    "n_gen_msgs = 50"
   ]
  },
  {
   "cell_type": "code",
   "execution_count": 4,
   "metadata": {},
   "outputs": [],
   "source": [
    "\n",
    "batch_size: 3\n",
    "n_samples: 9\n",
    "\n",
    "# generation\n",
    "n_gen_msgs = 50\n",
    "midprice_step_size = 50\n",
    "\n",
    "num_insertions = 2\n",
    "num_coolings = 2"
   ]
  },
  {
   "cell_type": "code",
   "execution_count": 5,
   "metadata": {},
   "outputs": [],
   "source": [
    "import os, glob, re\n",
    "import numpy as np\n",
    "import pandas as pd\n",
    "\n",
    "# 1) Путь и шаблон файлов\n",
    "DATA_DIR = f\"/app/data_saved/{experiment_name}/mid_price\"\n",
    "pattern = os.path.join(DATA_DIR, \"mid_price_batch_*_iter_*.npy\")\n",
    "\n",
    "# 2) Собираем все пути\n",
    "files = sorted(glob.glob(pattern))\n",
    "if not files:\n",
    "    raise FileNotFoundError(f\"No .npy files matching {pattern}\")\n",
    "\n",
    "# 3) Разбираем имя, загружаем и формируем «плоские» записи\n",
    "rx = re.compile(r\"mid_price_batch_\\[([\\d,\\s]+)\\]_iter_(\\d+)\\.npy$\")\n",
    "records = []\n",
    "for f in files:\n",
    "    m = rx.search(os.path.basename(f))\n",
    "    if not m:\n",
    "        continue\n",
    "    rng = m.group(1).replace(\" \", \"\")      # e.g. \"3464,4169,4497,6855\"\n",
    "    itr = int(m.group(2))                  # iteration number\n",
    "    arr = np.load(f)                       # shape (n_steps, batch_size)\n",
    "\n",
    "    ids = list(map(int, rng.split(\",\")))\n",
    "    # now split out each column into its own sample-stream:\n",
    "    for col, sample_id in enumerate(ids):\n",
    "        records.append({\n",
    "            \"id\":        sample_id,\n",
    "            \"iteration\": itr,\n",
    "            \"data\":      arr[:, col]\n",
    "        })\n",
    "\n",
    "# 4) Создаём DataFrame и сортируем\n",
    "df = pd.DataFrame.from_records(records, columns=[\"id\",\"iteration\",\"data\"])\n",
    "df = df.sort_values([\"id\",\"iteration\"]).reset_index(drop=True)\n",
    "\n",
    "# 5) Группируем по id и склеиваем временные ряды\n",
    "merged = (\n",
    "    df.groupby(\"id\", as_index=False)\n",
    "      .agg(merged_data=(\"data\", lambda s: np.concatenate(s.tolist())))\n",
    ")\n",
    "\n",
    "# 6) (опционально) превратить в чистые списки\n",
    "merged[\"merged_data\"] = merged[\"merged_data\"].apply(lambda a: a.tolist())"
   ]
  },
  {
   "cell_type": "code",
   "execution_count": 6,
   "metadata": {},
   "outputs": [],
   "source": [
    "if experiment_name == '3':\n",
    "    bad_ids = {4169, 10853, 13577}\n",
    "    merged = merged[~merged[\"id\"].isin(bad_ids)].reset_index(drop=True)"
   ]
  },
  {
   "cell_type": "code",
   "execution_count": 7,
   "metadata": {},
   "outputs": [
    {
     "name": "stdout",
     "output_type": "stream",
     "text": [
      "      id                                        merged_data\n",
      "0   1895  [891800, 892000, 892000, 892100, 892200, 89210...\n",
      "1   2787  [897700, 897700, 897700, 897600, 897700, 89770...\n",
      "2   4668  [886800, 886900, 886800, 886600, 886700, 88670...\n",
      "3  14606  [867800, 867900, 868000, 868100, 868200, 86820...\n",
      "4  16120  [872200, 872400, 872500, 872400, 872400, 87240...\n",
      "5  22181  [875100, 875200, 875300, 875500, 875400, 87550...\n"
     ]
    }
   ],
   "source": [
    "print(merged)"
   ]
  },
  {
   "cell_type": "code",
   "execution_count": 8,
   "metadata": {},
   "outputs": [
    {
     "name": "stdout",
     "output_type": "stream",
     "text": [
      "insertion positions: [12, 14]\n",
      "cooling positions:   [16, 18]\n"
     ]
    },
    {
     "data": {
      "application/vnd.plotly.v1+json": {
       "config": {
        "plotlyServerURL": "https://plot.ly"
       },
       "data": [
        {
         "hoverinfo": "skip",
         "line": {
          "width": 1
         },
         "mode": "lines",
         "name": "id 1895",
         "opacity": 1,
         "type": "scatter",
         "x": {
          "bdata": "AQIDBAUGBwgJCgsMDQ==",
          "dtype": "i1"
         },
         "y": {
          "bdata": "AADIAMgALAGQASwBLAGQAfQBWAK8AlgCvAI=",
          "dtype": "i2"
         }
        },
        {
         "hoverinfo": "skip",
         "line": {
          "width": 1
         },
         "mode": "lines",
         "name": "id 2787",
         "opacity": 1,
         "type": "scatter",
         "x": {
          "bdata": "AQIDBAUGBwgJCgsMDQ==",
          "dtype": "i1"
         },
         "y": {
          "bdata": "AAAAnAAAAJycnJycAA==",
          "dtype": "i1"
         }
        },
        {
         "hoverinfo": "skip",
         "line": {
          "width": 1
         },
         "mode": "lines",
         "name": "id 4668",
         "opacity": 1,
         "type": "scatter",
         "x": {
          "bdata": "AQIDBAUGBwgJCgsMDQ==",
          "dtype": "i1"
         },
         "y": {
          "bdata": "AABkAAAAOP+c/5z/nP+c/wAAZABkAGQALAE=",
          "dtype": "i2"
         }
        },
        {
         "hoverinfo": "skip",
         "line": {
          "width": 1
         },
         "mode": "lines",
         "name": "id 14606",
         "opacity": 1,
         "type": "scatter",
         "x": {
          "bdata": "AQIDBAUGBwgJCgsMDQ==",
          "dtype": "i1"
         },
         "y": {
          "bdata": "AABkAMgALAGQAZABLAEsAfQBkAGQAZABkAE=",
          "dtype": "i2"
         }
        },
        {
         "hoverinfo": "skip",
         "line": {
          "width": 1
         },
         "mode": "lines",
         "name": "id 16120",
         "opacity": 1,
         "type": "scatter",
         "x": {
          "bdata": "AQIDBAUGBwgJCgsMDQ==",
          "dtype": "i1"
         },
         "y": {
          "bdata": "AADIACwByADIAMgAyABkAGQAZABkAGQAZAA=",
          "dtype": "i2"
         }
        },
        {
         "hoverinfo": "skip",
         "line": {
          "width": 1
         },
         "mode": "lines",
         "name": "id 22181",
         "opacity": 1,
         "type": "scatter",
         "x": {
          "bdata": "AQIDBAUGBwgJCgsMDQ==",
          "dtype": "i1"
         },
         "y": {
          "bdata": "AABkAMgAkAEsAZABLAEsASwBkAEsASwBLAE=",
          "dtype": "i2"
         }
        }
       ],
       "layout": {
        "annotations": [
         {
          "showarrow": false,
          "text": "0-line",
          "x": 1,
          "xanchor": "right",
          "xref": "x domain",
          "y": 0,
          "yanchor": "top",
          "yref": "y"
         },
         {
          "align": "left",
          "showarrow": false,
          "text": "Midprice every 50 msgs;<br>solid red = insertion (every 50 msgs +1 step);<br>dashed red = cooling (same spacing); blue = end of history.",
          "x": 0,
          "xref": "paper",
          "y": -0.225,
          "yref": "paper"
         }
        ],
        "height": 800,
        "hovermode": "x unified",
        "margin": {
         "b": 150
        },
        "shapes": [
         {
          "line": {
           "color": "blue",
           "dash": "dash",
           "width": 2
          },
          "type": "line",
          "x0": 10,
          "x1": 10,
          "xref": "x",
          "y0": 0,
          "y1": 1,
          "yref": "y domain"
         },
         {
          "line": {
           "color": "red",
           "dash": "solid",
           "width": 2
          },
          "type": "line",
          "x0": 12,
          "x1": 12,
          "xref": "x",
          "y0": 0,
          "y1": 1,
          "yref": "y domain"
         },
         {
          "line": {
           "color": "red",
           "dash": "solid",
           "width": 2
          },
          "type": "line",
          "x0": 14,
          "x1": 14,
          "xref": "x",
          "y0": 0,
          "y1": 1,
          "yref": "y domain"
         },
         {
          "line": {
           "color": "red",
           "dash": "dash",
           "width": 2
          },
          "type": "line",
          "x0": 16,
          "x1": 16,
          "xref": "x",
          "y0": 0,
          "y1": 1,
          "yref": "y domain"
         },
         {
          "line": {
           "color": "red",
           "dash": "dash",
           "width": 2
          },
          "type": "line",
          "x0": 18,
          "x1": 18,
          "xref": "x",
          "y0": 0,
          "y1": 1,
          "yref": "y domain"
         },
         {
          "line": {
           "color": "black",
           "dash": "solid",
           "width": 2
          },
          "type": "line",
          "x0": 0,
          "x1": 1,
          "xref": "x domain",
          "y0": 0,
          "y1": 0,
          "yref": "y"
         }
        ],
        "template": {
         "data": {
          "bar": [
           {
            "error_x": {
             "color": "#2a3f5f"
            },
            "error_y": {
             "color": "#2a3f5f"
            },
            "marker": {
             "line": {
              "color": "white",
              "width": 0.5
             },
             "pattern": {
              "fillmode": "overlay",
              "size": 10,
              "solidity": 0.2
             }
            },
            "type": "bar"
           }
          ],
          "barpolar": [
           {
            "marker": {
             "line": {
              "color": "white",
              "width": 0.5
             },
             "pattern": {
              "fillmode": "overlay",
              "size": 10,
              "solidity": 0.2
             }
            },
            "type": "barpolar"
           }
          ],
          "carpet": [
           {
            "aaxis": {
             "endlinecolor": "#2a3f5f",
             "gridcolor": "#C8D4E3",
             "linecolor": "#C8D4E3",
             "minorgridcolor": "#C8D4E3",
             "startlinecolor": "#2a3f5f"
            },
            "baxis": {
             "endlinecolor": "#2a3f5f",
             "gridcolor": "#C8D4E3",
             "linecolor": "#C8D4E3",
             "minorgridcolor": "#C8D4E3",
             "startlinecolor": "#2a3f5f"
            },
            "type": "carpet"
           }
          ],
          "choropleth": [
           {
            "colorbar": {
             "outlinewidth": 0,
             "ticks": ""
            },
            "type": "choropleth"
           }
          ],
          "contour": [
           {
            "colorbar": {
             "outlinewidth": 0,
             "ticks": ""
            },
            "colorscale": [
             [
              0,
              "#0d0887"
             ],
             [
              0.1111111111111111,
              "#46039f"
             ],
             [
              0.2222222222222222,
              "#7201a8"
             ],
             [
              0.3333333333333333,
              "#9c179e"
             ],
             [
              0.4444444444444444,
              "#bd3786"
             ],
             [
              0.5555555555555556,
              "#d8576b"
             ],
             [
              0.6666666666666666,
              "#ed7953"
             ],
             [
              0.7777777777777778,
              "#fb9f3a"
             ],
             [
              0.8888888888888888,
              "#fdca26"
             ],
             [
              1,
              "#f0f921"
             ]
            ],
            "type": "contour"
           }
          ],
          "contourcarpet": [
           {
            "colorbar": {
             "outlinewidth": 0,
             "ticks": ""
            },
            "type": "contourcarpet"
           }
          ],
          "heatmap": [
           {
            "colorbar": {
             "outlinewidth": 0,
             "ticks": ""
            },
            "colorscale": [
             [
              0,
              "#0d0887"
             ],
             [
              0.1111111111111111,
              "#46039f"
             ],
             [
              0.2222222222222222,
              "#7201a8"
             ],
             [
              0.3333333333333333,
              "#9c179e"
             ],
             [
              0.4444444444444444,
              "#bd3786"
             ],
             [
              0.5555555555555556,
              "#d8576b"
             ],
             [
              0.6666666666666666,
              "#ed7953"
             ],
             [
              0.7777777777777778,
              "#fb9f3a"
             ],
             [
              0.8888888888888888,
              "#fdca26"
             ],
             [
              1,
              "#f0f921"
             ]
            ],
            "type": "heatmap"
           }
          ],
          "histogram": [
           {
            "marker": {
             "pattern": {
              "fillmode": "overlay",
              "size": 10,
              "solidity": 0.2
             }
            },
            "type": "histogram"
           }
          ],
          "histogram2d": [
           {
            "colorbar": {
             "outlinewidth": 0,
             "ticks": ""
            },
            "colorscale": [
             [
              0,
              "#0d0887"
             ],
             [
              0.1111111111111111,
              "#46039f"
             ],
             [
              0.2222222222222222,
              "#7201a8"
             ],
             [
              0.3333333333333333,
              "#9c179e"
             ],
             [
              0.4444444444444444,
              "#bd3786"
             ],
             [
              0.5555555555555556,
              "#d8576b"
             ],
             [
              0.6666666666666666,
              "#ed7953"
             ],
             [
              0.7777777777777778,
              "#fb9f3a"
             ],
             [
              0.8888888888888888,
              "#fdca26"
             ],
             [
              1,
              "#f0f921"
             ]
            ],
            "type": "histogram2d"
           }
          ],
          "histogram2dcontour": [
           {
            "colorbar": {
             "outlinewidth": 0,
             "ticks": ""
            },
            "colorscale": [
             [
              0,
              "#0d0887"
             ],
             [
              0.1111111111111111,
              "#46039f"
             ],
             [
              0.2222222222222222,
              "#7201a8"
             ],
             [
              0.3333333333333333,
              "#9c179e"
             ],
             [
              0.4444444444444444,
              "#bd3786"
             ],
             [
              0.5555555555555556,
              "#d8576b"
             ],
             [
              0.6666666666666666,
              "#ed7953"
             ],
             [
              0.7777777777777778,
              "#fb9f3a"
             ],
             [
              0.8888888888888888,
              "#fdca26"
             ],
             [
              1,
              "#f0f921"
             ]
            ],
            "type": "histogram2dcontour"
           }
          ],
          "mesh3d": [
           {
            "colorbar": {
             "outlinewidth": 0,
             "ticks": ""
            },
            "type": "mesh3d"
           }
          ],
          "parcoords": [
           {
            "line": {
             "colorbar": {
              "outlinewidth": 0,
              "ticks": ""
             }
            },
            "type": "parcoords"
           }
          ],
          "pie": [
           {
            "automargin": true,
            "type": "pie"
           }
          ],
          "scatter": [
           {
            "fillpattern": {
             "fillmode": "overlay",
             "size": 10,
             "solidity": 0.2
            },
            "type": "scatter"
           }
          ],
          "scatter3d": [
           {
            "line": {
             "colorbar": {
              "outlinewidth": 0,
              "ticks": ""
             }
            },
            "marker": {
             "colorbar": {
              "outlinewidth": 0,
              "ticks": ""
             }
            },
            "type": "scatter3d"
           }
          ],
          "scattercarpet": [
           {
            "marker": {
             "colorbar": {
              "outlinewidth": 0,
              "ticks": ""
             }
            },
            "type": "scattercarpet"
           }
          ],
          "scattergeo": [
           {
            "marker": {
             "colorbar": {
              "outlinewidth": 0,
              "ticks": ""
             }
            },
            "type": "scattergeo"
           }
          ],
          "scattergl": [
           {
            "marker": {
             "colorbar": {
              "outlinewidth": 0,
              "ticks": ""
             }
            },
            "type": "scattergl"
           }
          ],
          "scattermap": [
           {
            "marker": {
             "colorbar": {
              "outlinewidth": 0,
              "ticks": ""
             }
            },
            "type": "scattermap"
           }
          ],
          "scattermapbox": [
           {
            "marker": {
             "colorbar": {
              "outlinewidth": 0,
              "ticks": ""
             }
            },
            "type": "scattermapbox"
           }
          ],
          "scatterpolar": [
           {
            "marker": {
             "colorbar": {
              "outlinewidth": 0,
              "ticks": ""
             }
            },
            "type": "scatterpolar"
           }
          ],
          "scatterpolargl": [
           {
            "marker": {
             "colorbar": {
              "outlinewidth": 0,
              "ticks": ""
             }
            },
            "type": "scatterpolargl"
           }
          ],
          "scatterternary": [
           {
            "marker": {
             "colorbar": {
              "outlinewidth": 0,
              "ticks": ""
             }
            },
            "type": "scatterternary"
           }
          ],
          "surface": [
           {
            "colorbar": {
             "outlinewidth": 0,
             "ticks": ""
            },
            "colorscale": [
             [
              0,
              "#0d0887"
             ],
             [
              0.1111111111111111,
              "#46039f"
             ],
             [
              0.2222222222222222,
              "#7201a8"
             ],
             [
              0.3333333333333333,
              "#9c179e"
             ],
             [
              0.4444444444444444,
              "#bd3786"
             ],
             [
              0.5555555555555556,
              "#d8576b"
             ],
             [
              0.6666666666666666,
              "#ed7953"
             ],
             [
              0.7777777777777778,
              "#fb9f3a"
             ],
             [
              0.8888888888888888,
              "#fdca26"
             ],
             [
              1,
              "#f0f921"
             ]
            ],
            "type": "surface"
           }
          ],
          "table": [
           {
            "cells": {
             "fill": {
              "color": "#EBF0F8"
             },
             "line": {
              "color": "white"
             }
            },
            "header": {
             "fill": {
              "color": "#C8D4E3"
             },
             "line": {
              "color": "white"
             }
            },
            "type": "table"
           }
          ]
         },
         "layout": {
          "annotationdefaults": {
           "arrowcolor": "#2a3f5f",
           "arrowhead": 0,
           "arrowwidth": 1
          },
          "autotypenumbers": "strict",
          "coloraxis": {
           "colorbar": {
            "outlinewidth": 0,
            "ticks": ""
           }
          },
          "colorscale": {
           "diverging": [
            [
             0,
             "#8e0152"
            ],
            [
             0.1,
             "#c51b7d"
            ],
            [
             0.2,
             "#de77ae"
            ],
            [
             0.3,
             "#f1b6da"
            ],
            [
             0.4,
             "#fde0ef"
            ],
            [
             0.5,
             "#f7f7f7"
            ],
            [
             0.6,
             "#e6f5d0"
            ],
            [
             0.7,
             "#b8e186"
            ],
            [
             0.8,
             "#7fbc41"
            ],
            [
             0.9,
             "#4d9221"
            ],
            [
             1,
             "#276419"
            ]
           ],
           "sequential": [
            [
             0,
             "#0d0887"
            ],
            [
             0.1111111111111111,
             "#46039f"
            ],
            [
             0.2222222222222222,
             "#7201a8"
            ],
            [
             0.3333333333333333,
             "#9c179e"
            ],
            [
             0.4444444444444444,
             "#bd3786"
            ],
            [
             0.5555555555555556,
             "#d8576b"
            ],
            [
             0.6666666666666666,
             "#ed7953"
            ],
            [
             0.7777777777777778,
             "#fb9f3a"
            ],
            [
             0.8888888888888888,
             "#fdca26"
            ],
            [
             1,
             "#f0f921"
            ]
           ],
           "sequentialminus": [
            [
             0,
             "#0d0887"
            ],
            [
             0.1111111111111111,
             "#46039f"
            ],
            [
             0.2222222222222222,
             "#7201a8"
            ],
            [
             0.3333333333333333,
             "#9c179e"
            ],
            [
             0.4444444444444444,
             "#bd3786"
            ],
            [
             0.5555555555555556,
             "#d8576b"
            ],
            [
             0.6666666666666666,
             "#ed7953"
            ],
            [
             0.7777777777777778,
             "#fb9f3a"
            ],
            [
             0.8888888888888888,
             "#fdca26"
            ],
            [
             1,
             "#f0f921"
            ]
           ]
          },
          "colorway": [
           "#636efa",
           "#EF553B",
           "#00cc96",
           "#ab63fa",
           "#FFA15A",
           "#19d3f3",
           "#FF6692",
           "#B6E880",
           "#FF97FF",
           "#FECB52"
          ],
          "font": {
           "color": "#2a3f5f"
          },
          "geo": {
           "bgcolor": "white",
           "lakecolor": "white",
           "landcolor": "white",
           "showlakes": true,
           "showland": true,
           "subunitcolor": "#C8D4E3"
          },
          "hoverlabel": {
           "align": "left"
          },
          "hovermode": "closest",
          "mapbox": {
           "style": "light"
          },
          "paper_bgcolor": "white",
          "plot_bgcolor": "white",
          "polar": {
           "angularaxis": {
            "gridcolor": "#EBF0F8",
            "linecolor": "#EBF0F8",
            "ticks": ""
           },
           "bgcolor": "white",
           "radialaxis": {
            "gridcolor": "#EBF0F8",
            "linecolor": "#EBF0F8",
            "ticks": ""
           }
          },
          "scene": {
           "xaxis": {
            "backgroundcolor": "white",
            "gridcolor": "#DFE8F3",
            "gridwidth": 2,
            "linecolor": "#EBF0F8",
            "showbackground": true,
            "ticks": "",
            "zerolinecolor": "#EBF0F8"
           },
           "yaxis": {
            "backgroundcolor": "white",
            "gridcolor": "#DFE8F3",
            "gridwidth": 2,
            "linecolor": "#EBF0F8",
            "showbackground": true,
            "ticks": "",
            "zerolinecolor": "#EBF0F8"
           },
           "zaxis": {
            "backgroundcolor": "white",
            "gridcolor": "#DFE8F3",
            "gridwidth": 2,
            "linecolor": "#EBF0F8",
            "showbackground": true,
            "ticks": "",
            "zerolinecolor": "#EBF0F8"
           }
          },
          "shapedefaults": {
           "line": {
            "color": "#2a3f5f"
           }
          },
          "ternary": {
           "aaxis": {
            "gridcolor": "#DFE8F3",
            "linecolor": "#A2B1C6",
            "ticks": ""
           },
           "baxis": {
            "gridcolor": "#DFE8F3",
            "linecolor": "#A2B1C6",
            "ticks": ""
           },
           "bgcolor": "white",
           "caxis": {
            "gridcolor": "#DFE8F3",
            "linecolor": "#A2B1C6",
            "ticks": ""
           }
          },
          "title": {
           "x": 0.05
          },
          "xaxis": {
           "automargin": true,
           "gridcolor": "#EBF0F8",
           "linecolor": "#EBF0F8",
           "ticks": "",
           "title": {
            "standoff": 15
           },
           "zerolinecolor": "#EBF0F8",
           "zerolinewidth": 2
          },
          "yaxis": {
           "automargin": true,
           "gridcolor": "#EBF0F8",
           "linecolor": "#EBF0F8",
           "ticks": "",
           "title": {
            "standoff": 15
           },
           "zerolinecolor": "#EBF0F8",
           "zerolinewidth": 2
          }
         }
        },
        "title": {
         "text": "All midprice series (zeroed) with insertion/cooling lines"
        },
        "width": 1200,
        "xaxis": {
         "showgrid": false,
         "title": {
          "text": "Index"
         }
        },
        "yaxis": {
         "showgrid": false,
         "title": {
          "text": "Price – first_price"
         }
        }
       }
      }
     },
     "metadata": {},
     "output_type": "display_data"
    }
   ],
   "source": [
    "# convert to “mid-price sample” units\n",
    "hist_steps   = hist_msgs // midprice_step_size       # 500\n",
    "gen_steps     = n_gen_msgs // midprice_step_size     # 50\n",
    "gen_block     = gen_steps + 1                        # 51\n",
    "\n",
    "# build zeroed series…\n",
    "all_series = []\n",
    "for row in merged.itertuples(index=False):\n",
    "    data = np.array(row.merged_data)\n",
    "    all_series.append(data - data[0])\n",
    "all_series = np.vstack(all_series)\n",
    "x          = np.arange(1, all_series.shape[1]+1)\n",
    "\n",
    "# compute mean/std\n",
    "mean_s = all_series.mean(axis=0)\n",
    "std_s  = all_series.std(axis=0)\n",
    "\n",
    "fig = go.Figure()\n",
    "\n",
    "# faint individual\n",
    "for row, arr0 in zip(merged.itertuples(False), all_series):\n",
    "    fig.add_trace(go.Scatter(x=x, y=arr0, mode='lines',\n",
    "                             opacity=1.0, hoverinfo='skip',\n",
    "                             line=dict(width=1), name=f\"id {row.id}\"))\n",
    "\n",
    "# history-end\n",
    "fig.add_vline(x=hist_steps, line=dict(color='blue',width=2,dash='dash'))\n",
    "\n",
    "# all event-positions in one go\n",
    "events = np.arange(1, num_insertions+num_coolings+1)\n",
    "positions = hist_steps + gen_block*events\n",
    "\n",
    "# first N as solid (insertions)\n",
    "for pos in positions[:num_insertions]:\n",
    "    fig.add_vline(x=pos, line=dict(color='red',width=2,dash='solid'))\n",
    "# next M as dashed (coolings)\n",
    "for pos in positions[num_insertions:]:\n",
    "    fig.add_vline(x=pos, line=dict(color='red',width=2,dash='dash'))\n",
    "\n",
    "print(\"insertion positions:\", positions[:num_insertions].tolist())\n",
    "print(\"cooling positions:  \", positions[num_insertions:].tolist())\n",
    "\n",
    "# zero-line & layout\n",
    "fig.add_hline(y=0, line=dict(color='black',width=2,dash='solid'),\n",
    "              annotation_text=\"0-line\", annotation_position=\"bottom right\")\n",
    "fig.update_layout(\n",
    "    title=\"All midprice series (zeroed) with insertion/cooling lines\",\n",
    "    xaxis_title=\"Index\", yaxis_title=\"Price – first_price\",\n",
    "    template=\"plotly_white\", hovermode=\"x unified\",\n",
    "    height=800, width=1200, margin={\"b\":150}\n",
    ")\n",
    "fig.update_xaxes(showgrid=False)\n",
    "fig.update_yaxes(showgrid=False)\n",
    "\n",
    "info = (\n",
    "    f\"Midprice every {midprice_step_size} msgs;<br>\"\n",
    "    f\"solid red = insertion (every {n_gen_msgs} msgs +1 step);<br>\"\n",
    "    f\"dashed red = cooling (same spacing); blue = end of history.\"\n",
    ")\n",
    "fig.add_annotation(text=info, xref=\"paper\", yref=\"paper\",\n",
    "                   x=0, y=-0.225, showarrow=False, align=\"left\")\n",
    "fig.show()"
   ]
  },
  {
   "cell_type": "code",
   "execution_count": 9,
   "metadata": {},
   "outputs": [
    {
     "name": "stdout",
     "output_type": "stream",
     "text": [
      "insertion positions: [12, 14]\n",
      "cooling positions:   [16, 18]\n"
     ]
    },
    {
     "data": {
      "application/vnd.plotly.v1+json": {
       "config": {
        "plotlyServerURL": "https://plot.ly"
       },
       "data": [
        {
         "hoverinfo": "skip",
         "line": {
          "width": 1
         },
         "mode": "lines",
         "name": "id 1895",
         "opacity": 0.2,
         "type": "scatter",
         "x": {
          "bdata": "AQIDBAUGBwgJCgsMDQ==",
          "dtype": "i1"
         },
         "y": {
          "bdata": "AADIAMgALAGQASwBLAGQAfQBWAK8AlgCvAI=",
          "dtype": "i2"
         }
        },
        {
         "hoverinfo": "skip",
         "line": {
          "width": 1
         },
         "mode": "lines",
         "name": "id 2787",
         "opacity": 0.2,
         "type": "scatter",
         "x": {
          "bdata": "AQIDBAUGBwgJCgsMDQ==",
          "dtype": "i1"
         },
         "y": {
          "bdata": "AAAAnAAAAJycnJycAA==",
          "dtype": "i1"
         }
        },
        {
         "hoverinfo": "skip",
         "line": {
          "width": 1
         },
         "mode": "lines",
         "name": "id 4668",
         "opacity": 0.2,
         "type": "scatter",
         "x": {
          "bdata": "AQIDBAUGBwgJCgsMDQ==",
          "dtype": "i1"
         },
         "y": {
          "bdata": "AABkAAAAOP+c/5z/nP+c/wAAZABkAGQALAE=",
          "dtype": "i2"
         }
        },
        {
         "hoverinfo": "skip",
         "line": {
          "width": 1
         },
         "mode": "lines",
         "name": "id 14606",
         "opacity": 0.2,
         "type": "scatter",
         "x": {
          "bdata": "AQIDBAUGBwgJCgsMDQ==",
          "dtype": "i1"
         },
         "y": {
          "bdata": "AABkAMgALAGQAZABLAEsAfQBkAGQAZABkAE=",
          "dtype": "i2"
         }
        },
        {
         "hoverinfo": "skip",
         "line": {
          "width": 1
         },
         "mode": "lines",
         "name": "id 16120",
         "opacity": 0.2,
         "type": "scatter",
         "x": {
          "bdata": "AQIDBAUGBwgJCgsMDQ==",
          "dtype": "i1"
         },
         "y": {
          "bdata": "AADIACwByADIAMgAyABkAGQAZABkAGQAZAA=",
          "dtype": "i2"
         }
        },
        {
         "hoverinfo": "skip",
         "line": {
          "width": 1
         },
         "mode": "lines",
         "name": "id 22181",
         "opacity": 0.2,
         "type": "scatter",
         "x": {
          "bdata": "AQIDBAUGBwgJCgsMDQ==",
          "dtype": "i1"
         },
         "y": {
          "bdata": "AABkAMgAkAEsAZABLAEsASwBkAEsASwBLAE=",
          "dtype": "i2"
         }
        },
        {
         "fill": "toself",
         "fillcolor": "rgba(0,0,0,0.1)",
         "hoverinfo": "skip",
         "line": {
          "color": "rgba(0,0,0,0)"
         },
         "name": "±1 std",
         "showlegend": true,
         "type": "scatter",
         "x": {
          "bdata": "AQIDBAUGBwgJCgsMDQ0MCwoJCAcGBQQDAgE=",
          "dtype": "i1"
         },
         "y": {
          "bdata": "AAAAAAAAAAB0SyawUixnQJJbx7jaXHBA7N617cQ7d0B9d2NJxHd4QH13Y0nEd3hAdqfYh3FodEB25s3Afb51QFDsSv6CKXxAkkBOCqdkfkC2aIz5R6l/QF6SRrWu3XxAklvHuNpcgEB0I8U5KhlTQGATBln9PhNAgC0aY/5RGsDA7Te2HmsrQLBvWY/aQjHAtDNvBu7zR8Cgdytf8zgbQGAQkdN2ByFAYBCR03YHIUCye9e2E+9RwHQjxTkqGUNA3nwR6l/5R0AAAAAAAAAAAA==",
          "dtype": "f8"
         }
        },
        {
         "line": {
          "color": "black",
          "width": 4
         },
         "mode": "lines",
         "name": "Mean",
         "type": "scatter",
         "x": {
          "bdata": "AQIDBAUGBwgJCgsMDQ==",
          "dtype": "i1"
         },
         "y": {
          "bdata": "AAAAAAAAAACrqqqqqipdQAAAAAAAwGJAAAAAAADAYkAAAAAAAABpQAAAAAAAAGlAVVVVVVXVZEAAAAAAAMBiQFVVVVVVFWtAAAAAAABAb0AAAAAAAEBvQKuqqqqqKm1AAAAAAADAckA=",
          "dtype": "f8"
         }
        }
       ],
       "layout": {
        "annotations": [
         {
          "showarrow": false,
          "text": "0-line",
          "x": 1,
          "xanchor": "right",
          "xref": "x domain",
          "y": 0,
          "yanchor": "top",
          "yref": "y"
         },
         {
          "align": "left",
          "font": {
           "size": 12
          },
          "showarrow": false,
          "text": "Midprice every 50 msgs;<br>solid red = insertion (every 50 msgs +1 step);<br>dashed red = cooling (same spacing); blue = end of history.",
          "x": 0,
          "xref": "paper",
          "y": -0.225,
          "yref": "paper"
         }
        ],
        "height": 800,
        "hovermode": "x unified",
        "margin": {
         "b": 150
        },
        "shapes": [
         {
          "line": {
           "color": "blue",
           "dash": "dash",
           "width": 2
          },
          "type": "line",
          "x0": 10,
          "x1": 10,
          "xref": "x",
          "y0": 0,
          "y1": 1,
          "yref": "y domain"
         },
         {
          "line": {
           "color": "red",
           "dash": "solid",
           "width": 2
          },
          "type": "line",
          "x0": 12,
          "x1": 12,
          "xref": "x",
          "y0": 0,
          "y1": 1,
          "yref": "y domain"
         },
         {
          "line": {
           "color": "red",
           "dash": "solid",
           "width": 2
          },
          "type": "line",
          "x0": 14,
          "x1": 14,
          "xref": "x",
          "y0": 0,
          "y1": 1,
          "yref": "y domain"
         },
         {
          "line": {
           "color": "red",
           "dash": "dash",
           "width": 2
          },
          "type": "line",
          "x0": 16,
          "x1": 16,
          "xref": "x",
          "y0": 0,
          "y1": 1,
          "yref": "y domain"
         },
         {
          "line": {
           "color": "red",
           "dash": "dash",
           "width": 2
          },
          "type": "line",
          "x0": 18,
          "x1": 18,
          "xref": "x",
          "y0": 0,
          "y1": 1,
          "yref": "y domain"
         },
         {
          "line": {
           "color": "black",
           "dash": "solid",
           "width": 2
          },
          "type": "line",
          "x0": 0,
          "x1": 1,
          "xref": "x domain",
          "y0": 0,
          "y1": 0,
          "yref": "y"
         }
        ],
        "template": {
         "data": {
          "bar": [
           {
            "error_x": {
             "color": "#2a3f5f"
            },
            "error_y": {
             "color": "#2a3f5f"
            },
            "marker": {
             "line": {
              "color": "white",
              "width": 0.5
             },
             "pattern": {
              "fillmode": "overlay",
              "size": 10,
              "solidity": 0.2
             }
            },
            "type": "bar"
           }
          ],
          "barpolar": [
           {
            "marker": {
             "line": {
              "color": "white",
              "width": 0.5
             },
             "pattern": {
              "fillmode": "overlay",
              "size": 10,
              "solidity": 0.2
             }
            },
            "type": "barpolar"
           }
          ],
          "carpet": [
           {
            "aaxis": {
             "endlinecolor": "#2a3f5f",
             "gridcolor": "#C8D4E3",
             "linecolor": "#C8D4E3",
             "minorgridcolor": "#C8D4E3",
             "startlinecolor": "#2a3f5f"
            },
            "baxis": {
             "endlinecolor": "#2a3f5f",
             "gridcolor": "#C8D4E3",
             "linecolor": "#C8D4E3",
             "minorgridcolor": "#C8D4E3",
             "startlinecolor": "#2a3f5f"
            },
            "type": "carpet"
           }
          ],
          "choropleth": [
           {
            "colorbar": {
             "outlinewidth": 0,
             "ticks": ""
            },
            "type": "choropleth"
           }
          ],
          "contour": [
           {
            "colorbar": {
             "outlinewidth": 0,
             "ticks": ""
            },
            "colorscale": [
             [
              0,
              "#0d0887"
             ],
             [
              0.1111111111111111,
              "#46039f"
             ],
             [
              0.2222222222222222,
              "#7201a8"
             ],
             [
              0.3333333333333333,
              "#9c179e"
             ],
             [
              0.4444444444444444,
              "#bd3786"
             ],
             [
              0.5555555555555556,
              "#d8576b"
             ],
             [
              0.6666666666666666,
              "#ed7953"
             ],
             [
              0.7777777777777778,
              "#fb9f3a"
             ],
             [
              0.8888888888888888,
              "#fdca26"
             ],
             [
              1,
              "#f0f921"
             ]
            ],
            "type": "contour"
           }
          ],
          "contourcarpet": [
           {
            "colorbar": {
             "outlinewidth": 0,
             "ticks": ""
            },
            "type": "contourcarpet"
           }
          ],
          "heatmap": [
           {
            "colorbar": {
             "outlinewidth": 0,
             "ticks": ""
            },
            "colorscale": [
             [
              0,
              "#0d0887"
             ],
             [
              0.1111111111111111,
              "#46039f"
             ],
             [
              0.2222222222222222,
              "#7201a8"
             ],
             [
              0.3333333333333333,
              "#9c179e"
             ],
             [
              0.4444444444444444,
              "#bd3786"
             ],
             [
              0.5555555555555556,
              "#d8576b"
             ],
             [
              0.6666666666666666,
              "#ed7953"
             ],
             [
              0.7777777777777778,
              "#fb9f3a"
             ],
             [
              0.8888888888888888,
              "#fdca26"
             ],
             [
              1,
              "#f0f921"
             ]
            ],
            "type": "heatmap"
           }
          ],
          "histogram": [
           {
            "marker": {
             "pattern": {
              "fillmode": "overlay",
              "size": 10,
              "solidity": 0.2
             }
            },
            "type": "histogram"
           }
          ],
          "histogram2d": [
           {
            "colorbar": {
             "outlinewidth": 0,
             "ticks": ""
            },
            "colorscale": [
             [
              0,
              "#0d0887"
             ],
             [
              0.1111111111111111,
              "#46039f"
             ],
             [
              0.2222222222222222,
              "#7201a8"
             ],
             [
              0.3333333333333333,
              "#9c179e"
             ],
             [
              0.4444444444444444,
              "#bd3786"
             ],
             [
              0.5555555555555556,
              "#d8576b"
             ],
             [
              0.6666666666666666,
              "#ed7953"
             ],
             [
              0.7777777777777778,
              "#fb9f3a"
             ],
             [
              0.8888888888888888,
              "#fdca26"
             ],
             [
              1,
              "#f0f921"
             ]
            ],
            "type": "histogram2d"
           }
          ],
          "histogram2dcontour": [
           {
            "colorbar": {
             "outlinewidth": 0,
             "ticks": ""
            },
            "colorscale": [
             [
              0,
              "#0d0887"
             ],
             [
              0.1111111111111111,
              "#46039f"
             ],
             [
              0.2222222222222222,
              "#7201a8"
             ],
             [
              0.3333333333333333,
              "#9c179e"
             ],
             [
              0.4444444444444444,
              "#bd3786"
             ],
             [
              0.5555555555555556,
              "#d8576b"
             ],
             [
              0.6666666666666666,
              "#ed7953"
             ],
             [
              0.7777777777777778,
              "#fb9f3a"
             ],
             [
              0.8888888888888888,
              "#fdca26"
             ],
             [
              1,
              "#f0f921"
             ]
            ],
            "type": "histogram2dcontour"
           }
          ],
          "mesh3d": [
           {
            "colorbar": {
             "outlinewidth": 0,
             "ticks": ""
            },
            "type": "mesh3d"
           }
          ],
          "parcoords": [
           {
            "line": {
             "colorbar": {
              "outlinewidth": 0,
              "ticks": ""
             }
            },
            "type": "parcoords"
           }
          ],
          "pie": [
           {
            "automargin": true,
            "type": "pie"
           }
          ],
          "scatter": [
           {
            "fillpattern": {
             "fillmode": "overlay",
             "size": 10,
             "solidity": 0.2
            },
            "type": "scatter"
           }
          ],
          "scatter3d": [
           {
            "line": {
             "colorbar": {
              "outlinewidth": 0,
              "ticks": ""
             }
            },
            "marker": {
             "colorbar": {
              "outlinewidth": 0,
              "ticks": ""
             }
            },
            "type": "scatter3d"
           }
          ],
          "scattercarpet": [
           {
            "marker": {
             "colorbar": {
              "outlinewidth": 0,
              "ticks": ""
             }
            },
            "type": "scattercarpet"
           }
          ],
          "scattergeo": [
           {
            "marker": {
             "colorbar": {
              "outlinewidth": 0,
              "ticks": ""
             }
            },
            "type": "scattergeo"
           }
          ],
          "scattergl": [
           {
            "marker": {
             "colorbar": {
              "outlinewidth": 0,
              "ticks": ""
             }
            },
            "type": "scattergl"
           }
          ],
          "scattermap": [
           {
            "marker": {
             "colorbar": {
              "outlinewidth": 0,
              "ticks": ""
             }
            },
            "type": "scattermap"
           }
          ],
          "scattermapbox": [
           {
            "marker": {
             "colorbar": {
              "outlinewidth": 0,
              "ticks": ""
             }
            },
            "type": "scattermapbox"
           }
          ],
          "scatterpolar": [
           {
            "marker": {
             "colorbar": {
              "outlinewidth": 0,
              "ticks": ""
             }
            },
            "type": "scatterpolar"
           }
          ],
          "scatterpolargl": [
           {
            "marker": {
             "colorbar": {
              "outlinewidth": 0,
              "ticks": ""
             }
            },
            "type": "scatterpolargl"
           }
          ],
          "scatterternary": [
           {
            "marker": {
             "colorbar": {
              "outlinewidth": 0,
              "ticks": ""
             }
            },
            "type": "scatterternary"
           }
          ],
          "surface": [
           {
            "colorbar": {
             "outlinewidth": 0,
             "ticks": ""
            },
            "colorscale": [
             [
              0,
              "#0d0887"
             ],
             [
              0.1111111111111111,
              "#46039f"
             ],
             [
              0.2222222222222222,
              "#7201a8"
             ],
             [
              0.3333333333333333,
              "#9c179e"
             ],
             [
              0.4444444444444444,
              "#bd3786"
             ],
             [
              0.5555555555555556,
              "#d8576b"
             ],
             [
              0.6666666666666666,
              "#ed7953"
             ],
             [
              0.7777777777777778,
              "#fb9f3a"
             ],
             [
              0.8888888888888888,
              "#fdca26"
             ],
             [
              1,
              "#f0f921"
             ]
            ],
            "type": "surface"
           }
          ],
          "table": [
           {
            "cells": {
             "fill": {
              "color": "#EBF0F8"
             },
             "line": {
              "color": "white"
             }
            },
            "header": {
             "fill": {
              "color": "#C8D4E3"
             },
             "line": {
              "color": "white"
             }
            },
            "type": "table"
           }
          ]
         },
         "layout": {
          "annotationdefaults": {
           "arrowcolor": "#2a3f5f",
           "arrowhead": 0,
           "arrowwidth": 1
          },
          "autotypenumbers": "strict",
          "coloraxis": {
           "colorbar": {
            "outlinewidth": 0,
            "ticks": ""
           }
          },
          "colorscale": {
           "diverging": [
            [
             0,
             "#8e0152"
            ],
            [
             0.1,
             "#c51b7d"
            ],
            [
             0.2,
             "#de77ae"
            ],
            [
             0.3,
             "#f1b6da"
            ],
            [
             0.4,
             "#fde0ef"
            ],
            [
             0.5,
             "#f7f7f7"
            ],
            [
             0.6,
             "#e6f5d0"
            ],
            [
             0.7,
             "#b8e186"
            ],
            [
             0.8,
             "#7fbc41"
            ],
            [
             0.9,
             "#4d9221"
            ],
            [
             1,
             "#276419"
            ]
           ],
           "sequential": [
            [
             0,
             "#0d0887"
            ],
            [
             0.1111111111111111,
             "#46039f"
            ],
            [
             0.2222222222222222,
             "#7201a8"
            ],
            [
             0.3333333333333333,
             "#9c179e"
            ],
            [
             0.4444444444444444,
             "#bd3786"
            ],
            [
             0.5555555555555556,
             "#d8576b"
            ],
            [
             0.6666666666666666,
             "#ed7953"
            ],
            [
             0.7777777777777778,
             "#fb9f3a"
            ],
            [
             0.8888888888888888,
             "#fdca26"
            ],
            [
             1,
             "#f0f921"
            ]
           ],
           "sequentialminus": [
            [
             0,
             "#0d0887"
            ],
            [
             0.1111111111111111,
             "#46039f"
            ],
            [
             0.2222222222222222,
             "#7201a8"
            ],
            [
             0.3333333333333333,
             "#9c179e"
            ],
            [
             0.4444444444444444,
             "#bd3786"
            ],
            [
             0.5555555555555556,
             "#d8576b"
            ],
            [
             0.6666666666666666,
             "#ed7953"
            ],
            [
             0.7777777777777778,
             "#fb9f3a"
            ],
            [
             0.8888888888888888,
             "#fdca26"
            ],
            [
             1,
             "#f0f921"
            ]
           ]
          },
          "colorway": [
           "#636efa",
           "#EF553B",
           "#00cc96",
           "#ab63fa",
           "#FFA15A",
           "#19d3f3",
           "#FF6692",
           "#B6E880",
           "#FF97FF",
           "#FECB52"
          ],
          "font": {
           "color": "#2a3f5f"
          },
          "geo": {
           "bgcolor": "white",
           "lakecolor": "white",
           "landcolor": "white",
           "showlakes": true,
           "showland": true,
           "subunitcolor": "#C8D4E3"
          },
          "hoverlabel": {
           "align": "left"
          },
          "hovermode": "closest",
          "mapbox": {
           "style": "light"
          },
          "paper_bgcolor": "white",
          "plot_bgcolor": "white",
          "polar": {
           "angularaxis": {
            "gridcolor": "#EBF0F8",
            "linecolor": "#EBF0F8",
            "ticks": ""
           },
           "bgcolor": "white",
           "radialaxis": {
            "gridcolor": "#EBF0F8",
            "linecolor": "#EBF0F8",
            "ticks": ""
           }
          },
          "scene": {
           "xaxis": {
            "backgroundcolor": "white",
            "gridcolor": "#DFE8F3",
            "gridwidth": 2,
            "linecolor": "#EBF0F8",
            "showbackground": true,
            "ticks": "",
            "zerolinecolor": "#EBF0F8"
           },
           "yaxis": {
            "backgroundcolor": "white",
            "gridcolor": "#DFE8F3",
            "gridwidth": 2,
            "linecolor": "#EBF0F8",
            "showbackground": true,
            "ticks": "",
            "zerolinecolor": "#EBF0F8"
           },
           "zaxis": {
            "backgroundcolor": "white",
            "gridcolor": "#DFE8F3",
            "gridwidth": 2,
            "linecolor": "#EBF0F8",
            "showbackground": true,
            "ticks": "",
            "zerolinecolor": "#EBF0F8"
           }
          },
          "shapedefaults": {
           "line": {
            "color": "#2a3f5f"
           }
          },
          "ternary": {
           "aaxis": {
            "gridcolor": "#DFE8F3",
            "linecolor": "#A2B1C6",
            "ticks": ""
           },
           "baxis": {
            "gridcolor": "#DFE8F3",
            "linecolor": "#A2B1C6",
            "ticks": ""
           },
           "bgcolor": "white",
           "caxis": {
            "gridcolor": "#DFE8F3",
            "linecolor": "#A2B1C6",
            "ticks": ""
           }
          },
          "title": {
           "x": 0.05
          },
          "xaxis": {
           "automargin": true,
           "gridcolor": "#EBF0F8",
           "linecolor": "#EBF0F8",
           "ticks": "",
           "title": {
            "standoff": 15
           },
           "zerolinecolor": "#EBF0F8",
           "zerolinewidth": 2
          },
          "yaxis": {
           "automargin": true,
           "gridcolor": "#EBF0F8",
           "linecolor": "#EBF0F8",
           "ticks": "",
           "title": {
            "standoff": 15
           },
           "zerolinecolor": "#EBF0F8",
           "zerolinewidth": 2
          }
         }
        },
        "title": {
         "text": "All midprice series (zeroed) with insertion/cooling lines"
        },
        "width": 1200,
        "xaxis": {
         "showgrid": false,
         "title": {
          "text": "Index"
         }
        },
        "yaxis": {
         "showgrid": false,
         "title": {
          "text": "Price – first_price"
         }
        }
       }
      }
     },
     "metadata": {},
     "output_type": "display_data"
    }
   ],
   "source": [
    "# 1) how many mid-price samples in one historical block?\n",
    "hist_steps = hist_msgs // midprice_step_size\n",
    "\n",
    "# 2) how many mid-price samples in one generated block?\n",
    "gen_steps  = n_gen_msgs // midprice_step_size\n",
    "\n",
    "# 3) the “block” between events in mid-price units:\n",
    "gen_block  = gen_steps + 1    # one extra step after each generated block\n",
    "\n",
    "# collect your zeroed series…\n",
    "all_series = []\n",
    "for row in merged.itertuples(index=False):\n",
    "    data = np.array(row.merged_data)\n",
    "    arr0 = data - data[0]\n",
    "    all_series.append(arr0)\n",
    "all_series = np.vstack(all_series)\n",
    "time       = all_series.shape[1]\n",
    "x          = np.arange(1, time+1)\n",
    "\n",
    "# compute mean/std\n",
    "mean_series = all_series.mean(axis=0)\n",
    "std_series  = all_series.std(axis=0)\n",
    "\n",
    "fig = go.Figure()\n",
    "\n",
    "# faint individual traces\n",
    "for row, arr0 in zip(merged.itertuples(index=False), all_series):\n",
    "    fig.add_trace(go.Scatter(\n",
    "        x=x, y=arr0, mode='lines',\n",
    "        name=f\"id {row.id}\", line=dict(width=1),\n",
    "        opacity=0.2, hoverinfo='skip'\n",
    "    ))\n",
    "\n",
    "# ±1 std band\n",
    "fig.add_trace(go.Scatter(\n",
    "    x=np.concatenate([x, x[::-1]]),\n",
    "    y=np.concatenate([mean_series + std_series, (mean_series - std_series)[::-1]]),\n",
    "    fill='toself', fillcolor='rgba(0,0,0,0.1)',\n",
    "    line=dict(color='rgba(0,0,0,0)'), hoverinfo='skip',\n",
    "    showlegend=True, name='±1 std'\n",
    "))\n",
    "\n",
    "# bold mean line\n",
    "fig.add_trace(go.Scatter(\n",
    "    x=x, y=mean_series, mode='lines',\n",
    "    name='Mean', line=dict(color='black', width=4)\n",
    "))\n",
    "\n",
    "# history-end (blue dashed)\n",
    "fig.add_vline(x=hist_steps, line=dict(color='blue', width=2, dash='dash'))\n",
    "\n",
    "# build all event positions in mid-price units\n",
    "events = np.arange(1, num_insertions + num_coolings + 1)\n",
    "positions = hist_steps + gen_block * events\n",
    "\n",
    "# insertion (solid red) = first num_insertions events\n",
    "for pos in positions[:num_insertions]:\n",
    "    fig.add_vline(x=pos, line=dict(color='red', width=2, dash='solid'))\n",
    "# cooling (dashed red) = next num_coolings events\n",
    "for pos in positions[num_insertions:]:\n",
    "    fig.add_vline(x=pos, line=dict(color='red', width=2, dash='dash'))\n",
    "\n",
    "print(\"insertion positions:\", positions[:num_insertions].tolist())\n",
    "print(\"cooling positions:  \", positions[num_insertions:].tolist())\n",
    "\n",
    "# zero‐line\n",
    "fig.add_hline(y=0, line=dict(color='black', width=2, dash='solid'),\n",
    "              annotation_text=\"0-line\", annotation_position=\"bottom right\")\n",
    "\n",
    "# layout\n",
    "fig.update_layout(\n",
    "    title=\"All midprice series (zeroed) with insertion/cooling lines\",\n",
    "    xaxis_title=\"Index\", yaxis_title=\"Price – first_price\",\n",
    "    template=\"plotly_white\", hovermode=\"x unified\",\n",
    "    height=800, width=1200, margin={\"b\":150}\n",
    ")\n",
    "fig.update_xaxes(showgrid=False)\n",
    "fig.update_yaxes(showgrid=False)\n",
    "\n",
    "info_text = (\n",
    "    f\"Midprice every {midprice_step_size} msgs;<br>\"\n",
    "    f\"solid red = insertion (every {n_gen_msgs} msgs +1 step);<br>\"\n",
    "    f\"dashed red = cooling (same spacing); blue = end of history.\"\n",
    ")\n",
    "fig.add_annotation(\n",
    "    text=info_text, xref=\"paper\", yref=\"paper\",\n",
    "    x=0, y=-0.225, showarrow=False, align=\"left\", font={\"size\":12}\n",
    ")\n",
    "\n",
    "fig.show()"
   ]
  },
  {
   "cell_type": "code",
   "execution_count": 10,
   "metadata": {},
   "outputs": [],
   "source": [
    "import os, glob, re\n",
    "import numpy as np\n",
    "import pandas as pd\n",
    "\n",
    "def build_and_merge(folder, batch_prefix, inp_prefix):\n",
    "    # STEP 1: load every .npy (shape (batch_size, time, feat)) into a DataFrame\n",
    "    files   = glob.glob(os.path.join(folder, \"*.npy\"))\n",
    "    rx_iter = re.compile(rf\"{re.escape(batch_prefix)}_\\[(.+)\\]_iter_(\\d+)\\.npy$\")\n",
    "    rx_inp  = re.compile(rf\"{re.escape(inp_prefix)}_\\[(.+)\\]\\.npy$\")\n",
    "    rec = []\n",
    "    for f in files:\n",
    "        nm = os.path.basename(f)\n",
    "        m  = rx_iter.match(nm)\n",
    "        if m:\n",
    "            rng, itr = m.group(1).replace(\" \", \"\"), int(m.group(2))\n",
    "        else:\n",
    "            m2 = rx_inp.match(nm)\n",
    "            if not m2:\n",
    "                continue\n",
    "            rng, itr = m2.group(1).replace(\" \", \"\"), 0\n",
    "        batch = np.load(f)  # shape (batch_size, time, features)\n",
    "        rec.append({\"range\": rng, \"iteration\": itr, \"batch\": batch})\n",
    "    df = pd.DataFrame(rec).sort_values([\"range\",\"iteration\"]).reset_index(drop=True)\n",
    "\n",
    "    # STEP 2: parse the comma‐separated list of IDs into Python lists\n",
    "    df[\"ids\"] = df[\"range\"].str.split(\",\").apply(lambda L: [int(x) for x in L])\n",
    "\n",
    "    # explode each batch into one row per sample\n",
    "    rows = []\n",
    "    for _, r in df.iterrows():\n",
    "        for idx, sample_id in enumerate(r[\"ids\"]):\n",
    "            single = r[\"batch\"][idx]   # shape (time, features)\n",
    "            rows.append({\n",
    "                \"id\":        sample_id,\n",
    "                \"iteration\": r[\"iteration\"],\n",
    "                \"data\":      single\n",
    "            })\n",
    "    df_sorted = pd.DataFrame(rows).sort_values([\"id\",\"iteration\"]).reset_index(drop=True)\n",
    "\n",
    "    # STEP 3: for each id, concatenate all its iterations end-to-end\n",
    "    merged = []\n",
    "    for id_val, grp in df_sorted.groupby(\"id\", sort=True):\n",
    "        arrs = [row.data for _, row in grp.iterrows()]\n",
    "        big  = np.concatenate(arrs, axis=0)   # (sum_time, features)\n",
    "        merged.append({\"id\": id_val, \"merged_data\": big})\n",
    "    merged_df = pd.DataFrame(merged).sort_values(\"id\").reset_index(drop=True)\n",
    "\n",
    "    return df, df_sorted, merged_df\n",
    "\n",
    "# — example usage —\n",
    "b_folder      = f\"/app/data_saved/{experiment_name}/b_seq_gen_doubled\"\n",
    "b_batch_pref  = \"b_seq_gen_doubled_batch\"\n",
    "b_inp_pref    = \"b_seq_inp\"\n",
    "_, b_sorted, b_merged = build_and_merge(b_folder, b_batch_pref, b_inp_pref)\n",
    "\n",
    "m_folder      = f\"/app/data_saved/{experiment_name}/msgs_decoded_doubled\"\n",
    "m_batch_pref  = \"msgs_decoded_doubled_batch\"\n",
    "m_inp_pref    = \"msgs_decoded_doubled_inp\"\n",
    "_, m_sorted, m_merged = build_and_merge(m_folder, m_batch_pref, m_inp_pref)\n",
    "\n",
    "# build your dicts\n",
    "b_dict = { int(r.id): np.array(r.merged_data) for _, r in b_merged.iterrows() }\n",
    "m_dict = { int(r.id): np.array(r.merged_data) for _, r in m_merged.iterrows() }\n",
    "\n",
    "# prepend zero‐row so that your interactive plot indexing from t=1…T works\n",
    "for d in (b_dict, m_dict):\n",
    "    for key, arr in d.items():\n",
    "        zero = np.zeros((1, arr.shape[1]), dtype=arr.dtype)\n",
    "        d[key] = np.vstack([zero, arr])"
   ]
  },
  {
   "cell_type": "code",
   "execution_count": 13,
   "metadata": {},
   "outputs": [
    {
     "data": {
      "application/vnd.jupyter.widget-view+json": {
       "model_id": "9c2c3dca18ec4fa3aefa031976ebe4ce",
       "version_major": 2,
       "version_minor": 0
      },
      "text/plain": [
       "HBox(children=(Dropdown(description='Sample ID:', options=(1895, 2787, 4668, 14606, 16120, 22181), value=1895)…"
      ]
     },
     "metadata": {},
     "output_type": "display_data"
    },
    {
     "data": {
      "application/vnd.jupyter.widget-view+json": {
       "model_id": "1be69f1ca96e481391f50f85cb368aad",
       "version_major": 2,
       "version_minor": 0
      },
      "text/plain": [
       "FigureWidget({\n",
       "    'data': [{'marker': {'color': 'orange'},\n",
       "              'type': 'bar',\n",
       "              'uid': 'ccae450c-410c-4fc4-aed4-3dd4e250dffe',\n",
       "              'x': {'bdata': '9fb3+Pn6+/z9/v8AAQIDBAUGBwgJCgs=', 'dtype': 'i1'},\n",
       "              'xaxis': 'x',\n",
       "              'y': {'bdata': ('AAAAAAAAAAAAAAAAAAAAAAAAAAAAAA' ... 'AAAAAAAAAAAAAAAAAAAAAAAAAAAAA='),\n",
       "                    'dtype': 'f4'},\n",
       "              'yaxis': 'y'},\n",
       "             {'marker': {'color': [orange, red, red, red, red, red, red, red, red,\n",
       "                                   red, red, orange, blue, blue, blue, blue, blue,\n",
       "                                   blue, blue, blue, blue, blue, orange]},\n",
       "              'type': 'bar',\n",
       "              'uid': '06374043-c809-41f2-b6dd-68ec6dd2083c',\n",
       "              'x': {'bdata': '9fb3+Pn6+/z9/v8AAQIDBAUGBwgJCgs=', 'dtype': 'i1'},\n",
       "              'xaxis': 'x2',\n",
       "              'y': {'bdata': ('AAAAAK9H4T5WDg0/MN0EP5qZGT+pxm' ... 'rA2s4Xv/T9FL/qJvG+wcohvwAAAAA='),\n",
       "                    'dtype': 'f4'},\n",
       "              'yaxis': 'y2'}],\n",
       "    'layout': {'annotations': [{'font': {'size': 16},\n",
       "                                'showarrow': False,\n",
       "                                'text': 'Book state 0',\n",
       "                                'x': 0.225,\n",
       "                                'xanchor': 'center',\n",
       "                                'xref': 'paper',\n",
       "                                'y': 1.0,\n",
       "                                'yanchor': 'bottom',\n",
       "                                'yref': 'paper'},\n",
       "                               {'font': {'size': 16},\n",
       "                                'showarrow': False,\n",
       "                                'text': 'Book state 1',\n",
       "                                'x': 0.775,\n",
       "                                'xanchor': 'center',\n",
       "                                'xref': 'paper',\n",
       "                                'y': 1.0,\n",
       "                                'yanchor': 'bottom',\n",
       "                                'yref': 'paper'}],\n",
       "               'height': 400,\n",
       "               'showlegend': False,\n",
       "               'template': '...',\n",
       "               'width': 800,\n",
       "               'xaxis': {'anchor': 'y', 'domain': [0.0, 0.45]},\n",
       "               'xaxis2': {'anchor': 'y2', 'domain': [0.55, 1.0]},\n",
       "               'yaxis': {'anchor': 'x', 'domain': [0.0, 1.0]},\n",
       "               'yaxis2': {'anchor': 'x2', 'domain': [0.0, 1.0]}}\n",
       "})"
      ]
     },
     "metadata": {},
     "output_type": "display_data"
    },
    {
     "data": {
      "application/vnd.jupyter.widget-view+json": {
       "model_id": "2a0bc16b3cfb409887fdaf1e4268677a",
       "version_major": 2,
       "version_minor": 0
      },
      "text/plain": [
       "HTML(value='<b>Delete • Buy • abs=891500 • rel=-9 • size=500<br></b>raw:[-2, 3, 1, 891500, -9, 500, 0, 387358,…"
      ]
     },
     "metadata": {},
     "output_type": "display_data"
    }
   ],
   "source": [
    "import numpy as np\n",
    "import pandas as pd\n",
    "import plotly.graph_objs as go\n",
    "from plotly.subplots import make_subplots\n",
    "import ipywidgets as widgets\n",
    "from IPython.display import display\n",
    "\n",
    "def interactive_lob_plot(b_seq_inp, msg_seq_raw):\n",
    "    # allow DataFrame or dict\n",
    "    if isinstance(b_seq_inp, pd.DataFrame):\n",
    "        b_seq_inp = {int(r.id): np.array(r.merged_data) for _,r in b_seq_inp.iterrows()}\n",
    "    if isinstance(msg_seq_raw, pd.DataFrame):\n",
    "        msg_seq_raw = {int(r.id): np.array(r.merged_data) for _,r in msg_seq_raw.iterrows()}\n",
    "\n",
    "    # controls\n",
    "    id_dd       = widgets.Dropdown(options=sorted(b_seq_inp.keys()), description=\"Sample ID:\")\n",
    "    time_slider = widgets.IntSlider(min=1, max=1, step=1, description=\"t:\")\n",
    "    btn_prev    = widgets.Button(description=\"←\")\n",
    "    btn_next    = widgets.Button(description=\"→\")\n",
    "    msg_box     = widgets.HTML()\n",
    "\n",
    "    # figure with two subplots\n",
    "    fig = make_subplots(rows=1, cols=2, subplot_titles=[\"Book state t–1\",\"Book state t\"])\n",
    "    fig.add_trace(go.Bar(x=[],y=[]), row=1,col=1)\n",
    "    fig.add_trace(go.Bar(x=[],y=[]), row=1,col=2)\n",
    "    fig.update_layout(width=800, height=400, showlegend=False, template='plotly_white')\n",
    "    fig_widget = go.FigureWidget(fig)\n",
    "\n",
    "    def update_slider_range(*_):\n",
    "        arr = b_seq_inp[id_dd.value]\n",
    "        # now slider runs 1…(T−1)\n",
    "        time_slider.min = 1\n",
    "        time_slider.max = arr.shape[0] - 1\n",
    "        time_slider.value = 1\n",
    "\n",
    "    def update_plot(*_):\n",
    "        sid = id_dd.value\n",
    "        t   = time_slider.value\n",
    "        arr = b_seq_inp[sid]\n",
    "        msgs= msg_seq_raw[sid]\n",
    "\n",
    "        # take book states at t−1 and t\n",
    "        s0 = arr[t-1, 240:263]\n",
    "        s1 = arr[t,   240:263]\n",
    "\n",
    "        # s0 = arr[t-1]\n",
    "        # s1 = arr[t]\n",
    "\n",
    "\n",
    "        diff = s1 - s0\n",
    "        x = np.arange(len(s0)) - len(s0)//2\n",
    "\n",
    "        with fig_widget.batch_update():\n",
    "            fig_widget.data = []\n",
    "            fig_widget.add_bar(x=x, y=s0, row=1, col=1, marker_color='orange')\n",
    "            colors = ['orange' if abs(d)<1e-8 else ('red' if d>0 else 'blue') for d in diff]\n",
    "            fig_widget.add_bar(x=x, y=s1, row=1, col=2, marker_color=colors)\n",
    "            fig_widget.layout.annotations[0].text = f\"Book state {t-1}\"\n",
    "            fig_widget.layout.annotations[1].text = f\"Book state {t}\"\n",
    "\n",
    "        # show message at index t\n",
    "        m = msgs[t].astype(int)\n",
    "        # fields: [0]=timestamp, [1]=etype, [2]=dir, [3]=abspr, [4]=relpr, [5]=size, …\n",
    "        et, dr, abspr, relpr, sz = m[1], m[2], m[3], m[4], m[5]\n",
    "        et_map = {1:\"Limit\",2:\"PartialCancel\",3:\"Delete\",4:\"Execution\"}\n",
    "        dr_map = {1:\"Buy\",0:\"Sell\"}\n",
    "        info = (\n",
    "            f\"{et_map.get(et,'?')} • \"\n",
    "            f\"{dr_map.get(dr,'?')} • \"\n",
    "            f\"abs={abspr} • rel={relpr} • size={sz}\"\n",
    "        )\n",
    "        msg_box.value = f\"<b>{info}<br></b>raw:{m.tolist()}\"\n",
    "\n",
    "    def on_prev(b):\n",
    "        if time_slider.value>time_slider.min:\n",
    "            time_slider.value -= 1\n",
    "    def on_next(b):\n",
    "        if time_slider.value<time_slider.max:\n",
    "            time_slider.value += 1\n",
    "\n",
    "    # wire up events\n",
    "    id_dd.observe(lambda c: update_slider_range(), names='value')\n",
    "    time_slider.observe(lambda c: update_plot(), names='value')\n",
    "    btn_prev.on_click(on_prev)\n",
    "    btn_next.on_click(on_next)\n",
    "\n",
    "    # initial draw\n",
    "    update_slider_range()\n",
    "    update_plot()\n",
    "\n",
    "    display(widgets.HBox([id_dd, btn_prev, btn_next, time_slider]))\n",
    "    display(fig_widget, msg_box)\n",
    "\n",
    "\n",
    "interactive_lob_plot(b_dict, m_dict)"
   ]
  },
  {
   "cell_type": "code",
   "execution_count": null,
   "metadata": {},
   "outputs": [],
   "source": []
  },
  {
   "cell_type": "code",
   "execution_count": null,
   "metadata": {},
   "outputs": [],
   "source": []
  }
 ],
 "metadata": {
  "kernelspec": {
   "display_name": "myenv",
   "language": "python",
   "name": "python3"
  },
  "language_info": {
   "codemirror_mode": {
    "name": "ipython",
    "version": 3
   },
   "file_extension": ".py",
   "mimetype": "text/x-python",
   "name": "python",
   "nbconvert_exporter": "python",
   "pygments_lexer": "ipython3",
   "version": "3.12.3"
  }
 },
 "nbformat": 4,
 "nbformat_minor": 2
}
