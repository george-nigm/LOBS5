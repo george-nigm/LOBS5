{
 "cells": [
  {
   "cell_type": "code",
   "execution_count": 1,
   "metadata": {},
   "outputs": [
    {
     "name": "stdout",
     "output_type": "stream",
     "text": [
      "/app\n"
     ]
    }
   ],
   "source": [
    "%cd /app"
   ]
  },
  {
   "cell_type": "code",
   "execution_count": 2,
   "metadata": {},
   "outputs": [
    {
     "name": "stderr",
     "output_type": "stream",
     "text": [
      "2025-06-30 15:52:11.381963: W external/xla/xla/service/gpu/nvptx_compiler.cc:718] The NVIDIA driver's CUDA version is 12.8 which is older than the ptxas CUDA version (12.9.41). Because the driver is older than the ptxas version, XLA is disabling parallel compilation, which may slow down compilation. You should update your NVIDIA driver or use the NVIDIA-provided CUDA forward compatibility packages.\n",
      "WARNING:absl:Type handler registry overriding type \"<class 'float'>\" collision on scalar\n",
      "WARNING:absl:Type handler registry overriding type \"<class 'bytes'>\" collision on scalar\n",
      "WARNING:absl:Type handler registry overriding type \"<class 'numpy.number'>\" collision on scalar\n",
      "2025-06-30 15:52:13.811230: W tensorflow/compiler/tf2tensorrt/utils/py_utils.cc:38] TF-TRT Warning: Could not find TensorRT\n"
     ]
    }
   ],
   "source": [
    "import argparse\n",
    "import os\n",
    "import sys\n",
    "\n",
    "os.environ[\"XLA_PYTHON_CLIENT_PREALLOCATE\"] = \"false\"\n",
    "\n",
    "import torch\n",
    "torch.multiprocessing.set_start_method('spawn')\n",
    "\n",
    "import jax\n",
    "from lob.encoding import Vocab, Message_Tokenizer\n",
    "\n",
    "from lob import inference_no_errcorr as inference\n",
    "from lob.init_train import init_train_state, load_checkpoint, load_metadata, load_args_from_checkpoint\n",
    "\n",
    "from lob import inference_no_errcorr as inference\n",
    "import lob.encoding as encoding\n",
    "import preproc as preproc\n",
    "\n",
    "import jax.numpy as jnp\n",
    "import numpy as np\n",
    "\n",
    "from pathlib import Path\n",
    "import os\n",
    "\n",
    "import pandas as pd\n",
    "import plotly.graph_objs as go\n",
    "import yaml\n",
    "\n",
    "from filtration_utils import summary_table, build_zero_padded_series, plot_midprice_series_with_insertions, prepare_volatility_filtered_series"
   ]
  },
  {
   "cell_type": "code",
   "execution_count": 3,
   "metadata": {},
   "outputs": [],
   "source": [
    "experiment_name = 'exp_50_20250610_145911'\n",
    "CONFIG_PATH = f\"/app/data_saved/{experiment_name}/used_config.yaml\"\n",
    "\n",
    "# Load YAML config\n",
    "with open(CONFIG_PATH, 'r') as f:\n",
    "    config = yaml.safe_load(f)\n",
    "\n",
    "# Extract values\n",
    "num_insertions      = config[\"num_insertions\"]\n",
    "num_coolings        = config[\"num_coolings\"]\n",
    "midprice_step_size  = config[\"midprice_step_size\"]\n",
    "hist_msgs           = config[\"n_messages\"]\n",
    "n_gen_msgs          = config[\"n_gen_msgs\"]"
   ]
  },
  {
   "cell_type": "code",
   "execution_count": 4,
   "metadata": {},
   "outputs": [],
   "source": [
    "# batch_size = 6\n",
    "# n_samples = 60\n",
    "\n",
    "# hist_msgs = 500\n",
    "# n_gen_msgs = 50\n",
    "# midprice_step_size = 1\n",
    "\n",
    "# num_insertions = 20\n",
    "# num_coolings = 40"
   ]
  },
  {
   "cell_type": "code",
   "execution_count": 5,
   "metadata": {},
   "outputs": [
    {
     "name": "stdout",
     "output_type": "stream",
     "text": [
      "num_insertions: 2\n",
      "num_coolings: 2\n",
      "midprice_step_size: 1\n",
      "hist_msgs: 500\n",
      "n_gen_msgs: 50\n"
     ]
    }
   ],
   "source": [
    "print(f'num_insertions: {num_insertions}')\n",
    "print(f'num_coolings: {num_coolings}')\n",
    "print(f'midprice_step_size: {midprice_step_size}')\n",
    "print(f'hist_msgs: {hist_msgs}')\n",
    "print(f'n_gen_msgs: {n_gen_msgs}')"
   ]
  },
  {
   "cell_type": "code",
   "execution_count": 6,
   "metadata": {},
   "outputs": [
    {
     "name": "stdout",
     "output_type": "stream",
     "text": [
      "      id                                        merged_data\n",
      "0   2787  [897700, 897700, 897700, 897700, 897700, 89770...\n",
      "1   4668  [887000, 887000, 887000, 887000, 887000, 88700...\n",
      "2  14606  [867800, 867800, 867800, 867800, 867800, 86780...\n",
      "3  16120  [872300, 872300, 872300, 872300, 872300, 87230...\n"
     ]
    }
   ],
   "source": [
    "hist_steps = hist_msgs // midprice_step_size       # 500\n",
    "gen_steps = n_gen_msgs // midprice_step_size     # 50\n",
    "gen_block = gen_steps + 1                        # 51\n",
    "\n",
    "merged = summary_table(experiment_name)\n",
    "x, all_series = build_zero_padded_series(hist_msgs, n_gen_msgs, midprice_step_size, merged)\n",
    "\n",
    "print(merged)"
   ]
  },
  {
   "cell_type": "code",
   "execution_count": 7,
   "metadata": {},
   "outputs": [
    {
     "name": "stdout",
     "output_type": "stream",
     "text": [
      "insertion positions: [551, 602]\n",
      "cooling positions:   [653, 704]\n"
     ]
    },
    {
     "data": {
      "application/vnd.plotly.v1+json": {
       "config": {
        "plotlyServerURL": "https://plot.ly"
       },
       "data": [
        {
         "hoverinfo": "skip",
         "line": {
          "width": 1
         },
         "mode": "lines",
         "name": "id 2787",
         "opacity": 1,
         "type": "scatter",
         "x": {
          "bdata": "AQACAAMABAAFAAYABwAIAAkACgALAAwADQAOAA8AEAARABIAEwAUABUAFgAXABgAGQAaABsAHAAdAB4AHwAgACEAIgAjACQAJQAmACcAKAApACoAKwAsAC0ALgAvADAAMQAyADMANAA1ADYANwA4ADkAOgA7ADwAPQA+AD8AQABBAEIAQwBEAEUARgBHAEgASQBKAEsATABNAE4ATwBQAFEAUgBTAFQAVQBWAFcAWABZAFoAWwBcAF0AXgBfAGAAYQBiAGMAZABlAGYAZwBoAGkAagBrAGwAbQBuAG8AcABxAHIAcwB0AHUAdgB3AHgAeQB6AHsAfAB9AH4AfwCAAIEAggCDAIQAhQCGAIcAiACJAIoAiwCMAI0AjgCPAJAAkQCSAJMAlACVAJYAlwCYAJkAmgCbAJwAnQCeAJ8AoAChAKIAowCkAKUApgCnAKgAqQCqAKsArACtAK4ArwCwALEAsgCzALQAtQC2ALcAuAC5ALoAuwC8AL0AvgC/AMAAwQDCAMMAxADFAMYAxwDIAMkAygDLAMwAzQDOAM8A0ADRANIA0wDUANUA1gDXANgA2QDaANsA3ADdAN4A3wDgAOEA4gDjAOQA5QDmAOcA6ADpAOoA6wDsAO0A7gDvAPAA8QDyAPMA9AD1APYA9wD4APkA+gD7APwA/QD+AP8AAAEBAQIBAwEEAQUBBgEHAQgBCQEKAQsBDAENAQ4BDwEQAREBEgETARQBFQEWARcBGAEZARoBGwEcAR0BHgEfASABIQEiASMBJAElASYBJwEoASkBKgErASwBLQEuAS8BMAExATIBMwE0ATUBNgE3ATgBOQE6ATsBPAE9AT4BPwFAAUEBQgFDAUQBRQFGAUcBSAFJAUoBSwFMAU0BTgFPAVABUQFSAVMBVAFVAVYBVwFYAVkBWgFbAVwBXQFeAV8BYAFhAWIBYwFkAWUBZgFnAWgBaQFqAWsBbAFtAW4BbwFwAXEBcgFzAXQBdQF2AXcBeAF5AXoBewF8AX0BfgF/AYABgQGCAYMBhAGFAYYBhwGIAYkBigGLAYwBjQGOAY8BkAGRAZIBkwGUAZUBlgGXAZgBmQGaAZsBnAGdAZ4BnwGgAaEBogGjAaQBpQGmAacBqAGpAaoBqwGsAa0BrgGvAbABsQGyAbMBtAG1AbYBtwG4AbkBugG7AbwBvQG+Ab8BwAHBAcIBwwHEAcUBxgHHAcgByQHKAcsBzAHNAc4BzwHQAdEB0gHTAdQB1QHWAdcB2AHZAdoB2wHcAd0B3gHfAeAB4QHiAeMB5AHlAeYB5wHoAekB6gHrAewB7QHuAe8B8AHxAfIB8wH0AfUB9gH3AfgB+QH6AfsB/AH9Af4B/wEAAgECAgIDAgQCBQIGAgcCCAIJAgoCCwIMAg0CDgIPAhACEQISAhMCFAIVAhYCFwIYAhkCGgIbAhwCHQIeAh8CIAIhAiICIwIkAiUCJgInAigCKQIqAisCLAItAi4CLwIwAjECMgIzAjQCNQI2AjcCOAI5AjoCOwI8Aj0CPgI/AkACQQJCAkMCRAJFAkYCRwJIAkkCSgJLAkwCTQJOAk8CUAJRAlICUwJUAlUCVgJXAlgCWQJaAlsCXAJdAl4CXwJgAmECYgJjAmQCZQJmAmcCaAJpAmoCawJsAm0CbgJvAnACcQJyAnMCdAJ1AnYCdwJ4AnkCegJ7AnwCfQJ+An8CgAKBAoICgwKEAoUChgKHAogCiQKKAosCjAKNAo4CjwKQApECkgKTApQClQKWApcCmAKZApoCmwKcAp0CngKfAqACoQKiAqMCpAKlAqYCpwKoAqkCqgKrAqwCrQKuAq8CsAKxArICswK0ArUCtgK3ArgCuQK6ArsCvAK9Ar4C",
          "dtype": "i2"
         },
         "y": {
          "bdata": "AAAAAAAAAAAAAAAAAAAAAAAAAAAAAAAAAAAAAAAAAAAAAAAAAAAAAAAAAAAAAAAAAAAAAAAAAAAAAAAAAAAAAAAAAAAAAAAAAAAAAAAAAAAAAAAAAAAAAAAAAAAAAAAAAAAAAAAAAAAAAAAAAAAAAAAAAAAAAAAAAAAAAAAAAAAAAAAAAAAAAAAAAAAAAAAAAAAAAAAAAAAAAAAAAAAAAAAAAAAAAAAAAAAAAAAAAAAAAAAAAAAAAAAAAAAAAAAAAAAAAAAAAAAAAAAAAAAAAAAAAAAAAAAAAAAAAAAAAAAAAAAAAAAAAAAAAAAAAAAAAAAAAAAAAAAAAAAAAAAAAAAAAAAAAAAAAAAAAAAAAAAAAAAAAAAAAAAAAAAAAAAAAAAAAAAAAAAAAAAAAAAAAAAAAAAAAAAAAAAAAAAAnP+c/5z/nP+c/5z/nP+c/5z/nP+c/5z/nP+c/5z/nP+c/5z/nP+c/5z/nP+c/5z/nP+c/5z/nP+c/5z/nP+c/5z/nP+c/5z/nP+c/5z/nP+c/5z/nP+c/5z/nP+c/5z/nP+c/5z/nP+c/5z/nP+c/5z/nP+c/5z/nP+c/5z/nP+c/5z/nP+c/5z/nP+c/5z/nP+c/5z/nP8AAAAAAAAAAAAAAAAAAAAAAAAAAAAAAAAAAAAAAAAAAAAAAAAAAAAAAAAAAAAAAAAAAAAAAAAAAAAAAAAAAAAAAAAAAAAAAAAAAAAAAAAAAAAAAAAAAAAAAAAAAAAAAAAAAAAAAAAAAAAAAAAAAAAAAAAAAAAAAAAAAAAAAAAAAAAAAAAAAAAAAAAAAAAAAAAAAAAAAAAAAAAAAAAAAAAAAAAAAAAAAAAAAAAAAAAAAAAAAAAAAAAAAAAAAAAAAAAAAAAAAAAAAAAAAAAAAAAAAAAAAAAAAAAAAAAAAAAAAAAAAAAAAAAAAAAAAAAAAAAAAAAAAACc/5z/nP+c/5z/nP+c/5z/nP+c/5z/nP+c/5z/nP+c/5z/nP+c/5z/nP+c/5z/nP+c/5z/nP+c/5z/nP+c/5z/nP+c/5z/nP+c/5z/nP+c/5z/nP+c/5z/nP+c/5z/nP+c/5z/nP+c/5z/nP+c/5z/nP+c/5z/nP+c/5z/nP+c/5z/nP+c/5z/nP+c/5z/nP+c/5z/nP+c/5z/nP+c/5z/nP+c/5z/nP+c/5z/nP+c/5z/nP+c/5z/nP+c/5z/nP+c/5z/nP+c/5z/nP+c/5z/nP+c/5z/nP+c/5z/nP+c/5z/nP+c/5z/nP+c/5z/nP+c/5z/nP+c/5z/nP+c/5z/nP+c/5z/nP+c/5z/nP+c/5z/nP+c/5z/nP+c/5z/nP+c/5z/nP+c/5z/nP+c/5z/nP+c/5z/nP+c/5z/nP+c/5z/nP+c/5z/nP+c/5z/nP+c/5z/nP+c/5z/nP+c/5z/nP+c/5z/nP+c/5z/nP+c/5z/nP+c/5z/nP+c/5z/nP+c/zj/OP84/zj/OP84/zj/OP84/zj/OP84/zj/OP84/zj/OP84/zj/OP84/zj/OP84/zj/OP84/zj/OP84/zj/OP84/zj/OP84/zj/OP84/zj/OP84/zj/OP84/zj/OP84/zj/OP84/9T+1P7U/tT+1P7U/tT+1P7U/tT+1P7U/tT+1P7U/tT+1P7U/tT+1P7U/tT+1P7U/tT+1P7U/tT+1P7U/tT+1P7U/tT+1P7U/tT+1P7U/tT+1P7U/tT+1P7U/tT+1P7U/tT+1P7U/tT+1P7U/tT+1P7U/tT+1P7U/tT+1P7U/tT+1P7U/tT+1P7U/tT+1P7U/tT+1P7U/tT+1P7U/tT+1P7U/tT+1P7U/tT+1P7U/tT+1P7U/tT+1P7U/tT+1P7U/tT+1P7U/tT+",
          "dtype": "i2"
         }
        },
        {
         "hoverinfo": "skip",
         "line": {
          "width": 1
         },
         "mode": "lines",
         "name": "id 4668",
         "opacity": 1,
         "type": "scatter",
         "x": {
          "bdata": "AQACAAMABAAFAAYABwAIAAkACgALAAwADQAOAA8AEAARABIAEwAUABUAFgAXABgAGQAaABsAHAAdAB4AHwAgACEAIgAjACQAJQAmACcAKAApACoAKwAsAC0ALgAvADAAMQAyADMANAA1ADYANwA4ADkAOgA7ADwAPQA+AD8AQABBAEIAQwBEAEUARgBHAEgASQBKAEsATABNAE4ATwBQAFEAUgBTAFQAVQBWAFcAWABZAFoAWwBcAF0AXgBfAGAAYQBiAGMAZABlAGYAZwBoAGkAagBrAGwAbQBuAG8AcABxAHIAcwB0AHUAdgB3AHgAeQB6AHsAfAB9AH4AfwCAAIEAggCDAIQAhQCGAIcAiACJAIoAiwCMAI0AjgCPAJAAkQCSAJMAlACVAJYAlwCYAJkAmgCbAJwAnQCeAJ8AoAChAKIAowCkAKUApgCnAKgAqQCqAKsArACtAK4ArwCwALEAsgCzALQAtQC2ALcAuAC5ALoAuwC8AL0AvgC/AMAAwQDCAMMAxADFAMYAxwDIAMkAygDLAMwAzQDOAM8A0ADRANIA0wDUANUA1gDXANgA2QDaANsA3ADdAN4A3wDgAOEA4gDjAOQA5QDmAOcA6ADpAOoA6wDsAO0A7gDvAPAA8QDyAPMA9AD1APYA9wD4APkA+gD7APwA/QD+AP8AAAEBAQIBAwEEAQUBBgEHAQgBCQEKAQsBDAENAQ4BDwEQAREBEgETARQBFQEWARcBGAEZARoBGwEcAR0BHgEfASABIQEiASMBJAElASYBJwEoASkBKgErASwBLQEuAS8BMAExATIBMwE0ATUBNgE3ATgBOQE6ATsBPAE9AT4BPwFAAUEBQgFDAUQBRQFGAUcBSAFJAUoBSwFMAU0BTgFPAVABUQFSAVMBVAFVAVYBVwFYAVkBWgFbAVwBXQFeAV8BYAFhAWIBYwFkAWUBZgFnAWgBaQFqAWsBbAFtAW4BbwFwAXEBcgFzAXQBdQF2AXcBeAF5AXoBewF8AX0BfgF/AYABgQGCAYMBhAGFAYYBhwGIAYkBigGLAYwBjQGOAY8BkAGRAZIBkwGUAZUBlgGXAZgBmQGaAZsBnAGdAZ4BnwGgAaEBogGjAaQBpQGmAacBqAGpAaoBqwGsAa0BrgGvAbABsQGyAbMBtAG1AbYBtwG4AbkBugG7AbwBvQG+Ab8BwAHBAcIBwwHEAcUBxgHHAcgByQHKAcsBzAHNAc4BzwHQAdEB0gHTAdQB1QHWAdcB2AHZAdoB2wHcAd0B3gHfAeAB4QHiAeMB5AHlAeYB5wHoAekB6gHrAewB7QHuAe8B8AHxAfIB8wH0AfUB9gH3AfgB+QH6AfsB/AH9Af4B/wEAAgECAgIDAgQCBQIGAgcCCAIJAgoCCwIMAg0CDgIPAhACEQISAhMCFAIVAhYCFwIYAhkCGgIbAhwCHQIeAh8CIAIhAiICIwIkAiUCJgInAigCKQIqAisCLAItAi4CLwIwAjECMgIzAjQCNQI2AjcCOAI5AjoCOwI8Aj0CPgI/AkACQQJCAkMCRAJFAkYCRwJIAkkCSgJLAkwCTQJOAk8CUAJRAlICUwJUAlUCVgJXAlgCWQJaAlsCXAJdAl4CXwJgAmECYgJjAmQCZQJmAmcCaAJpAmoCawJsAm0CbgJvAnACcQJyAnMCdAJ1AnYCdwJ4AnkCegJ7AnwCfQJ+An8CgAKBAoICgwKEAoUChgKHAogCiQKKAosCjAKNAo4CjwKQApECkgKTApQClQKWApcCmAKZApoCmwKcAp0CngKfAqACoQKiAqMCpAKlAqYCpwKoAqkCqgKrAqwCrQKuAq8CsAKxArICswK0ArUCtgK3ArgCuQK6ArsCvAK9Ar4C",
          "dtype": "i2"
         },
         "y": {
          "bdata": "AAAAAAAAAAAAAAAAAAAAAAAAAAAAAAAAAAAAAAAAAAAAAAAAAAAAAAAAAAAAAJz/nP+c/5z/AAAAAAAAAACc/5z/nP+c/5z/nP+c/5z/nP+c/5z/nP+c/5z/OP84/zj/OP84/zj/OP84/zj/OP84/zj/OP84/zj/OP84/zj/OP84/zj/OP84/zj/OP84/zj/OP84/zj/OP84/zj/OP84/zj/OP84/zj/OP84/zj/OP84/zj/nP+c/5z/nP+c/5z/nP+c/5z/nP+c/5z/nP+c/5z/nP+c/5z/nP+c/5z/nP+c/zj/OP84/zj/OP84/zj/OP84/zj/OP84/zj/OP84/zj/OP84/zj/OP84/zj/OP84/zj/OP84/zj/OP84/zj/OP84/zj/OP84/zj/OP84/zj/OP84/zj/OP84/zj/OP84/zj/OP84/zj/OP84/zj/OP84/zj/OP/U/tT+1P7U/tT+1P7U/tT+1P7U/tT+1P7U/tT+cP5w/nD+cP5w/nD+cP5w/nD+cP5w/nD+cP5w/tT+1P7U/tT+1P7U/tT+1P7U/tT+1P7U/tT+1P7U/tT+1P7U/tT+1P7U/tT+1P7U/tT+1P7U/tT+1P7U/tT+1P7U/tT+1P7U/tT+1P7U/tT+1P7U/tT+1P7U/tT+1P7U/tT+1P7U/nD+cP5w/nD+cP5w/nD+cP5w/nD+cP5w/nD+cP5w/nD+cP7U/tT+1P7U/tT+1P7U/tT+1P7U/tT+1P7U/tT+1P7U/tT+1P7U/tT+1P7U/tT+1P7U/tT+1P7U/tT+1P7U/tT+1P7U/tT+1P7U/tT+1P7U/tT+1P7U/tT+cP5w/nD+cP5w/nD+cP5w/nD+1P7U/tT+1P7U/tT+1P7U/tT+1P7U/tT+1P7U/tT+1P7U/tT+1P7U/tT+1P7U/tT+1P7U/tT+1P7U/tT+1P7U/tT+1P7U/tT+1P7U/tT+1P7U/tT+1P7U/tT+1P7U/tT+1P7U/tT+1P7U/tT+1P7U/tT+1P7U/tT+1P7U/tT+1P7U/tT+1P7U/tT+1P7U/tT+1P7U/tT+1P7U/tT+1P7U/tT+1P7U/tT+1P7U/tT+1P7U/tT+1P7U/tT+1P7U/tT+1P7U/tT+1P7U/tT+1P7U/tT+1P7U/tT+1P7U/tT+1P7U/tT+1P7U/tT+1P7U/tT+1P7U/tT+1P7U/tT+1P44/zj/nP+c/5z/nP+c/5z/nP+c/5z/nP+c/5z/nP+c/5z/nP+c/zj/OP84/zj/OP84/zj/OP84/zj/OP84/zj/OP84/zj/OP84/zj/OP84/5z/nP+c/5z/nP+c/5z/nP+c/5z/nP+c/5z/OP84/zj/OP84/zj/OP84/zj/OP/U/tT+1P7U/tT+1P7U/tT+1P7U/tT+1P7U/tT+1P7U/tT+1P7U/tT+1P7U/tT+1P7U/tT+1P7U/tT+1P7U/tT+1P7U/tT+1P7U/tT+1P7U/tT+1P7U/tT+1P7U/tT+OP84/zj/OP84/3D+cP5w/nD+cP5w/nD+cP5w/nD+cP5w/nD+cP5w/nD+cP5w/nD+cP5w/nD+cP5w/nD+cP5w/nD+cP5w/nD+cP5w/nD+cP5w/nD+cP5w/nD+cP5w/nD+cP5w/nD+cP5w/nD+cP5w/gz+DP4M/gz+DP4M/gz+DP4M/gz+DP4M/gz+DP4M/gz+DP4M/gz+DP4M/gz+DP5w/nD+cP5w/nD+cP5w/nD+cP5w/nD+cP5w/nD+cP5w/nD+cP5w/nD+cP5w/nD+cP5w/nD+cP4M/gz+DP4M/gz+DP4M/gz+DP4M/gz+DP4M/gz+DP4M/gz+DP4M/gz+DP4M/gz+DP4M/gz+DP4M/gz+DP4M/gz+DP4M/gz+DP4M/gz+",
          "dtype": "i2"
         }
        },
        {
         "hoverinfo": "skip",
         "line": {
          "width": 1
         },
         "mode": "lines",
         "name": "id 14606",
         "opacity": 1,
         "type": "scatter",
         "x": {
          "bdata": "AQACAAMABAAFAAYABwAIAAkACgALAAwADQAOAA8AEAARABIAEwAUABUAFgAXABgAGQAaABsAHAAdAB4AHwAgACEAIgAjACQAJQAmACcAKAApACoAKwAsAC0ALgAvADAAMQAyADMANAA1ADYANwA4ADkAOgA7ADwAPQA+AD8AQABBAEIAQwBEAEUARgBHAEgASQBKAEsATABNAE4ATwBQAFEAUgBTAFQAVQBWAFcAWABZAFoAWwBcAF0AXgBfAGAAYQBiAGMAZABlAGYAZwBoAGkAagBrAGwAbQBuAG8AcABxAHIAcwB0AHUAdgB3AHgAeQB6AHsAfAB9AH4AfwCAAIEAggCDAIQAhQCGAIcAiACJAIoAiwCMAI0AjgCPAJAAkQCSAJMAlACVAJYAlwCYAJkAmgCbAJwAnQCeAJ8AoAChAKIAowCkAKUApgCnAKgAqQCqAKsArACtAK4ArwCwALEAsgCzALQAtQC2ALcAuAC5ALoAuwC8AL0AvgC/AMAAwQDCAMMAxADFAMYAxwDIAMkAygDLAMwAzQDOAM8A0ADRANIA0wDUANUA1gDXANgA2QDaANsA3ADdAN4A3wDgAOEA4gDjAOQA5QDmAOcA6ADpAOoA6wDsAO0A7gDvAPAA8QDyAPMA9AD1APYA9wD4APkA+gD7APwA/QD+AP8AAAEBAQIBAwEEAQUBBgEHAQgBCQEKAQsBDAENAQ4BDwEQAREBEgETARQBFQEWARcBGAEZARoBGwEcAR0BHgEfASABIQEiASMBJAElASYBJwEoASkBKgErASwBLQEuAS8BMAExATIBMwE0ATUBNgE3ATgBOQE6ATsBPAE9AT4BPwFAAUEBQgFDAUQBRQFGAUcBSAFJAUoBSwFMAU0BTgFPAVABUQFSAVMBVAFVAVYBVwFYAVkBWgFbAVwBXQFeAV8BYAFhAWIBYwFkAWUBZgFnAWgBaQFqAWsBbAFtAW4BbwFwAXEBcgFzAXQBdQF2AXcBeAF5AXoBewF8AX0BfgF/AYABgQGCAYMBhAGFAYYBhwGIAYkBigGLAYwBjQGOAY8BkAGRAZIBkwGUAZUBlgGXAZgBmQGaAZsBnAGdAZ4BnwGgAaEBogGjAaQBpQGmAacBqAGpAaoBqwGsAa0BrgGvAbABsQGyAbMBtAG1AbYBtwG4AbkBugG7AbwBvQG+Ab8BwAHBAcIBwwHEAcUBxgHHAcgByQHKAcsBzAHNAc4BzwHQAdEB0gHTAdQB1QHWAdcB2AHZAdoB2wHcAd0B3gHfAeAB4QHiAeMB5AHlAeYB5wHoAekB6gHrAewB7QHuAe8B8AHxAfIB8wH0AfUB9gH3AfgB+QH6AfsB/AH9Af4B/wEAAgECAgIDAgQCBQIGAgcCCAIJAgoCCwIMAg0CDgIPAhACEQISAhMCFAIVAhYCFwIYAhkCGgIbAhwCHQIeAh8CIAIhAiICIwIkAiUCJgInAigCKQIqAisCLAItAi4CLwIwAjECMgIzAjQCNQI2AjcCOAI5AjoCOwI8Aj0CPgI/AkACQQJCAkMCRAJFAkYCRwJIAkkCSgJLAkwCTQJOAk8CUAJRAlICUwJUAlUCVgJXAlgCWQJaAlsCXAJdAl4CXwJgAmECYgJjAmQCZQJmAmcCaAJpAmoCawJsAm0CbgJvAnACcQJyAnMCdAJ1AnYCdwJ4AnkCegJ7AnwCfQJ+An8CgAKBAoICgwKEAoUChgKHAogCiQKKAosCjAKNAo4CjwKQApECkgKTApQClQKWApcCmAKZApoCmwKcAp0CngKfAqACoQKiAqMCpAKlAqYCpwKoAqkCqgKrAqwCrQKuAq8CsAKxArICswK0ArUCtgK3ArgCuQK6ArsCvAK9Ar4C",
          "dtype": "i2"
         },
         "y": {
          "bdata": "AAAAAAAAAAAAAAAAAAAAAAAAAAAAAAAAAAAAAAAAAAAAAAAAAAAAAAAAAAAAAAAAAAAAAAAAAAAAAAAAAAAAAAAAAAAAAAAAAAAAAAAAAAAAAAAAAAAAAAAAAAAAAAAAAAAAAAAAAAAAAAAAAAAAAAAAAAAAAAAAAAAAAAAAZABkAGQAZABkAGQAZABkAGQAZABkAGQAZABkAGQAZABkAGQAZABkAGQAZABkAGQAZABkAGQAZABkAGQAZABkAGQAZABkAGQAZABkAGQAZABkAMgAyADIAMgAyADIAMgAyADIAMgAyADIAMgAyADIAMgAyADIAMgAyADIAMgAyADIAMgAyADIAMgAyADIAMgAyADIAMgAyADIAMgAyADIAMgAyADIAMgAyADIAMgAyAAsASwBLAEsASwBLAEsASwBLAEsASwBLAEsASwBLAEsASwBLAEsASwBLAEsASwBLAEsASwBLAEsASwBLAEsASwBLAEsASwBLAEsASwBLAEsASwBLAEsASwBLAEsASwBLAEsASwBLAEsASwBLAEsASwBLAEsASwBLAEsASwBLAEsASwBLAEsASwBLAEsASwBLAEsASwBLAEsAZABkAGQAZABkAGQAZABkAGQAZABkAGQAZABkAGQAZABkAGQAZABkAGQAZABkAGQAZABkAGQAZABkAGQAZABkAGQAZABkAGQAZABkAGQAZABkAGQAZABkAGQAZABkAGQAZABkAGQAZABkAGQAZABkAGQAZABkAGQAZABkAGQAZABkAGQAZABkAGQAZABkAGQAZABkAGQAZABkAGQAZABkAGQAZABkAGQAZABLAEsASwBLAEsAcgAyADIAMgAyADIACwBLAEsASwBLAEsASwBLAGQAZABkAGQAZABLAEsASwBLAEsASwBLAEsASwBLAEsASwBLAEsASwBLAEsASwBLAEsASwBLAEsASwBLAEsASwBLAEsASwBLAEsASwBLAEsASwBLAEsASwBLAEsASwByADIAMgAyADIACwBLAEsASwBLAEsASwBLAEsASwBLAEsASwBLAEsASwBLAEsASwBLAEsASwBLAEsASwBLAEsASwBLAEsASwBLAEsASwBLAEsASwBLAEsAZABkAEsASwBkAGQAZABkAGQAZABkAGQAZABkAGQAZABkAH0AfQB9AH0AfQB9AH0AfQB9AH0AfQB9AH0AfQB9AH0AfQB9AH0AfQB9AH0AfQB9AH0AfQB9AH0AfQB9AH0AfQB9AH0AfQB9AH0AfQB9AGQAZABkAGQAZABkAGQAZABkAGQAZABkAGQAZAB9AGQAZABkAGQAZABkAGQAZABkAGQAZABkAGQASwBLAEsASwBLAEsASwBLAHIAMgAyADIAPQB9AH0AfQBkAEsASwBLAEsASwBLAEsASwBLAEsASwBLAEsASwBLAEsASwBLAEsASwBLAEsASwBLAEsASwBLAEsASwBLAEsASwBLAEsAcgAyADIAMgAyADIAMgAyADIAMgAyADIAMgAyAAsASwBLAEsASwBLAEsASwBLAEsASwBLAEsASwBLAEsASwBLAEsASwBLAEsASwBLAEsASwBLAEsASwBLAEsAZABkAGQAZABkAGQAZABkAGQAfQB9AH0AfQB9AH0AfQB9AGQAfQB9AH0AfQB9AH0AfQB9AH0AfQB9AH0AfQB9AH0AfQB9AH0AfQB9AH0AfQB9AH0AfQB9AH0AfQB9AH0AfQB9AH0AfQB9AH0AVgCWAJYAlgCWAJYArwCvAJYAlgCWAK8AlgCWAJYAlgCWAJYAlgCWAJYAlgCWAL0AfQB9AH0AfQB9AH0AfQB9AH0AfQB9AH0AfQB9AH0AfQB9AH0AfQB9AH0AfQB",
          "dtype": "i2"
         }
        },
        {
         "hoverinfo": "skip",
         "line": {
          "width": 1
         },
         "mode": "lines",
         "name": "id 16120",
         "opacity": 1,
         "type": "scatter",
         "x": {
          "bdata": "AQACAAMABAAFAAYABwAIAAkACgALAAwADQAOAA8AEAARABIAEwAUABUAFgAXABgAGQAaABsAHAAdAB4AHwAgACEAIgAjACQAJQAmACcAKAApACoAKwAsAC0ALgAvADAAMQAyADMANAA1ADYANwA4ADkAOgA7ADwAPQA+AD8AQABBAEIAQwBEAEUARgBHAEgASQBKAEsATABNAE4ATwBQAFEAUgBTAFQAVQBWAFcAWABZAFoAWwBcAF0AXgBfAGAAYQBiAGMAZABlAGYAZwBoAGkAagBrAGwAbQBuAG8AcABxAHIAcwB0AHUAdgB3AHgAeQB6AHsAfAB9AH4AfwCAAIEAggCDAIQAhQCGAIcAiACJAIoAiwCMAI0AjgCPAJAAkQCSAJMAlACVAJYAlwCYAJkAmgCbAJwAnQCeAJ8AoAChAKIAowCkAKUApgCnAKgAqQCqAKsArACtAK4ArwCwALEAsgCzALQAtQC2ALcAuAC5ALoAuwC8AL0AvgC/AMAAwQDCAMMAxADFAMYAxwDIAMkAygDLAMwAzQDOAM8A0ADRANIA0wDUANUA1gDXANgA2QDaANsA3ADdAN4A3wDgAOEA4gDjAOQA5QDmAOcA6ADpAOoA6wDsAO0A7gDvAPAA8QDyAPMA9AD1APYA9wD4APkA+gD7APwA/QD+AP8AAAEBAQIBAwEEAQUBBgEHAQgBCQEKAQsBDAENAQ4BDwEQAREBEgETARQBFQEWARcBGAEZARoBGwEcAR0BHgEfASABIQEiASMBJAElASYBJwEoASkBKgErASwBLQEuAS8BMAExATIBMwE0ATUBNgE3ATgBOQE6ATsBPAE9AT4BPwFAAUEBQgFDAUQBRQFGAUcBSAFJAUoBSwFMAU0BTgFPAVABUQFSAVMBVAFVAVYBVwFYAVkBWgFbAVwBXQFeAV8BYAFhAWIBYwFkAWUBZgFnAWgBaQFqAWsBbAFtAW4BbwFwAXEBcgFzAXQBdQF2AXcBeAF5AXoBewF8AX0BfgF/AYABgQGCAYMBhAGFAYYBhwGIAYkBigGLAYwBjQGOAY8BkAGRAZIBkwGUAZUBlgGXAZgBmQGaAZsBnAGdAZ4BnwGgAaEBogGjAaQBpQGmAacBqAGpAaoBqwGsAa0BrgGvAbABsQGyAbMBtAG1AbYBtwG4AbkBugG7AbwBvQG+Ab8BwAHBAcIBwwHEAcUBxgHHAcgByQHKAcsBzAHNAc4BzwHQAdEB0gHTAdQB1QHWAdcB2AHZAdoB2wHcAd0B3gHfAeAB4QHiAeMB5AHlAeYB5wHoAekB6gHrAewB7QHuAe8B8AHxAfIB8wH0AfUB9gH3AfgB+QH6AfsB/AH9Af4B/wEAAgECAgIDAgQCBQIGAgcCCAIJAgoCCwIMAg0CDgIPAhACEQISAhMCFAIVAhYCFwIYAhkCGgIbAhwCHQIeAh8CIAIhAiICIwIkAiUCJgInAigCKQIqAisCLAItAi4CLwIwAjECMgIzAjQCNQI2AjcCOAI5AjoCOwI8Aj0CPgI/AkACQQJCAkMCRAJFAkYCRwJIAkkCSgJLAkwCTQJOAk8CUAJRAlICUwJUAlUCVgJXAlgCWQJaAlsCXAJdAl4CXwJgAmECYgJjAmQCZQJmAmcCaAJpAmoCawJsAm0CbgJvAnACcQJyAnMCdAJ1AnYCdwJ4AnkCegJ7AnwCfQJ+An8CgAKBAoICgwKEAoUChgKHAogCiQKKAosCjAKNAo4CjwKQApECkgKTApQClQKWApcCmAKZApoCmwKcAp0CngKfAqACoQKiAqMCpAKlAqYCpwKoAqkCqgKrAqwCrQKuAq8CsAKxArICswK0ArUCtgK3ArgCuQK6ArsCvAK9Ar4C",
          "dtype": "i2"
         },
         "y": {
          "bdata": "AAAAAAAAAAAAAAAAAAAAAAAAAAAAAAAAAAAAAAAAAAAAAAAAAACc/5z/AAAAAAAAAAAAAAAAAAAAAAAAAAAAAJz/AACc/5z/nP+c/5z/nP8AAAAAAAAAAAAAAACc/5z/nP+c/5z/nP+c/5z/nP+c/5z/nP+c/5z/nP+c/5z/nP+c/5z/AAAAAAAAAACc/5z/nP8AAAAAAAAAAAAAAAAAAAAAAAAAAGQAZABkAGQAAAAAAAAAAAAAAAAAAAAAAGQAZABkAGQAZABkAGQAZABkAGQAZABkAGQAZABkAGQAZABkAGQAZABkAGQAZABkAGQAZABkAGQAZABkAGQAZABkAGQAyADIAMgAyADIAMgAyADIAMgAyADIAMgAyADIAMgAyADIAMgAyADIAMgAyADIAMgAyADIAMgAyADIAMgAyADIAMgAyADIAMgAyADIAMgAyADIAMgAyADIAMgAyADIAMgAyADIAMgAyADIAMgAyADIAMgAyADIAMgAyADIAMgAyADIAMgAyADIAMgAyABkAGQAZABkAGQAZABkAGQAZABkAGQAZABkAGQAZABkAGQAZABkAMgAZABkAGQAZABkAGQAZABkAGQAZABkAGQAZABkAGQAZABkAGQAZABkAGQAZABkAGQAZADIAGQAZABkAGQAZABkAGQAZABkAGQAZABkAGQAZABkAGQAZABkAGQAZABkAGQAZABkAGQAZABkAGQAZABkAGQAZABkAGQAZABkAGQAZABkAGQAZABkAGQAZABkAGQAZABkAGQAZABkAGQAZABkAGQAZABkAGQAZABkAGQAZABkAGQAZABkAGQAZAAAAAAAAAAAAAAAAAAAAAAAAAAAAGQAZABkAGQAZABkAGQAZABkAGQAZABkAGQAZABkAGQAZABkAGQAZABkAGQAZABkAGQAZABkAGQAZABkAGQAZABkAGQAZABkAGQAZABkAGQAZABkAGQAZABkAGQAZABkAGQAZABkAGQAZABkAGQAZABkAGQAZABkAGQAZABkAGQAZABkAGQAZABkAGQAAAAAAAAAAAAAAAAAAAAAAAAAAAAAAAAAAAAAAAAAAAAAAAAAAAAAAAAAZABkAGQAZABkAGQAZABkAGQAZABkAGQAZABkAGQAZABkAGQAZABkAGQAZABkAGQAZABkAGQAZABkAGQAZAAAAAAAAAAAAAAAAAAAAAAAAAAAAAAAAAAAAAAAAAAAAAAAAAAAAAAAAAAAAAAAAAAAAAAAAAAAAAAAAAAAAAAAAAAAAAAAAAAAAAAAAAAAAAAAAAAAAAAAAAAAAAAAAAAAAAAAAAAAAAAAAAAAAAAAnP+c/5z/nP+c/5z/nP+c/5z/nP+c/5z/nP+c/5z/nP+c/5z/nP+c/5z/nP+c/5z/nP+c/5z/nP+c/5z/nP+c/5z/nP+c/5z/nP+c/5z/nP+c/5z/nP+c/5z/nP+c/5z/nP+c/5z/nP+c/5z/nP+c/5z/AAAAAAAAAACc/5z/nP+c/5z/nP+c/5z/nP+c/5z/nP+c/5z/nP+c/5z/nP+c/5z/nP+c/5z/nP+c/5z/nP+c/5z/nP+c/5z/nP+c/5z/nP+c/5z/nP+c/5z/OP84/zj/OP84/zj/OP84/zj/OP84/zj/OP84/zj/OP84/zj/OP84/zj/OP84/zj/OP84/zj/OP84/zj/OP84/zj/OP84/zj/OP84/zj/OP84/zj/OP84/zj/OP84/zj/OP84/zj/OP84/zj/OP84/zj/OP84/zj/OP84/zj/OP84/zj/OP84/zj/OP84/zj/OP84/zj/OP84/zj/OP84/zj/OP84/zj/OP84/zj/OP84/zj/OP84/zj/OP84/zj/OP84/zj/",
          "dtype": "i2"
         }
        }
       ],
       "layout": {
        "annotations": [
         {
          "showarrow": false,
          "text": "0-line",
          "x": 1,
          "xanchor": "right",
          "xref": "x domain",
          "y": 0,
          "yanchor": "top",
          "yref": "y"
         },
         {
          "align": "left",
          "showarrow": false,
          "text": "Midprice every 1 msgs;<br>solid red = insertion (every 50 msgs +1 step);<br>dashed red = cooling (same spacing); blue = end of history.",
          "x": 0,
          "xref": "paper",
          "y": -0.225,
          "yref": "paper"
         }
        ],
        "height": 800,
        "hovermode": "x unified",
        "margin": {
         "b": 150
        },
        "shapes": [
         {
          "line": {
           "color": "blue",
           "dash": "dash",
           "width": 2
          },
          "type": "line",
          "x0": 500,
          "x1": 500,
          "xref": "x",
          "y0": 0,
          "y1": 1,
          "yref": "y domain"
         },
         {
          "line": {
           "color": "red",
           "dash": "solid",
           "width": 2
          },
          "type": "line",
          "x0": 551,
          "x1": 551,
          "xref": "x",
          "y0": 0,
          "y1": 1,
          "yref": "y domain"
         },
         {
          "line": {
           "color": "red",
           "dash": "solid",
           "width": 2
          },
          "type": "line",
          "x0": 602,
          "x1": 602,
          "xref": "x",
          "y0": 0,
          "y1": 1,
          "yref": "y domain"
         },
         {
          "line": {
           "color": "red",
           "dash": "dash",
           "width": 2
          },
          "type": "line",
          "x0": 653,
          "x1": 653,
          "xref": "x",
          "y0": 0,
          "y1": 1,
          "yref": "y domain"
         },
         {
          "line": {
           "color": "red",
           "dash": "dash",
           "width": 2
          },
          "type": "line",
          "x0": 704,
          "x1": 704,
          "xref": "x",
          "y0": 0,
          "y1": 1,
          "yref": "y domain"
         },
         {
          "line": {
           "color": "black",
           "dash": "solid",
           "width": 2
          },
          "type": "line",
          "x0": 0,
          "x1": 1,
          "xref": "x domain",
          "y0": 0,
          "y1": 0,
          "yref": "y"
         }
        ],
        "template": {
         "data": {
          "bar": [
           {
            "error_x": {
             "color": "#2a3f5f"
            },
            "error_y": {
             "color": "#2a3f5f"
            },
            "marker": {
             "line": {
              "color": "white",
              "width": 0.5
             },
             "pattern": {
              "fillmode": "overlay",
              "size": 10,
              "solidity": 0.2
             }
            },
            "type": "bar"
           }
          ],
          "barpolar": [
           {
            "marker": {
             "line": {
              "color": "white",
              "width": 0.5
             },
             "pattern": {
              "fillmode": "overlay",
              "size": 10,
              "solidity": 0.2
             }
            },
            "type": "barpolar"
           }
          ],
          "carpet": [
           {
            "aaxis": {
             "endlinecolor": "#2a3f5f",
             "gridcolor": "#C8D4E3",
             "linecolor": "#C8D4E3",
             "minorgridcolor": "#C8D4E3",
             "startlinecolor": "#2a3f5f"
            },
            "baxis": {
             "endlinecolor": "#2a3f5f",
             "gridcolor": "#C8D4E3",
             "linecolor": "#C8D4E3",
             "minorgridcolor": "#C8D4E3",
             "startlinecolor": "#2a3f5f"
            },
            "type": "carpet"
           }
          ],
          "choropleth": [
           {
            "colorbar": {
             "outlinewidth": 0,
             "ticks": ""
            },
            "type": "choropleth"
           }
          ],
          "contour": [
           {
            "colorbar": {
             "outlinewidth": 0,
             "ticks": ""
            },
            "colorscale": [
             [
              0,
              "#0d0887"
             ],
             [
              0.1111111111111111,
              "#46039f"
             ],
             [
              0.2222222222222222,
              "#7201a8"
             ],
             [
              0.3333333333333333,
              "#9c179e"
             ],
             [
              0.4444444444444444,
              "#bd3786"
             ],
             [
              0.5555555555555556,
              "#d8576b"
             ],
             [
              0.6666666666666666,
              "#ed7953"
             ],
             [
              0.7777777777777778,
              "#fb9f3a"
             ],
             [
              0.8888888888888888,
              "#fdca26"
             ],
             [
              1,
              "#f0f921"
             ]
            ],
            "type": "contour"
           }
          ],
          "contourcarpet": [
           {
            "colorbar": {
             "outlinewidth": 0,
             "ticks": ""
            },
            "type": "contourcarpet"
           }
          ],
          "heatmap": [
           {
            "colorbar": {
             "outlinewidth": 0,
             "ticks": ""
            },
            "colorscale": [
             [
              0,
              "#0d0887"
             ],
             [
              0.1111111111111111,
              "#46039f"
             ],
             [
              0.2222222222222222,
              "#7201a8"
             ],
             [
              0.3333333333333333,
              "#9c179e"
             ],
             [
              0.4444444444444444,
              "#bd3786"
             ],
             [
              0.5555555555555556,
              "#d8576b"
             ],
             [
              0.6666666666666666,
              "#ed7953"
             ],
             [
              0.7777777777777778,
              "#fb9f3a"
             ],
             [
              0.8888888888888888,
              "#fdca26"
             ],
             [
              1,
              "#f0f921"
             ]
            ],
            "type": "heatmap"
           }
          ],
          "histogram": [
           {
            "marker": {
             "pattern": {
              "fillmode": "overlay",
              "size": 10,
              "solidity": 0.2
             }
            },
            "type": "histogram"
           }
          ],
          "histogram2d": [
           {
            "colorbar": {
             "outlinewidth": 0,
             "ticks": ""
            },
            "colorscale": [
             [
              0,
              "#0d0887"
             ],
             [
              0.1111111111111111,
              "#46039f"
             ],
             [
              0.2222222222222222,
              "#7201a8"
             ],
             [
              0.3333333333333333,
              "#9c179e"
             ],
             [
              0.4444444444444444,
              "#bd3786"
             ],
             [
              0.5555555555555556,
              "#d8576b"
             ],
             [
              0.6666666666666666,
              "#ed7953"
             ],
             [
              0.7777777777777778,
              "#fb9f3a"
             ],
             [
              0.8888888888888888,
              "#fdca26"
             ],
             [
              1,
              "#f0f921"
             ]
            ],
            "type": "histogram2d"
           }
          ],
          "histogram2dcontour": [
           {
            "colorbar": {
             "outlinewidth": 0,
             "ticks": ""
            },
            "colorscale": [
             [
              0,
              "#0d0887"
             ],
             [
              0.1111111111111111,
              "#46039f"
             ],
             [
              0.2222222222222222,
              "#7201a8"
             ],
             [
              0.3333333333333333,
              "#9c179e"
             ],
             [
              0.4444444444444444,
              "#bd3786"
             ],
             [
              0.5555555555555556,
              "#d8576b"
             ],
             [
              0.6666666666666666,
              "#ed7953"
             ],
             [
              0.7777777777777778,
              "#fb9f3a"
             ],
             [
              0.8888888888888888,
              "#fdca26"
             ],
             [
              1,
              "#f0f921"
             ]
            ],
            "type": "histogram2dcontour"
           }
          ],
          "mesh3d": [
           {
            "colorbar": {
             "outlinewidth": 0,
             "ticks": ""
            },
            "type": "mesh3d"
           }
          ],
          "parcoords": [
           {
            "line": {
             "colorbar": {
              "outlinewidth": 0,
              "ticks": ""
             }
            },
            "type": "parcoords"
           }
          ],
          "pie": [
           {
            "automargin": true,
            "type": "pie"
           }
          ],
          "scatter": [
           {
            "fillpattern": {
             "fillmode": "overlay",
             "size": 10,
             "solidity": 0.2
            },
            "type": "scatter"
           }
          ],
          "scatter3d": [
           {
            "line": {
             "colorbar": {
              "outlinewidth": 0,
              "ticks": ""
             }
            },
            "marker": {
             "colorbar": {
              "outlinewidth": 0,
              "ticks": ""
             }
            },
            "type": "scatter3d"
           }
          ],
          "scattercarpet": [
           {
            "marker": {
             "colorbar": {
              "outlinewidth": 0,
              "ticks": ""
             }
            },
            "type": "scattercarpet"
           }
          ],
          "scattergeo": [
           {
            "marker": {
             "colorbar": {
              "outlinewidth": 0,
              "ticks": ""
             }
            },
            "type": "scattergeo"
           }
          ],
          "scattergl": [
           {
            "marker": {
             "colorbar": {
              "outlinewidth": 0,
              "ticks": ""
             }
            },
            "type": "scattergl"
           }
          ],
          "scattermap": [
           {
            "marker": {
             "colorbar": {
              "outlinewidth": 0,
              "ticks": ""
             }
            },
            "type": "scattermap"
           }
          ],
          "scattermapbox": [
           {
            "marker": {
             "colorbar": {
              "outlinewidth": 0,
              "ticks": ""
             }
            },
            "type": "scattermapbox"
           }
          ],
          "scatterpolar": [
           {
            "marker": {
             "colorbar": {
              "outlinewidth": 0,
              "ticks": ""
             }
            },
            "type": "scatterpolar"
           }
          ],
          "scatterpolargl": [
           {
            "marker": {
             "colorbar": {
              "outlinewidth": 0,
              "ticks": ""
             }
            },
            "type": "scatterpolargl"
           }
          ],
          "scatterternary": [
           {
            "marker": {
             "colorbar": {
              "outlinewidth": 0,
              "ticks": ""
             }
            },
            "type": "scatterternary"
           }
          ],
          "surface": [
           {
            "colorbar": {
             "outlinewidth": 0,
             "ticks": ""
            },
            "colorscale": [
             [
              0,
              "#0d0887"
             ],
             [
              0.1111111111111111,
              "#46039f"
             ],
             [
              0.2222222222222222,
              "#7201a8"
             ],
             [
              0.3333333333333333,
              "#9c179e"
             ],
             [
              0.4444444444444444,
              "#bd3786"
             ],
             [
              0.5555555555555556,
              "#d8576b"
             ],
             [
              0.6666666666666666,
              "#ed7953"
             ],
             [
              0.7777777777777778,
              "#fb9f3a"
             ],
             [
              0.8888888888888888,
              "#fdca26"
             ],
             [
              1,
              "#f0f921"
             ]
            ],
            "type": "surface"
           }
          ],
          "table": [
           {
            "cells": {
             "fill": {
              "color": "#EBF0F8"
             },
             "line": {
              "color": "white"
             }
            },
            "header": {
             "fill": {
              "color": "#C8D4E3"
             },
             "line": {
              "color": "white"
             }
            },
            "type": "table"
           }
          ]
         },
         "layout": {
          "annotationdefaults": {
           "arrowcolor": "#2a3f5f",
           "arrowhead": 0,
           "arrowwidth": 1
          },
          "autotypenumbers": "strict",
          "coloraxis": {
           "colorbar": {
            "outlinewidth": 0,
            "ticks": ""
           }
          },
          "colorscale": {
           "diverging": [
            [
             0,
             "#8e0152"
            ],
            [
             0.1,
             "#c51b7d"
            ],
            [
             0.2,
             "#de77ae"
            ],
            [
             0.3,
             "#f1b6da"
            ],
            [
             0.4,
             "#fde0ef"
            ],
            [
             0.5,
             "#f7f7f7"
            ],
            [
             0.6,
             "#e6f5d0"
            ],
            [
             0.7,
             "#b8e186"
            ],
            [
             0.8,
             "#7fbc41"
            ],
            [
             0.9,
             "#4d9221"
            ],
            [
             1,
             "#276419"
            ]
           ],
           "sequential": [
            [
             0,
             "#0d0887"
            ],
            [
             0.1111111111111111,
             "#46039f"
            ],
            [
             0.2222222222222222,
             "#7201a8"
            ],
            [
             0.3333333333333333,
             "#9c179e"
            ],
            [
             0.4444444444444444,
             "#bd3786"
            ],
            [
             0.5555555555555556,
             "#d8576b"
            ],
            [
             0.6666666666666666,
             "#ed7953"
            ],
            [
             0.7777777777777778,
             "#fb9f3a"
            ],
            [
             0.8888888888888888,
             "#fdca26"
            ],
            [
             1,
             "#f0f921"
            ]
           ],
           "sequentialminus": [
            [
             0,
             "#0d0887"
            ],
            [
             0.1111111111111111,
             "#46039f"
            ],
            [
             0.2222222222222222,
             "#7201a8"
            ],
            [
             0.3333333333333333,
             "#9c179e"
            ],
            [
             0.4444444444444444,
             "#bd3786"
            ],
            [
             0.5555555555555556,
             "#d8576b"
            ],
            [
             0.6666666666666666,
             "#ed7953"
            ],
            [
             0.7777777777777778,
             "#fb9f3a"
            ],
            [
             0.8888888888888888,
             "#fdca26"
            ],
            [
             1,
             "#f0f921"
            ]
           ]
          },
          "colorway": [
           "#636efa",
           "#EF553B",
           "#00cc96",
           "#ab63fa",
           "#FFA15A",
           "#19d3f3",
           "#FF6692",
           "#B6E880",
           "#FF97FF",
           "#FECB52"
          ],
          "font": {
           "color": "#2a3f5f"
          },
          "geo": {
           "bgcolor": "white",
           "lakecolor": "white",
           "landcolor": "white",
           "showlakes": true,
           "showland": true,
           "subunitcolor": "#C8D4E3"
          },
          "hoverlabel": {
           "align": "left"
          },
          "hovermode": "closest",
          "mapbox": {
           "style": "light"
          },
          "paper_bgcolor": "white",
          "plot_bgcolor": "white",
          "polar": {
           "angularaxis": {
            "gridcolor": "#EBF0F8",
            "linecolor": "#EBF0F8",
            "ticks": ""
           },
           "bgcolor": "white",
           "radialaxis": {
            "gridcolor": "#EBF0F8",
            "linecolor": "#EBF0F8",
            "ticks": ""
           }
          },
          "scene": {
           "xaxis": {
            "backgroundcolor": "white",
            "gridcolor": "#DFE8F3",
            "gridwidth": 2,
            "linecolor": "#EBF0F8",
            "showbackground": true,
            "ticks": "",
            "zerolinecolor": "#EBF0F8"
           },
           "yaxis": {
            "backgroundcolor": "white",
            "gridcolor": "#DFE8F3",
            "gridwidth": 2,
            "linecolor": "#EBF0F8",
            "showbackground": true,
            "ticks": "",
            "zerolinecolor": "#EBF0F8"
           },
           "zaxis": {
            "backgroundcolor": "white",
            "gridcolor": "#DFE8F3",
            "gridwidth": 2,
            "linecolor": "#EBF0F8",
            "showbackground": true,
            "ticks": "",
            "zerolinecolor": "#EBF0F8"
           }
          },
          "shapedefaults": {
           "line": {
            "color": "#2a3f5f"
           }
          },
          "ternary": {
           "aaxis": {
            "gridcolor": "#DFE8F3",
            "linecolor": "#A2B1C6",
            "ticks": ""
           },
           "baxis": {
            "gridcolor": "#DFE8F3",
            "linecolor": "#A2B1C6",
            "ticks": ""
           },
           "bgcolor": "white",
           "caxis": {
            "gridcolor": "#DFE8F3",
            "linecolor": "#A2B1C6",
            "ticks": ""
           }
          },
          "title": {
           "x": 0.05
          },
          "xaxis": {
           "automargin": true,
           "gridcolor": "#EBF0F8",
           "linecolor": "#EBF0F8",
           "ticks": "",
           "title": {
            "standoff": 15
           },
           "zerolinecolor": "#EBF0F8",
           "zerolinewidth": 2
          },
          "yaxis": {
           "automargin": true,
           "gridcolor": "#EBF0F8",
           "linecolor": "#EBF0F8",
           "ticks": "",
           "title": {
            "standoff": 15
           },
           "zerolinecolor": "#EBF0F8",
           "zerolinewidth": 2
          }
         }
        },
        "title": {
         "text": "All midprice series (zeroed) with insertion/cooling lines"
        },
        "width": 1200,
        "xaxis": {
         "showgrid": false,
         "title": {
          "text": "Index"
         }
        },
        "yaxis": {
         "showgrid": false,
         "title": {
          "text": "Price – first_price"
         }
        }
       }
      }
     },
     "metadata": {},
     "output_type": "display_data"
    }
   ],
   "source": [
    "fig = plot_midprice_series_with_insertions(\n",
    "    merged,\n",
    "    all_series,\n",
    "    x,\n",
    "    hist_steps,\n",
    "    gen_block,\n",
    "    num_insertions,\n",
    "    num_coolings,\n",
    "    n_gen_msgs,\n",
    "    midprice_step_size\n",
    ")"
   ]
  },
  {
   "cell_type": "code",
   "execution_count": 8,
   "metadata": {},
   "outputs": [],
   "source": [
    "# merged[\"std_dev\"] = merged[\"merged_data\"].apply(lambda x: np.std(x))\n",
    "# merged[\"max_abs_dev\"] = merged[\"merged_data\"].apply(lambda x: np.max(np.abs(np.array(x) - x[0])))\n",
    "# most_volatile = merged.sort_values(by=\"max_abs_dev\", ascending=False)\n",
    "# most_volatile = most_volatile.reset_index()\n",
    "# print(most_volatile[[\"id\", \"std_dev\", \"max_abs_dev\"]])"
   ]
  },
  {
   "cell_type": "code",
   "execution_count": 9,
   "metadata": {},
   "outputs": [],
   "source": [
    "# # drop_ids = [32904, 19669, 20774, 26578, 18870, 29206, 648, 4668, 21001]\n",
    "# # merged_filtered = merged[~merged['id'].isin(drop_ids)].reset_index(drop=True)\n",
    "\n",
    "# top_n = int(len(most_volatile) * 0.10)\n",
    "# most_volatile = most_volatile[top_n:]\n",
    "# merged = merged[merged['id'].isin(most_volatile['id'].values)].reset_index(drop=True)"
   ]
  },
  {
   "cell_type": "code",
   "execution_count": 10,
   "metadata": {},
   "outputs": [],
   "source": [
    "# # convert to “mid-price sample” units\n",
    "# hist_steps   = hist_msgs // midprice_step_size       # 500\n",
    "# gen_steps     = n_gen_msgs // midprice_step_size     # 50\n",
    "# gen_block     = gen_steps + 1                        # 51\n",
    "\n",
    "# # build zeroed series…\n",
    "# # build zeroed series, padded with zeros to the max length\n",
    "# all_series_raw = []\n",
    "# for row in merged.itertuples(index=False):\n",
    "#     data = np.array(row.merged_data)\n",
    "#     zeroed = data - data[0]\n",
    "#     # zeroed = data\n",
    "#     all_series_raw.append(zeroed)\n",
    "# # find the longest series\n",
    "# max_len = max(arr.shape[0] for arr in all_series_raw)\n",
    "# # pad each series at the end with zeros up to max_len\n",
    "# all_series = np.vstack([\n",
    "#     np.pad(\n",
    "#         arr,\n",
    "#         pad_width=(0, max_len - arr.shape[0]),\n",
    "#         mode=\"constant\",\n",
    "#         constant_values=0\n",
    "#     )\n",
    "#     for arr in all_series_raw\n",
    "# ])\n",
    "# # now build your x-axis to match\n",
    "# x = np.arange(1, max_len + 1)"
   ]
  },
  {
   "cell_type": "code",
   "execution_count": 11,
   "metadata": {},
   "outputs": [
    {
     "name": "stdout",
     "output_type": "stream",
     "text": [
      "      id     std_dev  max_abs_dev\n",
      "0  14606  151.463024          700\n",
      "1   4668  119.873043          500\n",
      "2   2787  102.088661          300\n",
      "3  16120  122.800037          200\n",
      "Before filtering: 4 samples\n",
      "After filtering: 4 samples\n"
     ]
    }
   ],
   "source": [
    "x, all_series, merged, hist_steps, gen_block = prepare_volatility_filtered_series(merged, hist_msgs, n_gen_msgs, midprice_step_size, volatility_cutoff=0.10)"
   ]
  },
  {
   "cell_type": "code",
   "execution_count": 12,
   "metadata": {},
   "outputs": [
    {
     "name": "stdout",
     "output_type": "stream",
     "text": [
      "insertion positions: [551, 602]\n",
      "cooling positions:   [653, 704]\n"
     ]
    },
    {
     "data": {
      "application/vnd.plotly.v1+json": {
       "config": {
        "plotlyServerURL": "https://plot.ly"
       },
       "data": [
        {
         "hoverinfo": "skip",
         "line": {
          "width": 1
         },
         "mode": "lines",
         "name": "id 2787",
         "opacity": 1,
         "type": "scatter",
         "x": {
          "bdata": "AQACAAMABAAFAAYABwAIAAkACgALAAwADQAOAA8AEAARABIAEwAUABUAFgAXABgAGQAaABsAHAAdAB4AHwAgACEAIgAjACQAJQAmACcAKAApACoAKwAsAC0ALgAvADAAMQAyADMANAA1ADYANwA4ADkAOgA7ADwAPQA+AD8AQABBAEIAQwBEAEUARgBHAEgASQBKAEsATABNAE4ATwBQAFEAUgBTAFQAVQBWAFcAWABZAFoAWwBcAF0AXgBfAGAAYQBiAGMAZABlAGYAZwBoAGkAagBrAGwAbQBuAG8AcABxAHIAcwB0AHUAdgB3AHgAeQB6AHsAfAB9AH4AfwCAAIEAggCDAIQAhQCGAIcAiACJAIoAiwCMAI0AjgCPAJAAkQCSAJMAlACVAJYAlwCYAJkAmgCbAJwAnQCeAJ8AoAChAKIAowCkAKUApgCnAKgAqQCqAKsArACtAK4ArwCwALEAsgCzALQAtQC2ALcAuAC5ALoAuwC8AL0AvgC/AMAAwQDCAMMAxADFAMYAxwDIAMkAygDLAMwAzQDOAM8A0ADRANIA0wDUANUA1gDXANgA2QDaANsA3ADdAN4A3wDgAOEA4gDjAOQA5QDmAOcA6ADpAOoA6wDsAO0A7gDvAPAA8QDyAPMA9AD1APYA9wD4APkA+gD7APwA/QD+AP8AAAEBAQIBAwEEAQUBBgEHAQgBCQEKAQsBDAENAQ4BDwEQAREBEgETARQBFQEWARcBGAEZARoBGwEcAR0BHgEfASABIQEiASMBJAElASYBJwEoASkBKgErASwBLQEuAS8BMAExATIBMwE0ATUBNgE3ATgBOQE6ATsBPAE9AT4BPwFAAUEBQgFDAUQBRQFGAUcBSAFJAUoBSwFMAU0BTgFPAVABUQFSAVMBVAFVAVYBVwFYAVkBWgFbAVwBXQFeAV8BYAFhAWIBYwFkAWUBZgFnAWgBaQFqAWsBbAFtAW4BbwFwAXEBcgFzAXQBdQF2AXcBeAF5AXoBewF8AX0BfgF/AYABgQGCAYMBhAGFAYYBhwGIAYkBigGLAYwBjQGOAY8BkAGRAZIBkwGUAZUBlgGXAZgBmQGaAZsBnAGdAZ4BnwGgAaEBogGjAaQBpQGmAacBqAGpAaoBqwGsAa0BrgGvAbABsQGyAbMBtAG1AbYBtwG4AbkBugG7AbwBvQG+Ab8BwAHBAcIBwwHEAcUBxgHHAcgByQHKAcsBzAHNAc4BzwHQAdEB0gHTAdQB1QHWAdcB2AHZAdoB2wHcAd0B3gHfAeAB4QHiAeMB5AHlAeYB5wHoAekB6gHrAewB7QHuAe8B8AHxAfIB8wH0AfUB9gH3AfgB+QH6AfsB/AH9Af4B/wEAAgECAgIDAgQCBQIGAgcCCAIJAgoCCwIMAg0CDgIPAhACEQISAhMCFAIVAhYCFwIYAhkCGgIbAhwCHQIeAh8CIAIhAiICIwIkAiUCJgInAigCKQIqAisCLAItAi4CLwIwAjECMgIzAjQCNQI2AjcCOAI5AjoCOwI8Aj0CPgI/AkACQQJCAkMCRAJFAkYCRwJIAkkCSgJLAkwCTQJOAk8CUAJRAlICUwJUAlUCVgJXAlgCWQJaAlsCXAJdAl4CXwJgAmECYgJjAmQCZQJmAmcCaAJpAmoCawJsAm0CbgJvAnACcQJyAnMCdAJ1AnYCdwJ4AnkCegJ7AnwCfQJ+An8CgAKBAoICgwKEAoUChgKHAogCiQKKAosCjAKNAo4CjwKQApECkgKTApQClQKWApcCmAKZApoCmwKcAp0CngKfAqACoQKiAqMCpAKlAqYCpwKoAqkCqgKrAqwCrQKuAq8CsAKxArICswK0ArUCtgK3ArgCuQK6ArsCvAK9Ar4C",
          "dtype": "i2"
         },
         "y": {
          "bdata": "AAAAAAAAAAAAAAAAAAAAAAAAAAAAAAAAAAAAAAAAAAAAAAAAAAAAAAAAAAAAAAAAAAAAAAAAAAAAAAAAAAAAAAAAAAAAAAAAAAAAAAAAAAAAAAAAAAAAAAAAAAAAAAAAAAAAAAAAAAAAAAAAAAAAAAAAAAAAAAAAAAAAAAAAAAAAAAAAAAAAAAAAAAAAAAAAAAAAAAAAAAAAAAAAAAAAAAAAAAAAAAAAAAAAAAAAAAAAAAAAAAAAAAAAAAAAAAAAAAAAAAAAAAAAAAAAAAAAAAAAAAAAAAAAAAAAAAAAAAAAAAAAAAAAAAAAAAAAAAAAAAAAAAAAAAAAAAAAAAAAAAAAAAAAAAAAAAAAAAAAAAAAAAAAAAAAAAAAAAAAAAAAAAAAAAAAAAAAAAAAAAAAAAAAAAAAAAAAAAAAAAAAnP+c/5z/nP+c/5z/nP+c/5z/nP+c/5z/nP+c/5z/nP+c/5z/nP+c/5z/nP+c/5z/nP+c/5z/nP+c/5z/nP+c/5z/nP+c/5z/nP+c/5z/nP+c/5z/nP+c/5z/nP+c/5z/nP+c/5z/nP+c/5z/nP+c/5z/nP+c/5z/nP+c/5z/nP+c/5z/nP+c/5z/nP+c/5z/nP+c/5z/nP8AAAAAAAAAAAAAAAAAAAAAAAAAAAAAAAAAAAAAAAAAAAAAAAAAAAAAAAAAAAAAAAAAAAAAAAAAAAAAAAAAAAAAAAAAAAAAAAAAAAAAAAAAAAAAAAAAAAAAAAAAAAAAAAAAAAAAAAAAAAAAAAAAAAAAAAAAAAAAAAAAAAAAAAAAAAAAAAAAAAAAAAAAAAAAAAAAAAAAAAAAAAAAAAAAAAAAAAAAAAAAAAAAAAAAAAAAAAAAAAAAAAAAAAAAAAAAAAAAAAAAAAAAAAAAAAAAAAAAAAAAAAAAAAAAAAAAAAAAAAAAAAAAAAAAAAAAAAAAAAAAAAAAAACc/5z/nP+c/5z/nP+c/5z/nP+c/5z/nP+c/5z/nP+c/5z/nP+c/5z/nP+c/5z/nP+c/5z/nP+c/5z/nP+c/5z/nP+c/5z/nP+c/5z/nP+c/5z/nP+c/5z/nP+c/5z/nP+c/5z/nP+c/5z/nP+c/5z/nP+c/5z/nP+c/5z/nP+c/5z/nP+c/5z/nP+c/5z/nP+c/5z/nP+c/5z/nP+c/5z/nP+c/5z/nP+c/5z/nP+c/5z/nP+c/5z/nP+c/5z/nP+c/5z/nP+c/5z/nP+c/5z/nP+c/5z/nP+c/5z/nP+c/5z/nP+c/5z/nP+c/5z/nP+c/5z/nP+c/5z/nP+c/5z/nP+c/5z/nP+c/5z/nP+c/5z/nP+c/5z/nP+c/5z/nP+c/5z/nP+c/5z/nP+c/5z/nP+c/5z/nP+c/5z/nP+c/5z/nP+c/5z/nP+c/5z/nP+c/5z/nP+c/5z/nP+c/5z/nP+c/5z/nP+c/5z/nP+c/5z/nP+c/5z/nP+c/5z/nP+c/zj/OP84/zj/OP84/zj/OP84/zj/OP84/zj/OP84/zj/OP84/zj/OP84/zj/OP84/zj/OP84/zj/OP84/zj/OP84/zj/OP84/zj/OP84/zj/OP84/zj/OP84/zj/OP84/zj/OP84/9T+1P7U/tT+1P7U/tT+1P7U/tT+1P7U/tT+1P7U/tT+1P7U/tT+1P7U/tT+1P7U/tT+1P7U/tT+1P7U/tT+1P7U/tT+1P7U/tT+1P7U/tT+1P7U/tT+1P7U/tT+1P7U/tT+1P7U/tT+1P7U/tT+1P7U/tT+1P7U/tT+1P7U/tT+1P7U/tT+1P7U/tT+1P7U/tT+1P7U/tT+1P7U/tT+1P7U/tT+1P7U/tT+1P7U/tT+1P7U/tT+1P7U/tT+1P7U/tT+1P7U/tT+",
          "dtype": "i2"
         }
        },
        {
         "hoverinfo": "skip",
         "line": {
          "width": 1
         },
         "mode": "lines",
         "name": "id 4668",
         "opacity": 1,
         "type": "scatter",
         "x": {
          "bdata": "AQACAAMABAAFAAYABwAIAAkACgALAAwADQAOAA8AEAARABIAEwAUABUAFgAXABgAGQAaABsAHAAdAB4AHwAgACEAIgAjACQAJQAmACcAKAApACoAKwAsAC0ALgAvADAAMQAyADMANAA1ADYANwA4ADkAOgA7ADwAPQA+AD8AQABBAEIAQwBEAEUARgBHAEgASQBKAEsATABNAE4ATwBQAFEAUgBTAFQAVQBWAFcAWABZAFoAWwBcAF0AXgBfAGAAYQBiAGMAZABlAGYAZwBoAGkAagBrAGwAbQBuAG8AcABxAHIAcwB0AHUAdgB3AHgAeQB6AHsAfAB9AH4AfwCAAIEAggCDAIQAhQCGAIcAiACJAIoAiwCMAI0AjgCPAJAAkQCSAJMAlACVAJYAlwCYAJkAmgCbAJwAnQCeAJ8AoAChAKIAowCkAKUApgCnAKgAqQCqAKsArACtAK4ArwCwALEAsgCzALQAtQC2ALcAuAC5ALoAuwC8AL0AvgC/AMAAwQDCAMMAxADFAMYAxwDIAMkAygDLAMwAzQDOAM8A0ADRANIA0wDUANUA1gDXANgA2QDaANsA3ADdAN4A3wDgAOEA4gDjAOQA5QDmAOcA6ADpAOoA6wDsAO0A7gDvAPAA8QDyAPMA9AD1APYA9wD4APkA+gD7APwA/QD+AP8AAAEBAQIBAwEEAQUBBgEHAQgBCQEKAQsBDAENAQ4BDwEQAREBEgETARQBFQEWARcBGAEZARoBGwEcAR0BHgEfASABIQEiASMBJAElASYBJwEoASkBKgErASwBLQEuAS8BMAExATIBMwE0ATUBNgE3ATgBOQE6ATsBPAE9AT4BPwFAAUEBQgFDAUQBRQFGAUcBSAFJAUoBSwFMAU0BTgFPAVABUQFSAVMBVAFVAVYBVwFYAVkBWgFbAVwBXQFeAV8BYAFhAWIBYwFkAWUBZgFnAWgBaQFqAWsBbAFtAW4BbwFwAXEBcgFzAXQBdQF2AXcBeAF5AXoBewF8AX0BfgF/AYABgQGCAYMBhAGFAYYBhwGIAYkBigGLAYwBjQGOAY8BkAGRAZIBkwGUAZUBlgGXAZgBmQGaAZsBnAGdAZ4BnwGgAaEBogGjAaQBpQGmAacBqAGpAaoBqwGsAa0BrgGvAbABsQGyAbMBtAG1AbYBtwG4AbkBugG7AbwBvQG+Ab8BwAHBAcIBwwHEAcUBxgHHAcgByQHKAcsBzAHNAc4BzwHQAdEB0gHTAdQB1QHWAdcB2AHZAdoB2wHcAd0B3gHfAeAB4QHiAeMB5AHlAeYB5wHoAekB6gHrAewB7QHuAe8B8AHxAfIB8wH0AfUB9gH3AfgB+QH6AfsB/AH9Af4B/wEAAgECAgIDAgQCBQIGAgcCCAIJAgoCCwIMAg0CDgIPAhACEQISAhMCFAIVAhYCFwIYAhkCGgIbAhwCHQIeAh8CIAIhAiICIwIkAiUCJgInAigCKQIqAisCLAItAi4CLwIwAjECMgIzAjQCNQI2AjcCOAI5AjoCOwI8Aj0CPgI/AkACQQJCAkMCRAJFAkYCRwJIAkkCSgJLAkwCTQJOAk8CUAJRAlICUwJUAlUCVgJXAlgCWQJaAlsCXAJdAl4CXwJgAmECYgJjAmQCZQJmAmcCaAJpAmoCawJsAm0CbgJvAnACcQJyAnMCdAJ1AnYCdwJ4AnkCegJ7AnwCfQJ+An8CgAKBAoICgwKEAoUChgKHAogCiQKKAosCjAKNAo4CjwKQApECkgKTApQClQKWApcCmAKZApoCmwKcAp0CngKfAqACoQKiAqMCpAKlAqYCpwKoAqkCqgKrAqwCrQKuAq8CsAKxArICswK0ArUCtgK3ArgCuQK6ArsCvAK9Ar4C",
          "dtype": "i2"
         },
         "y": {
          "bdata": "AAAAAAAAAAAAAAAAAAAAAAAAAAAAAAAAAAAAAAAAAAAAAAAAAAAAAAAAAAAAAJz/nP+c/5z/AAAAAAAAAACc/5z/nP+c/5z/nP+c/5z/nP+c/5z/nP+c/5z/OP84/zj/OP84/zj/OP84/zj/OP84/zj/OP84/zj/OP84/zj/OP84/zj/OP84/zj/OP84/zj/OP84/zj/OP84/zj/OP84/zj/OP84/zj/OP84/zj/OP84/zj/nP+c/5z/nP+c/5z/nP+c/5z/nP+c/5z/nP+c/5z/nP+c/5z/nP+c/5z/nP+c/zj/OP84/zj/OP84/zj/OP84/zj/OP84/zj/OP84/zj/OP84/zj/OP84/zj/OP84/zj/OP84/zj/OP84/zj/OP84/zj/OP84/zj/OP84/zj/OP84/zj/OP84/zj/OP84/zj/OP84/zj/OP84/zj/OP84/zj/OP/U/tT+1P7U/tT+1P7U/tT+1P7U/tT+1P7U/tT+cP5w/nD+cP5w/nD+cP5w/nD+cP5w/nD+cP5w/tT+1P7U/tT+1P7U/tT+1P7U/tT+1P7U/tT+1P7U/tT+1P7U/tT+1P7U/tT+1P7U/tT+1P7U/tT+1P7U/tT+1P7U/tT+1P7U/tT+1P7U/tT+1P7U/tT+1P7U/tT+1P7U/tT+1P7U/nD+cP5w/nD+cP5w/nD+cP5w/nD+cP5w/nD+cP5w/nD+cP7U/tT+1P7U/tT+1P7U/tT+1P7U/tT+1P7U/tT+1P7U/tT+1P7U/tT+1P7U/tT+1P7U/tT+1P7U/tT+1P7U/tT+1P7U/tT+1P7U/tT+1P7U/tT+1P7U/tT+cP5w/nD+cP5w/nD+cP5w/nD+1P7U/tT+1P7U/tT+1P7U/tT+1P7U/tT+1P7U/tT+1P7U/tT+1P7U/tT+1P7U/tT+1P7U/tT+1P7U/tT+1P7U/tT+1P7U/tT+1P7U/tT+1P7U/tT+1P7U/tT+1P7U/tT+1P7U/tT+1P7U/tT+1P7U/tT+1P7U/tT+1P7U/tT+1P7U/tT+1P7U/tT+1P7U/tT+1P7U/tT+1P7U/tT+1P7U/tT+1P7U/tT+1P7U/tT+1P7U/tT+1P7U/tT+1P7U/tT+1P7U/tT+1P7U/tT+1P7U/tT+1P7U/tT+1P7U/tT+1P7U/tT+1P7U/tT+1P7U/tT+1P7U/tT+1P7U/tT+1P44/zj/nP+c/5z/nP+c/5z/nP+c/5z/nP+c/5z/nP+c/5z/nP+c/zj/OP84/zj/OP84/zj/OP84/zj/OP84/zj/OP84/zj/OP84/zj/OP84/5z/nP+c/5z/nP+c/5z/nP+c/5z/nP+c/5z/OP84/zj/OP84/zj/OP84/zj/OP/U/tT+1P7U/tT+1P7U/tT+1P7U/tT+1P7U/tT+1P7U/tT+1P7U/tT+1P7U/tT+1P7U/tT+1P7U/tT+1P7U/tT+1P7U/tT+1P7U/tT+1P7U/tT+1P7U/tT+1P7U/tT+OP84/zj/OP84/3D+cP5w/nD+cP5w/nD+cP5w/nD+cP5w/nD+cP5w/nD+cP5w/nD+cP5w/nD+cP5w/nD+cP5w/nD+cP5w/nD+cP5w/nD+cP5w/nD+cP5w/nD+cP5w/nD+cP5w/nD+cP5w/nD+cP5w/gz+DP4M/gz+DP4M/gz+DP4M/gz+DP4M/gz+DP4M/gz+DP4M/gz+DP4M/gz+DP5w/nD+cP5w/nD+cP5w/nD+cP5w/nD+cP5w/nD+cP5w/nD+cP5w/nD+cP5w/nD+cP5w/nD+cP4M/gz+DP4M/gz+DP4M/gz+DP4M/gz+DP4M/gz+DP4M/gz+DP4M/gz+DP4M/gz+DP4M/gz+DP4M/gz+DP4M/gz+DP4M/gz+DP4M/gz+",
          "dtype": "i2"
         }
        },
        {
         "hoverinfo": "skip",
         "line": {
          "width": 1
         },
         "mode": "lines",
         "name": "id 14606",
         "opacity": 1,
         "type": "scatter",
         "x": {
          "bdata": "AQACAAMABAAFAAYABwAIAAkACgALAAwADQAOAA8AEAARABIAEwAUABUAFgAXABgAGQAaABsAHAAdAB4AHwAgACEAIgAjACQAJQAmACcAKAApACoAKwAsAC0ALgAvADAAMQAyADMANAA1ADYANwA4ADkAOgA7ADwAPQA+AD8AQABBAEIAQwBEAEUARgBHAEgASQBKAEsATABNAE4ATwBQAFEAUgBTAFQAVQBWAFcAWABZAFoAWwBcAF0AXgBfAGAAYQBiAGMAZABlAGYAZwBoAGkAagBrAGwAbQBuAG8AcABxAHIAcwB0AHUAdgB3AHgAeQB6AHsAfAB9AH4AfwCAAIEAggCDAIQAhQCGAIcAiACJAIoAiwCMAI0AjgCPAJAAkQCSAJMAlACVAJYAlwCYAJkAmgCbAJwAnQCeAJ8AoAChAKIAowCkAKUApgCnAKgAqQCqAKsArACtAK4ArwCwALEAsgCzALQAtQC2ALcAuAC5ALoAuwC8AL0AvgC/AMAAwQDCAMMAxADFAMYAxwDIAMkAygDLAMwAzQDOAM8A0ADRANIA0wDUANUA1gDXANgA2QDaANsA3ADdAN4A3wDgAOEA4gDjAOQA5QDmAOcA6ADpAOoA6wDsAO0A7gDvAPAA8QDyAPMA9AD1APYA9wD4APkA+gD7APwA/QD+AP8AAAEBAQIBAwEEAQUBBgEHAQgBCQEKAQsBDAENAQ4BDwEQAREBEgETARQBFQEWARcBGAEZARoBGwEcAR0BHgEfASABIQEiASMBJAElASYBJwEoASkBKgErASwBLQEuAS8BMAExATIBMwE0ATUBNgE3ATgBOQE6ATsBPAE9AT4BPwFAAUEBQgFDAUQBRQFGAUcBSAFJAUoBSwFMAU0BTgFPAVABUQFSAVMBVAFVAVYBVwFYAVkBWgFbAVwBXQFeAV8BYAFhAWIBYwFkAWUBZgFnAWgBaQFqAWsBbAFtAW4BbwFwAXEBcgFzAXQBdQF2AXcBeAF5AXoBewF8AX0BfgF/AYABgQGCAYMBhAGFAYYBhwGIAYkBigGLAYwBjQGOAY8BkAGRAZIBkwGUAZUBlgGXAZgBmQGaAZsBnAGdAZ4BnwGgAaEBogGjAaQBpQGmAacBqAGpAaoBqwGsAa0BrgGvAbABsQGyAbMBtAG1AbYBtwG4AbkBugG7AbwBvQG+Ab8BwAHBAcIBwwHEAcUBxgHHAcgByQHKAcsBzAHNAc4BzwHQAdEB0gHTAdQB1QHWAdcB2AHZAdoB2wHcAd0B3gHfAeAB4QHiAeMB5AHlAeYB5wHoAekB6gHrAewB7QHuAe8B8AHxAfIB8wH0AfUB9gH3AfgB+QH6AfsB/AH9Af4B/wEAAgECAgIDAgQCBQIGAgcCCAIJAgoCCwIMAg0CDgIPAhACEQISAhMCFAIVAhYCFwIYAhkCGgIbAhwCHQIeAh8CIAIhAiICIwIkAiUCJgInAigCKQIqAisCLAItAi4CLwIwAjECMgIzAjQCNQI2AjcCOAI5AjoCOwI8Aj0CPgI/AkACQQJCAkMCRAJFAkYCRwJIAkkCSgJLAkwCTQJOAk8CUAJRAlICUwJUAlUCVgJXAlgCWQJaAlsCXAJdAl4CXwJgAmECYgJjAmQCZQJmAmcCaAJpAmoCawJsAm0CbgJvAnACcQJyAnMCdAJ1AnYCdwJ4AnkCegJ7AnwCfQJ+An8CgAKBAoICgwKEAoUChgKHAogCiQKKAosCjAKNAo4CjwKQApECkgKTApQClQKWApcCmAKZApoCmwKcAp0CngKfAqACoQKiAqMCpAKlAqYCpwKoAqkCqgKrAqwCrQKuAq8CsAKxArICswK0ArUCtgK3ArgCuQK6ArsCvAK9Ar4C",
          "dtype": "i2"
         },
         "y": {
          "bdata": "AAAAAAAAAAAAAAAAAAAAAAAAAAAAAAAAAAAAAAAAAAAAAAAAAAAAAAAAAAAAAAAAAAAAAAAAAAAAAAAAAAAAAAAAAAAAAAAAAAAAAAAAAAAAAAAAAAAAAAAAAAAAAAAAAAAAAAAAAAAAAAAAAAAAAAAAAAAAAAAAAAAAAAAAZABkAGQAZABkAGQAZABkAGQAZABkAGQAZABkAGQAZABkAGQAZABkAGQAZABkAGQAZABkAGQAZABkAGQAZABkAGQAZABkAGQAZABkAGQAZABkAMgAyADIAMgAyADIAMgAyADIAMgAyADIAMgAyADIAMgAyADIAMgAyADIAMgAyADIAMgAyADIAMgAyADIAMgAyADIAMgAyADIAMgAyADIAMgAyADIAMgAyADIAMgAyAAsASwBLAEsASwBLAEsASwBLAEsASwBLAEsASwBLAEsASwBLAEsASwBLAEsASwBLAEsASwBLAEsASwBLAEsASwBLAEsASwBLAEsASwBLAEsASwBLAEsASwBLAEsASwBLAEsASwBLAEsASwBLAEsASwBLAEsASwBLAEsASwBLAEsASwBLAEsASwBLAEsASwBLAEsASwBLAEsAZABkAGQAZABkAGQAZABkAGQAZABkAGQAZABkAGQAZABkAGQAZABkAGQAZABkAGQAZABkAGQAZABkAGQAZABkAGQAZABkAGQAZABkAGQAZABkAGQAZABkAGQAZABkAGQAZABkAGQAZABkAGQAZABkAGQAZABkAGQAZABkAGQAZABkAGQAZABkAGQAZABkAGQAZABkAGQAZABkAGQAZABkAGQAZABkAGQAZABLAEsASwBLAEsAcgAyADIAMgAyADIACwBLAEsASwBLAEsASwBLAGQAZABkAGQAZABLAEsASwBLAEsASwBLAEsASwBLAEsASwBLAEsASwBLAEsASwBLAEsASwBLAEsASwBLAEsASwBLAEsASwBLAEsASwBLAEsASwBLAEsASwBLAEsASwByADIAMgAyADIACwBLAEsASwBLAEsASwBLAEsASwBLAEsASwBLAEsASwBLAEsASwBLAEsASwBLAEsASwBLAEsASwBLAEsASwBLAEsASwBLAEsASwBLAEsAZABkAEsASwBkAGQAZABkAGQAZABkAGQAZABkAGQAZABkAH0AfQB9AH0AfQB9AH0AfQB9AH0AfQB9AH0AfQB9AH0AfQB9AH0AfQB9AH0AfQB9AH0AfQB9AH0AfQB9AH0AfQB9AH0AfQB9AH0AfQB9AGQAZABkAGQAZABkAGQAZABkAGQAZABkAGQAZAB9AGQAZABkAGQAZABkAGQAZABkAGQAZABkAGQASwBLAEsASwBLAEsASwBLAHIAMgAyADIAPQB9AH0AfQBkAEsASwBLAEsASwBLAEsASwBLAEsASwBLAEsASwBLAEsASwBLAEsASwBLAEsASwBLAEsASwBLAEsASwBLAEsASwBLAEsAcgAyADIAMgAyADIAMgAyADIAMgAyADIAMgAyAAsASwBLAEsASwBLAEsASwBLAEsASwBLAEsASwBLAEsASwBLAEsASwBLAEsASwBLAEsASwBLAEsASwBLAEsAZABkAGQAZABkAGQAZABkAGQAfQB9AH0AfQB9AH0AfQB9AGQAfQB9AH0AfQB9AH0AfQB9AH0AfQB9AH0AfQB9AH0AfQB9AH0AfQB9AH0AfQB9AH0AfQB9AH0AfQB9AH0AfQB9AH0AfQB9AH0AVgCWAJYAlgCWAJYArwCvAJYAlgCWAK8AlgCWAJYAlgCWAJYAlgCWAJYAlgCWAL0AfQB9AH0AfQB9AH0AfQB9AH0AfQB9AH0AfQB9AH0AfQB9AH0AfQB9AH0AfQB",
          "dtype": "i2"
         }
        },
        {
         "hoverinfo": "skip",
         "line": {
          "width": 1
         },
         "mode": "lines",
         "name": "id 16120",
         "opacity": 1,
         "type": "scatter",
         "x": {
          "bdata": "AQACAAMABAAFAAYABwAIAAkACgALAAwADQAOAA8AEAARABIAEwAUABUAFgAXABgAGQAaABsAHAAdAB4AHwAgACEAIgAjACQAJQAmACcAKAApACoAKwAsAC0ALgAvADAAMQAyADMANAA1ADYANwA4ADkAOgA7ADwAPQA+AD8AQABBAEIAQwBEAEUARgBHAEgASQBKAEsATABNAE4ATwBQAFEAUgBTAFQAVQBWAFcAWABZAFoAWwBcAF0AXgBfAGAAYQBiAGMAZABlAGYAZwBoAGkAagBrAGwAbQBuAG8AcABxAHIAcwB0AHUAdgB3AHgAeQB6AHsAfAB9AH4AfwCAAIEAggCDAIQAhQCGAIcAiACJAIoAiwCMAI0AjgCPAJAAkQCSAJMAlACVAJYAlwCYAJkAmgCbAJwAnQCeAJ8AoAChAKIAowCkAKUApgCnAKgAqQCqAKsArACtAK4ArwCwALEAsgCzALQAtQC2ALcAuAC5ALoAuwC8AL0AvgC/AMAAwQDCAMMAxADFAMYAxwDIAMkAygDLAMwAzQDOAM8A0ADRANIA0wDUANUA1gDXANgA2QDaANsA3ADdAN4A3wDgAOEA4gDjAOQA5QDmAOcA6ADpAOoA6wDsAO0A7gDvAPAA8QDyAPMA9AD1APYA9wD4APkA+gD7APwA/QD+AP8AAAEBAQIBAwEEAQUBBgEHAQgBCQEKAQsBDAENAQ4BDwEQAREBEgETARQBFQEWARcBGAEZARoBGwEcAR0BHgEfASABIQEiASMBJAElASYBJwEoASkBKgErASwBLQEuAS8BMAExATIBMwE0ATUBNgE3ATgBOQE6ATsBPAE9AT4BPwFAAUEBQgFDAUQBRQFGAUcBSAFJAUoBSwFMAU0BTgFPAVABUQFSAVMBVAFVAVYBVwFYAVkBWgFbAVwBXQFeAV8BYAFhAWIBYwFkAWUBZgFnAWgBaQFqAWsBbAFtAW4BbwFwAXEBcgFzAXQBdQF2AXcBeAF5AXoBewF8AX0BfgF/AYABgQGCAYMBhAGFAYYBhwGIAYkBigGLAYwBjQGOAY8BkAGRAZIBkwGUAZUBlgGXAZgBmQGaAZsBnAGdAZ4BnwGgAaEBogGjAaQBpQGmAacBqAGpAaoBqwGsAa0BrgGvAbABsQGyAbMBtAG1AbYBtwG4AbkBugG7AbwBvQG+Ab8BwAHBAcIBwwHEAcUBxgHHAcgByQHKAcsBzAHNAc4BzwHQAdEB0gHTAdQB1QHWAdcB2AHZAdoB2wHcAd0B3gHfAeAB4QHiAeMB5AHlAeYB5wHoAekB6gHrAewB7QHuAe8B8AHxAfIB8wH0AfUB9gH3AfgB+QH6AfsB/AH9Af4B/wEAAgECAgIDAgQCBQIGAgcCCAIJAgoCCwIMAg0CDgIPAhACEQISAhMCFAIVAhYCFwIYAhkCGgIbAhwCHQIeAh8CIAIhAiICIwIkAiUCJgInAigCKQIqAisCLAItAi4CLwIwAjECMgIzAjQCNQI2AjcCOAI5AjoCOwI8Aj0CPgI/AkACQQJCAkMCRAJFAkYCRwJIAkkCSgJLAkwCTQJOAk8CUAJRAlICUwJUAlUCVgJXAlgCWQJaAlsCXAJdAl4CXwJgAmECYgJjAmQCZQJmAmcCaAJpAmoCawJsAm0CbgJvAnACcQJyAnMCdAJ1AnYCdwJ4AnkCegJ7AnwCfQJ+An8CgAKBAoICgwKEAoUChgKHAogCiQKKAosCjAKNAo4CjwKQApECkgKTApQClQKWApcCmAKZApoCmwKcAp0CngKfAqACoQKiAqMCpAKlAqYCpwKoAqkCqgKrAqwCrQKuAq8CsAKxArICswK0ArUCtgK3ArgCuQK6ArsCvAK9Ar4C",
          "dtype": "i2"
         },
         "y": {
          "bdata": "AAAAAAAAAAAAAAAAAAAAAAAAAAAAAAAAAAAAAAAAAAAAAAAAAACc/5z/AAAAAAAAAAAAAAAAAAAAAAAAAAAAAJz/AACc/5z/nP+c/5z/nP8AAAAAAAAAAAAAAACc/5z/nP+c/5z/nP+c/5z/nP+c/5z/nP+c/5z/nP+c/5z/nP+c/5z/AAAAAAAAAACc/5z/nP8AAAAAAAAAAAAAAAAAAAAAAAAAAGQAZABkAGQAAAAAAAAAAAAAAAAAAAAAAGQAZABkAGQAZABkAGQAZABkAGQAZABkAGQAZABkAGQAZABkAGQAZABkAGQAZABkAGQAZABkAGQAZABkAGQAZABkAGQAyADIAMgAyADIAMgAyADIAMgAyADIAMgAyADIAMgAyADIAMgAyADIAMgAyADIAMgAyADIAMgAyADIAMgAyADIAMgAyADIAMgAyADIAMgAyADIAMgAyADIAMgAyADIAMgAyADIAMgAyADIAMgAyADIAMgAyADIAMgAyADIAMgAyADIAMgAyADIAMgAyABkAGQAZABkAGQAZABkAGQAZABkAGQAZABkAGQAZABkAGQAZABkAMgAZABkAGQAZABkAGQAZABkAGQAZABkAGQAZABkAGQAZABkAGQAZABkAGQAZABkAGQAZADIAGQAZABkAGQAZABkAGQAZABkAGQAZABkAGQAZABkAGQAZABkAGQAZABkAGQAZABkAGQAZABkAGQAZABkAGQAZABkAGQAZABkAGQAZABkAGQAZABkAGQAZABkAGQAZABkAGQAZABkAGQAZABkAGQAZABkAGQAZABkAGQAZABkAGQAZABkAGQAZAAAAAAAAAAAAAAAAAAAAAAAAAAAAGQAZABkAGQAZABkAGQAZABkAGQAZABkAGQAZABkAGQAZABkAGQAZABkAGQAZABkAGQAZABkAGQAZABkAGQAZABkAGQAZABkAGQAZABkAGQAZABkAGQAZABkAGQAZABkAGQAZABkAGQAZABkAGQAZABkAGQAZABkAGQAZABkAGQAZABkAGQAZABkAGQAAAAAAAAAAAAAAAAAAAAAAAAAAAAAAAAAAAAAAAAAAAAAAAAAAAAAAAAAZABkAGQAZABkAGQAZABkAGQAZABkAGQAZABkAGQAZABkAGQAZABkAGQAZABkAGQAZABkAGQAZABkAGQAZAAAAAAAAAAAAAAAAAAAAAAAAAAAAAAAAAAAAAAAAAAAAAAAAAAAAAAAAAAAAAAAAAAAAAAAAAAAAAAAAAAAAAAAAAAAAAAAAAAAAAAAAAAAAAAAAAAAAAAAAAAAAAAAAAAAAAAAAAAAAAAAAAAAAAAAnP+c/5z/nP+c/5z/nP+c/5z/nP+c/5z/nP+c/5z/nP+c/5z/nP+c/5z/nP+c/5z/nP+c/5z/nP+c/5z/nP+c/5z/nP+c/5z/nP+c/5z/nP+c/5z/nP+c/5z/nP+c/5z/nP+c/5z/nP+c/5z/nP+c/5z/AAAAAAAAAACc/5z/nP+c/5z/nP+c/5z/nP+c/5z/nP+c/5z/nP+c/5z/nP+c/5z/nP+c/5z/nP+c/5z/nP+c/5z/nP+c/5z/nP+c/5z/nP+c/5z/nP+c/5z/OP84/zj/OP84/zj/OP84/zj/OP84/zj/OP84/zj/OP84/zj/OP84/zj/OP84/zj/OP84/zj/OP84/zj/OP84/zj/OP84/zj/OP84/zj/OP84/zj/OP84/zj/OP84/zj/OP84/zj/OP84/zj/OP84/zj/OP84/zj/OP84/zj/OP84/zj/OP84/zj/OP84/zj/OP84/zj/OP84/zj/OP84/zj/OP84/zj/OP84/zj/OP84/zj/OP84/zj/OP84/zj/OP84/zj/",
          "dtype": "i2"
         }
        }
       ],
       "layout": {
        "annotations": [
         {
          "showarrow": false,
          "text": "0-line",
          "x": 1,
          "xanchor": "right",
          "xref": "x domain",
          "y": 0,
          "yanchor": "top",
          "yref": "y"
         },
         {
          "align": "left",
          "showarrow": false,
          "text": "Midprice every 1 msgs;<br>solid red = insertion (every 50 msgs +1 step);<br>dashed red = cooling (same spacing); blue = end of history.",
          "x": 0,
          "xref": "paper",
          "y": -0.225,
          "yref": "paper"
         }
        ],
        "height": 800,
        "hovermode": "x unified",
        "margin": {
         "b": 150
        },
        "shapes": [
         {
          "line": {
           "color": "blue",
           "dash": "dash",
           "width": 2
          },
          "type": "line",
          "x0": 500,
          "x1": 500,
          "xref": "x",
          "y0": 0,
          "y1": 1,
          "yref": "y domain"
         },
         {
          "line": {
           "color": "red",
           "dash": "solid",
           "width": 2
          },
          "type": "line",
          "x0": 551,
          "x1": 551,
          "xref": "x",
          "y0": 0,
          "y1": 1,
          "yref": "y domain"
         },
         {
          "line": {
           "color": "red",
           "dash": "solid",
           "width": 2
          },
          "type": "line",
          "x0": 602,
          "x1": 602,
          "xref": "x",
          "y0": 0,
          "y1": 1,
          "yref": "y domain"
         },
         {
          "line": {
           "color": "red",
           "dash": "dash",
           "width": 2
          },
          "type": "line",
          "x0": 653,
          "x1": 653,
          "xref": "x",
          "y0": 0,
          "y1": 1,
          "yref": "y domain"
         },
         {
          "line": {
           "color": "red",
           "dash": "dash",
           "width": 2
          },
          "type": "line",
          "x0": 704,
          "x1": 704,
          "xref": "x",
          "y0": 0,
          "y1": 1,
          "yref": "y domain"
         },
         {
          "line": {
           "color": "black",
           "dash": "solid",
           "width": 2
          },
          "type": "line",
          "x0": 0,
          "x1": 1,
          "xref": "x domain",
          "y0": 0,
          "y1": 0,
          "yref": "y"
         }
        ],
        "template": {
         "data": {
          "bar": [
           {
            "error_x": {
             "color": "#2a3f5f"
            },
            "error_y": {
             "color": "#2a3f5f"
            },
            "marker": {
             "line": {
              "color": "white",
              "width": 0.5
             },
             "pattern": {
              "fillmode": "overlay",
              "size": 10,
              "solidity": 0.2
             }
            },
            "type": "bar"
           }
          ],
          "barpolar": [
           {
            "marker": {
             "line": {
              "color": "white",
              "width": 0.5
             },
             "pattern": {
              "fillmode": "overlay",
              "size": 10,
              "solidity": 0.2
             }
            },
            "type": "barpolar"
           }
          ],
          "carpet": [
           {
            "aaxis": {
             "endlinecolor": "#2a3f5f",
             "gridcolor": "#C8D4E3",
             "linecolor": "#C8D4E3",
             "minorgridcolor": "#C8D4E3",
             "startlinecolor": "#2a3f5f"
            },
            "baxis": {
             "endlinecolor": "#2a3f5f",
             "gridcolor": "#C8D4E3",
             "linecolor": "#C8D4E3",
             "minorgridcolor": "#C8D4E3",
             "startlinecolor": "#2a3f5f"
            },
            "type": "carpet"
           }
          ],
          "choropleth": [
           {
            "colorbar": {
             "outlinewidth": 0,
             "ticks": ""
            },
            "type": "choropleth"
           }
          ],
          "contour": [
           {
            "colorbar": {
             "outlinewidth": 0,
             "ticks": ""
            },
            "colorscale": [
             [
              0,
              "#0d0887"
             ],
             [
              0.1111111111111111,
              "#46039f"
             ],
             [
              0.2222222222222222,
              "#7201a8"
             ],
             [
              0.3333333333333333,
              "#9c179e"
             ],
             [
              0.4444444444444444,
              "#bd3786"
             ],
             [
              0.5555555555555556,
              "#d8576b"
             ],
             [
              0.6666666666666666,
              "#ed7953"
             ],
             [
              0.7777777777777778,
              "#fb9f3a"
             ],
             [
              0.8888888888888888,
              "#fdca26"
             ],
             [
              1,
              "#f0f921"
             ]
            ],
            "type": "contour"
           }
          ],
          "contourcarpet": [
           {
            "colorbar": {
             "outlinewidth": 0,
             "ticks": ""
            },
            "type": "contourcarpet"
           }
          ],
          "heatmap": [
           {
            "colorbar": {
             "outlinewidth": 0,
             "ticks": ""
            },
            "colorscale": [
             [
              0,
              "#0d0887"
             ],
             [
              0.1111111111111111,
              "#46039f"
             ],
             [
              0.2222222222222222,
              "#7201a8"
             ],
             [
              0.3333333333333333,
              "#9c179e"
             ],
             [
              0.4444444444444444,
              "#bd3786"
             ],
             [
              0.5555555555555556,
              "#d8576b"
             ],
             [
              0.6666666666666666,
              "#ed7953"
             ],
             [
              0.7777777777777778,
              "#fb9f3a"
             ],
             [
              0.8888888888888888,
              "#fdca26"
             ],
             [
              1,
              "#f0f921"
             ]
            ],
            "type": "heatmap"
           }
          ],
          "histogram": [
           {
            "marker": {
             "pattern": {
              "fillmode": "overlay",
              "size": 10,
              "solidity": 0.2
             }
            },
            "type": "histogram"
           }
          ],
          "histogram2d": [
           {
            "colorbar": {
             "outlinewidth": 0,
             "ticks": ""
            },
            "colorscale": [
             [
              0,
              "#0d0887"
             ],
             [
              0.1111111111111111,
              "#46039f"
             ],
             [
              0.2222222222222222,
              "#7201a8"
             ],
             [
              0.3333333333333333,
              "#9c179e"
             ],
             [
              0.4444444444444444,
              "#bd3786"
             ],
             [
              0.5555555555555556,
              "#d8576b"
             ],
             [
              0.6666666666666666,
              "#ed7953"
             ],
             [
              0.7777777777777778,
              "#fb9f3a"
             ],
             [
              0.8888888888888888,
              "#fdca26"
             ],
             [
              1,
              "#f0f921"
             ]
            ],
            "type": "histogram2d"
           }
          ],
          "histogram2dcontour": [
           {
            "colorbar": {
             "outlinewidth": 0,
             "ticks": ""
            },
            "colorscale": [
             [
              0,
              "#0d0887"
             ],
             [
              0.1111111111111111,
              "#46039f"
             ],
             [
              0.2222222222222222,
              "#7201a8"
             ],
             [
              0.3333333333333333,
              "#9c179e"
             ],
             [
              0.4444444444444444,
              "#bd3786"
             ],
             [
              0.5555555555555556,
              "#d8576b"
             ],
             [
              0.6666666666666666,
              "#ed7953"
             ],
             [
              0.7777777777777778,
              "#fb9f3a"
             ],
             [
              0.8888888888888888,
              "#fdca26"
             ],
             [
              1,
              "#f0f921"
             ]
            ],
            "type": "histogram2dcontour"
           }
          ],
          "mesh3d": [
           {
            "colorbar": {
             "outlinewidth": 0,
             "ticks": ""
            },
            "type": "mesh3d"
           }
          ],
          "parcoords": [
           {
            "line": {
             "colorbar": {
              "outlinewidth": 0,
              "ticks": ""
             }
            },
            "type": "parcoords"
           }
          ],
          "pie": [
           {
            "automargin": true,
            "type": "pie"
           }
          ],
          "scatter": [
           {
            "fillpattern": {
             "fillmode": "overlay",
             "size": 10,
             "solidity": 0.2
            },
            "type": "scatter"
           }
          ],
          "scatter3d": [
           {
            "line": {
             "colorbar": {
              "outlinewidth": 0,
              "ticks": ""
             }
            },
            "marker": {
             "colorbar": {
              "outlinewidth": 0,
              "ticks": ""
             }
            },
            "type": "scatter3d"
           }
          ],
          "scattercarpet": [
           {
            "marker": {
             "colorbar": {
              "outlinewidth": 0,
              "ticks": ""
             }
            },
            "type": "scattercarpet"
           }
          ],
          "scattergeo": [
           {
            "marker": {
             "colorbar": {
              "outlinewidth": 0,
              "ticks": ""
             }
            },
            "type": "scattergeo"
           }
          ],
          "scattergl": [
           {
            "marker": {
             "colorbar": {
              "outlinewidth": 0,
              "ticks": ""
             }
            },
            "type": "scattergl"
           }
          ],
          "scattermap": [
           {
            "marker": {
             "colorbar": {
              "outlinewidth": 0,
              "ticks": ""
             }
            },
            "type": "scattermap"
           }
          ],
          "scattermapbox": [
           {
            "marker": {
             "colorbar": {
              "outlinewidth": 0,
              "ticks": ""
             }
            },
            "type": "scattermapbox"
           }
          ],
          "scatterpolar": [
           {
            "marker": {
             "colorbar": {
              "outlinewidth": 0,
              "ticks": ""
             }
            },
            "type": "scatterpolar"
           }
          ],
          "scatterpolargl": [
           {
            "marker": {
             "colorbar": {
              "outlinewidth": 0,
              "ticks": ""
             }
            },
            "type": "scatterpolargl"
           }
          ],
          "scatterternary": [
           {
            "marker": {
             "colorbar": {
              "outlinewidth": 0,
              "ticks": ""
             }
            },
            "type": "scatterternary"
           }
          ],
          "surface": [
           {
            "colorbar": {
             "outlinewidth": 0,
             "ticks": ""
            },
            "colorscale": [
             [
              0,
              "#0d0887"
             ],
             [
              0.1111111111111111,
              "#46039f"
             ],
             [
              0.2222222222222222,
              "#7201a8"
             ],
             [
              0.3333333333333333,
              "#9c179e"
             ],
             [
              0.4444444444444444,
              "#bd3786"
             ],
             [
              0.5555555555555556,
              "#d8576b"
             ],
             [
              0.6666666666666666,
              "#ed7953"
             ],
             [
              0.7777777777777778,
              "#fb9f3a"
             ],
             [
              0.8888888888888888,
              "#fdca26"
             ],
             [
              1,
              "#f0f921"
             ]
            ],
            "type": "surface"
           }
          ],
          "table": [
           {
            "cells": {
             "fill": {
              "color": "#EBF0F8"
             },
             "line": {
              "color": "white"
             }
            },
            "header": {
             "fill": {
              "color": "#C8D4E3"
             },
             "line": {
              "color": "white"
             }
            },
            "type": "table"
           }
          ]
         },
         "layout": {
          "annotationdefaults": {
           "arrowcolor": "#2a3f5f",
           "arrowhead": 0,
           "arrowwidth": 1
          },
          "autotypenumbers": "strict",
          "coloraxis": {
           "colorbar": {
            "outlinewidth": 0,
            "ticks": ""
           }
          },
          "colorscale": {
           "diverging": [
            [
             0,
             "#8e0152"
            ],
            [
             0.1,
             "#c51b7d"
            ],
            [
             0.2,
             "#de77ae"
            ],
            [
             0.3,
             "#f1b6da"
            ],
            [
             0.4,
             "#fde0ef"
            ],
            [
             0.5,
             "#f7f7f7"
            ],
            [
             0.6,
             "#e6f5d0"
            ],
            [
             0.7,
             "#b8e186"
            ],
            [
             0.8,
             "#7fbc41"
            ],
            [
             0.9,
             "#4d9221"
            ],
            [
             1,
             "#276419"
            ]
           ],
           "sequential": [
            [
             0,
             "#0d0887"
            ],
            [
             0.1111111111111111,
             "#46039f"
            ],
            [
             0.2222222222222222,
             "#7201a8"
            ],
            [
             0.3333333333333333,
             "#9c179e"
            ],
            [
             0.4444444444444444,
             "#bd3786"
            ],
            [
             0.5555555555555556,
             "#d8576b"
            ],
            [
             0.6666666666666666,
             "#ed7953"
            ],
            [
             0.7777777777777778,
             "#fb9f3a"
            ],
            [
             0.8888888888888888,
             "#fdca26"
            ],
            [
             1,
             "#f0f921"
            ]
           ],
           "sequentialminus": [
            [
             0,
             "#0d0887"
            ],
            [
             0.1111111111111111,
             "#46039f"
            ],
            [
             0.2222222222222222,
             "#7201a8"
            ],
            [
             0.3333333333333333,
             "#9c179e"
            ],
            [
             0.4444444444444444,
             "#bd3786"
            ],
            [
             0.5555555555555556,
             "#d8576b"
            ],
            [
             0.6666666666666666,
             "#ed7953"
            ],
            [
             0.7777777777777778,
             "#fb9f3a"
            ],
            [
             0.8888888888888888,
             "#fdca26"
            ],
            [
             1,
             "#f0f921"
            ]
           ]
          },
          "colorway": [
           "#636efa",
           "#EF553B",
           "#00cc96",
           "#ab63fa",
           "#FFA15A",
           "#19d3f3",
           "#FF6692",
           "#B6E880",
           "#FF97FF",
           "#FECB52"
          ],
          "font": {
           "color": "#2a3f5f"
          },
          "geo": {
           "bgcolor": "white",
           "lakecolor": "white",
           "landcolor": "white",
           "showlakes": true,
           "showland": true,
           "subunitcolor": "#C8D4E3"
          },
          "hoverlabel": {
           "align": "left"
          },
          "hovermode": "closest",
          "mapbox": {
           "style": "light"
          },
          "paper_bgcolor": "white",
          "plot_bgcolor": "white",
          "polar": {
           "angularaxis": {
            "gridcolor": "#EBF0F8",
            "linecolor": "#EBF0F8",
            "ticks": ""
           },
           "bgcolor": "white",
           "radialaxis": {
            "gridcolor": "#EBF0F8",
            "linecolor": "#EBF0F8",
            "ticks": ""
           }
          },
          "scene": {
           "xaxis": {
            "backgroundcolor": "white",
            "gridcolor": "#DFE8F3",
            "gridwidth": 2,
            "linecolor": "#EBF0F8",
            "showbackground": true,
            "ticks": "",
            "zerolinecolor": "#EBF0F8"
           },
           "yaxis": {
            "backgroundcolor": "white",
            "gridcolor": "#DFE8F3",
            "gridwidth": 2,
            "linecolor": "#EBF0F8",
            "showbackground": true,
            "ticks": "",
            "zerolinecolor": "#EBF0F8"
           },
           "zaxis": {
            "backgroundcolor": "white",
            "gridcolor": "#DFE8F3",
            "gridwidth": 2,
            "linecolor": "#EBF0F8",
            "showbackground": true,
            "ticks": "",
            "zerolinecolor": "#EBF0F8"
           }
          },
          "shapedefaults": {
           "line": {
            "color": "#2a3f5f"
           }
          },
          "ternary": {
           "aaxis": {
            "gridcolor": "#DFE8F3",
            "linecolor": "#A2B1C6",
            "ticks": ""
           },
           "baxis": {
            "gridcolor": "#DFE8F3",
            "linecolor": "#A2B1C6",
            "ticks": ""
           },
           "bgcolor": "white",
           "caxis": {
            "gridcolor": "#DFE8F3",
            "linecolor": "#A2B1C6",
            "ticks": ""
           }
          },
          "title": {
           "x": 0.05
          },
          "xaxis": {
           "automargin": true,
           "gridcolor": "#EBF0F8",
           "linecolor": "#EBF0F8",
           "ticks": "",
           "title": {
            "standoff": 15
           },
           "zerolinecolor": "#EBF0F8",
           "zerolinewidth": 2
          },
          "yaxis": {
           "automargin": true,
           "gridcolor": "#EBF0F8",
           "linecolor": "#EBF0F8",
           "ticks": "",
           "title": {
            "standoff": 15
           },
           "zerolinecolor": "#EBF0F8",
           "zerolinewidth": 2
          }
         }
        },
        "title": {
         "text": "All midprice series (zeroed) with insertion/cooling lines"
        },
        "width": 1200,
        "xaxis": {
         "showgrid": false,
         "title": {
          "text": "Index"
         }
        },
        "yaxis": {
         "showgrid": false,
         "title": {
          "text": "Price – first_price"
         }
        }
       }
      }
     },
     "metadata": {},
     "output_type": "display_data"
    }
   ],
   "source": [
    "fig = plot_midprice_series_with_insertions(\n",
    "    merged=merged,\n",
    "    all_series=all_series,\n",
    "    x=x,\n",
    "    hist_steps=hist_steps,\n",
    "    gen_block=gen_block,\n",
    "    num_insertions=num_insertions,\n",
    "    num_coolings=num_coolings,\n",
    "    n_gen_msgs=n_gen_msgs,\n",
    "    midprice_step_size=midprice_step_size,\n",
    "    height=800,\n",
    "    width=1200,\n",
    ")\n",
    "\n",
    "# fig = go.Figure()\n",
    "\n",
    "# # faint individual\n",
    "# for row, arr0 in zip(merged.itertuples(False), all_series):\n",
    "#     fig.add_trace(go.Scatter(x=x, y=arr0, mode='lines',\n",
    "#                              opacity=1.0, hoverinfo='skip',\n",
    "#                              line=dict(width=1), name=f\"id {row.id}\"))\n",
    "\n",
    "# # history-end\n",
    "# fig.add_vline(x=hist_steps, line=dict(color='blue',width=2,dash='dash'))\n",
    "\n",
    "# # all event-positions in one go\n",
    "# events = np.arange(1, num_insertions+num_coolings+1)\n",
    "# positions = hist_steps + gen_block*events\n",
    "\n",
    "# # first N as solid (insertions)\n",
    "# for pos in positions[:num_insertions]:\n",
    "#     fig.add_vline(x=pos, line=dict(color='red',width=2,dash='solid'))\n",
    "# # next M as dashed (coolings)\n",
    "# for pos in positions[num_insertions:]:\n",
    "#     fig.add_vline(x=pos, line=dict(color='red',width=2,dash='dash'))\n",
    "\n",
    "# print(\"insertion positions:\", positions[:num_insertions].tolist())\n",
    "# print(\"cooling positions:  \", positions[num_insertions:].tolist())\n",
    "\n",
    "# # zero-line & layout\n",
    "# fig.add_hline(y=0, line=dict(color='black',width=2,dash='solid'),\n",
    "#               annotation_text=\"0-line\", annotation_position=\"bottom right\")\n",
    "# fig.update_layout(\n",
    "#     title=\"All midprice series (zeroed) with insertion/cooling lines\",\n",
    "#     xaxis_title=\"Index\", yaxis_title=\"Price – first_price\",\n",
    "#     template=\"plotly_white\", hovermode=\"x unified\",\n",
    "#     height=800, width=1200, margin={\"b\":150}\n",
    "# )\n",
    "# fig.update_xaxes(showgrid=False)\n",
    "# fig.update_yaxes(showgrid=False)\n",
    "\n",
    "# info = (\n",
    "#     f\"Midprice every {midprice_step_size} msgs;<br>\"\n",
    "#     f\"solid red = insertion (every {n_gen_msgs} msgs +1 step);<br>\"\n",
    "#     f\"dashed red = cooling (same spacing); blue = end of history.\"\n",
    "# )\n",
    "# fig.add_annotation(text=info, xref=\"paper\", yref=\"paper\",\n",
    "#                    x=0, y=-0.225, showarrow=False, align=\"left\")\n",
    "# fig.show()"
   ]
  },
  {
   "cell_type": "code",
   "execution_count": 13,
   "metadata": {},
   "outputs": [
    {
     "name": "stdout",
     "output_type": "stream",
     "text": [
      "insertion positions: [551, 602]\n",
      "cooling positions:   [653, 704]\n"
     ]
    },
    {
     "data": {
      "application/vnd.plotly.v1+json": {
       "config": {
        "plotlyServerURL": "https://plot.ly"
       },
       "data": [
        {
         "hoverinfo": "skip",
         "line": {
          "width": 1
         },
         "mode": "lines",
         "name": "id 2787",
         "opacity": 1,
         "type": "scatter",
         "x": {
          "bdata": "AQACAAMABAAFAAYABwAIAAkACgALAAwADQAOAA8AEAARABIAEwAUABUAFgAXABgAGQAaABsAHAAdAB4AHwAgACEAIgAjACQAJQAmACcAKAApACoAKwAsAC0ALgAvADAAMQAyADMANAA1ADYANwA4ADkAOgA7ADwAPQA+AD8AQABBAEIAQwBEAEUARgBHAEgASQBKAEsATABNAE4ATwBQAFEAUgBTAFQAVQBWAFcAWABZAFoAWwBcAF0AXgBfAGAAYQBiAGMAZABlAGYAZwBoAGkAagBrAGwAbQBuAG8AcABxAHIAcwB0AHUAdgB3AHgAeQB6AHsAfAB9AH4AfwCAAIEAggCDAIQAhQCGAIcAiACJAIoAiwCMAI0AjgCPAJAAkQCSAJMAlACVAJYAlwCYAJkAmgCbAJwAnQCeAJ8AoAChAKIAowCkAKUApgCnAKgAqQCqAKsArACtAK4ArwCwALEAsgCzALQAtQC2ALcAuAC5ALoAuwC8AL0AvgC/AMAAwQDCAMMAxADFAMYAxwDIAMkAygDLAMwAzQDOAM8A0ADRANIA0wDUANUA1gDXANgA2QDaANsA3ADdAN4A3wDgAOEA4gDjAOQA5QDmAOcA6ADpAOoA6wDsAO0A7gDvAPAA8QDyAPMA9AD1APYA9wD4APkA+gD7APwA/QD+AP8AAAEBAQIBAwEEAQUBBgEHAQgBCQEKAQsBDAENAQ4BDwEQAREBEgETARQBFQEWARcBGAEZARoBGwEcAR0BHgEfASABIQEiASMBJAElASYBJwEoASkBKgErASwBLQEuAS8BMAExATIBMwE0ATUBNgE3ATgBOQE6ATsBPAE9AT4BPwFAAUEBQgFDAUQBRQFGAUcBSAFJAUoBSwFMAU0BTgFPAVABUQFSAVMBVAFVAVYBVwFYAVkBWgFbAVwBXQFeAV8BYAFhAWIBYwFkAWUBZgFnAWgBaQFqAWsBbAFtAW4BbwFwAXEBcgFzAXQBdQF2AXcBeAF5AXoBewF8AX0BfgF/AYABgQGCAYMBhAGFAYYBhwGIAYkBigGLAYwBjQGOAY8BkAGRAZIBkwGUAZUBlgGXAZgBmQGaAZsBnAGdAZ4BnwGgAaEBogGjAaQBpQGmAacBqAGpAaoBqwGsAa0BrgGvAbABsQGyAbMBtAG1AbYBtwG4AbkBugG7AbwBvQG+Ab8BwAHBAcIBwwHEAcUBxgHHAcgByQHKAcsBzAHNAc4BzwHQAdEB0gHTAdQB1QHWAdcB2AHZAdoB2wHcAd0B3gHfAeAB4QHiAeMB5AHlAeYB5wHoAekB6gHrAewB7QHuAe8B8AHxAfIB8wH0AfUB9gH3AfgB+QH6AfsB/AH9Af4B/wEAAgECAgIDAgQCBQIGAgcCCAIJAgoCCwIMAg0CDgIPAhACEQISAhMCFAIVAhYCFwIYAhkCGgIbAhwCHQIeAh8CIAIhAiICIwIkAiUCJgInAigCKQIqAisCLAItAi4CLwIwAjECMgIzAjQCNQI2AjcCOAI5AjoCOwI8Aj0CPgI/AkACQQJCAkMCRAJFAkYCRwJIAkkCSgJLAkwCTQJOAk8CUAJRAlICUwJUAlUCVgJXAlgCWQJaAlsCXAJdAl4CXwJgAmECYgJjAmQCZQJmAmcCaAJpAmoCawJsAm0CbgJvAnACcQJyAnMCdAJ1AnYCdwJ4AnkCegJ7AnwCfQJ+An8CgAKBAoICgwKEAoUChgKHAogCiQKKAosCjAKNAo4CjwKQApECkgKTApQClQKWApcCmAKZApoCmwKcAp0CngKfAqACoQKiAqMCpAKlAqYCpwKoAqkCqgKrAqwCrQKuAq8CsAKxArICswK0ArUCtgK3ArgCuQK6ArsCvAK9Ar4C",
          "dtype": "i2"
         },
         "y": {
          "bdata": "AAAAAAAAAAAAAAAAAAAAAAAAAAAAAAAAAAAAAAAAAAAAAAAAAAAAAAAAAAAAAAAAAAAAAAAAAAAAAAAAAAAAAAAAAAAAAAAAAAAAAAAAAAAAAAAAAAAAAAAAAAAAAAAAAAAAAAAAAAAAAAAAAAAAAAAAAAAAAAAAAAAAAAAAAAAAAAAAAAAAAAAAAAAAAAAAAAAAAAAAAAAAAAAAAAAAAAAAAAAAAAAAAAAAAAAAAAAAAAAAAAAAAAAAAAAAAAAAAAAAAAAAAAAAAAAAAAAAAAAAAAAAAAAAAAAAAAAAAAAAAAAAAAAAAAAAAAAAAAAAAAAAAAAAAAAAAAAAAAAAAAAAAAAAAAAAAAAAAAAAAAAAAAAAAAAAAAAAAAAAAAAAAAAAAAAAAAAAAAAAAAAAAAAAAAAAAAAAAAAAAAAAnP+c/5z/nP+c/5z/nP+c/5z/nP+c/5z/nP+c/5z/nP+c/5z/nP+c/5z/nP+c/5z/nP+c/5z/nP+c/5z/nP+c/5z/nP+c/5z/nP+c/5z/nP+c/5z/nP+c/5z/nP+c/5z/nP+c/5z/nP+c/5z/nP+c/5z/nP+c/5z/nP+c/5z/nP+c/5z/nP+c/5z/nP+c/5z/nP+c/5z/nP8AAAAAAAAAAAAAAAAAAAAAAAAAAAAAAAAAAAAAAAAAAAAAAAAAAAAAAAAAAAAAAAAAAAAAAAAAAAAAAAAAAAAAAAAAAAAAAAAAAAAAAAAAAAAAAAAAAAAAAAAAAAAAAAAAAAAAAAAAAAAAAAAAAAAAAAAAAAAAAAAAAAAAAAAAAAAAAAAAAAAAAAAAAAAAAAAAAAAAAAAAAAAAAAAAAAAAAAAAAAAAAAAAAAAAAAAAAAAAAAAAAAAAAAAAAAAAAAAAAAAAAAAAAAAAAAAAAAAAAAAAAAAAAAAAAAAAAAAAAAAAAAAAAAAAAAAAAAAAAAAAAAAAAACc/5z/nP+c/5z/nP+c/5z/nP+c/5z/nP+c/5z/nP+c/5z/nP+c/5z/nP+c/5z/nP+c/5z/nP+c/5z/nP+c/5z/nP+c/5z/nP+c/5z/nP+c/5z/nP+c/5z/nP+c/5z/nP+c/5z/nP+c/5z/nP+c/5z/nP+c/5z/nP+c/5z/nP+c/5z/nP+c/5z/nP+c/5z/nP+c/5z/nP+c/5z/nP+c/5z/nP+c/5z/nP+c/5z/nP+c/5z/nP+c/5z/nP+c/5z/nP+c/5z/nP+c/5z/nP+c/5z/nP+c/5z/nP+c/5z/nP+c/5z/nP+c/5z/nP+c/5z/nP+c/5z/nP+c/5z/nP+c/5z/nP+c/5z/nP+c/5z/nP+c/5z/nP+c/5z/nP+c/5z/nP+c/5z/nP+c/5z/nP+c/5z/nP+c/5z/nP+c/5z/nP+c/5z/nP+c/5z/nP+c/5z/nP+c/5z/nP+c/5z/nP+c/5z/nP+c/5z/nP+c/5z/nP+c/5z/nP+c/5z/nP+c/5z/nP+c/zj/OP84/zj/OP84/zj/OP84/zj/OP84/zj/OP84/zj/OP84/zj/OP84/zj/OP84/zj/OP84/zj/OP84/zj/OP84/zj/OP84/zj/OP84/zj/OP84/zj/OP84/zj/OP84/zj/OP84/9T+1P7U/tT+1P7U/tT+1P7U/tT+1P7U/tT+1P7U/tT+1P7U/tT+1P7U/tT+1P7U/tT+1P7U/tT+1P7U/tT+1P7U/tT+1P7U/tT+1P7U/tT+1P7U/tT+1P7U/tT+1P7U/tT+1P7U/tT+1P7U/tT+1P7U/tT+1P7U/tT+1P7U/tT+1P7U/tT+1P7U/tT+1P7U/tT+1P7U/tT+1P7U/tT+1P7U/tT+1P7U/tT+1P7U/tT+1P7U/tT+1P7U/tT+1P7U/tT+1P7U/tT+",
          "dtype": "i2"
         }
        },
        {
         "hoverinfo": "skip",
         "line": {
          "width": 1
         },
         "mode": "lines",
         "name": "id 4668",
         "opacity": 1,
         "type": "scatter",
         "x": {
          "bdata": "AQACAAMABAAFAAYABwAIAAkACgALAAwADQAOAA8AEAARABIAEwAUABUAFgAXABgAGQAaABsAHAAdAB4AHwAgACEAIgAjACQAJQAmACcAKAApACoAKwAsAC0ALgAvADAAMQAyADMANAA1ADYANwA4ADkAOgA7ADwAPQA+AD8AQABBAEIAQwBEAEUARgBHAEgASQBKAEsATABNAE4ATwBQAFEAUgBTAFQAVQBWAFcAWABZAFoAWwBcAF0AXgBfAGAAYQBiAGMAZABlAGYAZwBoAGkAagBrAGwAbQBuAG8AcABxAHIAcwB0AHUAdgB3AHgAeQB6AHsAfAB9AH4AfwCAAIEAggCDAIQAhQCGAIcAiACJAIoAiwCMAI0AjgCPAJAAkQCSAJMAlACVAJYAlwCYAJkAmgCbAJwAnQCeAJ8AoAChAKIAowCkAKUApgCnAKgAqQCqAKsArACtAK4ArwCwALEAsgCzALQAtQC2ALcAuAC5ALoAuwC8AL0AvgC/AMAAwQDCAMMAxADFAMYAxwDIAMkAygDLAMwAzQDOAM8A0ADRANIA0wDUANUA1gDXANgA2QDaANsA3ADdAN4A3wDgAOEA4gDjAOQA5QDmAOcA6ADpAOoA6wDsAO0A7gDvAPAA8QDyAPMA9AD1APYA9wD4APkA+gD7APwA/QD+AP8AAAEBAQIBAwEEAQUBBgEHAQgBCQEKAQsBDAENAQ4BDwEQAREBEgETARQBFQEWARcBGAEZARoBGwEcAR0BHgEfASABIQEiASMBJAElASYBJwEoASkBKgErASwBLQEuAS8BMAExATIBMwE0ATUBNgE3ATgBOQE6ATsBPAE9AT4BPwFAAUEBQgFDAUQBRQFGAUcBSAFJAUoBSwFMAU0BTgFPAVABUQFSAVMBVAFVAVYBVwFYAVkBWgFbAVwBXQFeAV8BYAFhAWIBYwFkAWUBZgFnAWgBaQFqAWsBbAFtAW4BbwFwAXEBcgFzAXQBdQF2AXcBeAF5AXoBewF8AX0BfgF/AYABgQGCAYMBhAGFAYYBhwGIAYkBigGLAYwBjQGOAY8BkAGRAZIBkwGUAZUBlgGXAZgBmQGaAZsBnAGdAZ4BnwGgAaEBogGjAaQBpQGmAacBqAGpAaoBqwGsAa0BrgGvAbABsQGyAbMBtAG1AbYBtwG4AbkBugG7AbwBvQG+Ab8BwAHBAcIBwwHEAcUBxgHHAcgByQHKAcsBzAHNAc4BzwHQAdEB0gHTAdQB1QHWAdcB2AHZAdoB2wHcAd0B3gHfAeAB4QHiAeMB5AHlAeYB5wHoAekB6gHrAewB7QHuAe8B8AHxAfIB8wH0AfUB9gH3AfgB+QH6AfsB/AH9Af4B/wEAAgECAgIDAgQCBQIGAgcCCAIJAgoCCwIMAg0CDgIPAhACEQISAhMCFAIVAhYCFwIYAhkCGgIbAhwCHQIeAh8CIAIhAiICIwIkAiUCJgInAigCKQIqAisCLAItAi4CLwIwAjECMgIzAjQCNQI2AjcCOAI5AjoCOwI8Aj0CPgI/AkACQQJCAkMCRAJFAkYCRwJIAkkCSgJLAkwCTQJOAk8CUAJRAlICUwJUAlUCVgJXAlgCWQJaAlsCXAJdAl4CXwJgAmECYgJjAmQCZQJmAmcCaAJpAmoCawJsAm0CbgJvAnACcQJyAnMCdAJ1AnYCdwJ4AnkCegJ7AnwCfQJ+An8CgAKBAoICgwKEAoUChgKHAogCiQKKAosCjAKNAo4CjwKQApECkgKTApQClQKWApcCmAKZApoCmwKcAp0CngKfAqACoQKiAqMCpAKlAqYCpwKoAqkCqgKrAqwCrQKuAq8CsAKxArICswK0ArUCtgK3ArgCuQK6ArsCvAK9Ar4C",
          "dtype": "i2"
         },
         "y": {
          "bdata": "AAAAAAAAAAAAAAAAAAAAAAAAAAAAAAAAAAAAAAAAAAAAAAAAAAAAAAAAAAAAAJz/nP+c/5z/AAAAAAAAAACc/5z/nP+c/5z/nP+c/5z/nP+c/5z/nP+c/5z/OP84/zj/OP84/zj/OP84/zj/OP84/zj/OP84/zj/OP84/zj/OP84/zj/OP84/zj/OP84/zj/OP84/zj/OP84/zj/OP84/zj/OP84/zj/OP84/zj/OP84/zj/nP+c/5z/nP+c/5z/nP+c/5z/nP+c/5z/nP+c/5z/nP+c/5z/nP+c/5z/nP+c/zj/OP84/zj/OP84/zj/OP84/zj/OP84/zj/OP84/zj/OP84/zj/OP84/zj/OP84/zj/OP84/zj/OP84/zj/OP84/zj/OP84/zj/OP84/zj/OP84/zj/OP84/zj/OP84/zj/OP84/zj/OP84/zj/OP84/zj/OP/U/tT+1P7U/tT+1P7U/tT+1P7U/tT+1P7U/tT+cP5w/nD+cP5w/nD+cP5w/nD+cP5w/nD+cP5w/tT+1P7U/tT+1P7U/tT+1P7U/tT+1P7U/tT+1P7U/tT+1P7U/tT+1P7U/tT+1P7U/tT+1P7U/tT+1P7U/tT+1P7U/tT+1P7U/tT+1P7U/tT+1P7U/tT+1P7U/tT+1P7U/tT+1P7U/nD+cP5w/nD+cP5w/nD+cP5w/nD+cP5w/nD+cP5w/nD+cP7U/tT+1P7U/tT+1P7U/tT+1P7U/tT+1P7U/tT+1P7U/tT+1P7U/tT+1P7U/tT+1P7U/tT+1P7U/tT+1P7U/tT+1P7U/tT+1P7U/tT+1P7U/tT+1P7U/tT+cP5w/nD+cP5w/nD+cP5w/nD+1P7U/tT+1P7U/tT+1P7U/tT+1P7U/tT+1P7U/tT+1P7U/tT+1P7U/tT+1P7U/tT+1P7U/tT+1P7U/tT+1P7U/tT+1P7U/tT+1P7U/tT+1P7U/tT+1P7U/tT+1P7U/tT+1P7U/tT+1P7U/tT+1P7U/tT+1P7U/tT+1P7U/tT+1P7U/tT+1P7U/tT+1P7U/tT+1P7U/tT+1P7U/tT+1P7U/tT+1P7U/tT+1P7U/tT+1P7U/tT+1P7U/tT+1P7U/tT+1P7U/tT+1P7U/tT+1P7U/tT+1P7U/tT+1P7U/tT+1P7U/tT+1P7U/tT+1P7U/tT+1P7U/tT+1P7U/tT+1P44/zj/nP+c/5z/nP+c/5z/nP+c/5z/nP+c/5z/nP+c/5z/nP+c/zj/OP84/zj/OP84/zj/OP84/zj/OP84/zj/OP84/zj/OP84/zj/OP84/5z/nP+c/5z/nP+c/5z/nP+c/5z/nP+c/5z/OP84/zj/OP84/zj/OP84/zj/OP/U/tT+1P7U/tT+1P7U/tT+1P7U/tT+1P7U/tT+1P7U/tT+1P7U/tT+1P7U/tT+1P7U/tT+1P7U/tT+1P7U/tT+1P7U/tT+1P7U/tT+1P7U/tT+1P7U/tT+1P7U/tT+OP84/zj/OP84/3D+cP5w/nD+cP5w/nD+cP5w/nD+cP5w/nD+cP5w/nD+cP5w/nD+cP5w/nD+cP5w/nD+cP5w/nD+cP5w/nD+cP5w/nD+cP5w/nD+cP5w/nD+cP5w/nD+cP5w/nD+cP5w/nD+cP5w/gz+DP4M/gz+DP4M/gz+DP4M/gz+DP4M/gz+DP4M/gz+DP4M/gz+DP4M/gz+DP5w/nD+cP5w/nD+cP5w/nD+cP5w/nD+cP5w/nD+cP5w/nD+cP5w/nD+cP5w/nD+cP5w/nD+cP4M/gz+DP4M/gz+DP4M/gz+DP4M/gz+DP4M/gz+DP4M/gz+DP4M/gz+DP4M/gz+DP4M/gz+DP4M/gz+DP4M/gz+DP4M/gz+DP4M/gz+",
          "dtype": "i2"
         }
        },
        {
         "hoverinfo": "skip",
         "line": {
          "width": 1
         },
         "mode": "lines",
         "name": "id 14606",
         "opacity": 1,
         "type": "scatter",
         "x": {
          "bdata": "AQACAAMABAAFAAYABwAIAAkACgALAAwADQAOAA8AEAARABIAEwAUABUAFgAXABgAGQAaABsAHAAdAB4AHwAgACEAIgAjACQAJQAmACcAKAApACoAKwAsAC0ALgAvADAAMQAyADMANAA1ADYANwA4ADkAOgA7ADwAPQA+AD8AQABBAEIAQwBEAEUARgBHAEgASQBKAEsATABNAE4ATwBQAFEAUgBTAFQAVQBWAFcAWABZAFoAWwBcAF0AXgBfAGAAYQBiAGMAZABlAGYAZwBoAGkAagBrAGwAbQBuAG8AcABxAHIAcwB0AHUAdgB3AHgAeQB6AHsAfAB9AH4AfwCAAIEAggCDAIQAhQCGAIcAiACJAIoAiwCMAI0AjgCPAJAAkQCSAJMAlACVAJYAlwCYAJkAmgCbAJwAnQCeAJ8AoAChAKIAowCkAKUApgCnAKgAqQCqAKsArACtAK4ArwCwALEAsgCzALQAtQC2ALcAuAC5ALoAuwC8AL0AvgC/AMAAwQDCAMMAxADFAMYAxwDIAMkAygDLAMwAzQDOAM8A0ADRANIA0wDUANUA1gDXANgA2QDaANsA3ADdAN4A3wDgAOEA4gDjAOQA5QDmAOcA6ADpAOoA6wDsAO0A7gDvAPAA8QDyAPMA9AD1APYA9wD4APkA+gD7APwA/QD+AP8AAAEBAQIBAwEEAQUBBgEHAQgBCQEKAQsBDAENAQ4BDwEQAREBEgETARQBFQEWARcBGAEZARoBGwEcAR0BHgEfASABIQEiASMBJAElASYBJwEoASkBKgErASwBLQEuAS8BMAExATIBMwE0ATUBNgE3ATgBOQE6ATsBPAE9AT4BPwFAAUEBQgFDAUQBRQFGAUcBSAFJAUoBSwFMAU0BTgFPAVABUQFSAVMBVAFVAVYBVwFYAVkBWgFbAVwBXQFeAV8BYAFhAWIBYwFkAWUBZgFnAWgBaQFqAWsBbAFtAW4BbwFwAXEBcgFzAXQBdQF2AXcBeAF5AXoBewF8AX0BfgF/AYABgQGCAYMBhAGFAYYBhwGIAYkBigGLAYwBjQGOAY8BkAGRAZIBkwGUAZUBlgGXAZgBmQGaAZsBnAGdAZ4BnwGgAaEBogGjAaQBpQGmAacBqAGpAaoBqwGsAa0BrgGvAbABsQGyAbMBtAG1AbYBtwG4AbkBugG7AbwBvQG+Ab8BwAHBAcIBwwHEAcUBxgHHAcgByQHKAcsBzAHNAc4BzwHQAdEB0gHTAdQB1QHWAdcB2AHZAdoB2wHcAd0B3gHfAeAB4QHiAeMB5AHlAeYB5wHoAekB6gHrAewB7QHuAe8B8AHxAfIB8wH0AfUB9gH3AfgB+QH6AfsB/AH9Af4B/wEAAgECAgIDAgQCBQIGAgcCCAIJAgoCCwIMAg0CDgIPAhACEQISAhMCFAIVAhYCFwIYAhkCGgIbAhwCHQIeAh8CIAIhAiICIwIkAiUCJgInAigCKQIqAisCLAItAi4CLwIwAjECMgIzAjQCNQI2AjcCOAI5AjoCOwI8Aj0CPgI/AkACQQJCAkMCRAJFAkYCRwJIAkkCSgJLAkwCTQJOAk8CUAJRAlICUwJUAlUCVgJXAlgCWQJaAlsCXAJdAl4CXwJgAmECYgJjAmQCZQJmAmcCaAJpAmoCawJsAm0CbgJvAnACcQJyAnMCdAJ1AnYCdwJ4AnkCegJ7AnwCfQJ+An8CgAKBAoICgwKEAoUChgKHAogCiQKKAosCjAKNAo4CjwKQApECkgKTApQClQKWApcCmAKZApoCmwKcAp0CngKfAqACoQKiAqMCpAKlAqYCpwKoAqkCqgKrAqwCrQKuAq8CsAKxArICswK0ArUCtgK3ArgCuQK6ArsCvAK9Ar4C",
          "dtype": "i2"
         },
         "y": {
          "bdata": "AAAAAAAAAAAAAAAAAAAAAAAAAAAAAAAAAAAAAAAAAAAAAAAAAAAAAAAAAAAAAAAAAAAAAAAAAAAAAAAAAAAAAAAAAAAAAAAAAAAAAAAAAAAAAAAAAAAAAAAAAAAAAAAAAAAAAAAAAAAAAAAAAAAAAAAAAAAAAAAAAAAAAAAAZABkAGQAZABkAGQAZABkAGQAZABkAGQAZABkAGQAZABkAGQAZABkAGQAZABkAGQAZABkAGQAZABkAGQAZABkAGQAZABkAGQAZABkAGQAZABkAMgAyADIAMgAyADIAMgAyADIAMgAyADIAMgAyADIAMgAyADIAMgAyADIAMgAyADIAMgAyADIAMgAyADIAMgAyADIAMgAyADIAMgAyADIAMgAyADIAMgAyADIAMgAyAAsASwBLAEsASwBLAEsASwBLAEsASwBLAEsASwBLAEsASwBLAEsASwBLAEsASwBLAEsASwBLAEsASwBLAEsASwBLAEsASwBLAEsASwBLAEsASwBLAEsASwBLAEsASwBLAEsASwBLAEsASwBLAEsASwBLAEsASwBLAEsASwBLAEsASwBLAEsASwBLAEsASwBLAEsASwBLAEsAZABkAGQAZABkAGQAZABkAGQAZABkAGQAZABkAGQAZABkAGQAZABkAGQAZABkAGQAZABkAGQAZABkAGQAZABkAGQAZABkAGQAZABkAGQAZABkAGQAZABkAGQAZABkAGQAZABkAGQAZABkAGQAZABkAGQAZABkAGQAZABkAGQAZABkAGQAZABkAGQAZABkAGQAZABkAGQAZABkAGQAZABkAGQAZABkAGQAZABLAEsASwBLAEsAcgAyADIAMgAyADIACwBLAEsASwBLAEsASwBLAGQAZABkAGQAZABLAEsASwBLAEsASwBLAEsASwBLAEsASwBLAEsASwBLAEsASwBLAEsASwBLAEsASwBLAEsASwBLAEsASwBLAEsASwBLAEsASwBLAEsASwBLAEsASwByADIAMgAyADIACwBLAEsASwBLAEsASwBLAEsASwBLAEsASwBLAEsASwBLAEsASwBLAEsASwBLAEsASwBLAEsASwBLAEsASwBLAEsASwBLAEsASwBLAEsAZABkAEsASwBkAGQAZABkAGQAZABkAGQAZABkAGQAZABkAH0AfQB9AH0AfQB9AH0AfQB9AH0AfQB9AH0AfQB9AH0AfQB9AH0AfQB9AH0AfQB9AH0AfQB9AH0AfQB9AH0AfQB9AH0AfQB9AH0AfQB9AGQAZABkAGQAZABkAGQAZABkAGQAZABkAGQAZAB9AGQAZABkAGQAZABkAGQAZABkAGQAZABkAGQASwBLAEsASwBLAEsASwBLAHIAMgAyADIAPQB9AH0AfQBkAEsASwBLAEsASwBLAEsASwBLAEsASwBLAEsASwBLAEsASwBLAEsASwBLAEsASwBLAEsASwBLAEsASwBLAEsASwBLAEsAcgAyADIAMgAyADIAMgAyADIAMgAyADIAMgAyAAsASwBLAEsASwBLAEsASwBLAEsASwBLAEsASwBLAEsASwBLAEsASwBLAEsASwBLAEsASwBLAEsASwBLAEsAZABkAGQAZABkAGQAZABkAGQAfQB9AH0AfQB9AH0AfQB9AGQAfQB9AH0AfQB9AH0AfQB9AH0AfQB9AH0AfQB9AH0AfQB9AH0AfQB9AH0AfQB9AH0AfQB9AH0AfQB9AH0AfQB9AH0AfQB9AH0AVgCWAJYAlgCWAJYArwCvAJYAlgCWAK8AlgCWAJYAlgCWAJYAlgCWAJYAlgCWAL0AfQB9AH0AfQB9AH0AfQB9AH0AfQB9AH0AfQB9AH0AfQB9AH0AfQB9AH0AfQB",
          "dtype": "i2"
         }
        },
        {
         "hoverinfo": "skip",
         "line": {
          "width": 1
         },
         "mode": "lines",
         "name": "id 16120",
         "opacity": 1,
         "type": "scatter",
         "x": {
          "bdata": "AQACAAMABAAFAAYABwAIAAkACgALAAwADQAOAA8AEAARABIAEwAUABUAFgAXABgAGQAaABsAHAAdAB4AHwAgACEAIgAjACQAJQAmACcAKAApACoAKwAsAC0ALgAvADAAMQAyADMANAA1ADYANwA4ADkAOgA7ADwAPQA+AD8AQABBAEIAQwBEAEUARgBHAEgASQBKAEsATABNAE4ATwBQAFEAUgBTAFQAVQBWAFcAWABZAFoAWwBcAF0AXgBfAGAAYQBiAGMAZABlAGYAZwBoAGkAagBrAGwAbQBuAG8AcABxAHIAcwB0AHUAdgB3AHgAeQB6AHsAfAB9AH4AfwCAAIEAggCDAIQAhQCGAIcAiACJAIoAiwCMAI0AjgCPAJAAkQCSAJMAlACVAJYAlwCYAJkAmgCbAJwAnQCeAJ8AoAChAKIAowCkAKUApgCnAKgAqQCqAKsArACtAK4ArwCwALEAsgCzALQAtQC2ALcAuAC5ALoAuwC8AL0AvgC/AMAAwQDCAMMAxADFAMYAxwDIAMkAygDLAMwAzQDOAM8A0ADRANIA0wDUANUA1gDXANgA2QDaANsA3ADdAN4A3wDgAOEA4gDjAOQA5QDmAOcA6ADpAOoA6wDsAO0A7gDvAPAA8QDyAPMA9AD1APYA9wD4APkA+gD7APwA/QD+AP8AAAEBAQIBAwEEAQUBBgEHAQgBCQEKAQsBDAENAQ4BDwEQAREBEgETARQBFQEWARcBGAEZARoBGwEcAR0BHgEfASABIQEiASMBJAElASYBJwEoASkBKgErASwBLQEuAS8BMAExATIBMwE0ATUBNgE3ATgBOQE6ATsBPAE9AT4BPwFAAUEBQgFDAUQBRQFGAUcBSAFJAUoBSwFMAU0BTgFPAVABUQFSAVMBVAFVAVYBVwFYAVkBWgFbAVwBXQFeAV8BYAFhAWIBYwFkAWUBZgFnAWgBaQFqAWsBbAFtAW4BbwFwAXEBcgFzAXQBdQF2AXcBeAF5AXoBewF8AX0BfgF/AYABgQGCAYMBhAGFAYYBhwGIAYkBigGLAYwBjQGOAY8BkAGRAZIBkwGUAZUBlgGXAZgBmQGaAZsBnAGdAZ4BnwGgAaEBogGjAaQBpQGmAacBqAGpAaoBqwGsAa0BrgGvAbABsQGyAbMBtAG1AbYBtwG4AbkBugG7AbwBvQG+Ab8BwAHBAcIBwwHEAcUBxgHHAcgByQHKAcsBzAHNAc4BzwHQAdEB0gHTAdQB1QHWAdcB2AHZAdoB2wHcAd0B3gHfAeAB4QHiAeMB5AHlAeYB5wHoAekB6gHrAewB7QHuAe8B8AHxAfIB8wH0AfUB9gH3AfgB+QH6AfsB/AH9Af4B/wEAAgECAgIDAgQCBQIGAgcCCAIJAgoCCwIMAg0CDgIPAhACEQISAhMCFAIVAhYCFwIYAhkCGgIbAhwCHQIeAh8CIAIhAiICIwIkAiUCJgInAigCKQIqAisCLAItAi4CLwIwAjECMgIzAjQCNQI2AjcCOAI5AjoCOwI8Aj0CPgI/AkACQQJCAkMCRAJFAkYCRwJIAkkCSgJLAkwCTQJOAk8CUAJRAlICUwJUAlUCVgJXAlgCWQJaAlsCXAJdAl4CXwJgAmECYgJjAmQCZQJmAmcCaAJpAmoCawJsAm0CbgJvAnACcQJyAnMCdAJ1AnYCdwJ4AnkCegJ7AnwCfQJ+An8CgAKBAoICgwKEAoUChgKHAogCiQKKAosCjAKNAo4CjwKQApECkgKTApQClQKWApcCmAKZApoCmwKcAp0CngKfAqACoQKiAqMCpAKlAqYCpwKoAqkCqgKrAqwCrQKuAq8CsAKxArICswK0ArUCtgK3ArgCuQK6ArsCvAK9Ar4C",
          "dtype": "i2"
         },
         "y": {
          "bdata": "AAAAAAAAAAAAAAAAAAAAAAAAAAAAAAAAAAAAAAAAAAAAAAAAAACc/5z/AAAAAAAAAAAAAAAAAAAAAAAAAAAAAJz/AACc/5z/nP+c/5z/nP8AAAAAAAAAAAAAAACc/5z/nP+c/5z/nP+c/5z/nP+c/5z/nP+c/5z/nP+c/5z/nP+c/5z/AAAAAAAAAACc/5z/nP8AAAAAAAAAAAAAAAAAAAAAAAAAAGQAZABkAGQAAAAAAAAAAAAAAAAAAAAAAGQAZABkAGQAZABkAGQAZABkAGQAZABkAGQAZABkAGQAZABkAGQAZABkAGQAZABkAGQAZABkAGQAZABkAGQAZABkAGQAyADIAMgAyADIAMgAyADIAMgAyADIAMgAyADIAMgAyADIAMgAyADIAMgAyADIAMgAyADIAMgAyADIAMgAyADIAMgAyADIAMgAyADIAMgAyADIAMgAyADIAMgAyADIAMgAyADIAMgAyADIAMgAyADIAMgAyADIAMgAyADIAMgAyADIAMgAyADIAMgAyABkAGQAZABkAGQAZABkAGQAZABkAGQAZABkAGQAZABkAGQAZABkAMgAZABkAGQAZABkAGQAZABkAGQAZABkAGQAZABkAGQAZABkAGQAZABkAGQAZABkAGQAZADIAGQAZABkAGQAZABkAGQAZABkAGQAZABkAGQAZABkAGQAZABkAGQAZABkAGQAZABkAGQAZABkAGQAZABkAGQAZABkAGQAZABkAGQAZABkAGQAZABkAGQAZABkAGQAZABkAGQAZABkAGQAZABkAGQAZABkAGQAZABkAGQAZABkAGQAZABkAGQAZAAAAAAAAAAAAAAAAAAAAAAAAAAAAGQAZABkAGQAZABkAGQAZABkAGQAZABkAGQAZABkAGQAZABkAGQAZABkAGQAZABkAGQAZABkAGQAZABkAGQAZABkAGQAZABkAGQAZABkAGQAZABkAGQAZABkAGQAZABkAGQAZABkAGQAZABkAGQAZABkAGQAZABkAGQAZABkAGQAZABkAGQAZABkAGQAAAAAAAAAAAAAAAAAAAAAAAAAAAAAAAAAAAAAAAAAAAAAAAAAAAAAAAAAZABkAGQAZABkAGQAZABkAGQAZABkAGQAZABkAGQAZABkAGQAZABkAGQAZABkAGQAZABkAGQAZABkAGQAZAAAAAAAAAAAAAAAAAAAAAAAAAAAAAAAAAAAAAAAAAAAAAAAAAAAAAAAAAAAAAAAAAAAAAAAAAAAAAAAAAAAAAAAAAAAAAAAAAAAAAAAAAAAAAAAAAAAAAAAAAAAAAAAAAAAAAAAAAAAAAAAAAAAAAAAnP+c/5z/nP+c/5z/nP+c/5z/nP+c/5z/nP+c/5z/nP+c/5z/nP+c/5z/nP+c/5z/nP+c/5z/nP+c/5z/nP+c/5z/nP+c/5z/nP+c/5z/nP+c/5z/nP+c/5z/nP+c/5z/nP+c/5z/nP+c/5z/nP+c/5z/AAAAAAAAAACc/5z/nP+c/5z/nP+c/5z/nP+c/5z/nP+c/5z/nP+c/5z/nP+c/5z/nP+c/5z/nP+c/5z/nP+c/5z/nP+c/5z/nP+c/5z/nP+c/5z/nP+c/5z/OP84/zj/OP84/zj/OP84/zj/OP84/zj/OP84/zj/OP84/zj/OP84/zj/OP84/zj/OP84/zj/OP84/zj/OP84/zj/OP84/zj/OP84/zj/OP84/zj/OP84/zj/OP84/zj/OP84/zj/OP84/zj/OP84/zj/OP84/zj/OP84/zj/OP84/zj/OP84/zj/OP84/zj/OP84/zj/OP84/zj/OP84/zj/OP84/zj/OP84/zj/OP84/zj/OP84/zj/OP84/zj/OP84/zj/",
          "dtype": "i2"
         }
        }
       ],
       "layout": {
        "annotations": [
         {
          "showarrow": false,
          "text": "0-line",
          "x": 1,
          "xanchor": "right",
          "xref": "x domain",
          "y": 0,
          "yanchor": "top",
          "yref": "y"
         },
         {
          "align": "left",
          "showarrow": false,
          "text": "Midprice every 1 msgs;<br>solid red = insertion (every 50 msgs +1 step);<br>dashed red = cooling (same spacing); blue = end of history.",
          "x": 0,
          "xref": "paper",
          "y": -0.225,
          "yref": "paper"
         }
        ],
        "height": 800,
        "hovermode": "x unified",
        "margin": {
         "b": 150
        },
        "shapes": [
         {
          "line": {
           "color": "blue",
           "dash": "dash",
           "width": 2
          },
          "type": "line",
          "x0": 500,
          "x1": 500,
          "xref": "x",
          "y0": 0,
          "y1": 1,
          "yref": "y domain"
         },
         {
          "line": {
           "color": "red",
           "dash": "solid",
           "width": 2
          },
          "type": "line",
          "x0": 551,
          "x1": 551,
          "xref": "x",
          "y0": 0,
          "y1": 1,
          "yref": "y domain"
         },
         {
          "line": {
           "color": "red",
           "dash": "solid",
           "width": 2
          },
          "type": "line",
          "x0": 602,
          "x1": 602,
          "xref": "x",
          "y0": 0,
          "y1": 1,
          "yref": "y domain"
         },
         {
          "line": {
           "color": "red",
           "dash": "dash",
           "width": 2
          },
          "type": "line",
          "x0": 653,
          "x1": 653,
          "xref": "x",
          "y0": 0,
          "y1": 1,
          "yref": "y domain"
         },
         {
          "line": {
           "color": "red",
           "dash": "dash",
           "width": 2
          },
          "type": "line",
          "x0": 704,
          "x1": 704,
          "xref": "x",
          "y0": 0,
          "y1": 1,
          "yref": "y domain"
         },
         {
          "line": {
           "color": "black",
           "dash": "solid",
           "width": 2
          },
          "type": "line",
          "x0": 0,
          "x1": 1,
          "xref": "x domain",
          "y0": 0,
          "y1": 0,
          "yref": "y"
         }
        ],
        "template": {
         "data": {
          "bar": [
           {
            "error_x": {
             "color": "#2a3f5f"
            },
            "error_y": {
             "color": "#2a3f5f"
            },
            "marker": {
             "line": {
              "color": "white",
              "width": 0.5
             },
             "pattern": {
              "fillmode": "overlay",
              "size": 10,
              "solidity": 0.2
             }
            },
            "type": "bar"
           }
          ],
          "barpolar": [
           {
            "marker": {
             "line": {
              "color": "white",
              "width": 0.5
             },
             "pattern": {
              "fillmode": "overlay",
              "size": 10,
              "solidity": 0.2
             }
            },
            "type": "barpolar"
           }
          ],
          "carpet": [
           {
            "aaxis": {
             "endlinecolor": "#2a3f5f",
             "gridcolor": "#C8D4E3",
             "linecolor": "#C8D4E3",
             "minorgridcolor": "#C8D4E3",
             "startlinecolor": "#2a3f5f"
            },
            "baxis": {
             "endlinecolor": "#2a3f5f",
             "gridcolor": "#C8D4E3",
             "linecolor": "#C8D4E3",
             "minorgridcolor": "#C8D4E3",
             "startlinecolor": "#2a3f5f"
            },
            "type": "carpet"
           }
          ],
          "choropleth": [
           {
            "colorbar": {
             "outlinewidth": 0,
             "ticks": ""
            },
            "type": "choropleth"
           }
          ],
          "contour": [
           {
            "colorbar": {
             "outlinewidth": 0,
             "ticks": ""
            },
            "colorscale": [
             [
              0,
              "#0d0887"
             ],
             [
              0.1111111111111111,
              "#46039f"
             ],
             [
              0.2222222222222222,
              "#7201a8"
             ],
             [
              0.3333333333333333,
              "#9c179e"
             ],
             [
              0.4444444444444444,
              "#bd3786"
             ],
             [
              0.5555555555555556,
              "#d8576b"
             ],
             [
              0.6666666666666666,
              "#ed7953"
             ],
             [
              0.7777777777777778,
              "#fb9f3a"
             ],
             [
              0.8888888888888888,
              "#fdca26"
             ],
             [
              1,
              "#f0f921"
             ]
            ],
            "type": "contour"
           }
          ],
          "contourcarpet": [
           {
            "colorbar": {
             "outlinewidth": 0,
             "ticks": ""
            },
            "type": "contourcarpet"
           }
          ],
          "heatmap": [
           {
            "colorbar": {
             "outlinewidth": 0,
             "ticks": ""
            },
            "colorscale": [
             [
              0,
              "#0d0887"
             ],
             [
              0.1111111111111111,
              "#46039f"
             ],
             [
              0.2222222222222222,
              "#7201a8"
             ],
             [
              0.3333333333333333,
              "#9c179e"
             ],
             [
              0.4444444444444444,
              "#bd3786"
             ],
             [
              0.5555555555555556,
              "#d8576b"
             ],
             [
              0.6666666666666666,
              "#ed7953"
             ],
             [
              0.7777777777777778,
              "#fb9f3a"
             ],
             [
              0.8888888888888888,
              "#fdca26"
             ],
             [
              1,
              "#f0f921"
             ]
            ],
            "type": "heatmap"
           }
          ],
          "histogram": [
           {
            "marker": {
             "pattern": {
              "fillmode": "overlay",
              "size": 10,
              "solidity": 0.2
             }
            },
            "type": "histogram"
           }
          ],
          "histogram2d": [
           {
            "colorbar": {
             "outlinewidth": 0,
             "ticks": ""
            },
            "colorscale": [
             [
              0,
              "#0d0887"
             ],
             [
              0.1111111111111111,
              "#46039f"
             ],
             [
              0.2222222222222222,
              "#7201a8"
             ],
             [
              0.3333333333333333,
              "#9c179e"
             ],
             [
              0.4444444444444444,
              "#bd3786"
             ],
             [
              0.5555555555555556,
              "#d8576b"
             ],
             [
              0.6666666666666666,
              "#ed7953"
             ],
             [
              0.7777777777777778,
              "#fb9f3a"
             ],
             [
              0.8888888888888888,
              "#fdca26"
             ],
             [
              1,
              "#f0f921"
             ]
            ],
            "type": "histogram2d"
           }
          ],
          "histogram2dcontour": [
           {
            "colorbar": {
             "outlinewidth": 0,
             "ticks": ""
            },
            "colorscale": [
             [
              0,
              "#0d0887"
             ],
             [
              0.1111111111111111,
              "#46039f"
             ],
             [
              0.2222222222222222,
              "#7201a8"
             ],
             [
              0.3333333333333333,
              "#9c179e"
             ],
             [
              0.4444444444444444,
              "#bd3786"
             ],
             [
              0.5555555555555556,
              "#d8576b"
             ],
             [
              0.6666666666666666,
              "#ed7953"
             ],
             [
              0.7777777777777778,
              "#fb9f3a"
             ],
             [
              0.8888888888888888,
              "#fdca26"
             ],
             [
              1,
              "#f0f921"
             ]
            ],
            "type": "histogram2dcontour"
           }
          ],
          "mesh3d": [
           {
            "colorbar": {
             "outlinewidth": 0,
             "ticks": ""
            },
            "type": "mesh3d"
           }
          ],
          "parcoords": [
           {
            "line": {
             "colorbar": {
              "outlinewidth": 0,
              "ticks": ""
             }
            },
            "type": "parcoords"
           }
          ],
          "pie": [
           {
            "automargin": true,
            "type": "pie"
           }
          ],
          "scatter": [
           {
            "fillpattern": {
             "fillmode": "overlay",
             "size": 10,
             "solidity": 0.2
            },
            "type": "scatter"
           }
          ],
          "scatter3d": [
           {
            "line": {
             "colorbar": {
              "outlinewidth": 0,
              "ticks": ""
             }
            },
            "marker": {
             "colorbar": {
              "outlinewidth": 0,
              "ticks": ""
             }
            },
            "type": "scatter3d"
           }
          ],
          "scattercarpet": [
           {
            "marker": {
             "colorbar": {
              "outlinewidth": 0,
              "ticks": ""
             }
            },
            "type": "scattercarpet"
           }
          ],
          "scattergeo": [
           {
            "marker": {
             "colorbar": {
              "outlinewidth": 0,
              "ticks": ""
             }
            },
            "type": "scattergeo"
           }
          ],
          "scattergl": [
           {
            "marker": {
             "colorbar": {
              "outlinewidth": 0,
              "ticks": ""
             }
            },
            "type": "scattergl"
           }
          ],
          "scattermap": [
           {
            "marker": {
             "colorbar": {
              "outlinewidth": 0,
              "ticks": ""
             }
            },
            "type": "scattermap"
           }
          ],
          "scattermapbox": [
           {
            "marker": {
             "colorbar": {
              "outlinewidth": 0,
              "ticks": ""
             }
            },
            "type": "scattermapbox"
           }
          ],
          "scatterpolar": [
           {
            "marker": {
             "colorbar": {
              "outlinewidth": 0,
              "ticks": ""
             }
            },
            "type": "scatterpolar"
           }
          ],
          "scatterpolargl": [
           {
            "marker": {
             "colorbar": {
              "outlinewidth": 0,
              "ticks": ""
             }
            },
            "type": "scatterpolargl"
           }
          ],
          "scatterternary": [
           {
            "marker": {
             "colorbar": {
              "outlinewidth": 0,
              "ticks": ""
             }
            },
            "type": "scatterternary"
           }
          ],
          "surface": [
           {
            "colorbar": {
             "outlinewidth": 0,
             "ticks": ""
            },
            "colorscale": [
             [
              0,
              "#0d0887"
             ],
             [
              0.1111111111111111,
              "#46039f"
             ],
             [
              0.2222222222222222,
              "#7201a8"
             ],
             [
              0.3333333333333333,
              "#9c179e"
             ],
             [
              0.4444444444444444,
              "#bd3786"
             ],
             [
              0.5555555555555556,
              "#d8576b"
             ],
             [
              0.6666666666666666,
              "#ed7953"
             ],
             [
              0.7777777777777778,
              "#fb9f3a"
             ],
             [
              0.8888888888888888,
              "#fdca26"
             ],
             [
              1,
              "#f0f921"
             ]
            ],
            "type": "surface"
           }
          ],
          "table": [
           {
            "cells": {
             "fill": {
              "color": "#EBF0F8"
             },
             "line": {
              "color": "white"
             }
            },
            "header": {
             "fill": {
              "color": "#C8D4E3"
             },
             "line": {
              "color": "white"
             }
            },
            "type": "table"
           }
          ]
         },
         "layout": {
          "annotationdefaults": {
           "arrowcolor": "#2a3f5f",
           "arrowhead": 0,
           "arrowwidth": 1
          },
          "autotypenumbers": "strict",
          "coloraxis": {
           "colorbar": {
            "outlinewidth": 0,
            "ticks": ""
           }
          },
          "colorscale": {
           "diverging": [
            [
             0,
             "#8e0152"
            ],
            [
             0.1,
             "#c51b7d"
            ],
            [
             0.2,
             "#de77ae"
            ],
            [
             0.3,
             "#f1b6da"
            ],
            [
             0.4,
             "#fde0ef"
            ],
            [
             0.5,
             "#f7f7f7"
            ],
            [
             0.6,
             "#e6f5d0"
            ],
            [
             0.7,
             "#b8e186"
            ],
            [
             0.8,
             "#7fbc41"
            ],
            [
             0.9,
             "#4d9221"
            ],
            [
             1,
             "#276419"
            ]
           ],
           "sequential": [
            [
             0,
             "#0d0887"
            ],
            [
             0.1111111111111111,
             "#46039f"
            ],
            [
             0.2222222222222222,
             "#7201a8"
            ],
            [
             0.3333333333333333,
             "#9c179e"
            ],
            [
             0.4444444444444444,
             "#bd3786"
            ],
            [
             0.5555555555555556,
             "#d8576b"
            ],
            [
             0.6666666666666666,
             "#ed7953"
            ],
            [
             0.7777777777777778,
             "#fb9f3a"
            ],
            [
             0.8888888888888888,
             "#fdca26"
            ],
            [
             1,
             "#f0f921"
            ]
           ],
           "sequentialminus": [
            [
             0,
             "#0d0887"
            ],
            [
             0.1111111111111111,
             "#46039f"
            ],
            [
             0.2222222222222222,
             "#7201a8"
            ],
            [
             0.3333333333333333,
             "#9c179e"
            ],
            [
             0.4444444444444444,
             "#bd3786"
            ],
            [
             0.5555555555555556,
             "#d8576b"
            ],
            [
             0.6666666666666666,
             "#ed7953"
            ],
            [
             0.7777777777777778,
             "#fb9f3a"
            ],
            [
             0.8888888888888888,
             "#fdca26"
            ],
            [
             1,
             "#f0f921"
            ]
           ]
          },
          "colorway": [
           "#636efa",
           "#EF553B",
           "#00cc96",
           "#ab63fa",
           "#FFA15A",
           "#19d3f3",
           "#FF6692",
           "#B6E880",
           "#FF97FF",
           "#FECB52"
          ],
          "font": {
           "color": "#2a3f5f"
          },
          "geo": {
           "bgcolor": "white",
           "lakecolor": "white",
           "landcolor": "white",
           "showlakes": true,
           "showland": true,
           "subunitcolor": "#C8D4E3"
          },
          "hoverlabel": {
           "align": "left"
          },
          "hovermode": "closest",
          "mapbox": {
           "style": "light"
          },
          "paper_bgcolor": "white",
          "plot_bgcolor": "white",
          "polar": {
           "angularaxis": {
            "gridcolor": "#EBF0F8",
            "linecolor": "#EBF0F8",
            "ticks": ""
           },
           "bgcolor": "white",
           "radialaxis": {
            "gridcolor": "#EBF0F8",
            "linecolor": "#EBF0F8",
            "ticks": ""
           }
          },
          "scene": {
           "xaxis": {
            "backgroundcolor": "white",
            "gridcolor": "#DFE8F3",
            "gridwidth": 2,
            "linecolor": "#EBF0F8",
            "showbackground": true,
            "ticks": "",
            "zerolinecolor": "#EBF0F8"
           },
           "yaxis": {
            "backgroundcolor": "white",
            "gridcolor": "#DFE8F3",
            "gridwidth": 2,
            "linecolor": "#EBF0F8",
            "showbackground": true,
            "ticks": "",
            "zerolinecolor": "#EBF0F8"
           },
           "zaxis": {
            "backgroundcolor": "white",
            "gridcolor": "#DFE8F3",
            "gridwidth": 2,
            "linecolor": "#EBF0F8",
            "showbackground": true,
            "ticks": "",
            "zerolinecolor": "#EBF0F8"
           }
          },
          "shapedefaults": {
           "line": {
            "color": "#2a3f5f"
           }
          },
          "ternary": {
           "aaxis": {
            "gridcolor": "#DFE8F3",
            "linecolor": "#A2B1C6",
            "ticks": ""
           },
           "baxis": {
            "gridcolor": "#DFE8F3",
            "linecolor": "#A2B1C6",
            "ticks": ""
           },
           "bgcolor": "white",
           "caxis": {
            "gridcolor": "#DFE8F3",
            "linecolor": "#A2B1C6",
            "ticks": ""
           }
          },
          "title": {
           "x": 0.05
          },
          "xaxis": {
           "automargin": true,
           "gridcolor": "#EBF0F8",
           "linecolor": "#EBF0F8",
           "ticks": "",
           "title": {
            "standoff": 15
           },
           "zerolinecolor": "#EBF0F8",
           "zerolinewidth": 2
          },
          "yaxis": {
           "automargin": true,
           "gridcolor": "#EBF0F8",
           "linecolor": "#EBF0F8",
           "ticks": "",
           "title": {
            "standoff": 15
           },
           "zerolinecolor": "#EBF0F8",
           "zerolinewidth": 2
          }
         }
        },
        "title": {
         "text": "All midprice series (zeroed) with insertion/cooling lines"
        },
        "width": 1200,
        "xaxis": {
         "showgrid": false,
         "title": {
          "text": "Index"
         }
        },
        "yaxis": {
         "showgrid": false,
         "title": {
          "text": "Price – first_price"
         }
        }
       }
      }
     },
     "metadata": {},
     "output_type": "display_data"
    }
   ],
   "source": [
    "fig = plot_midprice_series_with_insertions(\n",
    "    merged=merged,\n",
    "    all_series=all_series,\n",
    "    x=x,\n",
    "    hist_steps=hist_steps,\n",
    "    gen_block=gen_block,\n",
    "    num_insertions=num_insertions,\n",
    "    num_coolings=num_coolings,\n",
    "    n_gen_msgs=n_gen_msgs,\n",
    "    midprice_step_size=midprice_step_size,\n",
    "    height=800,\n",
    "    width=1200,\n",
    ")"
   ]
  },
  {
   "cell_type": "code",
   "execution_count": 14,
   "metadata": {},
   "outputs": [
    {
     "name": "stdout",
     "output_type": "stream",
     "text": [
      "insertion positions: [551, 602]\n",
      "cooling positions:   [653, 704]\n"
     ]
    },
    {
     "data": {
      "application/vnd.plotly.v1+json": {
       "config": {
        "plotlyServerURL": "https://plot.ly"
       },
       "data": [
        {
         "hoverinfo": "skip",
         "line": {
          "width": 1
         },
         "mode": "lines",
         "name": "id 2787",
         "opacity": 0.2,
         "type": "scatter",
         "x": {
          "bdata": "AQACAAMABAAFAAYABwAIAAkACgALAAwADQAOAA8AEAARABIAEwAUABUAFgAXABgAGQAaABsAHAAdAB4AHwAgACEAIgAjACQAJQAmACcAKAApACoAKwAsAC0ALgAvADAAMQAyADMANAA1ADYANwA4ADkAOgA7ADwAPQA+AD8AQABBAEIAQwBEAEUARgBHAEgASQBKAEsATABNAE4ATwBQAFEAUgBTAFQAVQBWAFcAWABZAFoAWwBcAF0AXgBfAGAAYQBiAGMAZABlAGYAZwBoAGkAagBrAGwAbQBuAG8AcABxAHIAcwB0AHUAdgB3AHgAeQB6AHsAfAB9AH4AfwCAAIEAggCDAIQAhQCGAIcAiACJAIoAiwCMAI0AjgCPAJAAkQCSAJMAlACVAJYAlwCYAJkAmgCbAJwAnQCeAJ8AoAChAKIAowCkAKUApgCnAKgAqQCqAKsArACtAK4ArwCwALEAsgCzALQAtQC2ALcAuAC5ALoAuwC8AL0AvgC/AMAAwQDCAMMAxADFAMYAxwDIAMkAygDLAMwAzQDOAM8A0ADRANIA0wDUANUA1gDXANgA2QDaANsA3ADdAN4A3wDgAOEA4gDjAOQA5QDmAOcA6ADpAOoA6wDsAO0A7gDvAPAA8QDyAPMA9AD1APYA9wD4APkA+gD7APwA/QD+AP8AAAEBAQIBAwEEAQUBBgEHAQgBCQEKAQsBDAENAQ4BDwEQAREBEgETARQBFQEWARcBGAEZARoBGwEcAR0BHgEfASABIQEiASMBJAElASYBJwEoASkBKgErASwBLQEuAS8BMAExATIBMwE0ATUBNgE3ATgBOQE6ATsBPAE9AT4BPwFAAUEBQgFDAUQBRQFGAUcBSAFJAUoBSwFMAU0BTgFPAVABUQFSAVMBVAFVAVYBVwFYAVkBWgFbAVwBXQFeAV8BYAFhAWIBYwFkAWUBZgFnAWgBaQFqAWsBbAFtAW4BbwFwAXEBcgFzAXQBdQF2AXcBeAF5AXoBewF8AX0BfgF/AYABgQGCAYMBhAGFAYYBhwGIAYkBigGLAYwBjQGOAY8BkAGRAZIBkwGUAZUBlgGXAZgBmQGaAZsBnAGdAZ4BnwGgAaEBogGjAaQBpQGmAacBqAGpAaoBqwGsAa0BrgGvAbABsQGyAbMBtAG1AbYBtwG4AbkBugG7AbwBvQG+Ab8BwAHBAcIBwwHEAcUBxgHHAcgByQHKAcsBzAHNAc4BzwHQAdEB0gHTAdQB1QHWAdcB2AHZAdoB2wHcAd0B3gHfAeAB4QHiAeMB5AHlAeYB5wHoAekB6gHrAewB7QHuAe8B8AHxAfIB8wH0AfUB9gH3AfgB+QH6AfsB/AH9Af4B/wEAAgECAgIDAgQCBQIGAgcCCAIJAgoCCwIMAg0CDgIPAhACEQISAhMCFAIVAhYCFwIYAhkCGgIbAhwCHQIeAh8CIAIhAiICIwIkAiUCJgInAigCKQIqAisCLAItAi4CLwIwAjECMgIzAjQCNQI2AjcCOAI5AjoCOwI8Aj0CPgI/AkACQQJCAkMCRAJFAkYCRwJIAkkCSgJLAkwCTQJOAk8CUAJRAlICUwJUAlUCVgJXAlgCWQJaAlsCXAJdAl4CXwJgAmECYgJjAmQCZQJmAmcCaAJpAmoCawJsAm0CbgJvAnACcQJyAnMCdAJ1AnYCdwJ4AnkCegJ7AnwCfQJ+An8CgAKBAoICgwKEAoUChgKHAogCiQKKAosCjAKNAo4CjwKQApECkgKTApQClQKWApcCmAKZApoCmwKcAp0CngKfAqACoQKiAqMCpAKlAqYCpwKoAqkCqgKrAqwCrQKuAq8CsAKxArICswK0ArUCtgK3ArgCuQK6ArsCvAK9Ar4C",
          "dtype": "i2"
         },
         "y": {
          "bdata": "AAAAAAAAAAAAAAAAAAAAAAAAAAAAAAAAAAAAAAAAAAAAAAAAAAAAAAAAAAAAAAAAAAAAAAAAAAAAAAAAAAAAAAAAAAAAAAAAAAAAAAAAAAAAAAAAAAAAAAAAAAAAAAAAAAAAAAAAAAAAAAAAAAAAAAAAAAAAAAAAAAAAAAAAAAAAAAAAAAAAAAAAAAAAAAAAAAAAAAAAAAAAAAAAAAAAAAAAAAAAAAAAAAAAAAAAAAAAAAAAAAAAAAAAAAAAAAAAAAAAAAAAAAAAAAAAAAAAAAAAAAAAAAAAAAAAAAAAAAAAAAAAAAAAAAAAAAAAAAAAAAAAAAAAAAAAAAAAAAAAAAAAAAAAAAAAAAAAAAAAAAAAAAAAAAAAAAAAAAAAAAAAAAAAAAAAAAAAAAAAAAAAAAAAAAAAAAAAAAAAAAAAnP+c/5z/nP+c/5z/nP+c/5z/nP+c/5z/nP+c/5z/nP+c/5z/nP+c/5z/nP+c/5z/nP+c/5z/nP+c/5z/nP+c/5z/nP+c/5z/nP+c/5z/nP+c/5z/nP+c/5z/nP+c/5z/nP+c/5z/nP+c/5z/nP+c/5z/nP+c/5z/nP+c/5z/nP+c/5z/nP+c/5z/nP+c/5z/nP+c/5z/nP8AAAAAAAAAAAAAAAAAAAAAAAAAAAAAAAAAAAAAAAAAAAAAAAAAAAAAAAAAAAAAAAAAAAAAAAAAAAAAAAAAAAAAAAAAAAAAAAAAAAAAAAAAAAAAAAAAAAAAAAAAAAAAAAAAAAAAAAAAAAAAAAAAAAAAAAAAAAAAAAAAAAAAAAAAAAAAAAAAAAAAAAAAAAAAAAAAAAAAAAAAAAAAAAAAAAAAAAAAAAAAAAAAAAAAAAAAAAAAAAAAAAAAAAAAAAAAAAAAAAAAAAAAAAAAAAAAAAAAAAAAAAAAAAAAAAAAAAAAAAAAAAAAAAAAAAAAAAAAAAAAAAAAAACc/5z/nP+c/5z/nP+c/5z/nP+c/5z/nP+c/5z/nP+c/5z/nP+c/5z/nP+c/5z/nP+c/5z/nP+c/5z/nP+c/5z/nP+c/5z/nP+c/5z/nP+c/5z/nP+c/5z/nP+c/5z/nP+c/5z/nP+c/5z/nP+c/5z/nP+c/5z/nP+c/5z/nP+c/5z/nP+c/5z/nP+c/5z/nP+c/5z/nP+c/5z/nP+c/5z/nP+c/5z/nP+c/5z/nP+c/5z/nP+c/5z/nP+c/5z/nP+c/5z/nP+c/5z/nP+c/5z/nP+c/5z/nP+c/5z/nP+c/5z/nP+c/5z/nP+c/5z/nP+c/5z/nP+c/5z/nP+c/5z/nP+c/5z/nP+c/5z/nP+c/5z/nP+c/5z/nP+c/5z/nP+c/5z/nP+c/5z/nP+c/5z/nP+c/5z/nP+c/5z/nP+c/5z/nP+c/5z/nP+c/5z/nP+c/5z/nP+c/5z/nP+c/5z/nP+c/5z/nP+c/5z/nP+c/5z/nP+c/5z/nP+c/5z/nP+c/zj/OP84/zj/OP84/zj/OP84/zj/OP84/zj/OP84/zj/OP84/zj/OP84/zj/OP84/zj/OP84/zj/OP84/zj/OP84/zj/OP84/zj/OP84/zj/OP84/zj/OP84/zj/OP84/zj/OP84/9T+1P7U/tT+1P7U/tT+1P7U/tT+1P7U/tT+1P7U/tT+1P7U/tT+1P7U/tT+1P7U/tT+1P7U/tT+1P7U/tT+1P7U/tT+1P7U/tT+1P7U/tT+1P7U/tT+1P7U/tT+1P7U/tT+1P7U/tT+1P7U/tT+1P7U/tT+1P7U/tT+1P7U/tT+1P7U/tT+1P7U/tT+1P7U/tT+1P7U/tT+1P7U/tT+1P7U/tT+1P7U/tT+1P7U/tT+1P7U/tT+1P7U/tT+1P7U/tT+1P7U/tT+",
          "dtype": "i2"
         }
        },
        {
         "hoverinfo": "skip",
         "line": {
          "width": 1
         },
         "mode": "lines",
         "name": "id 4668",
         "opacity": 0.2,
         "type": "scatter",
         "x": {
          "bdata": "AQACAAMABAAFAAYABwAIAAkACgALAAwADQAOAA8AEAARABIAEwAUABUAFgAXABgAGQAaABsAHAAdAB4AHwAgACEAIgAjACQAJQAmACcAKAApACoAKwAsAC0ALgAvADAAMQAyADMANAA1ADYANwA4ADkAOgA7ADwAPQA+AD8AQABBAEIAQwBEAEUARgBHAEgASQBKAEsATABNAE4ATwBQAFEAUgBTAFQAVQBWAFcAWABZAFoAWwBcAF0AXgBfAGAAYQBiAGMAZABlAGYAZwBoAGkAagBrAGwAbQBuAG8AcABxAHIAcwB0AHUAdgB3AHgAeQB6AHsAfAB9AH4AfwCAAIEAggCDAIQAhQCGAIcAiACJAIoAiwCMAI0AjgCPAJAAkQCSAJMAlACVAJYAlwCYAJkAmgCbAJwAnQCeAJ8AoAChAKIAowCkAKUApgCnAKgAqQCqAKsArACtAK4ArwCwALEAsgCzALQAtQC2ALcAuAC5ALoAuwC8AL0AvgC/AMAAwQDCAMMAxADFAMYAxwDIAMkAygDLAMwAzQDOAM8A0ADRANIA0wDUANUA1gDXANgA2QDaANsA3ADdAN4A3wDgAOEA4gDjAOQA5QDmAOcA6ADpAOoA6wDsAO0A7gDvAPAA8QDyAPMA9AD1APYA9wD4APkA+gD7APwA/QD+AP8AAAEBAQIBAwEEAQUBBgEHAQgBCQEKAQsBDAENAQ4BDwEQAREBEgETARQBFQEWARcBGAEZARoBGwEcAR0BHgEfASABIQEiASMBJAElASYBJwEoASkBKgErASwBLQEuAS8BMAExATIBMwE0ATUBNgE3ATgBOQE6ATsBPAE9AT4BPwFAAUEBQgFDAUQBRQFGAUcBSAFJAUoBSwFMAU0BTgFPAVABUQFSAVMBVAFVAVYBVwFYAVkBWgFbAVwBXQFeAV8BYAFhAWIBYwFkAWUBZgFnAWgBaQFqAWsBbAFtAW4BbwFwAXEBcgFzAXQBdQF2AXcBeAF5AXoBewF8AX0BfgF/AYABgQGCAYMBhAGFAYYBhwGIAYkBigGLAYwBjQGOAY8BkAGRAZIBkwGUAZUBlgGXAZgBmQGaAZsBnAGdAZ4BnwGgAaEBogGjAaQBpQGmAacBqAGpAaoBqwGsAa0BrgGvAbABsQGyAbMBtAG1AbYBtwG4AbkBugG7AbwBvQG+Ab8BwAHBAcIBwwHEAcUBxgHHAcgByQHKAcsBzAHNAc4BzwHQAdEB0gHTAdQB1QHWAdcB2AHZAdoB2wHcAd0B3gHfAeAB4QHiAeMB5AHlAeYB5wHoAekB6gHrAewB7QHuAe8B8AHxAfIB8wH0AfUB9gH3AfgB+QH6AfsB/AH9Af4B/wEAAgECAgIDAgQCBQIGAgcCCAIJAgoCCwIMAg0CDgIPAhACEQISAhMCFAIVAhYCFwIYAhkCGgIbAhwCHQIeAh8CIAIhAiICIwIkAiUCJgInAigCKQIqAisCLAItAi4CLwIwAjECMgIzAjQCNQI2AjcCOAI5AjoCOwI8Aj0CPgI/AkACQQJCAkMCRAJFAkYCRwJIAkkCSgJLAkwCTQJOAk8CUAJRAlICUwJUAlUCVgJXAlgCWQJaAlsCXAJdAl4CXwJgAmECYgJjAmQCZQJmAmcCaAJpAmoCawJsAm0CbgJvAnACcQJyAnMCdAJ1AnYCdwJ4AnkCegJ7AnwCfQJ+An8CgAKBAoICgwKEAoUChgKHAogCiQKKAosCjAKNAo4CjwKQApECkgKTApQClQKWApcCmAKZApoCmwKcAp0CngKfAqACoQKiAqMCpAKlAqYCpwKoAqkCqgKrAqwCrQKuAq8CsAKxArICswK0ArUCtgK3ArgCuQK6ArsCvAK9Ar4C",
          "dtype": "i2"
         },
         "y": {
          "bdata": "AAAAAAAAAAAAAAAAAAAAAAAAAAAAAAAAAAAAAAAAAAAAAAAAAAAAAAAAAAAAAJz/nP+c/5z/AAAAAAAAAACc/5z/nP+c/5z/nP+c/5z/nP+c/5z/nP+c/5z/OP84/zj/OP84/zj/OP84/zj/OP84/zj/OP84/zj/OP84/zj/OP84/zj/OP84/zj/OP84/zj/OP84/zj/OP84/zj/OP84/zj/OP84/zj/OP84/zj/OP84/zj/nP+c/5z/nP+c/5z/nP+c/5z/nP+c/5z/nP+c/5z/nP+c/5z/nP+c/5z/nP+c/zj/OP84/zj/OP84/zj/OP84/zj/OP84/zj/OP84/zj/OP84/zj/OP84/zj/OP84/zj/OP84/zj/OP84/zj/OP84/zj/OP84/zj/OP84/zj/OP84/zj/OP84/zj/OP84/zj/OP84/zj/OP84/zj/OP84/zj/OP/U/tT+1P7U/tT+1P7U/tT+1P7U/tT+1P7U/tT+cP5w/nD+cP5w/nD+cP5w/nD+cP5w/nD+cP5w/tT+1P7U/tT+1P7U/tT+1P7U/tT+1P7U/tT+1P7U/tT+1P7U/tT+1P7U/tT+1P7U/tT+1P7U/tT+1P7U/tT+1P7U/tT+1P7U/tT+1P7U/tT+1P7U/tT+1P7U/tT+1P7U/tT+1P7U/nD+cP5w/nD+cP5w/nD+cP5w/nD+cP5w/nD+cP5w/nD+cP7U/tT+1P7U/tT+1P7U/tT+1P7U/tT+1P7U/tT+1P7U/tT+1P7U/tT+1P7U/tT+1P7U/tT+1P7U/tT+1P7U/tT+1P7U/tT+1P7U/tT+1P7U/tT+1P7U/tT+cP5w/nD+cP5w/nD+cP5w/nD+1P7U/tT+1P7U/tT+1P7U/tT+1P7U/tT+1P7U/tT+1P7U/tT+1P7U/tT+1P7U/tT+1P7U/tT+1P7U/tT+1P7U/tT+1P7U/tT+1P7U/tT+1P7U/tT+1P7U/tT+1P7U/tT+1P7U/tT+1P7U/tT+1P7U/tT+1P7U/tT+1P7U/tT+1P7U/tT+1P7U/tT+1P7U/tT+1P7U/tT+1P7U/tT+1P7U/tT+1P7U/tT+1P7U/tT+1P7U/tT+1P7U/tT+1P7U/tT+1P7U/tT+1P7U/tT+1P7U/tT+1P7U/tT+1P7U/tT+1P7U/tT+1P7U/tT+1P7U/tT+1P7U/tT+1P7U/tT+1P44/zj/nP+c/5z/nP+c/5z/nP+c/5z/nP+c/5z/nP+c/5z/nP+c/zj/OP84/zj/OP84/zj/OP84/zj/OP84/zj/OP84/zj/OP84/zj/OP84/5z/nP+c/5z/nP+c/5z/nP+c/5z/nP+c/5z/OP84/zj/OP84/zj/OP84/zj/OP/U/tT+1P7U/tT+1P7U/tT+1P7U/tT+1P7U/tT+1P7U/tT+1P7U/tT+1P7U/tT+1P7U/tT+1P7U/tT+1P7U/tT+1P7U/tT+1P7U/tT+1P7U/tT+1P7U/tT+1P7U/tT+OP84/zj/OP84/3D+cP5w/nD+cP5w/nD+cP5w/nD+cP5w/nD+cP5w/nD+cP5w/nD+cP5w/nD+cP5w/nD+cP5w/nD+cP5w/nD+cP5w/nD+cP5w/nD+cP5w/nD+cP5w/nD+cP5w/nD+cP5w/nD+cP5w/gz+DP4M/gz+DP4M/gz+DP4M/gz+DP4M/gz+DP4M/gz+DP4M/gz+DP4M/gz+DP5w/nD+cP5w/nD+cP5w/nD+cP5w/nD+cP5w/nD+cP5w/nD+cP5w/nD+cP5w/nD+cP5w/nD+cP4M/gz+DP4M/gz+DP4M/gz+DP4M/gz+DP4M/gz+DP4M/gz+DP4M/gz+DP4M/gz+DP4M/gz+DP4M/gz+DP4M/gz+DP4M/gz+DP4M/gz+",
          "dtype": "i2"
         }
        },
        {
         "hoverinfo": "skip",
         "line": {
          "width": 1
         },
         "mode": "lines",
         "name": "id 14606",
         "opacity": 0.2,
         "type": "scatter",
         "x": {
          "bdata": "AQACAAMABAAFAAYABwAIAAkACgALAAwADQAOAA8AEAARABIAEwAUABUAFgAXABgAGQAaABsAHAAdAB4AHwAgACEAIgAjACQAJQAmACcAKAApACoAKwAsAC0ALgAvADAAMQAyADMANAA1ADYANwA4ADkAOgA7ADwAPQA+AD8AQABBAEIAQwBEAEUARgBHAEgASQBKAEsATABNAE4ATwBQAFEAUgBTAFQAVQBWAFcAWABZAFoAWwBcAF0AXgBfAGAAYQBiAGMAZABlAGYAZwBoAGkAagBrAGwAbQBuAG8AcABxAHIAcwB0AHUAdgB3AHgAeQB6AHsAfAB9AH4AfwCAAIEAggCDAIQAhQCGAIcAiACJAIoAiwCMAI0AjgCPAJAAkQCSAJMAlACVAJYAlwCYAJkAmgCbAJwAnQCeAJ8AoAChAKIAowCkAKUApgCnAKgAqQCqAKsArACtAK4ArwCwALEAsgCzALQAtQC2ALcAuAC5ALoAuwC8AL0AvgC/AMAAwQDCAMMAxADFAMYAxwDIAMkAygDLAMwAzQDOAM8A0ADRANIA0wDUANUA1gDXANgA2QDaANsA3ADdAN4A3wDgAOEA4gDjAOQA5QDmAOcA6ADpAOoA6wDsAO0A7gDvAPAA8QDyAPMA9AD1APYA9wD4APkA+gD7APwA/QD+AP8AAAEBAQIBAwEEAQUBBgEHAQgBCQEKAQsBDAENAQ4BDwEQAREBEgETARQBFQEWARcBGAEZARoBGwEcAR0BHgEfASABIQEiASMBJAElASYBJwEoASkBKgErASwBLQEuAS8BMAExATIBMwE0ATUBNgE3ATgBOQE6ATsBPAE9AT4BPwFAAUEBQgFDAUQBRQFGAUcBSAFJAUoBSwFMAU0BTgFPAVABUQFSAVMBVAFVAVYBVwFYAVkBWgFbAVwBXQFeAV8BYAFhAWIBYwFkAWUBZgFnAWgBaQFqAWsBbAFtAW4BbwFwAXEBcgFzAXQBdQF2AXcBeAF5AXoBewF8AX0BfgF/AYABgQGCAYMBhAGFAYYBhwGIAYkBigGLAYwBjQGOAY8BkAGRAZIBkwGUAZUBlgGXAZgBmQGaAZsBnAGdAZ4BnwGgAaEBogGjAaQBpQGmAacBqAGpAaoBqwGsAa0BrgGvAbABsQGyAbMBtAG1AbYBtwG4AbkBugG7AbwBvQG+Ab8BwAHBAcIBwwHEAcUBxgHHAcgByQHKAcsBzAHNAc4BzwHQAdEB0gHTAdQB1QHWAdcB2AHZAdoB2wHcAd0B3gHfAeAB4QHiAeMB5AHlAeYB5wHoAekB6gHrAewB7QHuAe8B8AHxAfIB8wH0AfUB9gH3AfgB+QH6AfsB/AH9Af4B/wEAAgECAgIDAgQCBQIGAgcCCAIJAgoCCwIMAg0CDgIPAhACEQISAhMCFAIVAhYCFwIYAhkCGgIbAhwCHQIeAh8CIAIhAiICIwIkAiUCJgInAigCKQIqAisCLAItAi4CLwIwAjECMgIzAjQCNQI2AjcCOAI5AjoCOwI8Aj0CPgI/AkACQQJCAkMCRAJFAkYCRwJIAkkCSgJLAkwCTQJOAk8CUAJRAlICUwJUAlUCVgJXAlgCWQJaAlsCXAJdAl4CXwJgAmECYgJjAmQCZQJmAmcCaAJpAmoCawJsAm0CbgJvAnACcQJyAnMCdAJ1AnYCdwJ4AnkCegJ7AnwCfQJ+An8CgAKBAoICgwKEAoUChgKHAogCiQKKAosCjAKNAo4CjwKQApECkgKTApQClQKWApcCmAKZApoCmwKcAp0CngKfAqACoQKiAqMCpAKlAqYCpwKoAqkCqgKrAqwCrQKuAq8CsAKxArICswK0ArUCtgK3ArgCuQK6ArsCvAK9Ar4C",
          "dtype": "i2"
         },
         "y": {
          "bdata": "AAAAAAAAAAAAAAAAAAAAAAAAAAAAAAAAAAAAAAAAAAAAAAAAAAAAAAAAAAAAAAAAAAAAAAAAAAAAAAAAAAAAAAAAAAAAAAAAAAAAAAAAAAAAAAAAAAAAAAAAAAAAAAAAAAAAAAAAAAAAAAAAAAAAAAAAAAAAAAAAAAAAAAAAZABkAGQAZABkAGQAZABkAGQAZABkAGQAZABkAGQAZABkAGQAZABkAGQAZABkAGQAZABkAGQAZABkAGQAZABkAGQAZABkAGQAZABkAGQAZABkAMgAyADIAMgAyADIAMgAyADIAMgAyADIAMgAyADIAMgAyADIAMgAyADIAMgAyADIAMgAyADIAMgAyADIAMgAyADIAMgAyADIAMgAyADIAMgAyADIAMgAyADIAMgAyAAsASwBLAEsASwBLAEsASwBLAEsASwBLAEsASwBLAEsASwBLAEsASwBLAEsASwBLAEsASwBLAEsASwBLAEsASwBLAEsASwBLAEsASwBLAEsASwBLAEsASwBLAEsASwBLAEsASwBLAEsASwBLAEsASwBLAEsASwBLAEsASwBLAEsASwBLAEsASwBLAEsASwBLAEsASwBLAEsAZABkAGQAZABkAGQAZABkAGQAZABkAGQAZABkAGQAZABkAGQAZABkAGQAZABkAGQAZABkAGQAZABkAGQAZABkAGQAZABkAGQAZABkAGQAZABkAGQAZABkAGQAZABkAGQAZABkAGQAZABkAGQAZABkAGQAZABkAGQAZABkAGQAZABkAGQAZABkAGQAZABkAGQAZABkAGQAZABkAGQAZABkAGQAZABkAGQAZABLAEsASwBLAEsAcgAyADIAMgAyADIACwBLAEsASwBLAEsASwBLAGQAZABkAGQAZABLAEsASwBLAEsASwBLAEsASwBLAEsASwBLAEsASwBLAEsASwBLAEsASwBLAEsASwBLAEsASwBLAEsASwBLAEsASwBLAEsASwBLAEsASwBLAEsASwByADIAMgAyADIACwBLAEsASwBLAEsASwBLAEsASwBLAEsASwBLAEsASwBLAEsASwBLAEsASwBLAEsASwBLAEsASwBLAEsASwBLAEsASwBLAEsASwBLAEsAZABkAEsASwBkAGQAZABkAGQAZABkAGQAZABkAGQAZABkAH0AfQB9AH0AfQB9AH0AfQB9AH0AfQB9AH0AfQB9AH0AfQB9AH0AfQB9AH0AfQB9AH0AfQB9AH0AfQB9AH0AfQB9AH0AfQB9AH0AfQB9AGQAZABkAGQAZABkAGQAZABkAGQAZABkAGQAZAB9AGQAZABkAGQAZABkAGQAZABkAGQAZABkAGQASwBLAEsASwBLAEsASwBLAHIAMgAyADIAPQB9AH0AfQBkAEsASwBLAEsASwBLAEsASwBLAEsASwBLAEsASwBLAEsASwBLAEsASwBLAEsASwBLAEsASwBLAEsASwBLAEsASwBLAEsAcgAyADIAMgAyADIAMgAyADIAMgAyADIAMgAyAAsASwBLAEsASwBLAEsASwBLAEsASwBLAEsASwBLAEsASwBLAEsASwBLAEsASwBLAEsASwBLAEsASwBLAEsAZABkAGQAZABkAGQAZABkAGQAfQB9AH0AfQB9AH0AfQB9AGQAfQB9AH0AfQB9AH0AfQB9AH0AfQB9AH0AfQB9AH0AfQB9AH0AfQB9AH0AfQB9AH0AfQB9AH0AfQB9AH0AfQB9AH0AfQB9AH0AVgCWAJYAlgCWAJYArwCvAJYAlgCWAK8AlgCWAJYAlgCWAJYAlgCWAJYAlgCWAL0AfQB9AH0AfQB9AH0AfQB9AH0AfQB9AH0AfQB9AH0AfQB9AH0AfQB9AH0AfQB",
          "dtype": "i2"
         }
        },
        {
         "hoverinfo": "skip",
         "line": {
          "width": 1
         },
         "mode": "lines",
         "name": "id 16120",
         "opacity": 0.2,
         "type": "scatter",
         "x": {
          "bdata": "AQACAAMABAAFAAYABwAIAAkACgALAAwADQAOAA8AEAARABIAEwAUABUAFgAXABgAGQAaABsAHAAdAB4AHwAgACEAIgAjACQAJQAmACcAKAApACoAKwAsAC0ALgAvADAAMQAyADMANAA1ADYANwA4ADkAOgA7ADwAPQA+AD8AQABBAEIAQwBEAEUARgBHAEgASQBKAEsATABNAE4ATwBQAFEAUgBTAFQAVQBWAFcAWABZAFoAWwBcAF0AXgBfAGAAYQBiAGMAZABlAGYAZwBoAGkAagBrAGwAbQBuAG8AcABxAHIAcwB0AHUAdgB3AHgAeQB6AHsAfAB9AH4AfwCAAIEAggCDAIQAhQCGAIcAiACJAIoAiwCMAI0AjgCPAJAAkQCSAJMAlACVAJYAlwCYAJkAmgCbAJwAnQCeAJ8AoAChAKIAowCkAKUApgCnAKgAqQCqAKsArACtAK4ArwCwALEAsgCzALQAtQC2ALcAuAC5ALoAuwC8AL0AvgC/AMAAwQDCAMMAxADFAMYAxwDIAMkAygDLAMwAzQDOAM8A0ADRANIA0wDUANUA1gDXANgA2QDaANsA3ADdAN4A3wDgAOEA4gDjAOQA5QDmAOcA6ADpAOoA6wDsAO0A7gDvAPAA8QDyAPMA9AD1APYA9wD4APkA+gD7APwA/QD+AP8AAAEBAQIBAwEEAQUBBgEHAQgBCQEKAQsBDAENAQ4BDwEQAREBEgETARQBFQEWARcBGAEZARoBGwEcAR0BHgEfASABIQEiASMBJAElASYBJwEoASkBKgErASwBLQEuAS8BMAExATIBMwE0ATUBNgE3ATgBOQE6ATsBPAE9AT4BPwFAAUEBQgFDAUQBRQFGAUcBSAFJAUoBSwFMAU0BTgFPAVABUQFSAVMBVAFVAVYBVwFYAVkBWgFbAVwBXQFeAV8BYAFhAWIBYwFkAWUBZgFnAWgBaQFqAWsBbAFtAW4BbwFwAXEBcgFzAXQBdQF2AXcBeAF5AXoBewF8AX0BfgF/AYABgQGCAYMBhAGFAYYBhwGIAYkBigGLAYwBjQGOAY8BkAGRAZIBkwGUAZUBlgGXAZgBmQGaAZsBnAGdAZ4BnwGgAaEBogGjAaQBpQGmAacBqAGpAaoBqwGsAa0BrgGvAbABsQGyAbMBtAG1AbYBtwG4AbkBugG7AbwBvQG+Ab8BwAHBAcIBwwHEAcUBxgHHAcgByQHKAcsBzAHNAc4BzwHQAdEB0gHTAdQB1QHWAdcB2AHZAdoB2wHcAd0B3gHfAeAB4QHiAeMB5AHlAeYB5wHoAekB6gHrAewB7QHuAe8B8AHxAfIB8wH0AfUB9gH3AfgB+QH6AfsB/AH9Af4B/wEAAgECAgIDAgQCBQIGAgcCCAIJAgoCCwIMAg0CDgIPAhACEQISAhMCFAIVAhYCFwIYAhkCGgIbAhwCHQIeAh8CIAIhAiICIwIkAiUCJgInAigCKQIqAisCLAItAi4CLwIwAjECMgIzAjQCNQI2AjcCOAI5AjoCOwI8Aj0CPgI/AkACQQJCAkMCRAJFAkYCRwJIAkkCSgJLAkwCTQJOAk8CUAJRAlICUwJUAlUCVgJXAlgCWQJaAlsCXAJdAl4CXwJgAmECYgJjAmQCZQJmAmcCaAJpAmoCawJsAm0CbgJvAnACcQJyAnMCdAJ1AnYCdwJ4AnkCegJ7AnwCfQJ+An8CgAKBAoICgwKEAoUChgKHAogCiQKKAosCjAKNAo4CjwKQApECkgKTApQClQKWApcCmAKZApoCmwKcAp0CngKfAqACoQKiAqMCpAKlAqYCpwKoAqkCqgKrAqwCrQKuAq8CsAKxArICswK0ArUCtgK3ArgCuQK6ArsCvAK9Ar4C",
          "dtype": "i2"
         },
         "y": {
          "bdata": "AAAAAAAAAAAAAAAAAAAAAAAAAAAAAAAAAAAAAAAAAAAAAAAAAACc/5z/AAAAAAAAAAAAAAAAAAAAAAAAAAAAAJz/AACc/5z/nP+c/5z/nP8AAAAAAAAAAAAAAACc/5z/nP+c/5z/nP+c/5z/nP+c/5z/nP+c/5z/nP+c/5z/nP+c/5z/AAAAAAAAAACc/5z/nP8AAAAAAAAAAAAAAAAAAAAAAAAAAGQAZABkAGQAAAAAAAAAAAAAAAAAAAAAAGQAZABkAGQAZABkAGQAZABkAGQAZABkAGQAZABkAGQAZABkAGQAZABkAGQAZABkAGQAZABkAGQAZABkAGQAZABkAGQAyADIAMgAyADIAMgAyADIAMgAyADIAMgAyADIAMgAyADIAMgAyADIAMgAyADIAMgAyADIAMgAyADIAMgAyADIAMgAyADIAMgAyADIAMgAyADIAMgAyADIAMgAyADIAMgAyADIAMgAyADIAMgAyADIAMgAyADIAMgAyADIAMgAyADIAMgAyADIAMgAyABkAGQAZABkAGQAZABkAGQAZABkAGQAZABkAGQAZABkAGQAZABkAMgAZABkAGQAZABkAGQAZABkAGQAZABkAGQAZABkAGQAZABkAGQAZABkAGQAZABkAGQAZADIAGQAZABkAGQAZABkAGQAZABkAGQAZABkAGQAZABkAGQAZABkAGQAZABkAGQAZABkAGQAZABkAGQAZABkAGQAZABkAGQAZABkAGQAZABkAGQAZABkAGQAZABkAGQAZABkAGQAZABkAGQAZABkAGQAZABkAGQAZABkAGQAZABkAGQAZABkAGQAZAAAAAAAAAAAAAAAAAAAAAAAAAAAAGQAZABkAGQAZABkAGQAZABkAGQAZABkAGQAZABkAGQAZABkAGQAZABkAGQAZABkAGQAZABkAGQAZABkAGQAZABkAGQAZABkAGQAZABkAGQAZABkAGQAZABkAGQAZABkAGQAZABkAGQAZABkAGQAZABkAGQAZABkAGQAZABkAGQAZABkAGQAZABkAGQAAAAAAAAAAAAAAAAAAAAAAAAAAAAAAAAAAAAAAAAAAAAAAAAAAAAAAAAAZABkAGQAZABkAGQAZABkAGQAZABkAGQAZABkAGQAZABkAGQAZABkAGQAZABkAGQAZABkAGQAZABkAGQAZAAAAAAAAAAAAAAAAAAAAAAAAAAAAAAAAAAAAAAAAAAAAAAAAAAAAAAAAAAAAAAAAAAAAAAAAAAAAAAAAAAAAAAAAAAAAAAAAAAAAAAAAAAAAAAAAAAAAAAAAAAAAAAAAAAAAAAAAAAAAAAAAAAAAAAAnP+c/5z/nP+c/5z/nP+c/5z/nP+c/5z/nP+c/5z/nP+c/5z/nP+c/5z/nP+c/5z/nP+c/5z/nP+c/5z/nP+c/5z/nP+c/5z/nP+c/5z/nP+c/5z/nP+c/5z/nP+c/5z/nP+c/5z/nP+c/5z/nP+c/5z/AAAAAAAAAACc/5z/nP+c/5z/nP+c/5z/nP+c/5z/nP+c/5z/nP+c/5z/nP+c/5z/nP+c/5z/nP+c/5z/nP+c/5z/nP+c/5z/nP+c/5z/nP+c/5z/nP+c/5z/OP84/zj/OP84/zj/OP84/zj/OP84/zj/OP84/zj/OP84/zj/OP84/zj/OP84/zj/OP84/zj/OP84/zj/OP84/zj/OP84/zj/OP84/zj/OP84/zj/OP84/zj/OP84/zj/OP84/zj/OP84/zj/OP84/zj/OP84/zj/OP84/zj/OP84/zj/OP84/zj/OP84/zj/OP84/zj/OP84/zj/OP84/zj/OP84/zj/OP84/zj/OP84/zj/OP84/zj/OP84/zj/OP84/zj/",
          "dtype": "i2"
         }
        },
        {
         "fill": "toself",
         "fillcolor": "rgba(0,0,0,0.1)",
         "hoverinfo": "skip",
         "line": {
          "color": "rgba(0,0,0,0)"
         },
         "name": "±1 std",
         "showlegend": true,
         "type": "scatter",
         "x": {
          "bdata": "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",
          "dtype": "i2"
         },
         "y": {
          "bdata": "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",
          "dtype": "f8"
         }
        },
        {
         "line": {
          "color": "black",
          "width": 4
         },
         "mode": "lines",
         "name": "Mean",
         "type": "scatter",
         "x": {
          "bdata": "AQACAAMABAAFAAYABwAIAAkACgALAAwADQAOAA8AEAARABIAEwAUABUAFgAXABgAGQAaABsAHAAdAB4AHwAgACEAIgAjACQAJQAmACcAKAApACoAKwAsAC0ALgAvADAAMQAyADMANAA1ADYANwA4ADkAOgA7ADwAPQA+AD8AQABBAEIAQwBEAEUARgBHAEgASQBKAEsATABNAE4ATwBQAFEAUgBTAFQAVQBWAFcAWABZAFoAWwBcAF0AXgBfAGAAYQBiAGMAZABlAGYAZwBoAGkAagBrAGwAbQBuAG8AcABxAHIAcwB0AHUAdgB3AHgAeQB6AHsAfAB9AH4AfwCAAIEAggCDAIQAhQCGAIcAiACJAIoAiwCMAI0AjgCPAJAAkQCSAJMAlACVAJYAlwCYAJkAmgCbAJwAnQCeAJ8AoAChAKIAowCkAKUApgCnAKgAqQCqAKsArACtAK4ArwCwALEAsgCzALQAtQC2ALcAuAC5ALoAuwC8AL0AvgC/AMAAwQDCAMMAxADFAMYAxwDIAMkAygDLAMwAzQDOAM8A0ADRANIA0wDUANUA1gDXANgA2QDaANsA3ADdAN4A3wDgAOEA4gDjAOQA5QDmAOcA6ADpAOoA6wDsAO0A7gDvAPAA8QDyAPMA9AD1APYA9wD4APkA+gD7APwA/QD+AP8AAAEBAQIBAwEEAQUBBgEHAQgBCQEKAQsBDAENAQ4BDwEQAREBEgETARQBFQEWARcBGAEZARoBGwEcAR0BHgEfASABIQEiASMBJAElASYBJwEoASkBKgErASwBLQEuAS8BMAExATIBMwE0ATUBNgE3ATgBOQE6ATsBPAE9AT4BPwFAAUEBQgFDAUQBRQFGAUcBSAFJAUoBSwFMAU0BTgFPAVABUQFSAVMBVAFVAVYBVwFYAVkBWgFbAVwBXQFeAV8BYAFhAWIBYwFkAWUBZgFnAWgBaQFqAWsBbAFtAW4BbwFwAXEBcgFzAXQBdQF2AXcBeAF5AXoBewF8AX0BfgF/AYABgQGCAYMBhAGFAYYBhwGIAYkBigGLAYwBjQGOAY8BkAGRAZIBkwGUAZUBlgGXAZgBmQGaAZsBnAGdAZ4BnwGgAaEBogGjAaQBpQGmAacBqAGpAaoBqwGsAa0BrgGvAbABsQGyAbMBtAG1AbYBtwG4AbkBugG7AbwBvQG+Ab8BwAHBAcIBwwHEAcUBxgHHAcgByQHKAcsBzAHNAc4BzwHQAdEB0gHTAdQB1QHWAdcB2AHZAdoB2wHcAd0B3gHfAeAB4QHiAeMB5AHlAeYB5wHoAekB6gHrAewB7QHuAe8B8AHxAfIB8wH0AfUB9gH3AfgB+QH6AfsB/AH9Af4B/wEAAgECAgIDAgQCBQIGAgcCCAIJAgoCCwIMAg0CDgIPAhACEQISAhMCFAIVAhYCFwIYAhkCGgIbAhwCHQIeAh8CIAIhAiICIwIkAiUCJgInAigCKQIqAisCLAItAi4CLwIwAjECMgIzAjQCNQI2AjcCOAI5AjoCOwI8Aj0CPgI/AkACQQJCAkMCRAJFAkYCRwJIAkkCSgJLAkwCTQJOAk8CUAJRAlICUwJUAlUCVgJXAlgCWQJaAlsCXAJdAl4CXwJgAmECYgJjAmQCZQJmAmcCaAJpAmoCawJsAm0CbgJvAnACcQJyAnMCdAJ1AnYCdwJ4AnkCegJ7AnwCfQJ+An8CgAKBAoICgwKEAoUChgKHAogCiQKKAosCjAKNAo4CjwKQApECkgKTApQClQKWApcCmAKZApoCmwKcAp0CngKfAqACoQKiAqMCpAKlAqYCpwKoAqkCqgKrAqwCrQKuAq8CsAKxArICswK0ArUCtgK3ArgCuQK6ArsCvAK9Ar4C",
          "dtype": "i2"
         },
         "y": {
          "bdata": "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",
          "dtype": "f8"
         }
        }
       ],
       "layout": {
        "annotations": [
         {
          "showarrow": false,
          "text": "0-line",
          "x": 1,
          "xanchor": "right",
          "xref": "x domain",
          "y": 0,
          "yanchor": "top",
          "yref": "y"
         },
         {
          "align": "left",
          "font": {
           "size": 12
          },
          "showarrow": false,
          "text": "Midprice every 1 msgs;<br>solid red = insertion (every 50 msgs +1 step);<br>dashed red = cooling (same spacing); blue = end of history.",
          "x": 0,
          "xref": "paper",
          "y": -0.225,
          "yref": "paper"
         }
        ],
        "height": 800,
        "hovermode": "x unified",
        "margin": {
         "b": 150
        },
        "shapes": [
         {
          "line": {
           "color": "blue",
           "dash": "dash",
           "width": 2
          },
          "type": "line",
          "x0": 500,
          "x1": 500,
          "xref": "x",
          "y0": 0,
          "y1": 1,
          "yref": "y domain"
         },
         {
          "line": {
           "color": "red",
           "dash": "solid",
           "width": 2
          },
          "type": "line",
          "x0": 551,
          "x1": 551,
          "xref": "x",
          "y0": 0,
          "y1": 1,
          "yref": "y domain"
         },
         {
          "line": {
           "color": "red",
           "dash": "solid",
           "width": 2
          },
          "type": "line",
          "x0": 602,
          "x1": 602,
          "xref": "x",
          "y0": 0,
          "y1": 1,
          "yref": "y domain"
         },
         {
          "line": {
           "color": "red",
           "dash": "dash",
           "width": 2
          },
          "type": "line",
          "x0": 653,
          "x1": 653,
          "xref": "x",
          "y0": 0,
          "y1": 1,
          "yref": "y domain"
         },
         {
          "line": {
           "color": "red",
           "dash": "dash",
           "width": 2
          },
          "type": "line",
          "x0": 704,
          "x1": 704,
          "xref": "x",
          "y0": 0,
          "y1": 1,
          "yref": "y domain"
         },
         {
          "line": {
           "color": "black",
           "dash": "solid",
           "width": 2
          },
          "type": "line",
          "x0": 0,
          "x1": 1,
          "xref": "x domain",
          "y0": 0,
          "y1": 0,
          "yref": "y"
         }
        ],
        "template": {
         "data": {
          "bar": [
           {
            "error_x": {
             "color": "#2a3f5f"
            },
            "error_y": {
             "color": "#2a3f5f"
            },
            "marker": {
             "line": {
              "color": "white",
              "width": 0.5
             },
             "pattern": {
              "fillmode": "overlay",
              "size": 10,
              "solidity": 0.2
             }
            },
            "type": "bar"
           }
          ],
          "barpolar": [
           {
            "marker": {
             "line": {
              "color": "white",
              "width": 0.5
             },
             "pattern": {
              "fillmode": "overlay",
              "size": 10,
              "solidity": 0.2
             }
            },
            "type": "barpolar"
           }
          ],
          "carpet": [
           {
            "aaxis": {
             "endlinecolor": "#2a3f5f",
             "gridcolor": "#C8D4E3",
             "linecolor": "#C8D4E3",
             "minorgridcolor": "#C8D4E3",
             "startlinecolor": "#2a3f5f"
            },
            "baxis": {
             "endlinecolor": "#2a3f5f",
             "gridcolor": "#C8D4E3",
             "linecolor": "#C8D4E3",
             "minorgridcolor": "#C8D4E3",
             "startlinecolor": "#2a3f5f"
            },
            "type": "carpet"
           }
          ],
          "choropleth": [
           {
            "colorbar": {
             "outlinewidth": 0,
             "ticks": ""
            },
            "type": "choropleth"
           }
          ],
          "contour": [
           {
            "colorbar": {
             "outlinewidth": 0,
             "ticks": ""
            },
            "colorscale": [
             [
              0,
              "#0d0887"
             ],
             [
              0.1111111111111111,
              "#46039f"
             ],
             [
              0.2222222222222222,
              "#7201a8"
             ],
             [
              0.3333333333333333,
              "#9c179e"
             ],
             [
              0.4444444444444444,
              "#bd3786"
             ],
             [
              0.5555555555555556,
              "#d8576b"
             ],
             [
              0.6666666666666666,
              "#ed7953"
             ],
             [
              0.7777777777777778,
              "#fb9f3a"
             ],
             [
              0.8888888888888888,
              "#fdca26"
             ],
             [
              1,
              "#f0f921"
             ]
            ],
            "type": "contour"
           }
          ],
          "contourcarpet": [
           {
            "colorbar": {
             "outlinewidth": 0,
             "ticks": ""
            },
            "type": "contourcarpet"
           }
          ],
          "heatmap": [
           {
            "colorbar": {
             "outlinewidth": 0,
             "ticks": ""
            },
            "colorscale": [
             [
              0,
              "#0d0887"
             ],
             [
              0.1111111111111111,
              "#46039f"
             ],
             [
              0.2222222222222222,
              "#7201a8"
             ],
             [
              0.3333333333333333,
              "#9c179e"
             ],
             [
              0.4444444444444444,
              "#bd3786"
             ],
             [
              0.5555555555555556,
              "#d8576b"
             ],
             [
              0.6666666666666666,
              "#ed7953"
             ],
             [
              0.7777777777777778,
              "#fb9f3a"
             ],
             [
              0.8888888888888888,
              "#fdca26"
             ],
             [
              1,
              "#f0f921"
             ]
            ],
            "type": "heatmap"
           }
          ],
          "histogram": [
           {
            "marker": {
             "pattern": {
              "fillmode": "overlay",
              "size": 10,
              "solidity": 0.2
             }
            },
            "type": "histogram"
           }
          ],
          "histogram2d": [
           {
            "colorbar": {
             "outlinewidth": 0,
             "ticks": ""
            },
            "colorscale": [
             [
              0,
              "#0d0887"
             ],
             [
              0.1111111111111111,
              "#46039f"
             ],
             [
              0.2222222222222222,
              "#7201a8"
             ],
             [
              0.3333333333333333,
              "#9c179e"
             ],
             [
              0.4444444444444444,
              "#bd3786"
             ],
             [
              0.5555555555555556,
              "#d8576b"
             ],
             [
              0.6666666666666666,
              "#ed7953"
             ],
             [
              0.7777777777777778,
              "#fb9f3a"
             ],
             [
              0.8888888888888888,
              "#fdca26"
             ],
             [
              1,
              "#f0f921"
             ]
            ],
            "type": "histogram2d"
           }
          ],
          "histogram2dcontour": [
           {
            "colorbar": {
             "outlinewidth": 0,
             "ticks": ""
            },
            "colorscale": [
             [
              0,
              "#0d0887"
             ],
             [
              0.1111111111111111,
              "#46039f"
             ],
             [
              0.2222222222222222,
              "#7201a8"
             ],
             [
              0.3333333333333333,
              "#9c179e"
             ],
             [
              0.4444444444444444,
              "#bd3786"
             ],
             [
              0.5555555555555556,
              "#d8576b"
             ],
             [
              0.6666666666666666,
              "#ed7953"
             ],
             [
              0.7777777777777778,
              "#fb9f3a"
             ],
             [
              0.8888888888888888,
              "#fdca26"
             ],
             [
              1,
              "#f0f921"
             ]
            ],
            "type": "histogram2dcontour"
           }
          ],
          "mesh3d": [
           {
            "colorbar": {
             "outlinewidth": 0,
             "ticks": ""
            },
            "type": "mesh3d"
           }
          ],
          "parcoords": [
           {
            "line": {
             "colorbar": {
              "outlinewidth": 0,
              "ticks": ""
             }
            },
            "type": "parcoords"
           }
          ],
          "pie": [
           {
            "automargin": true,
            "type": "pie"
           }
          ],
          "scatter": [
           {
            "fillpattern": {
             "fillmode": "overlay",
             "size": 10,
             "solidity": 0.2
            },
            "type": "scatter"
           }
          ],
          "scatter3d": [
           {
            "line": {
             "colorbar": {
              "outlinewidth": 0,
              "ticks": ""
             }
            },
            "marker": {
             "colorbar": {
              "outlinewidth": 0,
              "ticks": ""
             }
            },
            "type": "scatter3d"
           }
          ],
          "scattercarpet": [
           {
            "marker": {
             "colorbar": {
              "outlinewidth": 0,
              "ticks": ""
             }
            },
            "type": "scattercarpet"
           }
          ],
          "scattergeo": [
           {
            "marker": {
             "colorbar": {
              "outlinewidth": 0,
              "ticks": ""
             }
            },
            "type": "scattergeo"
           }
          ],
          "scattergl": [
           {
            "marker": {
             "colorbar": {
              "outlinewidth": 0,
              "ticks": ""
             }
            },
            "type": "scattergl"
           }
          ],
          "scattermap": [
           {
            "marker": {
             "colorbar": {
              "outlinewidth": 0,
              "ticks": ""
             }
            },
            "type": "scattermap"
           }
          ],
          "scattermapbox": [
           {
            "marker": {
             "colorbar": {
              "outlinewidth": 0,
              "ticks": ""
             }
            },
            "type": "scattermapbox"
           }
          ],
          "scatterpolar": [
           {
            "marker": {
             "colorbar": {
              "outlinewidth": 0,
              "ticks": ""
             }
            },
            "type": "scatterpolar"
           }
          ],
          "scatterpolargl": [
           {
            "marker": {
             "colorbar": {
              "outlinewidth": 0,
              "ticks": ""
             }
            },
            "type": "scatterpolargl"
           }
          ],
          "scatterternary": [
           {
            "marker": {
             "colorbar": {
              "outlinewidth": 0,
              "ticks": ""
             }
            },
            "type": "scatterternary"
           }
          ],
          "surface": [
           {
            "colorbar": {
             "outlinewidth": 0,
             "ticks": ""
            },
            "colorscale": [
             [
              0,
              "#0d0887"
             ],
             [
              0.1111111111111111,
              "#46039f"
             ],
             [
              0.2222222222222222,
              "#7201a8"
             ],
             [
              0.3333333333333333,
              "#9c179e"
             ],
             [
              0.4444444444444444,
              "#bd3786"
             ],
             [
              0.5555555555555556,
              "#d8576b"
             ],
             [
              0.6666666666666666,
              "#ed7953"
             ],
             [
              0.7777777777777778,
              "#fb9f3a"
             ],
             [
              0.8888888888888888,
              "#fdca26"
             ],
             [
              1,
              "#f0f921"
             ]
            ],
            "type": "surface"
           }
          ],
          "table": [
           {
            "cells": {
             "fill": {
              "color": "#EBF0F8"
             },
             "line": {
              "color": "white"
             }
            },
            "header": {
             "fill": {
              "color": "#C8D4E3"
             },
             "line": {
              "color": "white"
             }
            },
            "type": "table"
           }
          ]
         },
         "layout": {
          "annotationdefaults": {
           "arrowcolor": "#2a3f5f",
           "arrowhead": 0,
           "arrowwidth": 1
          },
          "autotypenumbers": "strict",
          "coloraxis": {
           "colorbar": {
            "outlinewidth": 0,
            "ticks": ""
           }
          },
          "colorscale": {
           "diverging": [
            [
             0,
             "#8e0152"
            ],
            [
             0.1,
             "#c51b7d"
            ],
            [
             0.2,
             "#de77ae"
            ],
            [
             0.3,
             "#f1b6da"
            ],
            [
             0.4,
             "#fde0ef"
            ],
            [
             0.5,
             "#f7f7f7"
            ],
            [
             0.6,
             "#e6f5d0"
            ],
            [
             0.7,
             "#b8e186"
            ],
            [
             0.8,
             "#7fbc41"
            ],
            [
             0.9,
             "#4d9221"
            ],
            [
             1,
             "#276419"
            ]
           ],
           "sequential": [
            [
             0,
             "#0d0887"
            ],
            [
             0.1111111111111111,
             "#46039f"
            ],
            [
             0.2222222222222222,
             "#7201a8"
            ],
            [
             0.3333333333333333,
             "#9c179e"
            ],
            [
             0.4444444444444444,
             "#bd3786"
            ],
            [
             0.5555555555555556,
             "#d8576b"
            ],
            [
             0.6666666666666666,
             "#ed7953"
            ],
            [
             0.7777777777777778,
             "#fb9f3a"
            ],
            [
             0.8888888888888888,
             "#fdca26"
            ],
            [
             1,
             "#f0f921"
            ]
           ],
           "sequentialminus": [
            [
             0,
             "#0d0887"
            ],
            [
             0.1111111111111111,
             "#46039f"
            ],
            [
             0.2222222222222222,
             "#7201a8"
            ],
            [
             0.3333333333333333,
             "#9c179e"
            ],
            [
             0.4444444444444444,
             "#bd3786"
            ],
            [
             0.5555555555555556,
             "#d8576b"
            ],
            [
             0.6666666666666666,
             "#ed7953"
            ],
            [
             0.7777777777777778,
             "#fb9f3a"
            ],
            [
             0.8888888888888888,
             "#fdca26"
            ],
            [
             1,
             "#f0f921"
            ]
           ]
          },
          "colorway": [
           "#636efa",
           "#EF553B",
           "#00cc96",
           "#ab63fa",
           "#FFA15A",
           "#19d3f3",
           "#FF6692",
           "#B6E880",
           "#FF97FF",
           "#FECB52"
          ],
          "font": {
           "color": "#2a3f5f"
          },
          "geo": {
           "bgcolor": "white",
           "lakecolor": "white",
           "landcolor": "white",
           "showlakes": true,
           "showland": true,
           "subunitcolor": "#C8D4E3"
          },
          "hoverlabel": {
           "align": "left"
          },
          "hovermode": "closest",
          "mapbox": {
           "style": "light"
          },
          "paper_bgcolor": "white",
          "plot_bgcolor": "white",
          "polar": {
           "angularaxis": {
            "gridcolor": "#EBF0F8",
            "linecolor": "#EBF0F8",
            "ticks": ""
           },
           "bgcolor": "white",
           "radialaxis": {
            "gridcolor": "#EBF0F8",
            "linecolor": "#EBF0F8",
            "ticks": ""
           }
          },
          "scene": {
           "xaxis": {
            "backgroundcolor": "white",
            "gridcolor": "#DFE8F3",
            "gridwidth": 2,
            "linecolor": "#EBF0F8",
            "showbackground": true,
            "ticks": "",
            "zerolinecolor": "#EBF0F8"
           },
           "yaxis": {
            "backgroundcolor": "white",
            "gridcolor": "#DFE8F3",
            "gridwidth": 2,
            "linecolor": "#EBF0F8",
            "showbackground": true,
            "ticks": "",
            "zerolinecolor": "#EBF0F8"
           },
           "zaxis": {
            "backgroundcolor": "white",
            "gridcolor": "#DFE8F3",
            "gridwidth": 2,
            "linecolor": "#EBF0F8",
            "showbackground": true,
            "ticks": "",
            "zerolinecolor": "#EBF0F8"
           }
          },
          "shapedefaults": {
           "line": {
            "color": "#2a3f5f"
           }
          },
          "ternary": {
           "aaxis": {
            "gridcolor": "#DFE8F3",
            "linecolor": "#A2B1C6",
            "ticks": ""
           },
           "baxis": {
            "gridcolor": "#DFE8F3",
            "linecolor": "#A2B1C6",
            "ticks": ""
           },
           "bgcolor": "white",
           "caxis": {
            "gridcolor": "#DFE8F3",
            "linecolor": "#A2B1C6",
            "ticks": ""
           }
          },
          "title": {
           "x": 0.05
          },
          "xaxis": {
           "automargin": true,
           "gridcolor": "#EBF0F8",
           "linecolor": "#EBF0F8",
           "ticks": "",
           "title": {
            "standoff": 15
           },
           "zerolinecolor": "#EBF0F8",
           "zerolinewidth": 2
          },
          "yaxis": {
           "automargin": true,
           "gridcolor": "#EBF0F8",
           "linecolor": "#EBF0F8",
           "ticks": "",
           "title": {
            "standoff": 15
           },
           "zerolinecolor": "#EBF0F8",
           "zerolinewidth": 2
          }
         }
        },
        "title": {
         "text": "All midprice series (zeroed) with insertion/cooling lines"
        },
        "width": 1200,
        "xaxis": {
         "showgrid": false,
         "title": {
          "text": "Index"
         }
        },
        "yaxis": {
         "showgrid": false,
         "title": {
          "text": "Price – first_price"
         }
        }
       }
      }
     },
     "metadata": {},
     "output_type": "display_data"
    }
   ],
   "source": [
    "# 1) how many mid-price samples in one historical block?\n",
    "hist_steps = hist_msgs // midprice_step_size\n",
    "\n",
    "# 2) how many mid-price samples in one generated block?\n",
    "gen_steps  = n_gen_msgs // midprice_step_size\n",
    "\n",
    "# 3) the “block” between events in mid-price units:\n",
    "gen_block  = gen_steps + 1    # one extra step after each generated block\n",
    "\n",
    "# compute mean/std\n",
    "mean_series = all_series.mean(axis=0)\n",
    "std_series  = all_series.std(axis=0)\n",
    "\n",
    "fig = go.Figure()\n",
    "\n",
    "# faint individual traces\n",
    "for row, arr0 in zip(merged.itertuples(index=False), all_series):\n",
    "    fig.add_trace(go.Scatter(\n",
    "        x=x, y=arr0, mode='lines',\n",
    "        name=f\"id {row.id}\", line=dict(width=1),\n",
    "        opacity=0.2, hoverinfo='skip'\n",
    "    ))\n",
    "\n",
    "# ±1 std band\n",
    "fig.add_trace(go.Scatter(\n",
    "    x=np.concatenate([x, x[::-1]]),\n",
    "    y=np.concatenate([mean_series + std_series, (mean_series - std_series)[::-1]]),\n",
    "    fill='toself', fillcolor='rgba(0,0,0,0.1)',\n",
    "    line=dict(color='rgba(0,0,0,0)'), hoverinfo='skip',\n",
    "    showlegend=True, name='±1 std'\n",
    "))\n",
    "\n",
    "# bold mean line\n",
    "fig.add_trace(go.Scatter(\n",
    "    x=x, y=mean_series, mode='lines',\n",
    "    name='Mean', line=dict(color='black', width=4)\n",
    "))\n",
    "\n",
    "# history-end (blue dashed)\n",
    "fig.add_vline(x=hist_steps, line=dict(color='blue', width=2, dash='dash'))\n",
    "\n",
    "# build all event positions in mid-price units\n",
    "events = np.arange(1, num_insertions + num_coolings + 1)\n",
    "positions = hist_steps + gen_block * events\n",
    "\n",
    "# insertion (solid red) = first num_insertions events\n",
    "for pos in positions[:num_insertions]:\n",
    "    fig.add_vline(x=pos, line=dict(color='red', width=2, dash='solid'))\n",
    "# cooling (dashed red) = next num_coolings events\n",
    "for pos in positions[num_insertions:]:\n",
    "    fig.add_vline(x=pos, line=dict(color='red', width=2, dash='dash'))\n",
    "\n",
    "print(\"insertion positions:\", positions[:num_insertions].tolist())\n",
    "print(\"cooling positions:  \", positions[num_insertions:].tolist())\n",
    "\n",
    "# zero‐line\n",
    "fig.add_hline(y=0, line=dict(color='black', width=2, dash='solid'),\n",
    "              annotation_text=\"0-line\", annotation_position=\"bottom right\")\n",
    "\n",
    "# layout\n",
    "fig.update_layout(\n",
    "    title=\"All midprice series (zeroed) with insertion/cooling lines\",\n",
    "    xaxis_title=\"Index\", yaxis_title=\"Price – first_price\",\n",
    "    template=\"plotly_white\", hovermode=\"x unified\",\n",
    "    height=800, width=1200, margin={\"b\":150}\n",
    ")\n",
    "fig.update_xaxes(showgrid=False)\n",
    "fig.update_yaxes(showgrid=False)\n",
    "\n",
    "info_text = (\n",
    "    f\"Midprice every {midprice_step_size} msgs;<br>\"\n",
    "    f\"solid red = insertion (every {n_gen_msgs} msgs +1 step);<br>\"\n",
    "    f\"dashed red = cooling (same spacing); blue = end of history.\"\n",
    ")\n",
    "fig.add_annotation(\n",
    "    text=info_text, xref=\"paper\", yref=\"paper\",\n",
    "    x=0, y=-0.225, showarrow=False, align=\"left\", font={\"size\":12}\n",
    ")\n",
    "\n",
    "fig.show()"
   ]
  },
  {
   "cell_type": "code",
   "execution_count": 15,
   "metadata": {},
   "outputs": [],
   "source": [
    "import os, glob, re\n",
    "import numpy as np\n",
    "import pandas as pd\n",
    "\n",
    "def build_and_merge(folder, batch_prefix, inp_prefix):\n",
    "    # STEP 1: load every .npy (shape (batch_size, time, feat)) into a DataFrame\n",
    "    files   = glob.glob(os.path.join(folder, \"*.npy\"))\n",
    "    rx_iter = re.compile(rf\"{re.escape(batch_prefix)}_\\[(.+)\\]_iter_(\\d+)\\.npy$\")\n",
    "    rx_inp  = re.compile(rf\"{re.escape(inp_prefix)}_\\[(.+)\\]\\.npy$\")\n",
    "    rec = []\n",
    "    for f in files:\n",
    "        nm = os.path.basename(f)\n",
    "        m  = rx_iter.match(nm)\n",
    "        if m:\n",
    "            rng, itr = m.group(1).replace(\" \", \"\"), int(m.group(2))\n",
    "        else:\n",
    "            m2 = rx_inp.match(nm)\n",
    "            if not m2:\n",
    "                continue\n",
    "            rng, itr = m2.group(1).replace(\" \", \"\"), 0\n",
    "        batch = np.load(f)  # shape (batch_size, time, features)\n",
    "        rec.append({\"range\": rng, \"iteration\": itr, \"batch\": batch})\n",
    "    df = pd.DataFrame(rec).sort_values([\"range\",\"iteration\"]).reset_index(drop=True)\n",
    "\n",
    "    # STEP 2: parse the comma‐separated list of IDs into Python lists\n",
    "    df[\"ids\"] = df[\"range\"].str.split(\",\").apply(lambda L: [int(x) for x in L])\n",
    "\n",
    "    # explode each batch into one row per sample\n",
    "    rows = []\n",
    "    for _, r in df.iterrows():\n",
    "        for idx, sample_id in enumerate(r[\"ids\"]):\n",
    "            single = r[\"batch\"][idx]   # shape (time, features)\n",
    "            rows.append({\n",
    "                \"id\":        sample_id,\n",
    "                \"iteration\": r[\"iteration\"],\n",
    "                \"data\":      single\n",
    "            })\n",
    "    df_sorted = pd.DataFrame(rows).sort_values([\"id\",\"iteration\"]).reset_index(drop=True)\n",
    "\n",
    "    # STEP 3: for each id, concatenate all its iterations end-to-end\n",
    "    merged = []\n",
    "    for id_val, grp in df_sorted.groupby(\"id\", sort=True):\n",
    "        arrs = [row.data for _, row in grp.iterrows()]\n",
    "        big  = np.concatenate(arrs, axis=0)   # (sum_time, features)\n",
    "        merged.append({\"id\": id_val, \"merged_data\": big})\n",
    "    merged_df = pd.DataFrame(merged).sort_values(\"id\").reset_index(drop=True)\n",
    "\n",
    "    return df, df_sorted, merged_df\n",
    "\n",
    "# — example usage —\n",
    "b_folder      = f\"/app/data_saved/{experiment_name}/b_seq_gen_doubled\"\n",
    "b_batch_pref  = \"b_seq_gen_doubled_batch\"\n",
    "b_inp_pref    = \"b_seq_inp\"\n",
    "_, b_sorted, b_merged = build_and_merge(b_folder, b_batch_pref, b_inp_pref)\n",
    "\n",
    "m_folder      = f\"/app/data_saved/{experiment_name}/msgs_decoded_doubled\"\n",
    "m_batch_pref  = \"msgs_decoded_doubled_batch\"\n",
    "m_inp_pref    = \"msgs_decoded_doubled_inp\"\n",
    "_, m_sorted, m_merged = build_and_merge(m_folder, m_batch_pref, m_inp_pref)\n",
    "\n",
    "# build your dicts\n",
    "b_dict = { int(r.id): np.array(r.merged_data) for _, r in b_merged.iterrows() }\n",
    "m_dict = { int(r.id): np.array(r.merged_data) for _, r in m_merged.iterrows() }\n",
    "\n",
    "# prepend zero‐row so that your interactive plot indexing from t=1…T works\n",
    "for d in (b_dict, m_dict):\n",
    "    for key, arr in d.items():\n",
    "        zero = np.zeros((1, arr.shape[1]), dtype=arr.dtype)\n",
    "        d[key] = np.vstack([zero, arr])"
   ]
  },
  {
   "cell_type": "code",
   "execution_count": 16,
   "metadata": {},
   "outputs": [
    {
     "data": {
      "application/vnd.jupyter.widget-view+json": {
       "model_id": "1eab839835454a538c51b9aea1173d30",
       "version_major": 2,
       "version_minor": 0
      },
      "text/plain": [
       "HBox(children=(Dropdown(description='Sample ID:', options=(2787, 4668, 14606, 16120), value=2787), Button(desc…"
      ]
     },
     "metadata": {},
     "output_type": "display_data"
    },
    {
     "data": {
      "application/vnd.jupyter.widget-view+json": {
       "model_id": "a36300dfcbc84917ac4c101c6f5c02e6",
       "version_major": 2,
       "version_minor": 0
      },
      "text/plain": [
       "FigureWidget({\n",
       "    'data': [{'marker': {'color': 'orange'},\n",
       "              'type': 'bar',\n",
       "              'uid': '800e3cff-6743-4a85-820e-057a4de6837c',\n",
       "              'x': {'bdata': '9fb3+Pn6+/z9/v8AAQIDBAUGBwgJCgs=', 'dtype': 'i1'},\n",
       "              'xaxis': 'x',\n",
       "              'y': {'bdata': ('AAAAAAAAAAAAAAAAAAAAAAAAAAAAAA' ... 'AAAAAAAAAAAAAAAAAAAAAAAAAAAAA='),\n",
       "                    'dtype': 'f4'},\n",
       "              'yaxis': 'y'},\n",
       "             {'marker': {'color': [orange, red, red, red, red, red, red, red, red,\n",
       "                                   red, red, orange, blue, blue, blue, blue, blue,\n",
       "                                   blue, blue, blue, blue, blue, orange]},\n",
       "              'type': 'bar',\n",
       "              'uid': '6008c1c6-e36c-45bf-97e2-3466113ee999',\n",
       "              'x': {'bdata': '9fb3+Pn6+/z9/v8AAQIDBAUGBwgJCgs=', 'dtype': 'i1'},\n",
       "              'xaxis': 'x2',\n",
       "              'y': {'bdata': ('AAAAAFCNlz4JrDw/2KPwPobrkT/azj' ... 'K/tcj2vipcz77BymG/NDOzvgAAAAA='),\n",
       "                    'dtype': 'f4'},\n",
       "              'yaxis': 'y2'}],\n",
       "    'layout': {'annotations': [{'font': {'size': 16},\n",
       "                                'showarrow': False,\n",
       "                                'text': 'Book state 0',\n",
       "                                'x': 0.225,\n",
       "                                'xanchor': 'center',\n",
       "                                'xref': 'paper',\n",
       "                                'y': 1.0,\n",
       "                                'yanchor': 'bottom',\n",
       "                                'yref': 'paper'},\n",
       "                               {'font': {'size': 16},\n",
       "                                'showarrow': False,\n",
       "                                'text': 'Book state 1',\n",
       "                                'x': 0.775,\n",
       "                                'xanchor': 'center',\n",
       "                                'xref': 'paper',\n",
       "                                'y': 1.0,\n",
       "                                'yanchor': 'bottom',\n",
       "                                'yref': 'paper'}],\n",
       "               'height': 400,\n",
       "               'showlegend': False,\n",
       "               'template': '...',\n",
       "               'width': 800,\n",
       "               'xaxis': {'anchor': 'y', 'domain': [0.0, 0.45]},\n",
       "               'xaxis2': {'anchor': 'y2', 'domain': [0.55, 1.0]},\n",
       "               'yaxis': {'anchor': 'x', 'domain': [0.0, 1.0]},\n",
       "               'yaxis2': {'anchor': 'x2', 'domain': [0.0, 1.0]}}\n",
       "})"
      ]
     },
     "metadata": {},
     "output_type": "display_data"
    },
    {
     "data": {
      "application/vnd.jupyter.widget-view+json": {
       "model_id": "bf56c7034d4f4c7aba30cb30a3b3422e",
       "version_major": 2,
       "version_minor": 0
      },
      "text/plain": [
       "HTML(value='<b>Delete • Sell • abs=897700 • rel=1 • size=73<br></b>raw:[694062990, 3, 0, 897700, 1, 73, 0, 274…"
      ]
     },
     "metadata": {},
     "output_type": "display_data"
    }
   ],
   "source": [
    "import numpy as np\n",
    "import pandas as pd\n",
    "import plotly.graph_objs as go\n",
    "from plotly.subplots import make_subplots\n",
    "import ipywidgets as widgets\n",
    "from IPython.display import display\n",
    "\n",
    "def interactive_lob_plot(b_seq_inp, msg_seq_raw):\n",
    "    # allow DataFrame or dict\n",
    "    if isinstance(b_seq_inp, pd.DataFrame):\n",
    "        b_seq_inp = {int(r.id): np.array(r.merged_data) for _,r in b_seq_inp.iterrows()}\n",
    "    if isinstance(msg_seq_raw, pd.DataFrame):\n",
    "        msg_seq_raw = {int(r.id): np.array(r.merged_data) for _,r in msg_seq_raw.iterrows()}\n",
    "\n",
    "    # controls\n",
    "    id_dd       = widgets.Dropdown(options=sorted(b_seq_inp.keys()), description=\"Sample ID:\")\n",
    "    time_slider = widgets.IntSlider(min=1, max=1, step=1, description=\"t:\")\n",
    "    btn_prev    = widgets.Button(description=\"←\")\n",
    "    btn_next    = widgets.Button(description=\"→\")\n",
    "    msg_box     = widgets.HTML()\n",
    "\n",
    "    # figure with two subplots\n",
    "    fig = make_subplots(rows=1, cols=2, subplot_titles=[\"Book state t–1\",\"Book state t\"])\n",
    "    fig.add_trace(go.Bar(x=[],y=[]), row=1,col=1)\n",
    "    fig.add_trace(go.Bar(x=[],y=[]), row=1,col=2)\n",
    "    fig.update_layout(width=800, height=400, showlegend=False, template='plotly_white')\n",
    "    fig_widget = go.FigureWidget(fig)\n",
    "\n",
    "    def update_slider_range(*_):\n",
    "        arr = b_seq_inp[id_dd.value]\n",
    "        # now slider runs 1…(T−1)\n",
    "        time_slider.min = 1\n",
    "        time_slider.max = arr.shape[0] - 1\n",
    "        time_slider.value = 1\n",
    "\n",
    "    def update_plot(*_):\n",
    "        sid = id_dd.value\n",
    "        t   = time_slider.value\n",
    "        arr = b_seq_inp[sid]\n",
    "        msgs= msg_seq_raw[sid]\n",
    "\n",
    "        # take book states at t−1 and t\n",
    "        s0 = arr[t-1, 240:263]\n",
    "        s1 = arr[t,   240:263]\n",
    "\n",
    "        # s0 = arr[t-1]\n",
    "        # s1 = arr[t]\n",
    "\n",
    "\n",
    "        diff = s1 - s0\n",
    "        x = np.arange(len(s0)) - len(s0)//2\n",
    "\n",
    "        with fig_widget.batch_update():\n",
    "            fig_widget.data = []\n",
    "            fig_widget.add_bar(x=x, y=s0, row=1, col=1, marker_color='orange')\n",
    "            colors = ['orange' if abs(d)<1e-8 else ('red' if d>0 else 'blue') for d in diff]\n",
    "            fig_widget.add_bar(x=x, y=s1, row=1, col=2, marker_color=colors)\n",
    "            fig_widget.layout.annotations[0].text = f\"Book state {t-1}\"\n",
    "            fig_widget.layout.annotations[1].text = f\"Book state {t}\"\n",
    "\n",
    "        # show message at index t\n",
    "        m = msgs[t].astype(int)\n",
    "        # fields: [0]=timestamp, [1]=etype, [2]=dir, [3]=abspr, [4]=relpr, [5]=size, …\n",
    "        et, dr, abspr, relpr, sz = m[1], m[2], m[3], m[4], m[5]\n",
    "        et_map = {1:\"Limit\",2:\"PartialCancel\",3:\"Delete\",4:\"Execution\"}\n",
    "        dr_map = {1:\"Buy\",0:\"Sell\"}\n",
    "        info = (\n",
    "            f\"{et_map.get(et,'?')} • \"\n",
    "            f\"{dr_map.get(dr,'?')} • \"\n",
    "            f\"abs={abspr} • rel={relpr} • size={sz}\"\n",
    "        )\n",
    "        msg_box.value = f\"<b>{info}<br></b>raw:{m.tolist()}\"\n",
    "\n",
    "    def on_prev(b):\n",
    "        if time_slider.value>time_slider.min:\n",
    "            time_slider.value -= 1\n",
    "    def on_next(b):\n",
    "        if time_slider.value<time_slider.max:\n",
    "            time_slider.value += 1\n",
    "\n",
    "    # wire up events\n",
    "    id_dd.observe(lambda c: update_slider_range(), names='value')\n",
    "    time_slider.observe(lambda c: update_plot(), names='value')\n",
    "    btn_prev.on_click(on_prev)\n",
    "    btn_next.on_click(on_next)\n",
    "\n",
    "    # initial draw\n",
    "    update_slider_range()\n",
    "    update_plot()\n",
    "\n",
    "    display(widgets.HBox([id_dd, btn_prev, btn_next, time_slider]))\n",
    "    display(fig_widget, msg_box)\n",
    "\n",
    "\n",
    "interactive_lob_plot(b_dict, m_dict)"
   ]
  },
  {
   "cell_type": "code",
   "execution_count": null,
   "metadata": {},
   "outputs": [],
   "source": []
  },
  {
   "cell_type": "code",
   "execution_count": null,
   "metadata": {},
   "outputs": [],
   "source": []
  }
 ],
 "metadata": {
  "kernelspec": {
   "display_name": "myenv",
   "language": "python",
   "name": "python3"
  },
  "language_info": {
   "codemirror_mode": {
    "name": "ipython",
    "version": 3
   },
   "file_extension": ".py",
   "mimetype": "text/x-python",
   "name": "python",
   "nbconvert_exporter": "python",
   "pygments_lexer": "ipython3",
   "version": "3.12.3"
  }
 },
 "nbformat": 4,
 "nbformat_minor": 2
}
