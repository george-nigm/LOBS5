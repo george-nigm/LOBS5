{
 "cells": [
  {
   "cell_type": "code",
   "execution_count": 2,
   "metadata": {},
   "outputs": [],
   "source": [
    "import numpy as np\n",
    "import torch\n",
    "import os"
   ]
  },
  {
   "cell_type": "code",
   "execution_count": 3,
   "metadata": {},
   "outputs": [
    {
     "name": "stdout",
     "output_type": "stream",
     "text": [
      "GOOG_2017-01-23_24900000_57900000_message_10_proc.npy\n",
      "GOOG_2017-01-24_24900000_57900000_orderbook_10_proc.npy\n",
      "GOOG_2017-01-25_24900000_57900000_message_10_proc.npy\n",
      "GOOG_2017-01-24_24900000_57900000_message_10_proc.npy\n",
      "GOOG_2017-01-25_24900000_57900000_orderbook_10_proc.npy\n",
      "GOOG_2017-01-23_24900000_57900000_orderbook_10_proc.npy\n"
     ]
    }
   ],
   "source": [
    "import os\n",
    "import numpy as np\n",
    "\n",
    "path = \"./GOOG_very_tiny/\"\n",
    "for filename in os.listdir(path):\n",
    "    if filename.endswith(\".npy\"):\n",
    "        print(filename)\n",
    "        data = np.load(f\"{path}{filename}\")\n",
    "        i = len(data) // 10\n",
    "        data = data[:i]\n",
    "        np.save(f\"{path}{filename}\", data)"
   ]
  }
 ],
 "metadata": {
  "kernelspec": {
   "display_name": "Python 3",
   "language": "python",
   "name": "python3"
  },
  "language_info": {
   "codemirror_mode": {
    "name": "ipython",
    "version": 3
   },
   "file_extension": ".py",
   "mimetype": "text/x-python",
   "name": "python",
   "nbconvert_exporter": "python",
   "pygments_lexer": "ipython3",
   "version": "3.10.12"
  }
 },
 "nbformat": 4,
 "nbformat_minor": 2
}
