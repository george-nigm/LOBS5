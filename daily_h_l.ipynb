{
 "cells": [
  {
   "cell_type": "code",
   "execution_count": 1,
   "id": "a855ddd9",
   "metadata": {},
   "outputs": [
    {
     "name": "stdout",
     "output_type": "stream",
     "text": [
      "Processed 9 files\n",
      "                                           filename  highest_price  \\\n",
      "0  GOOG_2023-01-03_34200000_57600000_message_10.csv         916400   \n",
      "1  GOOG_2023-01-13_34200000_57600000_message_10.csv         930700   \n",
      "2  GOOG_2023-01-04_34200000_57600000_message_10.csv         915100   \n",
      "3  GOOG_2023-01-05_34200000_57600000_message_10.csv         883700   \n",
      "4  GOOG_2023-01-09_34200000_57600000_message_10.csv         909200   \n",
      "5  GOOG_2023-01-11_34200000_57600000_message_10.csv         924400   \n",
      "6  GOOG_2023-01-10_34200000_57600000_message_10.csv         895700   \n",
      "7  GOOG_2023-01-06_34200000_57600000_message_10.csv         885700   \n",
      "8  GOOG_2023-01-12_34200000_57600000_message_10.csv         928100   \n",
      "\n",
      "   lowest_price                                    all_message_ids  \\\n",
      "0        889200  [26617106, 26628478, 26628606, 26628742, 26629...   \n",
      "1        908400  [27238094, 27238534, 27242942, 27242954, 27245...   \n",
      "2        877100  [27699218, 27719870, 27720354, 27720530, 27721...   \n",
      "3        864700  [29199742, 29200086, 29202678, 0, 29073318, 29...   \n",
      "4        884900  [27115942, 0, 27119578, 27120730, 27120782, 27...   \n",
      "5        896600  [24760806, 24760810, 24760870, 24761414, 24745...   \n",
      "6        865100  [25741946, 25752798, 25752810, 25752814, 25752...   \n",
      "7        854800  [37431426, 37441374, 37441410, 37441418, 37441...   \n",
      "8        904800  [0, 40650546, 40651998, 40652022, 40652806, 40...   \n",
      "\n",
      "   execution_sum  \n",
      "0        2935162  \n",
      "1        2220164  \n",
      "2        4206322  \n",
      "3        2950423  \n",
      "4        2730186  \n",
      "5        2974242  \n",
      "6        2586848  \n",
      "7        3539292  \n",
      "8        2428432  \n"
     ]
    }
   ],
   "source": [
    "import pandas as pd\n",
    "import os, glob\n",
    "\n",
    "folder_path = '/app/data/test_set/GOOG'\n",
    "\n",
    "message_files = glob.glob(os.path.join(folder_path, '*message*'))\n",
    "results = []\n",
    "\n",
    "for file_path in message_files:\n",
    "    filename = os.path.basename(file_path)\n",
    "\n",
    "    # Skip .npy files\n",
    "    if filename.endswith(\".npy\"):\n",
    "        continue\n",
    "\n",
    "    try:\n",
    "        df = pd.read_csv(file_path, header=None, low_memory=False,\n",
    "                         names=['Time','Event_Type','Order_ID','Size','Price','Direction','Extra'])\n",
    "\n",
    "        valid_prices = df[(df['Price'] >= 500000) & (df['Price'] <= 20000000)]['Price']\n",
    "\n",
    "        if len(valid_prices) > 0:\n",
    "            highest_price = valid_prices.max()\n",
    "            lowest_price = valid_prices.min()\n",
    "        else:\n",
    "            highest_price = float('nan')\n",
    "            lowest_price = float('nan')\n",
    "\n",
    "        all_message_ids = df['Order_ID'].unique().astype(int).tolist()\n",
    "        execution_sum = df.loc[df['Event_Type'] == 4, 'Size'].sum()\n",
    "\n",
    "        results.append({\n",
    "            'filename': filename,\n",
    "            'highest_price': highest_price,\n",
    "            'lowest_price': lowest_price,\n",
    "            'all_message_ids': all_message_ids,\n",
    "            'execution_sum': execution_sum\n",
    "        })\n",
    "\n",
    "    except Exception as e:\n",
    "        print(f\"Error processing {filename}: {e}\")\n",
    "        results.append({\n",
    "            'filename': filename,\n",
    "            'highest_price': float('nan'),\n",
    "            'lowest_price': float('nan'),\n",
    "            'all_message_ids': [],\n",
    "            'execution_sum': 0\n",
    "        })\n",
    "\n",
    "daily_h_l_df = pd.DataFrame(results)\n",
    "\n",
    "print(f\"Processed {len(results)} files\")\n",
    "print(daily_h_l_df)"
   ]
  },
  {
   "cell_type": "code",
   "execution_count": 2,
   "id": "5e29b4c2",
   "metadata": {},
   "outputs": [
    {
     "name": "stdout",
     "output_type": "stream",
     "text": [
      "Checking for repetitions in all_message_ids between rows...\n",
      "Total message IDs across all files: 10884080\n",
      "Unique message IDs: 10640827\n",
      "Duplicates found: 243253\n",
      "\n",
      "WARNING: There are repeated message IDs between files!\n",
      "Number of duplicated IDs: 239676\n"
     ]
    }
   ],
   "source": [
    "# Check for repetitions in all_message_ids between rows\n",
    "print(\"Checking for repetitions in all_message_ids between rows...\")\n",
    "\n",
    "# Get all message IDs from all rows\n",
    "all_ids_combined = []\n",
    "for idx, row in daily_h_l_df.iterrows():\n",
    "    all_ids_combined.extend(row['all_message_ids'])\n",
    "\n",
    "# Check if there are any duplicates\n",
    "unique_ids = set(all_ids_combined)\n",
    "total_ids = len(all_ids_combined)\n",
    "unique_count = len(unique_ids)\n",
    "\n",
    "print(f\"Total message IDs across all files: {total_ids}\")\n",
    "print(f\"Unique message IDs: {unique_count}\")\n",
    "print(f\"Duplicates found: {total_ids - unique_count}\")\n",
    "\n",
    "if total_ids != unique_count:\n",
    "    print(\"\\nWARNING: There are repeated message IDs between files!\")\n",
    "    \n",
    "    # Find which IDs are duplicated\n",
    "    from collections import Counter\n",
    "    id_counts = Counter(all_ids_combined)\n",
    "    duplicated_ids = {id_val: count for id_val, count in id_counts.items() if count > 1}\n",
    "    \n",
    "    print(f\"Number of duplicated IDs: {len(duplicated_ids)}\")\n",
    "    if len(duplicated_ids) <= 10:  # Show details only if not too many\n",
    "        print(\"Duplicated IDs and their counts:\")\n",
    "        for id_val, count in duplicated_ids.items():\n",
    "            print(f\"  ID {id_val}: appears {count} times\")\n",
    "else:\n",
    "    print(\"✓ No repetitions found - all message IDs are unique across files\")\n"
   ]
  },
  {
   "cell_type": "code",
   "execution_count": 3,
   "id": "a503415e",
   "metadata": {},
   "outputs": [
    {
     "name": "stdout",
     "output_type": "stream",
     "text": [
      "Saved daily_h_l_df to daily_h_l.csv\n"
     ]
    }
   ],
   "source": [
    "# Save the dataframe to CSV\n",
    "daily_h_l_df.to_csv('daily_h_l.csv', index=False)\n",
    "print(\"Saved daily_h_l_df to daily_h_l.csv\")\n"
   ]
  },
  {
   "cell_type": "code",
   "execution_count": null,
   "id": "4b3ec625",
   "metadata": {},
   "outputs": [],
   "source": []
  },
  {
   "cell_type": "code",
   "execution_count": null,
   "id": "0d0f5735",
   "metadata": {},
   "outputs": [],
   "source": []
  },
  {
   "cell_type": "code",
   "execution_count": null,
   "id": "15d48cd6",
   "metadata": {},
   "outputs": [],
   "source": []
  },
  {
   "cell_type": "code",
   "execution_count": null,
   "id": "50ce5e1d",
   "metadata": {},
   "outputs": [],
   "source": []
  },
  {
   "cell_type": "code",
   "execution_count": null,
   "id": "abc84274",
   "metadata": {},
   "outputs": [],
   "source": []
  },
  {
   "cell_type": "code",
   "execution_count": null,
   "id": "22949dab",
   "metadata": {},
   "outputs": [],
   "source": []
  },
  {
   "cell_type": "code",
   "execution_count": null,
   "id": "f7be41e8",
   "metadata": {},
   "outputs": [],
   "source": []
  },
  {
   "cell_type": "code",
   "execution_count": null,
   "id": "335f294c",
   "metadata": {},
   "outputs": [],
   "source": []
  },
  {
   "cell_type": "code",
   "execution_count": null,
   "id": "d77e36d3",
   "metadata": {},
   "outputs": [],
   "source": []
  },
  {
   "cell_type": "code",
   "execution_count": null,
   "id": "15aa58e9",
   "metadata": {},
   "outputs": [],
   "source": []
  },
  {
   "cell_type": "markdown",
   "id": "94b4699b",
   "metadata": {},
   "source": [
    "# Calculate mean(ln(H/L)) from the daily high/low data"
   ]
  },
  {
   "cell_type": "code",
   "execution_count": 4,
   "id": "f113d609",
   "metadata": {},
   "outputs": [
    {
     "name": "stdout",
     "output_type": "stream",
     "text": [
      "Number of valid files for calculation: 9\n",
      "Mean(ln(H/L)): 0.030206\n",
      "\n",
      "Statistics for ln(H/L):\n",
      "Min: 0.021735\n",
      "Max: 0.042412\n",
      "Std: 0.006498\n"
     ]
    }
   ],
   "source": [
    "# Calculate mean(ln(H/L)) from the daily high/low data\n",
    "import numpy as np\n",
    "\n",
    "# Filter out rows with NaN values\n",
    "valid_data = daily_h_l_df.dropna(subset=['highest_price', 'lowest_price'])\n",
    "\n",
    "# Calculate ln(H/L) for each valid row\n",
    "# Note: prices are in LOBSTER format (multiplied by 10000), but the ratio H/L cancels out the scaling\n",
    "ln_h_l_ratios = np.log(valid_data['highest_price'] / valid_data['lowest_price'])\n",
    "\n",
    "# Calculate the mean\n",
    "mean_ln_h_l = ln_h_l_ratios.mean()\n",
    "\n",
    "print(f\"Number of valid files for calculation: {len(valid_data)}\")\n",
    "print(f\"Mean(ln(H/L)): {mean_ln_h_l:.6f}\")\n",
    "\n",
    "# Display some statistics\n",
    "print(f\"\\nStatistics for ln(H/L):\")\n",
    "print(f\"Min: {ln_h_l_ratios.min():.6f}\")\n",
    "print(f\"Max: {ln_h_l_ratios.max():.6f}\")\n",
    "print(f\"Std: {ln_h_l_ratios.std():.6f}\")\n"
   ]
  },
  {
   "cell_type": "code",
   "execution_count": null,
   "metadata": {},
   "outputs": [],
   "source": []
  },
  {
   "cell_type": "code",
   "execution_count": null,
   "id": "e2484ff0",
   "metadata": {},
   "outputs": [],
   "source": []
  },
  {
   "cell_type": "code",
   "execution_count": null,
   "id": "ea2b4c23",
   "metadata": {},
   "outputs": [],
   "source": []
  },
  {
   "cell_type": "code",
   "execution_count": null,
   "id": "8717baaf",
   "metadata": {},
   "outputs": [],
   "source": []
  },
  {
   "cell_type": "code",
   "execution_count": null,
   "id": "9991b87b",
   "metadata": {},
   "outputs": [],
   "source": []
  },
  {
   "cell_type": "code",
   "execution_count": null,
   "id": "b5b76d76",
   "metadata": {},
   "outputs": [],
   "source": []
  },
  {
   "cell_type": "code",
   "execution_count": null,
   "id": "d322f0be",
   "metadata": {},
   "outputs": [],
   "source": []
  }
 ],
 "metadata": {
  "kernelspec": {
   "display_name": "myenv",
   "language": "python",
   "name": "python3"
  },
  "language_info": {
   "codemirror_mode": {
    "name": "ipython",
    "version": 3
   },
   "file_extension": ".py",
   "mimetype": "text/x-python",
   "name": "python",
   "nbconvert_exporter": "python",
   "pygments_lexer": "ipython3",
   "version": "3.12.3"
  }
 },
 "nbformat": 4,
 "nbformat_minor": 5
}
