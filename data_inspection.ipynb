{
 "cells": [
  {
   "cell_type": "code",
   "execution_count": 20,
   "metadata": {},
   "outputs": [],
   "source": [
    "import numpy as np\n",
    "from glob import glob\n",
    "import pandas as pd\n",
    "import matplotlib.pyplot as plt\n",
    "import sys\n",
    "import os\n",
    "sys.path.append(\"/data1/sascha/\")\n",
    "import lob_bench.eval as eval\n",
    "import lob.validation_helpers as valh\n",
    "import lob.inference_no_errcorr as inference"
   ]
  },
  {
   "cell_type": "code",
   "execution_count": 13,
   "metadata": {},
   "outputs": [
    {
     "data": {
      "text/plain": [
       "['/data1/sascha/LOBS5',\n",
       " '/data1/sascha/AlphaTrade',\n",
       " '/home/sascha/miniconda3/envs/alphatrade_new/lib/python310.zip',\n",
       " '/home/sascha/miniconda3/envs/alphatrade_new/lib/python3.10',\n",
       " '/home/sascha/miniconda3/envs/alphatrade_new/lib/python3.10/lib-dynload',\n",
       " '',\n",
       " '/home/sascha/miniconda3/envs/alphatrade_new/lib/python3.10/site-packages',\n",
       " '/lob_bench',\n",
       " '/data1/sascha/lob_bench',\n",
       " '/data1/sascha/']"
      ]
     },
     "execution_count": 13,
     "metadata": {},
     "output_type": "execute_result"
    }
   ],
   "source": [
    "sys.path"
   ]
  },
  {
   "cell_type": "code",
   "execution_count": 17,
   "metadata": {},
   "outputs": [
    {
     "name": "stdout",
     "output_type": "stream",
     "text": [
      "743\n"
     ]
    },
    {
     "data": {
      "text/plain": [
       "74"
      ]
     },
     "execution_count": 17,
     "metadata": {},
     "output_type": "execute_result"
    }
   ],
   "source": [
    "msg_files = sorted(glob(\"/data1/sascha/data/GOOG2017to2019/\" + '*message*.npy'))\n",
    "book_files = sorted(glob(\"/data1/sascha/data/GOOG2017to2019/\" + '*orderbook*.npy'))\n",
    "print(len(msg_files))\n",
    "max(1, int(len(msg_files) * 0.1))"
   ]
  },
  {
   "cell_type": "code",
   "execution_count": 152,
   "metadata": {},
   "outputs": [],
   "source": [
    "day=600\n",
    "m_lob=inference.msg_to_lobster_format(np.load(msg_files[day]))\n",
    "b_lob=inference.book_to_lobster_format(np.load(book_files[day])).drop(columns=0).rename(columns=lambda x:x-1)\n",
    "b_lob_dropped=b_lob[1:].reset_index().drop(columns='index')\n",
    "ask_depths, bid_depths=eval.limit_order_levels(m_lob,b_lob_dropped)"
   ]
  },
  {
   "cell_type": "code",
   "execution_count": 153,
   "metadata": {},
   "outputs": [
    {
     "data": {
      "text/plain": [
       "(array([40488., 18245., 16408., 16411., 19121., 15607., 16055., 16620.,\n",
       "        17145., 16676.]),\n",
       " array([ 1. ,  1.9,  2.8,  3.7,  4.6,  5.5,  6.4,  7.3,  8.2,  9.1, 10. ]),\n",
       " <BarContainer object of 10 artists>)"
      ]
     },
     "execution_count": 153,
     "metadata": {},
     "output_type": "execute_result"
    },
    {
     "data": {
      "image/png": "[encoded data removed]",
      "text/plain": [
       "<Figure size 640x480 with 1 Axes>"
      ]
     },
     "metadata": {},
     "output_type": "display_data"
    }
   ],
   "source": [
    "plt.hist(ask_depths)"
   ]
  },
  {
   "cell_type": "code",
   "execution_count": 130,
   "metadata": {},
   "outputs": [
    {
     "data": {
      "text/html": [
       "<div>\n",
       "<style scoped>\n",
       "    .dataframe tbody tr th:only-of-type {\n",
       "        vertical-align: middle;\n",
       "    }\n",
       "\n",
       "    .dataframe tbody tr th {\n",
       "        vertical-align: top;\n",
       "    }\n",
       "\n",
       "    .dataframe thead th {\n",
       "        text-align: right;\n",
       "    }\n",
       "</style>\n",
       "<table border=\"1\" class=\"dataframe\">\n",
       "  <thead>\n",
       "    <tr style=\"text-align: right;\">\n",
       "      <th></th>\n",
       "      <th>time</th>\n",
       "      <th>event_type</th>\n",
       "      <th>order_id</th>\n",
       "      <th>size</th>\n",
       "      <th>price</th>\n",
       "      <th>direction</th>\n",
       "    </tr>\n",
       "  </thead>\n",
       "  <tbody>\n",
       "    <tr>\n",
       "      <th>0</th>\n",
       "      <td>25200.435314554</td>\n",
       "      <td>1</td>\n",
       "      <td>3053322</td>\n",
       "      <td>100</td>\n",
       "      <td>1999999900</td>\n",
       "      <td>-1</td>\n",
       "    </tr>\n",
       "    <tr>\n",
       "      <th>1</th>\n",
       "      <td>25746.848213676</td>\n",
       "      <td>1</td>\n",
       "      <td>3121458</td>\n",
       "      <td>100</td>\n",
       "      <td>7810000</td>\n",
       "      <td>-1</td>\n",
       "    </tr>\n",
       "    <tr>\n",
       "      <th>2</th>\n",
       "      <td>26294.710414180</td>\n",
       "      <td>1</td>\n",
       "      <td>3179126</td>\n",
       "      <td>66</td>\n",
       "      <td>7862000</td>\n",
       "      <td>-1</td>\n",
       "    </tr>\n",
       "    <tr>\n",
       "      <th>3</th>\n",
       "      <td>26294.710415715</td>\n",
       "      <td>1</td>\n",
       "      <td>3179130</td>\n",
       "      <td>66</td>\n",
       "      <td>7767300</td>\n",
       "      <td>1</td>\n",
       "    </tr>\n",
       "    <tr>\n",
       "      <th>4</th>\n",
       "      <td>26294.711926583</td>\n",
       "      <td>1</td>\n",
       "      <td>3179134</td>\n",
       "      <td>66</td>\n",
       "      <td>7767200</td>\n",
       "      <td>1</td>\n",
       "    </tr>\n",
       "    <tr>\n",
       "      <th>...</th>\n",
       "      <td>...</td>\n",
       "      <td>...</td>\n",
       "      <td>...</td>\n",
       "      <td>...</td>\n",
       "      <td>...</td>\n",
       "      <td>...</td>\n",
       "    </tr>\n",
       "    <tr>\n",
       "      <th>296692</th>\n",
       "      <td>57897.239892537</td>\n",
       "      <td>3</td>\n",
       "      <td>286396434</td>\n",
       "      <td>150</td>\n",
       "      <td>7857400</td>\n",
       "      <td>-1</td>\n",
       "    </tr>\n",
       "    <tr>\n",
       "      <th>296693</th>\n",
       "      <td>57897.240135964</td>\n",
       "      <td>3</td>\n",
       "      <td>286396422</td>\n",
       "      <td>150</td>\n",
       "      <td>7859900</td>\n",
       "      <td>-1</td>\n",
       "    </tr>\n",
       "    <tr>\n",
       "      <th>296694</th>\n",
       "      <td>57897.240394077</td>\n",
       "      <td>3</td>\n",
       "      <td>286396430</td>\n",
       "      <td>150</td>\n",
       "      <td>7862200</td>\n",
       "      <td>-1</td>\n",
       "    </tr>\n",
       "    <tr>\n",
       "      <th>296695</th>\n",
       "      <td>57897.243715615</td>\n",
       "      <td>1</td>\n",
       "      <td>286396450</td>\n",
       "      <td>74</td>\n",
       "      <td>7854500</td>\n",
       "      <td>-1</td>\n",
       "    </tr>\n",
       "    <tr>\n",
       "      <th>296696</th>\n",
       "      <td>57897.247800984</td>\n",
       "      <td>3</td>\n",
       "      <td>286396410</td>\n",
       "      <td>100</td>\n",
       "      <td>7855900</td>\n",
       "      <td>-1</td>\n",
       "    </tr>\n",
       "  </tbody>\n",
       "</table>\n",
       "<p>296697 rows × 6 columns</p>\n",
       "</div>"
      ],
      "text/plain": [
       "                   time  event_type   order_id  size       price  direction\n",
       "0       25200.435314554           1    3053322   100  1999999900         -1\n",
       "1       25746.848213676           1    3121458   100     7810000         -1\n",
       "2       26294.710414180           1    3179126    66     7862000         -1\n",
       "3       26294.710415715           1    3179130    66     7767300          1\n",
       "4       26294.711926583           1    3179134    66     7767200          1\n",
       "...                 ...         ...        ...   ...         ...        ...\n",
       "296692  57897.239892537           3  286396434   150     7857400         -1\n",
       "296693  57897.240135964           3  286396422   150     7859900         -1\n",
       "296694  57897.240394077           3  286396430   150     7862200         -1\n",
       "296695  57897.243715615           1  286396450    74     7854500         -1\n",
       "296696  57897.247800984           3  286396410   100     7855900         -1\n",
       "\n",
       "[296697 rows x 6 columns]"
      ]
     },
     "execution_count": 130,
     "metadata": {},
     "output_type": "execute_result"
    }
   ],
   "source": [
    "m_lob"
   ]
  },
  {
   "cell_type": "code",
   "execution_count": 134,
   "metadata": {},
   "outputs": [
    {
     "data": {
      "text/html": [
       "<div>\n",
       "<style scoped>\n",
       "    .dataframe tbody tr th:only-of-type {\n",
       "        vertical-align: middle;\n",
       "    }\n",
       "\n",
       "    .dataframe tbody tr th {\n",
       "        vertical-align: top;\n",
       "    }\n",
       "\n",
       "    .dataframe thead th {\n",
       "        text-align: right;\n",
       "    }\n",
       "</style>\n",
       "<table border=\"1\" class=\"dataframe\">\n",
       "  <thead>\n",
       "    <tr style=\"text-align: right;\">\n",
       "      <th></th>\n",
       "      <th>0</th>\n",
       "      <th>1</th>\n",
       "      <th>2</th>\n",
       "      <th>3</th>\n",
       "      <th>4</th>\n",
       "      <th>5</th>\n",
       "      <th>6</th>\n",
       "      <th>7</th>\n",
       "      <th>8</th>\n",
       "      <th>9</th>\n",
       "      <th>...</th>\n",
       "      <th>30</th>\n",
       "      <th>31</th>\n",
       "      <th>32</th>\n",
       "      <th>33</th>\n",
       "      <th>34</th>\n",
       "      <th>35</th>\n",
       "      <th>36</th>\n",
       "      <th>37</th>\n",
       "      <th>38</th>\n",
       "      <th>39</th>\n",
       "    </tr>\n",
       "  </thead>\n",
       "  <tbody>\n",
       "    <tr>\n",
       "      <th>0</th>\n",
       "      <td>7800000</td>\n",
       "      <td>20</td>\n",
       "      <td>7794500</td>\n",
       "      <td>5</td>\n",
       "      <td>1999999900</td>\n",
       "      <td>100</td>\n",
       "      <td>7710100</td>\n",
       "      <td>2</td>\n",
       "      <td>9999999999</td>\n",
       "      <td>0</td>\n",
       "      <td>...</td>\n",
       "      <td>-9999999999</td>\n",
       "      <td>0</td>\n",
       "      <td>9999999999</td>\n",
       "      <td>0</td>\n",
       "      <td>-9999999999</td>\n",
       "      <td>0</td>\n",
       "      <td>9999999999</td>\n",
       "      <td>0</td>\n",
       "      <td>-9999999999</td>\n",
       "      <td>0</td>\n",
       "    </tr>\n",
       "    <tr>\n",
       "      <th>1</th>\n",
       "      <td>7800000</td>\n",
       "      <td>20</td>\n",
       "      <td>7794500</td>\n",
       "      <td>5</td>\n",
       "      <td>7810000</td>\n",
       "      <td>100</td>\n",
       "      <td>7710100</td>\n",
       "      <td>2</td>\n",
       "      <td>1999999900</td>\n",
       "      <td>100</td>\n",
       "      <td>...</td>\n",
       "      <td>-9999999999</td>\n",
       "      <td>0</td>\n",
       "      <td>9999999999</td>\n",
       "      <td>0</td>\n",
       "      <td>-9999999999</td>\n",
       "      <td>0</td>\n",
       "      <td>9999999999</td>\n",
       "      <td>0</td>\n",
       "      <td>-9999999999</td>\n",
       "      <td>0</td>\n",
       "    </tr>\n",
       "    <tr>\n",
       "      <th>2</th>\n",
       "      <td>7800000</td>\n",
       "      <td>20</td>\n",
       "      <td>7794500</td>\n",
       "      <td>5</td>\n",
       "      <td>7810000</td>\n",
       "      <td>100</td>\n",
       "      <td>7710100</td>\n",
       "      <td>2</td>\n",
       "      <td>7862000</td>\n",
       "      <td>66</td>\n",
       "      <td>...</td>\n",
       "      <td>-9999999999</td>\n",
       "      <td>0</td>\n",
       "      <td>9999999999</td>\n",
       "      <td>0</td>\n",
       "      <td>-9999999999</td>\n",
       "      <td>0</td>\n",
       "      <td>9999999999</td>\n",
       "      <td>0</td>\n",
       "      <td>-9999999999</td>\n",
       "      <td>0</td>\n",
       "    </tr>\n",
       "    <tr>\n",
       "      <th>3</th>\n",
       "      <td>7800000</td>\n",
       "      <td>20</td>\n",
       "      <td>7794500</td>\n",
       "      <td>5</td>\n",
       "      <td>7810000</td>\n",
       "      <td>100</td>\n",
       "      <td>7767300</td>\n",
       "      <td>66</td>\n",
       "      <td>7862000</td>\n",
       "      <td>66</td>\n",
       "      <td>...</td>\n",
       "      <td>-9999999999</td>\n",
       "      <td>0</td>\n",
       "      <td>9999999999</td>\n",
       "      <td>0</td>\n",
       "      <td>-9999999999</td>\n",
       "      <td>0</td>\n",
       "      <td>9999999999</td>\n",
       "      <td>0</td>\n",
       "      <td>-9999999999</td>\n",
       "      <td>0</td>\n",
       "    </tr>\n",
       "    <tr>\n",
       "      <th>4</th>\n",
       "      <td>7800000</td>\n",
       "      <td>20</td>\n",
       "      <td>7794500</td>\n",
       "      <td>5</td>\n",
       "      <td>7810000</td>\n",
       "      <td>100</td>\n",
       "      <td>7767300</td>\n",
       "      <td>66</td>\n",
       "      <td>7862000</td>\n",
       "      <td>66</td>\n",
       "      <td>...</td>\n",
       "      <td>-9999999999</td>\n",
       "      <td>0</td>\n",
       "      <td>9999999999</td>\n",
       "      <td>0</td>\n",
       "      <td>-9999999999</td>\n",
       "      <td>0</td>\n",
       "      <td>9999999999</td>\n",
       "      <td>0</td>\n",
       "      <td>-9999999999</td>\n",
       "      <td>0</td>\n",
       "    </tr>\n",
       "    <tr>\n",
       "      <th>...</th>\n",
       "      <td>...</td>\n",
       "      <td>...</td>\n",
       "      <td>...</td>\n",
       "      <td>...</td>\n",
       "      <td>...</td>\n",
       "      <td>...</td>\n",
       "      <td>...</td>\n",
       "      <td>...</td>\n",
       "      <td>...</td>\n",
       "      <td>...</td>\n",
       "      <td>...</td>\n",
       "      <td>...</td>\n",
       "      <td>...</td>\n",
       "      <td>...</td>\n",
       "      <td>...</td>\n",
       "      <td>...</td>\n",
       "      <td>...</td>\n",
       "      <td>...</td>\n",
       "      <td>...</td>\n",
       "      <td>...</td>\n",
       "      <td>...</td>\n",
       "    </tr>\n",
       "    <tr>\n",
       "      <th>296692</th>\n",
       "      <td>7854500</td>\n",
       "      <td>54</td>\n",
       "      <td>7837900</td>\n",
       "      <td>100</td>\n",
       "      <td>7854600</td>\n",
       "      <td>1</td>\n",
       "      <td>7730000</td>\n",
       "      <td>10</td>\n",
       "      <td>7855900</td>\n",
       "      <td>100</td>\n",
       "      <td>...</td>\n",
       "      <td>7620000</td>\n",
       "      <td>10</td>\n",
       "      <td>7910000</td>\n",
       "      <td>10</td>\n",
       "      <td>7600000</td>\n",
       "      <td>68</td>\n",
       "      <td>7915000</td>\n",
       "      <td>50</td>\n",
       "      <td>7597900</td>\n",
       "      <td>200</td>\n",
       "    </tr>\n",
       "    <tr>\n",
       "      <th>296693</th>\n",
       "      <td>7854500</td>\n",
       "      <td>54</td>\n",
       "      <td>7837900</td>\n",
       "      <td>100</td>\n",
       "      <td>7854600</td>\n",
       "      <td>1</td>\n",
       "      <td>7730000</td>\n",
       "      <td>10</td>\n",
       "      <td>7855900</td>\n",
       "      <td>100</td>\n",
       "      <td>...</td>\n",
       "      <td>7620000</td>\n",
       "      <td>10</td>\n",
       "      <td>7915000</td>\n",
       "      <td>50</td>\n",
       "      <td>7600000</td>\n",
       "      <td>68</td>\n",
       "      <td>7940000</td>\n",
       "      <td>2</td>\n",
       "      <td>7597900</td>\n",
       "      <td>200</td>\n",
       "    </tr>\n",
       "    <tr>\n",
       "      <th>296694</th>\n",
       "      <td>7854500</td>\n",
       "      <td>54</td>\n",
       "      <td>7837900</td>\n",
       "      <td>100</td>\n",
       "      <td>7854600</td>\n",
       "      <td>1</td>\n",
       "      <td>7730000</td>\n",
       "      <td>10</td>\n",
       "      <td>7855900</td>\n",
       "      <td>100</td>\n",
       "      <td>...</td>\n",
       "      <td>7620000</td>\n",
       "      <td>10</td>\n",
       "      <td>7940000</td>\n",
       "      <td>2</td>\n",
       "      <td>7600000</td>\n",
       "      <td>68</td>\n",
       "      <td>7942300</td>\n",
       "      <td>10</td>\n",
       "      <td>7597900</td>\n",
       "      <td>200</td>\n",
       "    </tr>\n",
       "    <tr>\n",
       "      <th>296695</th>\n",
       "      <td>7854500</td>\n",
       "      <td>128</td>\n",
       "      <td>7837900</td>\n",
       "      <td>100</td>\n",
       "      <td>7854600</td>\n",
       "      <td>1</td>\n",
       "      <td>7730000</td>\n",
       "      <td>10</td>\n",
       "      <td>7855900</td>\n",
       "      <td>100</td>\n",
       "      <td>...</td>\n",
       "      <td>7620000</td>\n",
       "      <td>10</td>\n",
       "      <td>7940000</td>\n",
       "      <td>2</td>\n",
       "      <td>7600000</td>\n",
       "      <td>68</td>\n",
       "      <td>7942300</td>\n",
       "      <td>10</td>\n",
       "      <td>7597900</td>\n",
       "      <td>200</td>\n",
       "    </tr>\n",
       "    <tr>\n",
       "      <th>296696</th>\n",
       "      <td>7854500</td>\n",
       "      <td>128</td>\n",
       "      <td>7837900</td>\n",
       "      <td>100</td>\n",
       "      <td>7854600</td>\n",
       "      <td>1</td>\n",
       "      <td>7730000</td>\n",
       "      <td>10</td>\n",
       "      <td>7872000</td>\n",
       "      <td>500</td>\n",
       "      <td>...</td>\n",
       "      <td>7620000</td>\n",
       "      <td>10</td>\n",
       "      <td>7942300</td>\n",
       "      <td>10</td>\n",
       "      <td>7600000</td>\n",
       "      <td>68</td>\n",
       "      <td>7950000</td>\n",
       "      <td>75</td>\n",
       "      <td>7597900</td>\n",
       "      <td>200</td>\n",
       "    </tr>\n",
       "  </tbody>\n",
       "</table>\n",
       "<p>296697 rows × 40 columns</p>\n",
       "</div>"
      ],
      "text/plain": [
       "             0    1        2    3           4    5        6   7           8   \\\n",
       "0       7800000   20  7794500    5  1999999900  100  7710100   2  9999999999   \n",
       "1       7800000   20  7794500    5     7810000  100  7710100   2  1999999900   \n",
       "2       7800000   20  7794500    5     7810000  100  7710100   2     7862000   \n",
       "3       7800000   20  7794500    5     7810000  100  7767300  66     7862000   \n",
       "4       7800000   20  7794500    5     7810000  100  7767300  66     7862000   \n",
       "...         ...  ...      ...  ...         ...  ...      ...  ..         ...   \n",
       "296692  7854500   54  7837900  100     7854600    1  7730000  10     7855900   \n",
       "296693  7854500   54  7837900  100     7854600    1  7730000  10     7855900   \n",
       "296694  7854500   54  7837900  100     7854600    1  7730000  10     7855900   \n",
       "296695  7854500  128  7837900  100     7854600    1  7730000  10     7855900   \n",
       "296696  7854500  128  7837900  100     7854600    1  7730000  10     7872000   \n",
       "\n",
       "         9   ...          30  31          32  33          34  35          36  \\\n",
       "0         0  ... -9999999999   0  9999999999   0 -9999999999   0  9999999999   \n",
       "1       100  ... -9999999999   0  9999999999   0 -9999999999   0  9999999999   \n",
       "2        66  ... -9999999999   0  9999999999   0 -9999999999   0  9999999999   \n",
       "3        66  ... -9999999999   0  9999999999   0 -9999999999   0  9999999999   \n",
       "4        66  ... -9999999999   0  9999999999   0 -9999999999   0  9999999999   \n",
       "...     ...  ...         ...  ..         ...  ..         ...  ..         ...   \n",
       "296692  100  ...     7620000  10     7910000  10     7600000  68     7915000   \n",
       "296693  100  ...     7620000  10     7915000  50     7600000  68     7940000   \n",
       "296694  100  ...     7620000  10     7940000   2     7600000  68     7942300   \n",
       "296695  100  ...     7620000  10     7940000   2     7600000  68     7942300   \n",
       "296696  500  ...     7620000  10     7942300  10     7600000  68     7950000   \n",
       "\n",
       "        37          38   39  \n",
       "0        0 -9999999999    0  \n",
       "1        0 -9999999999    0  \n",
       "2        0 -9999999999    0  \n",
       "3        0 -9999999999    0  \n",
       "4        0 -9999999999    0  \n",
       "...     ..         ...  ...  \n",
       "296692  50     7597900  200  \n",
       "296693   2     7597900  200  \n",
       "296694  10     7597900  200  \n",
       "296695  10     7597900  200  \n",
       "296696  75     7597900  200  \n",
       "\n",
       "[296697 rows x 40 columns]"
      ]
     },
     "execution_count": 134,
     "metadata": {},
     "output_type": "execute_result"
    }
   ],
   "source": [
    "b_lob_dropped.reset_index().drop(columns='index')"
   ]
  },
  {
   "cell_type": "code",
   "execution_count": 178,
   "metadata": {},
   "outputs": [
    {
     "name": "stdout",
     "output_type": "stream",
     "text": [
      "[16800 16800 16800 ...  7800 14200 14400]\n",
      "[8121200 8121200 8121200 ... 8103500 8103500 8103500] [8104400 8104400 8104400 ... 8095700 8089300 8089100]\n"
     ]
    },
    {
     "data": {
      "text/plain": [
       "[<matplotlib.lines.Line2D at 0x7fa1359d5060>]"
      ]
     },
     "execution_count": 178,
     "metadata": {},
     "output_type": "execute_result"
    },
    {
     "data": {
      "image/png": "[encoded data removed]",
      "text/plain": [
       "<Figure size 640x480 with 1 Axes>"
      ]
     },
     "metadata": {},
     "output_type": "display_data"
    },
    {
     "data": {
      "image/png": "[encoded data removed]",
      "text/plain": [
       "<Figure size 640x480 with 1 Axes>"
      ]
     },
     "metadata": {},
     "output_type": "display_data"
    }
   ],
   "source": [
    "spreads,n_msg=[],[]\n",
    "\n",
    "for bookfile,msgfile in zip(book_files,msg_files):\n",
    "    b=np.load(bookfile)\n",
    "    m=np.load(msgfile)\n",
    "    b=b[m[:,8]>=34200]\n",
    "    spread=(b[:,1]-b[:,3]).mean()\n",
    "    spreads.append(spread)\n",
    "    if spread > 1e6:\n",
    "        print(b[:,1]-b[:,3])\n",
    "        print(b[:,1],b[:,3])\n",
    "        break\n",
    "    n_msg.append(b.shape[0])\n",
    "\n",
    "plt.plot(spreads)\n",
    "plt.figure()\n",
    "plt.plot(n_msg)"
   ]
  },
  {
   "cell_type": "code",
   "execution_count": 190,
   "metadata": {},
   "outputs": [
    {
     "data": {
      "text/plain": [
       "[<matplotlib.lines.Line2D at 0x7fa10993a6b0>]"
      ]
     },
     "execution_count": 190,
     "metadata": {},
     "output_type": "execute_result"
    },
    {
     "data": {
      "image/png": "[encoded data removed]",
      "text/plain": [
       "<Figure size 640x480 with 1 Axes>"
      ]
     },
     "metadata": {},
     "output_type": "display_data"
    }
   ],
   "source": [
    "plt.plot((x[:,1]-x[:,3])[12960:12975])"
   ]
  },
  {
   "cell_type": "code",
   "execution_count": 191,
   "metadata": {},
   "outputs": [
    {
     "data": {
      "text/plain": [
       "array([     12200,      12200,      12300,      12400,      12500,\n",
       "       1991894000, 1991894000, 1991894000, 1991894000, 1991894000,\n",
       "       1991894000,      36100,      36100,      36100,      36100])"
      ]
     },
     "execution_count": 191,
     "metadata": {},
     "output_type": "execute_result"
    }
   ],
   "source": [
    "(x[:,1]-x[:,3])[12960:12975]"
   ]
  },
  {
   "cell_type": "code",
   "execution_count": 175,
   "metadata": {},
   "outputs": [],
   "source": [
    "m=np.load('/data1/sascha/data/GOOG2017to2019/GOOG_2017-02-09_24900000_57900000_message_10_proc.npy')"
   ]
  },
  {
   "cell_type": "code",
   "execution_count": 197,
   "metadata": {},
   "outputs": [
    {
     "data": {
      "text/plain": [
       "array([  7712406,         3,         1,   8068400,      -305,       500,\n",
       "               0, 903009943,     34200,  11839925,      -304,       500,\n",
       "           34199,  11474895])"
      ]
     },
     "execution_count": 197,
     "metadata": {},
     "output_type": "execute_result"
    }
   ],
   "source": [
    "m[m[:,8]>=34200][0]"
   ]
  },
  {
   "cell_type": "code",
   "execution_count": 193,
   "metadata": {},
   "outputs": [
    {
     "data": {
      "text/plain": [
       "array([[          0,     8118100,          60,     8105900,          60,\n",
       "            8118200,          60,     8104400,           7,     8118300,\n",
       "                 60,     8100500,         100,     8118400,          60,\n",
       "            8100000,           3,  1999999900,         100,     8095100,\n",
       "                 60,  9999999999,           0,     8094900,          60,\n",
       "         9999999999,           0,     8094800,          60,  9999999999,\n",
       "                  0,     8094700,          42,  9999999999,           0,\n",
       "            8070400,           6,  9999999999,           0,     8050000,\n",
       "                  1],\n",
       "       [          0,     8118100,          60,     8105900,          60,\n",
       "            8118200,          60,     8104400,           7,     8118300,\n",
       "                 60,     8100500,         100,     8118400,          60,\n",
       "            8100000,           3,  1999999900,         100,     8095100,\n",
       "                 60,  9999999999,           0,     8094800,          60,\n",
       "         9999999999,           0,     8094700,          42,  9999999999,\n",
       "                  0,     8070400,           6,  9999999999,           0,\n",
       "            8050000,           1,  9999999999,           0,         100,\n",
       "                100],\n",
       "       [          0,     8118200,          60,     8105900,          60,\n",
       "            8118300,          60,     8104400,           7,     8118400,\n",
       "                 60,     8100500,         100,  1999999900,         100,\n",
       "            8100000,           3,  9999999999,           0,     8095100,\n",
       "                 60,  9999999999,           0,     8094800,          60,\n",
       "         9999999999,           0,     8094700,          42,  9999999999,\n",
       "                  0,     8070400,           6,  9999999999,           0,\n",
       "            8050000,           1,  9999999999,           0,         100,\n",
       "                100],\n",
       "       [          1,     8118300,          60,     8105900,          60,\n",
       "            8118400,          60,     8104400,           7,  1999999900,\n",
       "                100,     8100500,         100,  9999999999,           0,\n",
       "            8100000,           3,  9999999999,           0,     8095100,\n",
       "                 60,  9999999999,           0,     8094800,          60,\n",
       "         9999999999,           0,     8094700,          42,  9999999999,\n",
       "                  0,     8070400,           6,  9999999999,           0,\n",
       "            8050000,           1,  9999999999,           0,         100,\n",
       "                100],\n",
       "       [          1,     8118400,          60,     8105900,          60,\n",
       "         1999999900,         100,     8104400,           7,  9999999999,\n",
       "                  0,     8100500,         100,  9999999999,           0,\n",
       "            8100000,           3,  9999999999,           0,     8095100,\n",
       "                 60,  9999999999,           0,     8094800,          60,\n",
       "         9999999999,           0,     8094700,          42,  9999999999,\n",
       "                  0,     8070400,           6,  9999999999,           0,\n",
       "            8050000,           1,  9999999999,           0,         100,\n",
       "                100],\n",
       "       [    9959407,  1999999900,         100,     8105900,          60,\n",
       "         9999999999,           0,     8104400,           7,  9999999999,\n",
       "                  0,     8100500,         100,  9999999999,           0,\n",
       "            8100000,           3,  9999999999,           0,     8095100,\n",
       "                 60,  9999999999,           0,     8094800,          60,\n",
       "         9999999999,           0,     8094700,          42,  9999999999,\n",
       "                  0,     8070400,           6,  9999999999,           0,\n",
       "            8050000,           1,  9999999999,           0,         100,\n",
       "                100],\n",
       "       [          0,  1999999900,         100,     8105900,          60,\n",
       "         9999999999,           0,     8104400,           7,  9999999999,\n",
       "                  0,     8100500,         100,  9999999999,           0,\n",
       "            8100000,           3,  9999999999,           0,     8095100,\n",
       "                 60,  9999999999,           0,     8094800,          60,\n",
       "         9999999999,           0,     8094700,          42,  9999999999,\n",
       "                  0,     8050000,           1,  9999999999,           0,\n",
       "                100,         100,  9999999999,           0, -9999999999,\n",
       "                  0],\n",
       "       [          0,  1999999900,         100,     8105900,          60,\n",
       "         9999999999,           0,     8104400,           7,  9999999999,\n",
       "                  0,     8100500,         100,  9999999999,           0,\n",
       "            8100000,           3,  9999999999,           0,     8095100,\n",
       "                 60,  9999999999,           0,     8094700,          42,\n",
       "         9999999999,           0,     8050000,           1,  9999999999,\n",
       "                  0,         100,         100,  9999999999,           0,\n",
       "        -9999999999,           0,  9999999999,           0, -9999999999,\n",
       "                  0],\n",
       "       [          0,  1999999900,         100,     8105900,          60,\n",
       "         9999999999,           0,     8104400,           7,  9999999999,\n",
       "                  0,     8100500,         100,  9999999999,           0,\n",
       "            8100000,           3,  9999999999,           0,     8094700,\n",
       "                 42,  9999999999,           0,     8050000,           1,\n",
       "         9999999999,           0,         100,         100,  9999999999,\n",
       "                  0, -9999999999,           0,  9999999999,           0,\n",
       "        -9999999999,           0,  9999999999,           0, -9999999999,\n",
       "                  0],\n",
       "       [          0,  1999999900,         100,     8105900,          60,\n",
       "         9999999999,           0,     8104400,           7,  9999999999,\n",
       "                  0,     8100500,         100,  9999999999,           0,\n",
       "            8100000,           3,  9999999999,           0,     8050000,\n",
       "                  1,  9999999999,           0,         100,         100,\n",
       "         9999999999,           0, -9999999999,           0,  9999999999,\n",
       "                  0, -9999999999,           0,  9999999999,           0,\n",
       "        -9999999999,           0,  9999999999,           0, -9999999999,\n",
       "                  0],\n",
       "       [          0,  1999999900,         100,     8105900,          60,\n",
       "         9999999999,           0,     8104400,           7,  9999999999,\n",
       "                  0,     8100500,         100,  9999999999,           0,\n",
       "            8100000,           3,  9999999999,           0,     8062200,\n",
       "                 12,  9999999999,           0,     8050000,           1,\n",
       "         9999999999,           0,         100,         100,  9999999999,\n",
       "                  0, -9999999999,           0,  9999999999,           0,\n",
       "        -9999999999,           0,  9999999999,           0, -9999999999,\n",
       "                  0],\n",
       "       [   -9959289,     8142000,           6,     8105900,          60,\n",
       "         1999999900,         100,     8104400,           7,  9999999999,\n",
       "                  0,     8100500,         100,  9999999999,           0,\n",
       "            8100000,           3,  9999999999,           0,     8062200,\n",
       "                 12,  9999999999,           0,     8050000,           1,\n",
       "         9999999999,           0,         100,         100,  9999999999,\n",
       "                  0, -9999999999,           0,  9999999999,           0,\n",
       "        -9999999999,           0,  9999999999,           0, -9999999999,\n",
       "                  0],\n",
       "       [          0,     8142000,           6,     8105900,          60,\n",
       "            8146900,          24,     8104400,           7,  1999999900,\n",
       "                100,     8100500,         100,  9999999999,           0,\n",
       "            8100000,           3,  9999999999,           0,     8062200,\n",
       "                 12,  9999999999,           0,     8050000,           1,\n",
       "         9999999999,           0,         100,         100,  9999999999,\n",
       "                  0, -9999999999,           0,  9999999999,           0,\n",
       "        -9999999999,           0,  9999999999,           0, -9999999999,\n",
       "                  0],\n",
       "       [          0,     8142000,           6,     8105900,          60,\n",
       "            8146900,          24,     8104400,           7,  1999999900,\n",
       "                100,     8100500,         100,  9999999999,           0,\n",
       "            8100000,           3,  9999999999,           0,     8062200,\n",
       "                 12,  9999999999,           0,     8050200,           6,\n",
       "         9999999999,           0,     8050000,           1,  9999999999,\n",
       "                  0,         100,         100,  9999999999,           0,\n",
       "        -9999999999,           0,  9999999999,           0, -9999999999,\n",
       "                  0],\n",
       "       [          0,     8142000,           6,     8105900,          60,\n",
       "            8146900,          24,     8104400,           7,  1999999900,\n",
       "                100,     8100500,         100,  9999999999,           0,\n",
       "            8100000,           3,  9999999999,           0,     8062200,\n",
       "                 12,  9999999999,           0,     8050200,           6,\n",
       "         9999999999,           0,     8050000,           1,  9999999999,\n",
       "                  0,     8047800,          60,  9999999999,           0,\n",
       "                100,         100,  9999999999,           0, -9999999999,\n",
       "                  0]])"
      ]
     },
     "execution_count": 193,
     "metadata": {},
     "output_type": "execute_result"
    }
   ],
   "source": [
    "x[12960:12975]"
   ]
  },
  {
   "cell_type": "code",
   "execution_count": 15,
   "metadata": {},
   "outputs": [
    {
     "data": {
      "text/plain": [
       "(522682, 14)"
      ]
     },
     "execution_count": 15,
     "metadata": {},
     "output_type": "execute_result"
    }
   ],
   "source": [
    "x=np.load(msg_files[0])\n",
    "print(x[-30])\n",
    "x_targ=x[:,1]-x[:,3]\n",
    "print(x.shape)\n",
    "print(pd.DataFrame(x_targ).describe())\n",
    "plt.hist(x_targ,100,[-999,999])\n"
   ]
  },
  {
   "cell_type": "code",
   "execution_count": 22,
   "metadata": {},
   "outputs": [
    {
     "data": {
      "text/plain": [
       "array([    -9999,      -257,      -250, ..., 999994678, 999995771,\n",
       "       999996345])"
      ]
     },
     "execution_count": 22,
     "metadata": {},
     "output_type": "execute_result"
    }
   ],
   "source": [
    "x[x[:,4]<500].shape"
   ]
  },
  {
   "cell_type": "code",
   "execution_count": null,
   "metadata": {},
   "outputs": [],
   "source": [
    "np.unique(x[:,-4:])"
   ]
  },
  {
   "cell_type": "code",
   "execution_count": null,
   "metadata": {},
   "outputs": [],
   "source": [
    "df=pd.read_csv(\"/homes/80/kang/LOBS5/goog_unzip_2019/GOOG_2019-11-21_34200000_57600000_message_10.csv\",header=None)"
   ]
  },
  {
   "cell_type": "code",
   "execution_count": null,
   "metadata": {},
   "outputs": [],
   "source": [
    "abs(df[4].diff(1)).describe()"
   ]
  }
 ],
 "metadata": {
  "kernelspec": {
   "display_name": "Python 3",
   "language": "python",
   "name": "python3"
  },
  "language_info": {
   "codemirror_mode": {
    "name": "ipython",
    "version": 3
   },
   "file_extension": ".py",
   "mimetype": "text/x-python",
   "name": "python",
   "nbconvert_exporter": "python",
   "pygments_lexer": "ipython3",
   "version": "3.10.13"
  }
 },
 "nbformat": 4,
 "nbformat_minor": 2
}
