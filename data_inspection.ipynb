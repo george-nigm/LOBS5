{
 "cells": [
  {
   "cell_type": "code",
   "execution_count": 2,
   "metadata": {},
   "outputs": [
    {
     "ename": "ModuleNotFoundError",
     "evalue": "No module named 'gymnax_exchange'",
     "output_type": "error",
     "traceback": [
      "\u001b[0;31m---------------------------------------------------------------------------\u001b[0m",
      "\u001b[0;31mModuleNotFoundError\u001b[0m                       Traceback (most recent call last)",
      "Cell \u001b[0;32mIn[2], line 10\u001b[0m\n\u001b[1;32m      8\u001b[0m \u001b[38;5;66;03m# import lob_bench.eval as eval\u001b[39;00m\n\u001b[1;32m      9\u001b[0m \u001b[38;5;28;01mimport\u001b[39;00m \u001b[38;5;21;01mlob\u001b[39;00m\u001b[38;5;21;01m.\u001b[39;00m\u001b[38;5;21;01mvalidation_helpers\u001b[39;00m \u001b[38;5;28;01mas\u001b[39;00m \u001b[38;5;21;01mvalh\u001b[39;00m\n\u001b[0;32m---> 10\u001b[0m \u001b[38;5;28;01mimport\u001b[39;00m \u001b[38;5;21;01mlob\u001b[39;00m\u001b[38;5;21;01m.\u001b[39;00m\u001b[38;5;21;01minference_no_errcorr\u001b[39;00m \u001b[38;5;28;01mas\u001b[39;00m \u001b[38;5;21;01minference\u001b[39;00m\n",
      "File \u001b[0;32m/homes/80/kang/LOBS5/lob/inference_no_errcorr.py:41\u001b[0m\n\u001b[1;32m     38\u001b[0m (parent_folder_path, current_dir) \u001b[38;5;241m=\u001b[39m os\u001b[38;5;241m.\u001b[39mpath\u001b[38;5;241m.\u001b[39msplit(\n\u001b[1;32m     39\u001b[0m     os\u001b[38;5;241m.\u001b[39mpath\u001b[38;5;241m.\u001b[39msplit(os\u001b[38;5;241m.\u001b[39mpath\u001b[38;5;241m.\u001b[39mabspath(\u001b[38;5;18m__file__\u001b[39m))[\u001b[38;5;241m0\u001b[39m])\n\u001b[1;32m     40\u001b[0m sys\u001b[38;5;241m.\u001b[39mpath\u001b[38;5;241m.\u001b[39mappend(os\u001b[38;5;241m.\u001b[39mpath\u001b[38;5;241m.\u001b[39mjoin(parent_folder_path, submodule_name))\n\u001b[0;32m---> 41\u001b[0m \u001b[38;5;28;01mfrom\u001b[39;00m \u001b[38;5;21;01mgymnax_exchange\u001b[39;00m\u001b[38;5;21;01m.\u001b[39;00m\u001b[38;5;21;01mjaxob\u001b[39;00m\u001b[38;5;21;01m.\u001b[39;00m\u001b[38;5;21;01mjorderbook\u001b[39;00m \u001b[38;5;28;01mimport\u001b[39;00m OrderBook, LobState\n\u001b[1;32m     42\u001b[0m \u001b[38;5;28;01mimport\u001b[39;00m \u001b[38;5;21;01mgymnax_exchange\u001b[39;00m\u001b[38;5;21;01m.\u001b[39;00m\u001b[38;5;21;01mjaxob\u001b[39;00m\u001b[38;5;21;01m.\u001b[39;00m\u001b[38;5;21;01mJaxOrderBookArrays\u001b[39;00m \u001b[38;5;28;01mas\u001b[39;00m \u001b[38;5;21;01mjob\u001b[39;00m\n\u001b[1;32m     43\u001b[0m \u001b[38;5;66;03m# from gym_exchange.environment.base_env.assets.action import OrderIdGenerator\u001b[39;00m\n",
      "\u001b[0;31mModuleNotFoundError\u001b[0m: No module named 'gymnax_exchange'"
     ]
    }
   ],
   "source": [
    "import numpy as np\n",
    "from glob import glob\n",
    "import pandas as pd\n",
    "import matplotlib.pyplot as plt\n",
    "import sys\n",
    "import os\n",
    "sys.path.append(\"/data1/sascha/\")\n",
    "# import lob_bench.eval as eval\n",
    "import lob.validation_helpers as valh\n",
    "import lob.inference_no_errcorr as inference"
   ]
  },
  {
   "cell_type": "code",
   "execution_count": 3,
   "metadata": {},
   "outputs": [
    {
     "data": {
      "text/plain": [
       "['/usr/lib/python310.zip',\n",
       " '/usr/lib/python3.10',\n",
       " '/usr/lib/python3.10/lib-dynload',\n",
       " '',\n",
       " '/home/duser/.local/lib/python3.10/site-packages',\n",
       " '/usr/local/lib/python3.10/dist-packages',\n",
       " '/usr/lib/python3/dist-packages',\n",
       " '/data1/sascha/',\n",
       " '/data1/sascha/',\n",
       " '/homes/80/kang/LOBS5/AlphaTrade']"
      ]
     },
     "execution_count": 3,
     "metadata": {},
     "output_type": "execute_result"
    }
   ],
   "source": [
    "sys.path"
   ]
  },
  {
   "cell_type": "markdown",
   "metadata": {},
   "source": [
    "# Processed input data"
   ]
  },
  {
   "cell_type": "code",
   "execution_count": 5,
   "metadata": {},
   "outputs": [
    {
     "name": "stdout",
     "output_type": "stream",
     "text": [
      "743\n"
     ]
    },
    {
     "data": {
      "text/plain": [
       "74"
      ]
     },
     "execution_count": 5,
     "metadata": {},
     "output_type": "execute_result"
    }
   ],
   "source": [
    "msg_files = sorted(glob(\"/homes/80/kang/LOBS5/GOOG2017to2019/\" + '*message*.npy'))\n",
    "book_files = sorted(glob(\"/homes/80/kang/LOBS5/GOOG2017to2019/\" + '*orderbook*.npy'))\n",
    "print(len(msg_files))\n",
    "max(1, int(len(msg_files) * 0.1))"
   ]
  },
  {
   "cell_type": "code",
   "execution_count": 6,
   "metadata": {},
   "outputs": [
    {
     "ename": "NameError",
     "evalue": "name 'inference' is not defined",
     "output_type": "error",
     "traceback": [
      "\u001b[0;31m---------------------------------------------------------------------------\u001b[0m",
      "\u001b[0;31mNameError\u001b[0m                                 Traceback (most recent call last)",
      "Cell \u001b[0;32mIn[6], line 2\u001b[0m\n\u001b[1;32m      1\u001b[0m day\u001b[38;5;241m=\u001b[39m\u001b[38;5;241m0\u001b[39m\n\u001b[0;32m----> 2\u001b[0m m_lob\u001b[38;5;241m=\u001b[39m\u001b[43minference\u001b[49m\u001b[38;5;241m.\u001b[39mmsg_to_lobster_format(np\u001b[38;5;241m.\u001b[39mload(msg_files[day]))\n\u001b[1;32m      3\u001b[0m b_lob\u001b[38;5;241m=\u001b[39minference\u001b[38;5;241m.\u001b[39mbook_to_lobster_format(np\u001b[38;5;241m.\u001b[39mload(book_files[day]))\u001b[38;5;241m.\u001b[39mdrop(columns\u001b[38;5;241m=\u001b[39m\u001b[38;5;241m0\u001b[39m)\u001b[38;5;241m.\u001b[39mrename(columns\u001b[38;5;241m=\u001b[39m\u001b[38;5;28;01mlambda\u001b[39;00m x:x\u001b[38;5;241m-\u001b[39m\u001b[38;5;241m1\u001b[39m)\n\u001b[1;32m      4\u001b[0m b_lob_dropped\u001b[38;5;241m=\u001b[39mb_lob[\u001b[38;5;241m1\u001b[39m:]\u001b[38;5;241m.\u001b[39mreset_index()\u001b[38;5;241m.\u001b[39mdrop(columns\u001b[38;5;241m=\u001b[39m\u001b[38;5;124m'\u001b[39m\u001b[38;5;124mindex\u001b[39m\u001b[38;5;124m'\u001b[39m)\n",
      "\u001b[0;31mNameError\u001b[0m: name 'inference' is not defined"
     ]
    }
   ],
   "source": [
    "day=0\n",
    "m_lob=inference.msg_to_lobster_format(np.load(msg_files[day]))\n",
    "b_lob=inference.book_to_lobster_format(np.load(book_files[day])).drop(columns=0).rename(columns=lambda x:x-1)\n",
    "b_lob_dropped=b_lob[1:].reset_index().drop(columns='index')\n",
    "ask_depths, bid_depths=eval.limit_order_levels(m_lob,b_lob_dropped)"
   ]
  },
  {
   "cell_type": "code",
   "execution_count": 7,
   "metadata": {},
   "outputs": [
    {
     "ename": "NameError",
     "evalue": "name 'bid_depths' is not defined",
     "output_type": "error",
     "traceback": [
      "\u001b[0;31m---------------------------------------------------------------------------\u001b[0m",
      "\u001b[0;31mNameError\u001b[0m                                 Traceback (most recent call last)",
      "Cell \u001b[0;32mIn[7], line 1\u001b[0m\n\u001b[0;32m----> 1\u001b[0m plt\u001b[38;5;241m.\u001b[39mhist(\u001b[43mbid_depths\u001b[49m)\n",
      "\u001b[0;31mNameError\u001b[0m: name 'bid_depths' is not defined"
     ]
    }
   ],
   "source": [
    "plt.hist(bid_depths)"
   ]
  },
  {
   "cell_type": "code",
   "execution_count": 8,
   "metadata": {},
   "outputs": [
    {
     "ename": "NameError",
     "evalue": "name 'm_lob' is not defined",
     "output_type": "error",
     "traceback": [
      "\u001b[0;31m---------------------------------------------------------------------------\u001b[0m",
      "\u001b[0;31mNameError\u001b[0m                                 Traceback (most recent call last)",
      "Cell \u001b[0;32mIn[8], line 1\u001b[0m\n\u001b[0;32m----> 1\u001b[0m \u001b[43mm_lob\u001b[49m\n",
      "\u001b[0;31mNameError\u001b[0m: name 'm_lob' is not defined"
     ]
    }
   ],
   "source": [
    "m_lob"
   ]
  },
  {
   "cell_type": "code",
   "execution_count": 9,
   "metadata": {},
   "outputs": [
    {
     "ename": "NameError",
     "evalue": "name 'b_lob_dropped' is not defined",
     "output_type": "error",
     "traceback": [
      "\u001b[0;31m---------------------------------------------------------------------------\u001b[0m",
      "\u001b[0;31mNameError\u001b[0m                                 Traceback (most recent call last)",
      "Cell \u001b[0;32mIn[9], line 1\u001b[0m\n\u001b[0;32m----> 1\u001b[0m \u001b[43mb_lob_dropped\u001b[49m\u001b[38;5;241m.\u001b[39mreset_index()\u001b[38;5;241m.\u001b[39mdrop(columns\u001b[38;5;241m=\u001b[39m\u001b[38;5;124m'\u001b[39m\u001b[38;5;124mindex\u001b[39m\u001b[38;5;124m'\u001b[39m)\n",
      "\u001b[0;31mNameError\u001b[0m: name 'b_lob_dropped' is not defined"
     ]
    }
   ],
   "source": [
    "b_lob_dropped.reset_index().drop(columns='index')"
   ]
  },
  {
   "cell_type": "code",
   "execution_count": null,
   "metadata": {},
   "outputs": [],
   "source": []
  },
  {
   "cell_type": "code",
   "execution_count": 12,
   "metadata": {},
   "outputs": [
    {
     "data": {
      "text/plain": [
       "[<matplotlib.lines.Line2D at 0x7f3f70712a40>]"
      ]
     },
     "execution_count": 12,
     "metadata": {},
     "output_type": "execute_result"
    },
    {
     "data": {
      "image/png": "[encoded data removed]",
      "text/plain": [
       "<Figure size 640x480 with 1 Axes>"
      ]
     },
     "metadata": {},
     "output_type": "display_data"
    },
    {
     "data": {
      "image/png": "[encoded data removed]",
      "text/plain": [
       "<Figure size 640x480 with 1 Axes>"
      ]
     },
     "metadata": {},
     "output_type": "display_data"
    }
   ],
   "source": [
    "spreads,n_msg,mid=[],[],[]\n",
    "\n",
    "for bookfile,msgfile in zip(book_files,msg_files):\n",
    "    b=np.load(bookfile)\n",
    "    m=np.load(msgfile)\n",
    "    b=b[1:]\n",
    "    spread=(b[:,1]-b[:,3]).mean()\n",
    "    spreads.append(spread)\n",
    "\n",
    "    pricerange=m[:,3].max()-m[:,3].min()\n",
    "    if spread > 1e6:\n",
    "        print(b[:,1]-b[:,3])\n",
    "        print(b[:,1],b[:,3])\n",
    "        break\n",
    "    n_msg.append(b.shape[0])\n",
    "    mid.append(((b[:,1]+b[:,3])/2).mean())\n",
    "\n",
    "plt.plot(spreads)\n",
    "plt.figure()\n",
    "plt.plot(n_msg)"
   ]
  },
  {
   "cell_type": "code",
   "execution_count": 15,
   "metadata": {},
   "outputs": [
    {
     "data": {
      "text/plain": [
       "[<matplotlib.lines.Line2D at 0x7f3f70793640>]"
      ]
     },
     "execution_count": 15,
     "metadata": {},
     "output_type": "execute_result"
    },
    {
     "data": {
      "image/png": "[encoded data removed]",
      "text/plain": [
       "<Figure size 640x480 with 1 Axes>"
      ]
     },
     "metadata": {},
     "output_type": "display_data"
    }
   ],
   "source": [
    "plt.plot((b[:,1]+b[:,3]))"
   ]
  },
  {
   "cell_type": "code",
   "execution_count": 13,
   "metadata": {},
   "outputs": [
    {
     "data": {
      "text/plain": [
       "[<matplotlib.lines.Line2D at 0x7f3f70620c10>]"
      ]
     },
     "execution_count": 13,
     "metadata": {},
     "output_type": "execute_result"
    },
    {
     "data": {
      "image/png": "[encoded data removed]",
      "text/plain": [
       "<Figure size 640x480 with 1 Axes>"
      ]
     },
     "metadata": {},
     "output_type": "display_data"
    }
   ],
   "source": [
    "plt.plot(mid)"
   ]
  },
  {
   "cell_type": "code",
   "execution_count": 23,
   "metadata": {},
   "outputs": [
    {
     "data": {
      "text/plain": [
       "7904000"
      ]
     },
     "execution_count": 23,
     "metadata": {},
     "output_type": "execute_result"
    }
   ],
   "source": [
    "x=np.load(msg_files[0])\n",
    "x[:,3].max()"
   ]
  },
  {
   "cell_type": "markdown",
   "metadata": {},
   "source": [
    "# CSV Files - Gen or Raw"
   ]
  },
  {
   "cell_type": "code",
   "execution_count": 19,
   "metadata": {},
   "outputs": [
    {
     "name": "stdout",
     "output_type": "stream",
     "text": [
      "3136\n"
     ]
    },
    {
     "data": {
      "text/plain": [
       "313"
      ]
     },
     "execution_count": 19,
     "metadata": {},
     "output_type": "execute_result"
    }
   ],
   "source": [
    "msg_files_gen = sorted(glob(\"/data1/sascha/data/GOOG/data_gen/\" + '*message*.csv'))\n",
    "book_files_gen = sorted(glob(\"/data1/sascha/data/GOOG/data_gen/\" + '*orderbook*.csv'))\n",
    "msg_files_real = sorted(glob(\"/data1/sascha/data/GOOG/data_real/\" + '*message*.csv'))\n",
    "book_files_real = sorted(glob(\"/data1/sascha/data/GOOG/data_real/\" + '*orderbook*.csv'))\n",
    "print(len(msg_files_real))\n",
    "max(1, int(len(msg_files_real) * 0.1))"
   ]
  },
  {
   "cell_type": "code",
   "execution_count": 25,
   "metadata": {},
   "outputs": [],
   "source": [
    "errors=[]\n",
    "i=0\n",
    "for bfg,mfg,bfr,mfr, in zip(book_files_gen,msg_files_gen,book_files_real,msg_files_real):\n",
    "    bg=pd.read_csv(bfg,header=None)\n",
    "    mg=pd.read_csv(mfg,names=(\"time\",\"event_type\",\"order_id\",\"quantity\",\"price\",\"side\"))\n",
    "    br=pd.read_csv(bfr,header=None)\n",
    "    mr=pd.read_csv(mfr,names=(\"time\",\"event_type\",\"order_id\",\"quantity\",\"price\",\"side\"))\n",
    "    err=(bg.diff(1)==0).all(axis=1).sum()\n",
    "    errors.append(err)\n",
    "    if err>5:\n",
    "        break\n"
   ]
  },
  {
   "cell_type": "code",
   "execution_count": 26,
   "metadata": {},
   "outputs": [
    {
     "name": "stdout",
     "output_type": "stream",
     "text": [
      "6.0\n"
     ]
    }
   ],
   "source": [
    "print(np.mean(errors))"
   ]
  },
  {
   "cell_type": "code",
   "execution_count": 27,
   "metadata": {},
   "outputs": [],
   "source": [
    "def reason_for_err(series):\n",
    "    if ~((series.iloc[int(series['side']+1):80:4]==series['price']).any()) and series['event_type']==3:\n",
    "        return \"Price not there\""
   ]
  },
  {
   "cell_type": "code",
   "execution_count": 28,
   "metadata": {},
   "outputs": [
    {
     "data": {
      "text/html": [
       "<div>\n",
       "<style scoped>\n",
       "    .dataframe tbody tr th:only-of-type {\n",
       "        vertical-align: middle;\n",
       "    }\n",
       "\n",
       "    .dataframe tbody tr th {\n",
       "        vertical-align: top;\n",
       "    }\n",
       "\n",
       "    .dataframe thead th {\n",
       "        text-align: right;\n",
       "    }\n",
       "</style>\n",
       "<table border=\"1\" class=\"dataframe\">\n",
       "  <thead>\n",
       "    <tr style=\"text-align: right;\">\n",
       "      <th></th>\n",
       "      <th>0</th>\n",
       "      <th>1</th>\n",
       "      <th>2</th>\n",
       "      <th>3</th>\n",
       "      <th>4</th>\n",
       "      <th>5</th>\n",
       "      <th>6</th>\n",
       "      <th>7</th>\n",
       "      <th>8</th>\n",
       "      <th>9</th>\n",
       "      <th>...</th>\n",
       "      <th>36</th>\n",
       "      <th>37</th>\n",
       "      <th>38</th>\n",
       "      <th>39</th>\n",
       "      <th>time</th>\n",
       "      <th>event_type</th>\n",
       "      <th>order_id</th>\n",
       "      <th>quantity</th>\n",
       "      <th>price</th>\n",
       "      <th>side</th>\n",
       "    </tr>\n",
       "  </thead>\n",
       "  <tbody>\n",
       "    <tr>\n",
       "      <th>197</th>\n",
       "      <td>892900.0</td>\n",
       "      <td>56.0</td>\n",
       "      <td>892800.0</td>\n",
       "      <td>48.0</td>\n",
       "      <td>893000.0</td>\n",
       "      <td>21.0</td>\n",
       "      <td>892700.0</td>\n",
       "      <td>284.0</td>\n",
       "      <td>893200.0</td>\n",
       "      <td>1084.0</td>\n",
       "      <td>...</td>\n",
       "      <td>893900.0</td>\n",
       "      <td>450.0</td>\n",
       "      <td>891900.0</td>\n",
       "      <td>150.0</td>\n",
       "      <td>43107.240459</td>\n",
       "      <td>3</td>\n",
       "      <td>-2</td>\n",
       "      <td>93</td>\n",
       "      <td>893100</td>\n",
       "      <td>-1</td>\n",
       "    </tr>\n",
       "    <tr>\n",
       "      <th>242</th>\n",
       "      <td>892800.0</td>\n",
       "      <td>297.0</td>\n",
       "      <td>892600.0</td>\n",
       "      <td>209.0</td>\n",
       "      <td>892900.0</td>\n",
       "      <td>256.0</td>\n",
       "      <td>892500.0</td>\n",
       "      <td>541.0</td>\n",
       "      <td>893000.0</td>\n",
       "      <td>21.0</td>\n",
       "      <td>...</td>\n",
       "      <td>893800.0</td>\n",
       "      <td>900.0</td>\n",
       "      <td>891700.0</td>\n",
       "      <td>150.0</td>\n",
       "      <td>43107.247261</td>\n",
       "      <td>3</td>\n",
       "      <td>-2</td>\n",
       "      <td>95</td>\n",
       "      <td>892700</td>\n",
       "      <td>1</td>\n",
       "    </tr>\n",
       "    <tr>\n",
       "      <th>265</th>\n",
       "      <td>892800.0</td>\n",
       "      <td>240.0</td>\n",
       "      <td>892600.0</td>\n",
       "      <td>251.0</td>\n",
       "      <td>892900.0</td>\n",
       "      <td>134.0</td>\n",
       "      <td>892500.0</td>\n",
       "      <td>541.0</td>\n",
       "      <td>893000.0</td>\n",
       "      <td>343.0</td>\n",
       "      <td>...</td>\n",
       "      <td>893800.0</td>\n",
       "      <td>900.0</td>\n",
       "      <td>891700.0</td>\n",
       "      <td>150.0</td>\n",
       "      <td>43107.783231</td>\n",
       "      <td>3</td>\n",
       "      <td>-2</td>\n",
       "      <td>100</td>\n",
       "      <td>892700</td>\n",
       "      <td>1</td>\n",
       "    </tr>\n",
       "    <tr>\n",
       "      <th>344</th>\n",
       "      <td>892500.0</td>\n",
       "      <td>100.0</td>\n",
       "      <td>892400.0</td>\n",
       "      <td>1036.0</td>\n",
       "      <td>892600.0</td>\n",
       "      <td>100.0</td>\n",
       "      <td>892300.0</td>\n",
       "      <td>475.0</td>\n",
       "      <td>892700.0</td>\n",
       "      <td>350.0</td>\n",
       "      <td>...</td>\n",
       "      <td>893500.0</td>\n",
       "      <td>1150.0</td>\n",
       "      <td>891500.0</td>\n",
       "      <td>500.0</td>\n",
       "      <td>43107.792393</td>\n",
       "      <td>3</td>\n",
       "      <td>198</td>\n",
       "      <td>50</td>\n",
       "      <td>893400</td>\n",
       "      <td>-1</td>\n",
       "    </tr>\n",
       "    <tr>\n",
       "      <th>348</th>\n",
       "      <td>892500.0</td>\n",
       "      <td>100.0</td>\n",
       "      <td>892400.0</td>\n",
       "      <td>836.0</td>\n",
       "      <td>892600.0</td>\n",
       "      <td>100.0</td>\n",
       "      <td>892300.0</td>\n",
       "      <td>475.0</td>\n",
       "      <td>892700.0</td>\n",
       "      <td>350.0</td>\n",
       "      <td>...</td>\n",
       "      <td>893500.0</td>\n",
       "      <td>1150.0</td>\n",
       "      <td>891500.0</td>\n",
       "      <td>500.0</td>\n",
       "      <td>43107.792585</td>\n",
       "      <td>3</td>\n",
       "      <td>-2</td>\n",
       "      <td>100</td>\n",
       "      <td>893100</td>\n",
       "      <td>-1</td>\n",
       "    </tr>\n",
       "    <tr>\n",
       "      <th>377</th>\n",
       "      <td>892700.0</td>\n",
       "      <td>250.0</td>\n",
       "      <td>892400.0</td>\n",
       "      <td>886.0</td>\n",
       "      <td>892800.0</td>\n",
       "      <td>104.0</td>\n",
       "      <td>892300.0</td>\n",
       "      <td>425.0</td>\n",
       "      <td>892900.0</td>\n",
       "      <td>334.0</td>\n",
       "      <td>...</td>\n",
       "      <td>893700.0</td>\n",
       "      <td>200.0</td>\n",
       "      <td>891500.0</td>\n",
       "      <td>650.0</td>\n",
       "      <td>43107.795128</td>\n",
       "      <td>3</td>\n",
       "      <td>-2</td>\n",
       "      <td>100</td>\n",
       "      <td>892600</td>\n",
       "      <td>-1</td>\n",
       "    </tr>\n",
       "    <tr>\n",
       "      <th>424</th>\n",
       "      <td>892500.0</td>\n",
       "      <td>300.0</td>\n",
       "      <td>892400.0</td>\n",
       "      <td>536.0</td>\n",
       "      <td>892700.0</td>\n",
       "      <td>250.0</td>\n",
       "      <td>892300.0</td>\n",
       "      <td>425.0</td>\n",
       "      <td>892800.0</td>\n",
       "      <td>303.0</td>\n",
       "      <td>...</td>\n",
       "      <td>893600.0</td>\n",
       "      <td>1397.0</td>\n",
       "      <td>891500.0</td>\n",
       "      <td>801.0</td>\n",
       "      <td>43107.807695</td>\n",
       "      <td>3</td>\n",
       "      <td>-2</td>\n",
       "      <td>56</td>\n",
       "      <td>892600</td>\n",
       "      <td>-1</td>\n",
       "    </tr>\n",
       "    <tr>\n",
       "      <th>428</th>\n",
       "      <td>892500.0</td>\n",
       "      <td>300.0</td>\n",
       "      <td>892400.0</td>\n",
       "      <td>536.0</td>\n",
       "      <td>892600.0</td>\n",
       "      <td>100.0</td>\n",
       "      <td>892300.0</td>\n",
       "      <td>425.0</td>\n",
       "      <td>892700.0</td>\n",
       "      <td>250.0</td>\n",
       "      <td>...</td>\n",
       "      <td>893500.0</td>\n",
       "      <td>1200.0</td>\n",
       "      <td>891500.0</td>\n",
       "      <td>801.0</td>\n",
       "      <td>43107.815367</td>\n",
       "      <td>3</td>\n",
       "      <td>-2</td>\n",
       "      <td>100</td>\n",
       "      <td>893100</td>\n",
       "      <td>-1</td>\n",
       "    </tr>\n",
       "    <tr>\n",
       "      <th>468</th>\n",
       "      <td>892500.0</td>\n",
       "      <td>500.0</td>\n",
       "      <td>892400.0</td>\n",
       "      <td>536.0</td>\n",
       "      <td>892600.0</td>\n",
       "      <td>100.0</td>\n",
       "      <td>892300.0</td>\n",
       "      <td>303.0</td>\n",
       "      <td>892700.0</td>\n",
       "      <td>150.0</td>\n",
       "      <td>...</td>\n",
       "      <td>893400.0</td>\n",
       "      <td>684.0</td>\n",
       "      <td>891500.0</td>\n",
       "      <td>801.0</td>\n",
       "      <td>43107.870945</td>\n",
       "      <td>3</td>\n",
       "      <td>268</td>\n",
       "      <td>100</td>\n",
       "      <td>893400</td>\n",
       "      <td>-1</td>\n",
       "    </tr>\n",
       "  </tbody>\n",
       "</table>\n",
       "<p>9 rows × 46 columns</p>\n",
       "</div>"
      ],
      "text/plain": [
       "            0      1         2       3         4      5         6      7  \\\n",
       "197  892900.0   56.0  892800.0    48.0  893000.0   21.0  892700.0  284.0   \n",
       "242  892800.0  297.0  892600.0   209.0  892900.0  256.0  892500.0  541.0   \n",
       "265  892800.0  240.0  892600.0   251.0  892900.0  134.0  892500.0  541.0   \n",
       "344  892500.0  100.0  892400.0  1036.0  892600.0  100.0  892300.0  475.0   \n",
       "348  892500.0  100.0  892400.0   836.0  892600.0  100.0  892300.0  475.0   \n",
       "377  892700.0  250.0  892400.0   886.0  892800.0  104.0  892300.0  425.0   \n",
       "424  892500.0  300.0  892400.0   536.0  892700.0  250.0  892300.0  425.0   \n",
       "428  892500.0  300.0  892400.0   536.0  892600.0  100.0  892300.0  425.0   \n",
       "468  892500.0  500.0  892400.0   536.0  892600.0  100.0  892300.0  303.0   \n",
       "\n",
       "            8       9  ...        36      37        38     39          time  \\\n",
       "197  893200.0  1084.0  ...  893900.0   450.0  891900.0  150.0  43107.240459   \n",
       "242  893000.0    21.0  ...  893800.0   900.0  891700.0  150.0  43107.247261   \n",
       "265  893000.0   343.0  ...  893800.0   900.0  891700.0  150.0  43107.783231   \n",
       "344  892700.0   350.0  ...  893500.0  1150.0  891500.0  500.0  43107.792393   \n",
       "348  892700.0   350.0  ...  893500.0  1150.0  891500.0  500.0  43107.792585   \n",
       "377  892900.0   334.0  ...  893700.0   200.0  891500.0  650.0  43107.795128   \n",
       "424  892800.0   303.0  ...  893600.0  1397.0  891500.0  801.0  43107.807695   \n",
       "428  892700.0   250.0  ...  893500.0  1200.0  891500.0  801.0  43107.815367   \n",
       "468  892700.0   150.0  ...  893400.0   684.0  891500.0  801.0  43107.870945   \n",
       "\n",
       "     event_type  order_id  quantity   price  side  \n",
       "197           3        -2        93  893100    -1  \n",
       "242           3        -2        95  892700     1  \n",
       "265           3        -2       100  892700     1  \n",
       "344           3       198        50  893400    -1  \n",
       "348           3        -2       100  893100    -1  \n",
       "377           3        -2       100  892600    -1  \n",
       "424           3        -2        56  892600    -1  \n",
       "428           3        -2       100  893100    -1  \n",
       "468           3       268       100  893400    -1  \n",
       "\n",
       "[9 rows x 46 columns]"
      ]
     },
     "execution_count": 28,
     "metadata": {},
     "output_type": "execute_result"
    }
   ],
   "source": [
    "err=(bg.diff(1)==0).all(axis=1)\n",
    "conc=pd.concat([bg.shift(-1),mg],axis=1)\n",
    "error_df=conc[err]\n",
    "# error_df['err_reason']=error_df.apply(reason_for_err,axis=1)\n",
    "error_df"
   ]
  },
  {
   "cell_type": "code",
   "execution_count": 17,
   "metadata": {},
   "outputs": [
    {
     "data": {
      "text/html": [
       "<div>\n",
       "<style scoped>\n",
       "    .dataframe tbody tr th:only-of-type {\n",
       "        vertical-align: middle;\n",
       "    }\n",
       "\n",
       "    .dataframe tbody tr th {\n",
       "        vertical-align: top;\n",
       "    }\n",
       "\n",
       "    .dataframe thead th {\n",
       "        text-align: right;\n",
       "    }\n",
       "</style>\n",
       "<table border=\"1\" class=\"dataframe\">\n",
       "  <thead>\n",
       "    <tr style=\"text-align: right;\">\n",
       "      <th></th>\n",
       "      <th>0</th>\n",
       "      <th>1</th>\n",
       "      <th>2</th>\n",
       "      <th>3</th>\n",
       "      <th>4</th>\n",
       "      <th>5</th>\n",
       "      <th>6</th>\n",
       "      <th>7</th>\n",
       "      <th>8</th>\n",
       "      <th>9</th>\n",
       "      <th>...</th>\n",
       "      <th>77</th>\n",
       "      <th>78</th>\n",
       "      <th>79</th>\n",
       "      <th>time</th>\n",
       "      <th>event_type</th>\n",
       "      <th>order_id</th>\n",
       "      <th>quantity</th>\n",
       "      <th>price</th>\n",
       "      <th>side</th>\n",
       "      <th>err_reason</th>\n",
       "    </tr>\n",
       "  </thead>\n",
       "  <tbody>\n",
       "    <tr>\n",
       "      <th>7</th>\n",
       "      <td>9147100.0</td>\n",
       "      <td>4.0</td>\n",
       "      <td>9146400.0</td>\n",
       "      <td>298.0</td>\n",
       "      <td>9149300.0</td>\n",
       "      <td>5.0</td>\n",
       "      <td>9143400.0</td>\n",
       "      <td>65.0</td>\n",
       "      <td>9149700.0</td>\n",
       "      <td>460.0</td>\n",
       "      <td>...</td>\n",
       "      <td>2.0</td>\n",
       "      <td>-1.0</td>\n",
       "      <td>0.0</td>\n",
       "      <td>57045.954978</td>\n",
       "      <td>3</td>\n",
       "      <td>-2</td>\n",
       "      <td>2</td>\n",
       "      <td>9152400</td>\n",
       "      <td>-1</td>\n",
       "      <td>None</td>\n",
       "    </tr>\n",
       "    <tr>\n",
       "      <th>37</th>\n",
       "      <td>9147100.0</td>\n",
       "      <td>3.0</td>\n",
       "      <td>9146400.0</td>\n",
       "      <td>298.0</td>\n",
       "      <td>9147300.0</td>\n",
       "      <td>5.0</td>\n",
       "      <td>9143400.0</td>\n",
       "      <td>65.0</td>\n",
       "      <td>9149200.0</td>\n",
       "      <td>100.0</td>\n",
       "      <td>...</td>\n",
       "      <td>105.0</td>\n",
       "      <td>-1.0</td>\n",
       "      <td>0.0</td>\n",
       "      <td>57062.179013</td>\n",
       "      <td>3</td>\n",
       "      <td>-2</td>\n",
       "      <td>25</td>\n",
       "      <td>9141300</td>\n",
       "      <td>1</td>\n",
       "      <td>None</td>\n",
       "    </tr>\n",
       "    <tr>\n",
       "      <th>56</th>\n",
       "      <td>9149200.0</td>\n",
       "      <td>100.0</td>\n",
       "      <td>9147600.0</td>\n",
       "      <td>1.0</td>\n",
       "      <td>9149300.0</td>\n",
       "      <td>5.0</td>\n",
       "      <td>9146400.0</td>\n",
       "      <td>298.0</td>\n",
       "      <td>9149700.0</td>\n",
       "      <td>460.0</td>\n",
       "      <td>...</td>\n",
       "      <td>25.0</td>\n",
       "      <td>-1.0</td>\n",
       "      <td>0.0</td>\n",
       "      <td>57063.633100</td>\n",
       "      <td>1</td>\n",
       "      <td>944</td>\n",
       "      <td>25</td>\n",
       "      <td>9155600</td>\n",
       "      <td>-1</td>\n",
       "      <td>None</td>\n",
       "    </tr>\n",
       "    <tr>\n",
       "      <th>72</th>\n",
       "      <td>9149200.0</td>\n",
       "      <td>100.0</td>\n",
       "      <td>9147600.0</td>\n",
       "      <td>1.0</td>\n",
       "      <td>9149300.0</td>\n",
       "      <td>5.0</td>\n",
       "      <td>9147300.0</td>\n",
       "      <td>5.0</td>\n",
       "      <td>9149700.0</td>\n",
       "      <td>460.0</td>\n",
       "      <td>...</td>\n",
       "      <td>105.0</td>\n",
       "      <td>9139200.0</td>\n",
       "      <td>25.0</td>\n",
       "      <td>57064.878874</td>\n",
       "      <td>1</td>\n",
       "      <td>928</td>\n",
       "      <td>9</td>\n",
       "      <td>9155600</td>\n",
       "      <td>-1</td>\n",
       "      <td>None</td>\n",
       "    </tr>\n",
       "    <tr>\n",
       "      <th>82</th>\n",
       "      <td>9149200.0</td>\n",
       "      <td>80.0</td>\n",
       "      <td>9148300.0</td>\n",
       "      <td>50.0</td>\n",
       "      <td>9149300.0</td>\n",
       "      <td>5.0</td>\n",
       "      <td>9147600.0</td>\n",
       "      <td>1.0</td>\n",
       "      <td>9149700.0</td>\n",
       "      <td>460.0</td>\n",
       "      <td>...</td>\n",
       "      <td>105.0</td>\n",
       "      <td>9140000.0</td>\n",
       "      <td>41.0</td>\n",
       "      <td>57064.882390</td>\n",
       "      <td>1</td>\n",
       "      <td>918</td>\n",
       "      <td>2</td>\n",
       "      <td>9157200</td>\n",
       "      <td>-1</td>\n",
       "      <td>None</td>\n",
       "    </tr>\n",
       "    <tr>\n",
       "      <th>...</th>\n",
       "      <td>...</td>\n",
       "      <td>...</td>\n",
       "      <td>...</td>\n",
       "      <td>...</td>\n",
       "      <td>...</td>\n",
       "      <td>...</td>\n",
       "      <td>...</td>\n",
       "      <td>...</td>\n",
       "      <td>...</td>\n",
       "      <td>...</td>\n",
       "      <td>...</td>\n",
       "      <td>...</td>\n",
       "      <td>...</td>\n",
       "      <td>...</td>\n",
       "      <td>...</td>\n",
       "      <td>...</td>\n",
       "      <td>...</td>\n",
       "      <td>...</td>\n",
       "      <td>...</td>\n",
       "      <td>...</td>\n",
       "      <td>...</td>\n",
       "    </tr>\n",
       "    <tr>\n",
       "      <th>965</th>\n",
       "      <td>9150000.0</td>\n",
       "      <td>417.0</td>\n",
       "      <td>9149900.0</td>\n",
       "      <td>33.0</td>\n",
       "      <td>9150200.0</td>\n",
       "      <td>5.0</td>\n",
       "      <td>9149800.0</td>\n",
       "      <td>121.0</td>\n",
       "      <td>9150300.0</td>\n",
       "      <td>1.0</td>\n",
       "      <td>...</td>\n",
       "      <td>135.0</td>\n",
       "      <td>9145600.0</td>\n",
       "      <td>5.0</td>\n",
       "      <td>57221.416490</td>\n",
       "      <td>1</td>\n",
       "      <td>35</td>\n",
       "      <td>31</td>\n",
       "      <td>9143900</td>\n",
       "      <td>1</td>\n",
       "      <td>None</td>\n",
       "    </tr>\n",
       "    <tr>\n",
       "      <th>967</th>\n",
       "      <td>9150000.0</td>\n",
       "      <td>417.0</td>\n",
       "      <td>9149900.0</td>\n",
       "      <td>33.0</td>\n",
       "      <td>9150200.0</td>\n",
       "      <td>5.0</td>\n",
       "      <td>9149800.0</td>\n",
       "      <td>121.0</td>\n",
       "      <td>9150300.0</td>\n",
       "      <td>1.0</td>\n",
       "      <td>...</td>\n",
       "      <td>135.0</td>\n",
       "      <td>9145600.0</td>\n",
       "      <td>5.0</td>\n",
       "      <td>57221.677312</td>\n",
       "      <td>1</td>\n",
       "      <td>33</td>\n",
       "      <td>31</td>\n",
       "      <td>9143900</td>\n",
       "      <td>1</td>\n",
       "      <td>None</td>\n",
       "    </tr>\n",
       "    <tr>\n",
       "      <th>968</th>\n",
       "      <td>9150000.0</td>\n",
       "      <td>417.0</td>\n",
       "      <td>9149900.0</td>\n",
       "      <td>33.0</td>\n",
       "      <td>9150200.0</td>\n",
       "      <td>5.0</td>\n",
       "      <td>9149800.0</td>\n",
       "      <td>121.0</td>\n",
       "      <td>9150300.0</td>\n",
       "      <td>1.0</td>\n",
       "      <td>...</td>\n",
       "      <td>135.0</td>\n",
       "      <td>9145600.0</td>\n",
       "      <td>5.0</td>\n",
       "      <td>57222.498590</td>\n",
       "      <td>1</td>\n",
       "      <td>32</td>\n",
       "      <td>69</td>\n",
       "      <td>9155900</td>\n",
       "      <td>-1</td>\n",
       "      <td>None</td>\n",
       "    </tr>\n",
       "    <tr>\n",
       "      <th>969</th>\n",
       "      <td>9150000.0</td>\n",
       "      <td>417.0</td>\n",
       "      <td>9149900.0</td>\n",
       "      <td>2.0</td>\n",
       "      <td>9150200.0</td>\n",
       "      <td>5.0</td>\n",
       "      <td>9149800.0</td>\n",
       "      <td>121.0</td>\n",
       "      <td>9150300.0</td>\n",
       "      <td>1.0</td>\n",
       "      <td>...</td>\n",
       "      <td>135.0</td>\n",
       "      <td>9145600.0</td>\n",
       "      <td>5.0</td>\n",
       "      <td>57223.320424</td>\n",
       "      <td>1</td>\n",
       "      <td>31</td>\n",
       "      <td>31</td>\n",
       "      <td>9143900</td>\n",
       "      <td>1</td>\n",
       "      <td>None</td>\n",
       "    </tr>\n",
       "    <tr>\n",
       "      <th>974</th>\n",
       "      <td>9150000.0</td>\n",
       "      <td>417.0</td>\n",
       "      <td>9149800.0</td>\n",
       "      <td>30.0</td>\n",
       "      <td>9150200.0</td>\n",
       "      <td>5.0</td>\n",
       "      <td>9149400.0</td>\n",
       "      <td>82.0</td>\n",
       "      <td>9150300.0</td>\n",
       "      <td>1.0</td>\n",
       "      <td>...</td>\n",
       "      <td>135.0</td>\n",
       "      <td>9145400.0</td>\n",
       "      <td>10.0</td>\n",
       "      <td>57228.835547</td>\n",
       "      <td>1</td>\n",
       "      <td>26</td>\n",
       "      <td>31</td>\n",
       "      <td>9056000</td>\n",
       "      <td>1</td>\n",
       "      <td>None</td>\n",
       "    </tr>\n",
       "  </tbody>\n",
       "</table>\n",
       "<p>168 rows × 87 columns</p>\n",
       "</div>"
      ],
      "text/plain": [
       "             0      1          2      3          4    5          6      7  \\\n",
       "7    9147100.0    4.0  9146400.0  298.0  9149300.0  5.0  9143400.0   65.0   \n",
       "37   9147100.0    3.0  9146400.0  298.0  9147300.0  5.0  9143400.0   65.0   \n",
       "56   9149200.0  100.0  9147600.0    1.0  9149300.0  5.0  9146400.0  298.0   \n",
       "72   9149200.0  100.0  9147600.0    1.0  9149300.0  5.0  9147300.0    5.0   \n",
       "82   9149200.0   80.0  9148300.0   50.0  9149300.0  5.0  9147600.0    1.0   \n",
       "..         ...    ...        ...    ...        ...  ...        ...    ...   \n",
       "965  9150000.0  417.0  9149900.0   33.0  9150200.0  5.0  9149800.0  121.0   \n",
       "967  9150000.0  417.0  9149900.0   33.0  9150200.0  5.0  9149800.0  121.0   \n",
       "968  9150000.0  417.0  9149900.0   33.0  9150200.0  5.0  9149800.0  121.0   \n",
       "969  9150000.0  417.0  9149900.0    2.0  9150200.0  5.0  9149800.0  121.0   \n",
       "974  9150000.0  417.0  9149800.0   30.0  9150200.0  5.0  9149400.0   82.0   \n",
       "\n",
       "             8      9  ...     77         78    79          time  event_type  \\\n",
       "7    9149700.0  460.0  ...    2.0       -1.0   0.0  57045.954978           3   \n",
       "37   9149200.0  100.0  ...  105.0       -1.0   0.0  57062.179013           3   \n",
       "56   9149700.0  460.0  ...   25.0       -1.0   0.0  57063.633100           1   \n",
       "72   9149700.0  460.0  ...  105.0  9139200.0  25.0  57064.878874           1   \n",
       "82   9149700.0  460.0  ...  105.0  9140000.0  41.0  57064.882390           1   \n",
       "..         ...    ...  ...    ...        ...   ...           ...         ...   \n",
       "965  9150300.0    1.0  ...  135.0  9145600.0   5.0  57221.416490           1   \n",
       "967  9150300.0    1.0  ...  135.0  9145600.0   5.0  57221.677312           1   \n",
       "968  9150300.0    1.0  ...  135.0  9145600.0   5.0  57222.498590           1   \n",
       "969  9150300.0    1.0  ...  135.0  9145600.0   5.0  57223.320424           1   \n",
       "974  9150300.0    1.0  ...  135.0  9145400.0  10.0  57228.835547           1   \n",
       "\n",
       "     order_id  quantity    price  side  err_reason  \n",
       "7          -2         2  9152400    -1        None  \n",
       "37         -2        25  9141300     1        None  \n",
       "56        944        25  9155600    -1        None  \n",
       "72        928         9  9155600    -1        None  \n",
       "82        918         2  9157200    -1        None  \n",
       "..        ...       ...      ...   ...         ...  \n",
       "965        35        31  9143900     1        None  \n",
       "967        33        31  9143900     1        None  \n",
       "968        32        69  9155900    -1        None  \n",
       "969        31        31  9143900     1        None  \n",
       "974        26        31  9056000     1        None  \n",
       "\n",
       "[168 rows x 87 columns]"
      ]
     },
     "execution_count": 17,
     "metadata": {},
     "output_type": "execute_result"
    }
   ],
   "source": [
    "error_df[~(error_df.loc[:,'err_reason']=='Price not there')]"
   ]
  },
  {
   "cell_type": "code",
   "execution_count": null,
   "metadata": {},
   "outputs": [],
   "source": [
    "m.loc[(err_idx) & (m.loc[:,\"event_type\"]==3)].loc[b_m.loc[(err_idx) & (m.loc[:,\"event_type\"]==3)].apply(in_book,axis=1)]"
   ]
  },
  {
   "cell_type": "code",
   "execution_count": null,
   "metadata": {},
   "outputs": [],
   "source": [
    "b.loc[(err_idx) & (m.loc[:,\"event_type\"]==3)].loc[b_m.loc[(err_idx) & (m.loc[:,\"event_type\"]==3)].apply(in_book,axis=1)]"
   ]
  },
  {
   "cell_type": "code",
   "execution_count": null,
   "metadata": {},
   "outputs": [],
   "source": [
    "plt.plot(b.loc[:,0])\n",
    "plt.plot(b.loc[:,2])\n",
    "# plt.plot((real_book.loc[:,0]+real_book.loc[:,2])/2)"
   ]
  },
  {
   "cell_type": "code",
   "execution_count": null,
   "metadata": {},
   "outputs": [],
   "source": [
    "gen_msg.loc[((gen_book.diff(1)==0).all(axis=1)) & (gen_msg.loc[:,1]==3)]"
   ]
  },
  {
   "cell_type": "code",
   "execution_count": null,
   "metadata": {},
   "outputs": [],
   "source": [
    "gen_book.loc[((gen_book.diff(1)==0).all(axis=1)) & (gen_msg.loc[:,1]==3)].loc[:,8:]"
   ]
  },
  {
   "cell_type": "code",
   "execution_count": null,
   "metadata": {},
   "outputs": [],
   "source": []
  }
 ],
 "metadata": {
  "kernelspec": {
   "display_name": "Python 3",
   "language": "python",
   "name": "python3"
  },
  "language_info": {
   "codemirror_mode": {
    "name": "ipython",
    "version": 3
   },
   "file_extension": ".py",
   "mimetype": "text/x-python",
   "name": "python",
   "nbconvert_exporter": "python",
   "pygments_lexer": "ipython3",
   "version": "3.10.12"
  }
 },
 "nbformat": 4,
 "nbformat_minor": 2
}
