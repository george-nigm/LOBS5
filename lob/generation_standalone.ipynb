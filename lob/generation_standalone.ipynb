{
 "cells": [
  {
   "cell_type": "code",
   "execution_count": 1,
   "metadata": {},
   "outputs": [],
   "source": [
    "%load_ext autoreload\n",
    "%autoreload 2"
   ]
  },
  {
   "cell_type": "code",
   "execution_count": 2,
   "metadata": {},
   "outputs": [],
   "source": [
    "import os\n",
    "import sys\n",
    "\n",
    "os.environ[\"XLA_PYTHON_CLIENT_PREALLOCATE\"] = \"true\"\n",
    "os.environ[\"CUDA_VISIBLE_DEVICES\"] = \"3\"\n",
    "# os.environ['XLA_FLAGS'] ='--xla_gpu_deterministic_ops=true'\n",
    "\n",
    "\n",
    "os.environ[\"XLA_PYTHON_CLIENT_MEM_FRACTION\"] = \".95\"\n",
    "\n",
    "import torch\n",
    "torch.multiprocessing.set_start_method('spawn')"
   ]
  },
  {
   "cell_type": "code",
   "execution_count": 3,
   "metadata": {},
   "outputs": [
    {
     "name": "stdout",
     "output_type": "stream",
     "text": [
      "['/data1/sascha/LOBS5/lob', '/data1/sascha/AlphaTrade', '/home/sascha/miniconda3/envs/alphatrade_new/lib/python310.zip', '/home/sascha/miniconda3/envs/alphatrade_new/lib/python3.10', '/home/sascha/miniconda3/envs/alphatrade_new/lib/python3.10/lib-dynload', '', '/home/sascha/miniconda3/envs/alphatrade_new/lib/python3.10/site-packages', '/data1/sascha/LOBS5', '/data1/sascha/LOBS5/AlphaTrade']\n"
     ]
    }
   ],
   "source": [
    "# Add parent folder to path (to run this file from subdirectories)\n",
    "(parent_folder_path, current_dir) = os.path.split(os.path.abspath(''))\n",
    "sys.path.append(parent_folder_path)\n",
    "\n",
    "# add git submodule to path to allow imports to work\n",
    "submodule_name = 'AlphaTrade'\n",
    "sys.path.append(os.path.join(parent_folder_path, submodule_name))\n",
    "\n",
    "print(sys.path)\n",
    "\n",
    "from gymnax_exchange.jaxob.jorderbook import OrderBook\n",
    "import gymnax_exchange.jaxob.JaxOrderBookArrays as job"
   ]
  },
  {
   "cell_type": "code",
   "execution_count": 4,
   "metadata": {},
   "outputs": [
    {
     "name": "stderr",
     "output_type": "stream",
     "text": [
      "/tmp/ipykernel_772797/1832217467.py:4: DeprecationWarning: \n",
      "Pyarrow will become a required dependency of pandas in the next major release of pandas (pandas 3.0),\n",
      "(to allow more performant data types, such as the Arrow string type, and better interoperability with other libraries)\n",
      "but was not found to be installed on your system.\n",
      "If this would cause problems for you,\n",
      "please provide us feedback at https://github.com/pandas-dev/pandas/issues/54466\n",
      "        \n",
      "  import pandas as pd\n",
      "2024-08-05 10:40:46.262515: E external/local_xla/xla/stream_executor/cuda/cuda_fft.cc:485] Unable to register cuFFT factory: Attempting to register factory for plugin cuFFT when one has already been registered\n",
      "2024-08-05 10:40:46.284185: E external/local_xla/xla/stream_executor/cuda/cuda_dnn.cc:8454] Unable to register cuDNN factory: Attempting to register factory for plugin cuDNN when one has already been registered\n",
      "2024-08-05 10:40:46.290415: E external/local_xla/xla/stream_executor/cuda/cuda_blas.cc:1452] Unable to register cuBLAS factory: Attempting to register factory for plugin cuBLAS when one has already been registered\n",
      "2024-08-05 10:40:46.973742: W tensorflow/compiler/tf2tensorrt/utils/py_utils.cc:38] TF-TRT Warning: Could not find TensorRT\n"
     ]
    }
   ],
   "source": [
    "# from argparse import Namespace\n",
    "from glob import glob\n",
    "import numpy as onp\n",
    "import pandas as pd\n",
    "# from functools import partial\n",
    "# from typing import Union, Optional\n",
    "from tqdm.notebook import tqdm\n",
    "import matplotlib.pyplot as plt\n",
    "# from line_profiler import LineProfiler\n",
    "\n",
    "import jax\n",
    "import jax.numpy as jnp\n",
    "from jax.nn import one_hot\n",
    "# from jax import random\n",
    "# from jax.scipy.linalg import block_diag\n",
    "# from flax import jax_utils\n",
    "# from flax.training import checkpoints\n",
    "# import orbax\n",
    "\n",
    "#from lob.lob_seq_model import BatchLobPredModel\n",
    "# from lob.train_helpers import create_train_state, eval_step, prep_batch, cross_entropy_loss, compute_accuracy\n",
    "from s5.ssm import *\n",
    "# from s5.ssm_init import make_DPLR_HiPPO\n",
    "# from s5.dataloading import make_data_loader\n",
    "# from lob_seq_model import LobPredModel\n",
    "from encoding import Vocab, Message_Tokenizer\n",
    "# from lobster_dataloader import LOBSTER_Dataset, LOBSTER_Subset, LOBSTER_Sampler, LOBSTER\n",
    "\n",
    "import preproc\n",
    "# import inference\n",
    "from lob import inference_no_errcorr as inference\n",
    "import validation_helpers as valh\n",
    "from lob.init_train import init_train_state, load_checkpoint, load_metadata, load_args_from_checkpoint\n",
    "# import lob.encoding as encoding\n",
    "\n",
    "# necessary for flax checkpoints to be loaded in jupyter notebook\n",
    "import nest_asyncio\n",
    "nest_asyncio.apply()\n",
    "\n",
    "from functools import partial\n",
    "\n"
   ]
  },
  {
   "cell_type": "markdown",
   "metadata": {},
   "source": [
    "# Forecasting"
   ]
  },
  {
   "cell_type": "code",
   "execution_count": 5,
   "metadata": {},
   "outputs": [],
   "source": [
    "import lob.evaluation as eval\n",
    "from preproc import transform_L2_state"
   ]
  },
  {
   "cell_type": "code",
   "execution_count": 6,
   "metadata": {},
   "outputs": [],
   "source": [
    "n_gen_msgs = 1000  #500 # how many messages to generate into the future\n",
    "n_messages_conditional = 500\n",
    "n_eval_messages = 1000  # how many to load from dataset \n",
    "eval_seq_len = (n_eval_messages-1) * Message_Tokenizer.MSG_LEN\n",
    "cond_seq_len = (n_messages_conditional) * Message_Tokenizer.MSG_LEN\n",
    "\n",
    "data_levels = 10\n",
    "# TODO: deprecated - remove from functions\n",
    "sim_book_levels = 20 # 10  # order book simulator levels\n",
    "sim_queue_len = 100  # per price in sim, how many orders in queue\n",
    "\n",
    "n_vol_series = 500  # how many book volume series model uses as input\n",
    "\n",
    "v = Vocab()\n",
    "n_classes = len(v)\n",
    "book_dim = 501 #b_enc.shape[1]\n",
    "eval_book_seq_len = eval_seq_len\n",
    "\n",
    "\n",
    "rng = jax.random.key(42)\n",
    "rng, rng_ = jax.random.split(rng)\n",
    "sample_top_n = 50\n",
    "tick_size = 100"
   ]
  },
  {
   "cell_type": "code",
   "execution_count": 7,
   "metadata": {},
   "outputs": [
    {
     "data": {
      "text/plain": [
       "{}"
      ]
     },
     "execution_count": 7,
     "metadata": {},
     "output_type": "execute_result"
    }
   ],
   "source": [
    "v.DECODING"
   ]
  },
  {
   "cell_type": "code",
   "execution_count": 8,
   "metadata": {},
   "outputs": [],
   "source": [
    "# entire test set after training data\n",
    "stock='GOOG'\n",
    "\n",
    "\n",
    "if stock == 'GOOG':\n",
    "    data_dir = '/data1/sascha/data/GOOG2017to2019'\n",
    "    ckpt_path='/data1/sascha/data/checkpoints/honest-oath-159_3kn3xbd5'\n",
    "elif stock == 'INTC':\n",
    "    raise NotImplementedError(\"Nothing trained for INTC yet\")\n",
    "elif stock == 'TSLA':\n",
    "    raise Warning(\"Saved Model was trained on GOOGLE data. Generating for TSLA\")\n",
    "    data_dir = '/data1/sascha/data/lobster_proc'\n",
    "    ckpt_path = '/data1/sascha/data/checkpoints/honest-oath-159_3kn3xbd5' # Dummy model trained on just 5 days... for debugging. \n",
    "\n"
   ]
  },
  {
   "cell_type": "code",
   "execution_count": 9,
   "metadata": {},
   "outputs": [
    {
     "name": "stdout",
     "output_type": "stream",
     "text": [
      "Dummy input shapes (msg,book) ((Array(1, dtype=int32, weak_type=True), Array(21978, dtype=int32, weak_type=True)), \n",
      " (Array(1, dtype=int32, weak_type=True), Array(21978, dtype=int32, weak_type=True), Array(501, dtype=int32, weak_type=True)))\n",
      "(12012, 512)\n",
      "configuring standard optimization setup\n",
      "[*] Trainable Parameters: 25699641\n",
      "(12012, 512)\n",
      "(1, 12012, 512)\n"
     ]
    }
   ],
   "source": [
    "args = load_metadata(ckpt_path)\n",
    "ds = inference.get_dataset(data_dir, n_messages_conditional, n_eval_messages)\n",
    "args.num_devices=1\n",
    "args.bsz=1\n",
    "\n",
    "\n",
    "new_train_state, model_cls = init_train_state(\n",
    "    args,\n",
    "    n_classes=n_classes,\n",
    "    seq_len=eval_seq_len,\n",
    "    book_dim=book_dim,\n",
    "    book_seq_len=eval_book_seq_len,\n",
    ")\n",
    "\n",
    "\n",
    "\n",
    "ckpt = load_checkpoint(\n",
    "    new_train_state,\n",
    "    ckpt_path,\n",
    "    train=False,\n",
    ")\n",
    "state = ckpt['model']\n",
    "\n",
    "\n",
    "import chex\n",
    "chex.clear_trace_counter()"
   ]
  },
  {
   "cell_type": "code",
   "execution_count": 10,
   "metadata": {},
   "outputs": [
    {
     "name": "stdout",
     "output_type": "stream",
     "text": [
      "(12012, 512)\n"
     ]
    }
   ],
   "source": [
    "# jax.tree_util.tree_map(lambda x: x.shape,state)\n",
    "ckpt = load_checkpoint(\n",
    "    new_train_state,\n",
    "    ckpt_path,\n",
    "    train=False,\n",
    ")\n",
    "state = ckpt['model']\n",
    "print(state.params['message_encoder']['encoder']['embedding'].shape)\n"
   ]
  },
  {
   "cell_type": "code",
   "execution_count": 11,
   "metadata": {},
   "outputs": [
    {
     "data": {
      "text/plain": [
       "743"
      ]
     },
     "execution_count": 11,
     "metadata": {},
     "output_type": "execute_result"
    }
   ],
   "source": [
    "len(ds.message_files)"
   ]
  },
  {
   "cell_type": "code",
   "execution_count": 12,
   "metadata": {},
   "outputs": [],
   "source": [
    "import logging\n",
    "# logging.basicConfig(filename='ar_debug.log', level=logging.DEBUG)\n",
    "fhandler = logging.FileHandler(filename='generation_debug.log', mode='w')\n",
    "logger = logging.getLogger()\n",
    "if (logger.hasHandlers()):\n",
    "    logger.handlers.clear()\n",
    "logger.addHandler(fhandler)\n",
    "logger.setLevel(logging.DEBUG)\n",
    "# logger.setLevel(logging.WARNING)"
   ]
  },
  {
   "cell_type": "code",
   "execution_count": 13,
   "metadata": {},
   "outputs": [],
   "source": [
    "model = model_cls(training=False, step_rescale=1.0)\n"
   ]
  },
  {
   "cell_type": "code",
   "execution_count": 14,
   "metadata": {},
   "outputs": [],
   "source": [
    "i = 200\n",
    "l2_state_n = 20\n",
    "# m_seq conditional (500) and eval messages (100) tokenised\n",
    "# _ Target: scalar placeholder. \n",
    "# b_seq_pv raw form of book 4*nlvl+1\n",
    "# msg_seq_raw msgs after preproc but before tokenising\n",
    "# book_l2_init: n-1 book state... needs attention for unconditional case. \n",
    "m_seq, _, b_seq_pv, msg_seq_raw, book_l2_init = ds[int(i)]\n",
    "\n",
    "\n",
    "#  b_seq : transformed into 501 size array. \n",
    "b_seq = jnp.array(transform_L2_state(b_seq_pv, n_vol_series, 100))\n",
    "b_seq=jax.device_put(b_seq,device=jax.devices()[0])\n",
    "m_seq_raw_inp = msg_seq_raw[: n_messages_conditional]\n",
    "\n",
    "# with jax.disable_jit():\n",
    "\n",
    "# initialise simulator\n",
    "sim_init, sim_state_init = inference.get_sim(\n",
    "    book_l2_init,  # book state before any messages\n",
    "    m_seq_raw_inp, # messages to replay to init sim\n",
    ")\n",
    "# # book state after initialisation (replayed messages)\n",
    "# l2_book_state_init = sim_init.get_L2_state(sim_state_init, l2_state_n)\n",
    "\n",
    "\n",
    "m_seq=jnp.concatenate([jnp.array([v.START_TOK]),m_seq])"
   ]
  },
  {
   "cell_type": "code",
   "execution_count": 24,
   "metadata": {},
   "outputs": [
    {
     "data": {
      "text/plain": [
       "count    1.500000e+03\n",
       "mean     7.880375e+06\n",
       "std      2.200660e+04\n",
       "min      7.840000e+06\n",
       "25%      7.863800e+06\n",
       "50%      7.864600e+06\n",
       "75%      7.896000e+06\n",
       "max      7.926200e+06\n",
       "Name: price, dtype: float64"
      ]
     },
     "execution_count": 24,
     "metadata": {},
     "output_type": "execute_result"
    }
   ],
   "source": [
    "msg_seq_raw\n",
    "\n",
    "inference.msg_to_lobster_format(msg_seq_raw).price.describe()"
   ]
  },
  {
   "cell_type": "code",
   "execution_count": null,
   "metadata": {},
   "outputs": [],
   "source": []
  },
  {
   "cell_type": "code",
   "execution_count": 36,
   "metadata": {},
   "outputs": [],
   "source": [
    "init_hidden=model.initialize_carry(args.bsz//args.num_devices,\n",
    "                                        hidden_size=(args.ssm_size_base // pow(2,int(args.conj_sym))),\n",
    "                                        n_message_layers=args.n_message_layers,\n",
    "                                        n_book_pre_layers=args.n_book_pre_layers ,\n",
    "                                        n_book_post_layers=args.n_book_post_layers,\n",
    "                                        n_fused_layers=args.n_layers,)"
   ]
  },
  {
   "cell_type": "code",
   "execution_count": 81,
   "metadata": {},
   "outputs": [
    {
     "name": "stdout",
     "output_type": "stream",
     "text": [
      "Best logits for index 0 after the mask: \n",
      " [[1004 1006 1005 ...    2    1    0]]\n",
      "Best logits for index 0 before the mask: \n",
      " [[1004 1006 1005 ...  512  461  468]]\n",
      "Mask for index 0: \n",
      " [False False False ... False False False]\n",
      "Best logits for index 1 after the mask: \n",
      " [[12010 12011     3 ...     2     1     0]]\n",
      "Best logits for index 1 before the mask: \n",
      " [[12010 12011 12008 ...   278   603   285]]\n",
      "Mask for index 1: \n",
      " [False False False ... False  True  True]\n",
      "Best logits for index 2 after the mask: \n",
      " [[12009 12008 12011 ...     2     1     0]]\n",
      "Best logits for index 2 before the mask: \n",
      " [[12009 12008 12010 ...   859   285   603]]\n",
      "Mask for index 2: \n",
      " [False False False ...  True False False]\n",
      "Best logits for index 3 after the mask: \n",
      " [[11095 11093 11094 ...     2     1     0]]\n",
      "Best logits for index 3 before the mask: \n",
      " [[11095 11093 11094 ...   758    32    29]]\n",
      "Mask for index 3: \n",
      " [False False False ... False False False]\n",
      "Best logits for index 4 after the mask: \n",
      " [[1014 1032 1026 ...    2    1    0]]\n",
      "Best logits for index 4 before the mask: \n",
      " [[1014 1032 1026 ...  865  699  280]]\n",
      "Mask for index 4: \n",
      " [False False False ... False False False]\n",
      "Best logits for index 5 after the mask: \n",
      " [[4 5 6 ... 2 1 0]]\n",
      "Best logits for index 5 before the mask: \n",
      " [[   4    5    6 ... 3215 5570 2200]]\n",
      "Mask for index 5: \n",
      " [False False False ... False False False]\n",
      "Best logits for index 6 after the mask: \n",
      " [[ 5 61 60 ...  2  1  0]]\n",
      "Best logits for index 6 before the mask: \n",
      " [[    5    61    60 ... 11054 11058 11125]]\n",
      "Mask for index 6: \n",
      " [False False False ... False False False]\n",
      "Best logits for index 7 after the mask: \n",
      " [[202 213 205 ...   2   1   0]]\n",
      "Best logits for index 7 before the mask: \n",
      " [[  202   213   205 ... 11079 11083 11366]]\n",
      "Mask for index 7: \n",
      " [False False False ... False False False]\n",
      "Best logits for index 8 after the mask: \n",
      " [[980 323 872 ...   2   1   0]]\n",
      "Best logits for index 8 before the mask: \n",
      " [[  980   323   872 ... 11079 11083 11366]]\n",
      "Mask for index 8: \n",
      " [False False False ... False False False]\n",
      "Best logits for index 14 before the mask: \n",
      " [[12008 12009 11008 ...   492   285   603]]\n",
      "Mask for index 14: \n",
      " [False False  True ...  True False False]\n",
      "Best logits for index 14 after the mask: \n",
      " [[12008 12009     2 ...     3     1     0]]\n",
      "Best logits for index 15 before the mask: \n",
      " [[11008     2 12008 ...   492   646   570]]\n",
      "Mask for index 15: \n",
      " [False False  True ... False False False]\n",
      "Best logits for index 15 after the mask: \n",
      " [[11008     2 12007 ...     4     1     0]]\n",
      "Best logits for index 16 before the mask: \n",
      " [[    2 11008  1056 ...   723   654   288]]\n",
      "Mask for index 16: \n",
      " [False False  True ... False False False]\n",
      "Best logits for index 16 after the mask: \n",
      " [[   2 1056 1074 ...    4    1    0]]\n",
      "Best logits for index 17 before the mask: \n",
      " [[   4 1074 1063 ...  252  285  278]]\n",
      "Mask for index 17: \n",
      " [False False  True ... False False False]\n",
      "Best logits for index 17 after the mask: \n",
      " [[  4   6   5 ... 252 285 278]]\n",
      "Best logits for index 18 before the mask: \n",
      " [[  4   6   5 ... 280 278 252]]\n",
      "Mask for index 18: \n",
      " [False False  True ... False False False]\n",
      "Best logits for index 18 after the mask: \n",
      " [[   4    6    5 ... 1004    1    0]]\n",
      "Best logits for index 19 before the mask: \n",
      " [[   4    5    6 ... 2463  296  252]]\n",
      "Mask for index 19: \n",
      " [False False  True ... False False False]\n",
      "Best logits for index 19 after the mask: \n",
      " [[   4    5    6 ... 1004    1    0]]\n",
      "Best logits for index 20 before the mask: \n",
      " [[    4     5     6 ...  5518 10884  2463]]\n",
      "Mask for index 20: \n",
      " [False False  True ... False False False]\n",
      "Best logits for index 20 after the mask: \n",
      " [[   4    5    6 ... 1004    1    0]]\n",
      "Best logits for index 21 before the mask: \n",
      " [[   4    5    6 ... 5518 2463 4877]]\n",
      "Mask for index 21: \n",
      " [False False  True ... False False False]\n",
      "Best logits for index 21 after the mask: \n",
      " [[   4    5    6 ... 1004    1    0]]\n"
     ]
    }
   ],
   "source": [
    "msgs_decoded, l2_book_states, num_errors,msgs_tokens = inference.generate(\n",
    "    sim_init,\n",
    "    state,\n",
    "    model,\n",
    "    args.batchnorm,\n",
    "    v.ENCODING,\n",
    "    sample_top_n,\n",
    "    tick_size,\n",
    "    jax.device_put(jnp.array(m_seq[:11000+1])),#include start token\n",
    "    jax.device_put(jnp.array(b_seq[:500])),\n",
    "    1, #n_gen_msgs\n",
    "    sim_state_init,\n",
    "    rng,\n",
    "    init_hidden,\n",
    "    True,\n",
    "    (0,0),\n",
    ")"
   ]
  },
  {
   "cell_type": "code",
   "execution_count": 82,
   "metadata": {},
   "outputs": [
    {
     "data": {
      "text/html": [
       "<div>\n",
       "<style scoped>\n",
       "    .dataframe tbody tr th:only-of-type {\n",
       "        vertical-align: middle;\n",
       "    }\n",
       "\n",
       "    .dataframe tbody tr th {\n",
       "        vertical-align: top;\n",
       "    }\n",
       "\n",
       "    .dataframe thead th {\n",
       "        text-align: right;\n",
       "    }\n",
       "</style>\n",
       "<table border=\"1\" class=\"dataframe\">\n",
       "  <thead>\n",
       "    <tr style=\"text-align: right;\">\n",
       "      <th></th>\n",
       "      <th>time</th>\n",
       "      <th>event_type</th>\n",
       "      <th>order_id</th>\n",
       "      <th>size</th>\n",
       "      <th>price</th>\n",
       "      <th>direction</th>\n",
       "    </tr>\n",
       "  </thead>\n",
       "  <tbody>\n",
       "    <tr>\n",
       "      <th>0</th>\n",
       "      <td>25229.703371149</td>\n",
       "      <td>1</td>\n",
       "      <td>1</td>\n",
       "      <td>6</td>\n",
       "      <td>7900100</td>\n",
       "      <td>-1</td>\n",
       "    </tr>\n",
       "  </tbody>\n",
       "</table>\n",
       "</div>"
      ],
      "text/plain": [
       "              time  event_type  order_id  size    price  direction\n",
       "0  25229.703371149           1         1     6  7900100         -1"
      ]
     },
     "execution_count": 82,
     "metadata": {},
     "output_type": "execute_result"
    }
   ],
   "source": [
    "inference.msg_to_lobster_format(msgs_decoded[:1])"
   ]
  },
  {
   "cell_type": "code",
   "execution_count": 83,
   "metadata": {},
   "outputs": [
    {
     "data": {
      "text/plain": [
       "Array([[        1,         1,         0,   7900100,       127,         6,\n",
       "                0,   2204670,     25229, 703371149,         0,     -9999,\n",
       "                0,         0]], dtype=int32)"
      ]
     },
     "execution_count": 83,
     "metadata": {},
     "output_type": "execute_result"
    }
   ],
   "source": [
    "msgs_decoded[:1]"
   ]
  },
  {
   "cell_type": "code",
   "execution_count": 103,
   "metadata": {},
   "outputs": [
    {
     "data": {
      "text/plain": [
       "Array([[ 1004, 12010, 12009, 11135,  1014,     4,     6,   208,   674,\n",
       "           29,   233,   707,   375,   153, 12008, 11008,     2,     4,\n",
       "            4,     4,     4,     4]], dtype=int32)"
      ]
     },
     "execution_count": 103,
     "metadata": {},
     "output_type": "execute_result"
    }
   ],
   "source": [
    "msgs_tokens[:1]"
   ]
  },
  {
   "cell_type": "code",
   "execution_count": 106,
   "metadata": {},
   "outputs": [
    {
     "name": "stdout",
     "output_type": "stream",
     "text": [
      "0\n"
     ]
    },
    {
     "data": {
      "text/plain": [
       "Array(-10000, dtype=int32)"
      ]
     },
     "execution_count": 106,
     "metadata": {},
     "output_type": "execute_result"
    }
   ],
   "source": [
    "v.ENCODING['price']\n",
    "\n",
    "\n",
    "from encoding import decode\n",
    "\n",
    "print(decode(11008,*v.ENCODING['price']))\n",
    "decode(0,*v.ENCODING['sign'])\n"
   ]
  },
  {
   "cell_type": "code",
   "execution_count": 101,
   "metadata": {},
   "outputs": [
    {
     "data": {
      "text/plain": [
       "(Array([-10000, -20000,  -9999, -30000,     -1,      1], dtype=int32),\n",
       " Array([    0,     1,     2,     3, 12008, 12009], dtype=int32))"
      ]
     },
     "execution_count": 101,
     "metadata": {},
     "output_type": "execute_result"
    }
   ],
   "source": [
    "v.ENCODING['sign']"
   ]
  },
  {
   "cell_type": "code",
   "execution_count": 87,
   "metadata": {},
   "outputs": [],
   "source": [
    "np.set_printoptions(edgeitems=5)\n",
    "jnp.set_printoptions(edgeitems=5)"
   ]
  },
  {
   "cell_type": "code",
   "execution_count": null,
   "metadata": {},
   "outputs": [],
   "source": [
    "11008, ..., 12003, 12004, 12005, 12006,12007"
   ]
  },
  {
   "cell_type": "code",
   "execution_count": 53,
   "metadata": {},
   "outputs": [
    {
     "data": {
      "text/html": [
       "<pre style=\"white-space:pre;overflow-x:auto;line-height:normal;font-family:Menlo,'DejaVu Sans Mono',consolas,'Courier New',monospace\"><span style=\"color: #800000; text-decoration-color: #800000\">╭─────────────────────────────── </span><span style=\"color: #800000; text-decoration-color: #800000; font-weight: bold\">Traceback </span><span style=\"color: #bf7f7f; text-decoration-color: #bf7f7f; font-weight: bold\">(most recent call last)</span><span style=\"color: #800000; text-decoration-color: #800000\"> ────────────────────────────────╮</span>\n",
       "<span style=\"color: #800000; text-decoration-color: #800000\">│</span> in <span style=\"color: #00ff00; text-decoration-color: #00ff00\">&lt;module&gt;</span>:<span style=\"color: #0000ff; text-decoration-color: #0000ff\">4</span>                                                                                    <span style=\"color: #800000; text-decoration-color: #800000\">│</span>\n",
       "<span style=\"color: #800000; text-decoration-color: #800000\">│</span>                                                                                                  <span style=\"color: #800000; text-decoration-color: #800000\">│</span>\n",
       "<span style=\"color: #800000; text-decoration-color: #800000\">│</span>   <span style=\"color: #7f7f7f; text-decoration-color: #7f7f7f\">1 </span>jax.device_put(jnp.array(m_seq[:<span style=\"color: #0000ff; text-decoration-color: #0000ff\">11000</span>+<span style=\"color: #0000ff; text-decoration-color: #0000ff\">1</span>]))<span style=\"color: #7f7f7f; text-decoration-color: #7f7f7f\">#[:-1]</span>                                             <span style=\"color: #800000; text-decoration-color: #800000\">│</span>\n",
       "<span style=\"color: #800000; text-decoration-color: #800000\">│</span>   <span style=\"color: #7f7f7f; text-decoration-color: #7f7f7f\">2 </span>valh.get_field_from_idx(<span style=\"color: #0000ff; text-decoration-color: #0000ff\">21</span>)                                                                  <span style=\"color: #800000; text-decoration-color: #800000\">│</span>\n",
       "<span style=\"color: #800000; text-decoration-color: #800000\">│</span>   <span style=\"color: #7f7f7f; text-decoration-color: #7f7f7f\">3 </span>valh.get_idx_from_field(<span style=\"color: #808000; text-decoration-color: #808000\">\"time_ns\"</span>)                                                           <span style=\"color: #800000; text-decoration-color: #800000\">│</span>\n",
       "<span style=\"color: #800000; text-decoration-color: #800000\">│</span> <span style=\"color: #800000; text-decoration-color: #800000\">❱ </span>4 valh.get_valid_toks_for_field([<span style=\"color: #808000; text-decoration-color: #808000\">'time_ns'</span>])                                                   <span style=\"color: #800000; text-decoration-color: #800000\">│</span>\n",
       "<span style=\"color: #800000; text-decoration-color: #800000\">│</span>   <span style=\"color: #7f7f7f; text-decoration-color: #7f7f7f\">5 </span>                                                                                             <span style=\"color: #800000; text-decoration-color: #800000\">│</span>\n",
       "<span style=\"color: #800000; text-decoration-color: #800000\">│</span>                                                                                                  <span style=\"color: #800000; text-decoration-color: #800000\">│</span>\n",
       "<span style=\"color: #800000; text-decoration-color: #800000\">│</span> <span style=\"color: #bfbf7f; text-decoration-color: #bfbf7f\">/data1/sascha/LOBS5/lob/</span><span style=\"color: #808000; text-decoration-color: #808000; font-weight: bold\">validation_helpers.py</span>:<span style=\"color: #0000ff; text-decoration-color: #0000ff\">114</span> in <span style=\"color: #00ff00; text-decoration-color: #00ff00\">get_valid_toks_for_field</span>                    <span style=\"color: #800000; text-decoration-color: #800000\">│</span>\n",
       "<span style=\"color: #800000; text-decoration-color: #800000\">│</span>                                                                                                  <span style=\"color: #800000; text-decoration-color: #800000\">│</span>\n",
       "<span style=\"color: #800000; text-decoration-color: #800000\">│</span>   <span style=\"color: #7f7f7f; text-decoration-color: #7f7f7f\">111 </span><span style=\"color: #0000ff; text-decoration-color: #0000ff\">def</span> <span style=\"color: #00ff00; text-decoration-color: #00ff00\">get_valid_toks_for_field</span>(fields):                                                      <span style=\"color: #800000; text-decoration-color: #800000\">│</span>\n",
       "<span style=\"color: #800000; text-decoration-color: #800000\">│</span>   <span style=\"color: #7f7f7f; text-decoration-color: #7f7f7f\">112 </span><span style=\"color: #bfbfbf; text-decoration-color: #bfbfbf\">│   </span><span style=\"color: #808000; text-decoration-color: #808000\">\"\"\" Get the valid labels for given fields</span>                                              <span style=\"color: #800000; text-decoration-color: #800000\">│</span>\n",
       "<span style=\"color: #800000; text-decoration-color: #800000\">│</span>   <span style=\"color: #7f7f7f; text-decoration-color: #7f7f7f\">113 </span><span style=\"color: #bfbf7f; text-decoration-color: #bfbf7f\">│   </span><span style=\"color: #808000; text-decoration-color: #808000\">\"\"\"</span>                                                                                    <span style=\"color: #800000; text-decoration-color: #800000\">│</span>\n",
       "<span style=\"color: #800000; text-decoration-color: #800000\">│</span> <span style=\"color: #800000; text-decoration-color: #800000\">❱ </span>114 <span style=\"color: #7f7f7f; text-decoration-color: #7f7f7f\">│   </span><span style=\"color: #0000ff; text-decoration-color: #0000ff\">return</span> <span style=\"color: #00ffff; text-decoration-color: #00ffff\">tuple</span>(<span style=\"color: #00ffff; text-decoration-color: #00ffff\">tuple</span>(                                                                    <span style=\"color: #800000; text-decoration-color: #800000\">│</span>\n",
       "<span style=\"color: #800000; text-decoration-color: #800000\">│</span>   <span style=\"color: #7f7f7f; text-decoration-color: #7f7f7f\">115 </span><span style=\"color: #7f7f7f; text-decoration-color: #7f7f7f\">│   │   </span>v.DECODING[Message_Tokenizer.FIELD_ENC_TYPES[field]].keys())                       <span style=\"color: #800000; text-decoration-color: #800000\">│</span>\n",
       "<span style=\"color: #800000; text-decoration-color: #800000\">│</span>   <span style=\"color: #7f7f7f; text-decoration-color: #7f7f7f\">116 </span><span style=\"color: #7f7f7f; text-decoration-color: #7f7f7f\">│   │     </span><span style=\"color: #0000ff; text-decoration-color: #0000ff\">for</span> field <span style=\"color: #ff00ff; text-decoration-color: #ff00ff\">in</span> fields)                                                             <span style=\"color: #800000; text-decoration-color: #800000\">│</span>\n",
       "<span style=\"color: #800000; text-decoration-color: #800000\">│</span>   <span style=\"color: #7f7f7f; text-decoration-color: #7f7f7f\">117 </span>                                                                                           <span style=\"color: #800000; text-decoration-color: #800000\">│</span>\n",
       "<span style=\"color: #800000; text-decoration-color: #800000\">│</span>                                                                                                  <span style=\"color: #800000; text-decoration-color: #800000\">│</span>\n",
       "<span style=\"color: #800000; text-decoration-color: #800000\">│</span> <span style=\"color: #bfbf7f; text-decoration-color: #bfbf7f\">/data1/sascha/LOBS5/lob/</span><span style=\"color: #808000; text-decoration-color: #808000; font-weight: bold\">validation_helpers.py</span>:<span style=\"color: #0000ff; text-decoration-color: #0000ff\">115</span> in <span style=\"color: #00ff00; text-decoration-color: #00ff00\">&lt;genexpr&gt;</span>                                   <span style=\"color: #800000; text-decoration-color: #800000\">│</span>\n",
       "<span style=\"color: #800000; text-decoration-color: #800000\">│</span>                                                                                                  <span style=\"color: #800000; text-decoration-color: #800000\">│</span>\n",
       "<span style=\"color: #800000; text-decoration-color: #800000\">│</span>   <span style=\"color: #7f7f7f; text-decoration-color: #7f7f7f\">112 </span><span style=\"color: #bfbfbf; text-decoration-color: #bfbfbf\">│   </span><span style=\"color: #808000; text-decoration-color: #808000\">\"\"\" Get the valid labels for given fields</span>                                              <span style=\"color: #800000; text-decoration-color: #800000\">│</span>\n",
       "<span style=\"color: #800000; text-decoration-color: #800000\">│</span>   <span style=\"color: #7f7f7f; text-decoration-color: #7f7f7f\">113 </span><span style=\"color: #bfbf7f; text-decoration-color: #bfbf7f\">│   </span><span style=\"color: #808000; text-decoration-color: #808000\">\"\"\"</span>                                                                                    <span style=\"color: #800000; text-decoration-color: #800000\">│</span>\n",
       "<span style=\"color: #800000; text-decoration-color: #800000\">│</span>   <span style=\"color: #7f7f7f; text-decoration-color: #7f7f7f\">114 </span><span style=\"color: #7f7f7f; text-decoration-color: #7f7f7f\">│   </span><span style=\"color: #0000ff; text-decoration-color: #0000ff\">return</span> <span style=\"color: #00ffff; text-decoration-color: #00ffff\">tuple</span>(<span style=\"color: #00ffff; text-decoration-color: #00ffff\">tuple</span>(                                                                    <span style=\"color: #800000; text-decoration-color: #800000\">│</span>\n",
       "<span style=\"color: #800000; text-decoration-color: #800000\">│</span> <span style=\"color: #800000; text-decoration-color: #800000\">❱ </span>115 <span style=\"color: #7f7f7f; text-decoration-color: #7f7f7f\">│   │   </span>v.DECODING[Message_Tokenizer.FIELD_ENC_TYPES[field]].keys())                       <span style=\"color: #800000; text-decoration-color: #800000\">│</span>\n",
       "<span style=\"color: #800000; text-decoration-color: #800000\">│</span>   <span style=\"color: #7f7f7f; text-decoration-color: #7f7f7f\">116 </span><span style=\"color: #7f7f7f; text-decoration-color: #7f7f7f\">│   │     </span><span style=\"color: #0000ff; text-decoration-color: #0000ff\">for</span> field <span style=\"color: #ff00ff; text-decoration-color: #ff00ff\">in</span> fields)                                                             <span style=\"color: #800000; text-decoration-color: #800000\">│</span>\n",
       "<span style=\"color: #800000; text-decoration-color: #800000\">│</span>   <span style=\"color: #7f7f7f; text-decoration-color: #7f7f7f\">117 </span>                                                                                           <span style=\"color: #800000; text-decoration-color: #800000\">│</span>\n",
       "<span style=\"color: #800000; text-decoration-color: #800000\">│</span>   <span style=\"color: #7f7f7f; text-decoration-color: #7f7f7f\">118 </span><span style=\"color: #0000ff; text-decoration-color: #0000ff\">def</span> <span style=\"color: #00ff00; text-decoration-color: #00ff00\">get_valid_toks_for_input</span>(inp_maybe_batched):                                           <span style=\"color: #800000; text-decoration-color: #800000\">│</span>\n",
       "<span style=\"color: #800000; text-decoration-color: #800000\">╰──────────────────────────────────────────────────────────────────────────────────────────────────╯</span>\n",
       "<span style=\"color: #ff0000; text-decoration-color: #ff0000; font-weight: bold\">KeyError: </span><span style=\"color: #008000; text-decoration-color: #008000\">'time'</span>\n",
       "</pre>\n"
      ],
      "text/plain": [
       "\u001b[31m╭─\u001b[0m\u001b[31m──────────────────────────────\u001b[0m\u001b[31m \u001b[0m\u001b[1;31mTraceback \u001b[0m\u001b[1;2;31m(most recent call last)\u001b[0m\u001b[31m \u001b[0m\u001b[31m───────────────────────────────\u001b[0m\u001b[31m─╮\u001b[0m\n",
       "\u001b[31m│\u001b[0m in \u001b[92m<module>\u001b[0m:\u001b[94m4\u001b[0m                                                                                    \u001b[31m│\u001b[0m\n",
       "\u001b[31m│\u001b[0m                                                                                                  \u001b[31m│\u001b[0m\n",
       "\u001b[31m│\u001b[0m   \u001b[2m1 \u001b[0mjax.device_put(jnp.array(m_seq[:\u001b[94m11000\u001b[0m+\u001b[94m1\u001b[0m]))\u001b[2m#[:-1]\u001b[0m                                             \u001b[31m│\u001b[0m\n",
       "\u001b[31m│\u001b[0m   \u001b[2m2 \u001b[0mvalh.get_field_from_idx(\u001b[94m21\u001b[0m)                                                                  \u001b[31m│\u001b[0m\n",
       "\u001b[31m│\u001b[0m   \u001b[2m3 \u001b[0mvalh.get_idx_from_field(\u001b[33m\"\u001b[0m\u001b[33mtime_ns\u001b[0m\u001b[33m\"\u001b[0m)                                                           \u001b[31m│\u001b[0m\n",
       "\u001b[31m│\u001b[0m \u001b[31m❱ \u001b[0m4 valh.get_valid_toks_for_field([\u001b[33m'\u001b[0m\u001b[33mtime_ns\u001b[0m\u001b[33m'\u001b[0m])                                                   \u001b[31m│\u001b[0m\n",
       "\u001b[31m│\u001b[0m   \u001b[2m5 \u001b[0m                                                                                             \u001b[31m│\u001b[0m\n",
       "\u001b[31m│\u001b[0m                                                                                                  \u001b[31m│\u001b[0m\n",
       "\u001b[31m│\u001b[0m \u001b[2;33m/data1/sascha/LOBS5/lob/\u001b[0m\u001b[1;33mvalidation_helpers.py\u001b[0m:\u001b[94m114\u001b[0m in \u001b[92mget_valid_toks_for_field\u001b[0m                    \u001b[31m│\u001b[0m\n",
       "\u001b[31m│\u001b[0m                                                                                                  \u001b[31m│\u001b[0m\n",
       "\u001b[31m│\u001b[0m   \u001b[2m111 \u001b[0m\u001b[94mdef\u001b[0m \u001b[92mget_valid_toks_for_field\u001b[0m(fields):                                                      \u001b[31m│\u001b[0m\n",
       "\u001b[31m│\u001b[0m   \u001b[2m112 \u001b[0m\u001b[2;90m│   \u001b[0m\u001b[33m\"\"\" Get the valid labels for given fields\u001b[0m                                              \u001b[31m│\u001b[0m\n",
       "\u001b[31m│\u001b[0m   \u001b[2m113 \u001b[0m\u001b[2;33m│   \u001b[0m\u001b[33m\"\"\"\u001b[0m                                                                                    \u001b[31m│\u001b[0m\n",
       "\u001b[31m│\u001b[0m \u001b[31m❱ \u001b[0m114 \u001b[2m│   \u001b[0m\u001b[94mreturn\u001b[0m \u001b[96mtuple\u001b[0m(\u001b[96mtuple\u001b[0m(                                                                    \u001b[31m│\u001b[0m\n",
       "\u001b[31m│\u001b[0m   \u001b[2m115 \u001b[0m\u001b[2m│   │   \u001b[0mv.DECODING[Message_Tokenizer.FIELD_ENC_TYPES[field]].keys())                       \u001b[31m│\u001b[0m\n",
       "\u001b[31m│\u001b[0m   \u001b[2m116 \u001b[0m\u001b[2m│   │     \u001b[0m\u001b[94mfor\u001b[0m field \u001b[95min\u001b[0m fields)                                                             \u001b[31m│\u001b[0m\n",
       "\u001b[31m│\u001b[0m   \u001b[2m117 \u001b[0m                                                                                           \u001b[31m│\u001b[0m\n",
       "\u001b[31m│\u001b[0m                                                                                                  \u001b[31m│\u001b[0m\n",
       "\u001b[31m│\u001b[0m \u001b[2;33m/data1/sascha/LOBS5/lob/\u001b[0m\u001b[1;33mvalidation_helpers.py\u001b[0m:\u001b[94m115\u001b[0m in \u001b[92m<genexpr>\u001b[0m                                   \u001b[31m│\u001b[0m\n",
       "\u001b[31m│\u001b[0m                                                                                                  \u001b[31m│\u001b[0m\n",
       "\u001b[31m│\u001b[0m   \u001b[2m112 \u001b[0m\u001b[2;90m│   \u001b[0m\u001b[33m\"\"\" Get the valid labels for given fields\u001b[0m                                              \u001b[31m│\u001b[0m\n",
       "\u001b[31m│\u001b[0m   \u001b[2m113 \u001b[0m\u001b[2;33m│   \u001b[0m\u001b[33m\"\"\"\u001b[0m                                                                                    \u001b[31m│\u001b[0m\n",
       "\u001b[31m│\u001b[0m   \u001b[2m114 \u001b[0m\u001b[2m│   \u001b[0m\u001b[94mreturn\u001b[0m \u001b[96mtuple\u001b[0m(\u001b[96mtuple\u001b[0m(                                                                    \u001b[31m│\u001b[0m\n",
       "\u001b[31m│\u001b[0m \u001b[31m❱ \u001b[0m115 \u001b[2m│   │   \u001b[0mv.DECODING[Message_Tokenizer.FIELD_ENC_TYPES[field]].keys())                       \u001b[31m│\u001b[0m\n",
       "\u001b[31m│\u001b[0m   \u001b[2m116 \u001b[0m\u001b[2m│   │     \u001b[0m\u001b[94mfor\u001b[0m field \u001b[95min\u001b[0m fields)                                                             \u001b[31m│\u001b[0m\n",
       "\u001b[31m│\u001b[0m   \u001b[2m117 \u001b[0m                                                                                           \u001b[31m│\u001b[0m\n",
       "\u001b[31m│\u001b[0m   \u001b[2m118 \u001b[0m\u001b[94mdef\u001b[0m \u001b[92mget_valid_toks_for_input\u001b[0m(inp_maybe_batched):                                           \u001b[31m│\u001b[0m\n",
       "\u001b[31m╰──────────────────────────────────────────────────────────────────────────────────────────────────╯\u001b[0m\n",
       "\u001b[1;91mKeyError: \u001b[0m\u001b[32m'time'\u001b[0m\n"
      ]
     },
     "metadata": {},
     "output_type": "display_data"
    }
   ],
   "source": [
    "jax.device_put(jnp.array(m_seq[:11000+1]))#[:-1]\n",
    "valh.get_field_from_idx(21)\n",
    "valh.get_idx_from_field(\"time_ns\")\n",
    "valh.get_valid_toks_for_field(['time_ns'])"
   ]
  },
  {
   "cell_type": "code",
   "execution_count": 54,
   "metadata": {},
   "outputs": [
    {
     "data": {
      "text/html": [
       "<pre style=\"white-space:pre;overflow-x:auto;line-height:normal;font-family:Menlo,'DejaVu Sans Mono',consolas,'Courier New',monospace\"><span style=\"color: #800000; text-decoration-color: #800000\">╭─────────────────────────────── </span><span style=\"color: #800000; text-decoration-color: #800000; font-weight: bold\">Traceback </span><span style=\"color: #bf7f7f; text-decoration-color: #bf7f7f; font-weight: bold\">(most recent call last)</span><span style=\"color: #800000; text-decoration-color: #800000\"> ────────────────────────────────╮</span>\n",
       "<span style=\"color: #800000; text-decoration-color: #800000\">│</span> in <span style=\"color: #00ff00; text-decoration-color: #00ff00\">&lt;module&gt;</span>:<span style=\"color: #0000ff; text-decoration-color: #0000ff\">1</span>                                                                                    <span style=\"color: #800000; text-decoration-color: #800000\">│</span>\n",
       "<span style=\"color: #800000; text-decoration-color: #800000\">│</span>                                                                                                  <span style=\"color: #800000; text-decoration-color: #800000\">│</span>\n",
       "<span style=\"color: #800000; text-decoration-color: #800000\">│</span> <span style=\"color: #800000; text-decoration-color: #800000\">❱ </span>1 <span style=\"color: #00ffff; text-decoration-color: #00ffff\">tuple</span>(<span style=\"color: #00ffff; text-decoration-color: #00ffff\">tuple</span>(                                                                                 <span style=\"color: #800000; text-decoration-color: #800000\">│</span>\n",
       "<span style=\"color: #800000; text-decoration-color: #800000\">│</span>   <span style=\"color: #7f7f7f; text-decoration-color: #7f7f7f\">2 </span><span style=\"color: #7f7f7f; text-decoration-color: #7f7f7f\">│   │   </span>v.ENCODING[Message_Tokenizer.FIELD_ENC_TYPES[field]].keys())                         <span style=\"color: #800000; text-decoration-color: #800000\">│</span>\n",
       "<span style=\"color: #800000; text-decoration-color: #800000\">│</span>   <span style=\"color: #7f7f7f; text-decoration-color: #7f7f7f\">3 </span><span style=\"color: #7f7f7f; text-decoration-color: #7f7f7f\">│   │     </span><span style=\"color: #0000ff; text-decoration-color: #0000ff\">for</span> field <span style=\"color: #ff00ff; text-decoration-color: #ff00ff\">in</span> [<span style=\"color: #808000; text-decoration-color: #808000\">'time_s'</span>])                                                           <span style=\"color: #800000; text-decoration-color: #800000\">│</span>\n",
       "<span style=\"color: #800000; text-decoration-color: #800000\">│</span>   <span style=\"color: #7f7f7f; text-decoration-color: #7f7f7f\">4 </span>                                                                                             <span style=\"color: #800000; text-decoration-color: #800000\">│</span>\n",
       "<span style=\"color: #800000; text-decoration-color: #800000\">│</span>                                                                                                  <span style=\"color: #800000; text-decoration-color: #800000\">│</span>\n",
       "<span style=\"color: #800000; text-decoration-color: #800000\">│</span> in <span style=\"color: #00ff00; text-decoration-color: #00ff00\">&lt;genexpr&gt;</span>:<span style=\"color: #0000ff; text-decoration-color: #0000ff\">2</span>                                                                                   <span style=\"color: #800000; text-decoration-color: #800000\">│</span>\n",
       "<span style=\"color: #800000; text-decoration-color: #800000\">│</span>                                                                                                  <span style=\"color: #800000; text-decoration-color: #800000\">│</span>\n",
       "<span style=\"color: #800000; text-decoration-color: #800000\">│</span>   <span style=\"color: #7f7f7f; text-decoration-color: #7f7f7f\">1 </span><span style=\"color: #00ffff; text-decoration-color: #00ffff\">tuple</span>(<span style=\"color: #00ffff; text-decoration-color: #00ffff\">tuple</span>(                                                                                 <span style=\"color: #800000; text-decoration-color: #800000\">│</span>\n",
       "<span style=\"color: #800000; text-decoration-color: #800000\">│</span> <span style=\"color: #800000; text-decoration-color: #800000\">❱ </span>2 <span style=\"color: #7f7f7f; text-decoration-color: #7f7f7f\">│   │   </span>v.ENCODING[Message_Tokenizer.FIELD_ENC_TYPES[field]].keys())                         <span style=\"color: #800000; text-decoration-color: #800000\">│</span>\n",
       "<span style=\"color: #800000; text-decoration-color: #800000\">│</span>   <span style=\"color: #7f7f7f; text-decoration-color: #7f7f7f\">3 </span><span style=\"color: #7f7f7f; text-decoration-color: #7f7f7f\">│   │     </span><span style=\"color: #0000ff; text-decoration-color: #0000ff\">for</span> field <span style=\"color: #ff00ff; text-decoration-color: #ff00ff\">in</span> [<span style=\"color: #808000; text-decoration-color: #808000\">'time_s'</span>])                                                           <span style=\"color: #800000; text-decoration-color: #800000\">│</span>\n",
       "<span style=\"color: #800000; text-decoration-color: #800000\">│</span>   <span style=\"color: #7f7f7f; text-decoration-color: #7f7f7f\">4 </span>                                                                                             <span style=\"color: #800000; text-decoration-color: #800000\">│</span>\n",
       "<span style=\"color: #800000; text-decoration-color: #800000\">╰──────────────────────────────────────────────────────────────────────────────────────────────────╯</span>\n",
       "<span style=\"color: #ff0000; text-decoration-color: #ff0000; font-weight: bold\">AttributeError: </span><span style=\"color: #008000; text-decoration-color: #008000\">'tuple'</span> object has no attribute <span style=\"color: #008000; text-decoration-color: #008000\">'keys'</span>\n",
       "</pre>\n"
      ],
      "text/plain": [
       "\u001b[31m╭─\u001b[0m\u001b[31m──────────────────────────────\u001b[0m\u001b[31m \u001b[0m\u001b[1;31mTraceback \u001b[0m\u001b[1;2;31m(most recent call last)\u001b[0m\u001b[31m \u001b[0m\u001b[31m───────────────────────────────\u001b[0m\u001b[31m─╮\u001b[0m\n",
       "\u001b[31m│\u001b[0m in \u001b[92m<module>\u001b[0m:\u001b[94m1\u001b[0m                                                                                    \u001b[31m│\u001b[0m\n",
       "\u001b[31m│\u001b[0m                                                                                                  \u001b[31m│\u001b[0m\n",
       "\u001b[31m│\u001b[0m \u001b[31m❱ \u001b[0m1 \u001b[96mtuple\u001b[0m(\u001b[96mtuple\u001b[0m(                                                                                 \u001b[31m│\u001b[0m\n",
       "\u001b[31m│\u001b[0m   \u001b[2m2 \u001b[0m\u001b[2m│   │   \u001b[0mv.ENCODING[Message_Tokenizer.FIELD_ENC_TYPES[field]].keys())                         \u001b[31m│\u001b[0m\n",
       "\u001b[31m│\u001b[0m   \u001b[2m3 \u001b[0m\u001b[2m│   │     \u001b[0m\u001b[94mfor\u001b[0m field \u001b[95min\u001b[0m [\u001b[33m'\u001b[0m\u001b[33mtime_s\u001b[0m\u001b[33m'\u001b[0m])                                                           \u001b[31m│\u001b[0m\n",
       "\u001b[31m│\u001b[0m   \u001b[2m4 \u001b[0m                                                                                             \u001b[31m│\u001b[0m\n",
       "\u001b[31m│\u001b[0m                                                                                                  \u001b[31m│\u001b[0m\n",
       "\u001b[31m│\u001b[0m in \u001b[92m<genexpr>\u001b[0m:\u001b[94m2\u001b[0m                                                                                   \u001b[31m│\u001b[0m\n",
       "\u001b[31m│\u001b[0m                                                                                                  \u001b[31m│\u001b[0m\n",
       "\u001b[31m│\u001b[0m   \u001b[2m1 \u001b[0m\u001b[96mtuple\u001b[0m(\u001b[96mtuple\u001b[0m(                                                                                 \u001b[31m│\u001b[0m\n",
       "\u001b[31m│\u001b[0m \u001b[31m❱ \u001b[0m2 \u001b[2m│   │   \u001b[0mv.ENCODING[Message_Tokenizer.FIELD_ENC_TYPES[field]].keys())                         \u001b[31m│\u001b[0m\n",
       "\u001b[31m│\u001b[0m   \u001b[2m3 \u001b[0m\u001b[2m│   │     \u001b[0m\u001b[94mfor\u001b[0m field \u001b[95min\u001b[0m [\u001b[33m'\u001b[0m\u001b[33mtime_s\u001b[0m\u001b[33m'\u001b[0m])                                                           \u001b[31m│\u001b[0m\n",
       "\u001b[31m│\u001b[0m   \u001b[2m4 \u001b[0m                                                                                             \u001b[31m│\u001b[0m\n",
       "\u001b[31m╰──────────────────────────────────────────────────────────────────────────────────────────────────╯\u001b[0m\n",
       "\u001b[1;91mAttributeError: \u001b[0m\u001b[32m'tuple'\u001b[0m object has no attribute \u001b[32m'keys'\u001b[0m\n"
      ]
     },
     "metadata": {},
     "output_type": "display_data"
    }
   ],
   "source": [
    "tuple(tuple(\n",
    "        v.ENCODING[Message_Tokenizer.FIELD_ENC_TYPES[field]].keys())\n",
    "          for field in ['time_s'])"
   ]
  },
  {
   "cell_type": "code",
   "execution_count": 46,
   "metadata": {},
   "outputs": [
    {
     "data": {
      "text/plain": [
       "{}"
      ]
     },
     "execution_count": 46,
     "metadata": {},
     "output_type": "execute_result"
    }
   ],
   "source": [
    "v.DECODING"
   ]
  },
  {
   "cell_type": "code",
   "execution_count": 40,
   "metadata": {},
   "outputs": [
    {
     "name": "stdout",
     "output_type": "stream",
     "text": [
      "time_s\n"
     ]
    }
   ],
   "source": [
    "for field in ['time_s']:\n",
    "    print(field)"
   ]
  },
  {
   "cell_type": "code",
   "execution_count": 23,
   "metadata": {},
   "outputs": [
    {
     "data": {
      "text/html": [
       "<div>\n",
       "<style scoped>\n",
       "    .dataframe tbody tr th:only-of-type {\n",
       "        vertical-align: middle;\n",
       "    }\n",
       "\n",
       "    .dataframe tbody tr th {\n",
       "        vertical-align: top;\n",
       "    }\n",
       "\n",
       "    .dataframe thead th {\n",
       "        text-align: right;\n",
       "    }\n",
       "</style>\n",
       "<table border=\"1\" class=\"dataframe\">\n",
       "  <thead>\n",
       "    <tr style=\"text-align: right;\">\n",
       "      <th></th>\n",
       "      <th>time</th>\n",
       "      <th>event_type</th>\n",
       "      <th>order_id</th>\n",
       "      <th>size</th>\n",
       "      <th>price</th>\n",
       "      <th>direction</th>\n",
       "    </tr>\n",
       "  </thead>\n",
       "  <tbody>\n",
       "    <tr>\n",
       "      <th>0</th>\n",
       "      <td>25229.703371149</td>\n",
       "      <td>1</td>\n",
       "      <td>1000</td>\n",
       "      <td>6</td>\n",
       "      <td>7900100</td>\n",
       "      <td>-1</td>\n",
       "    </tr>\n",
       "    <tr>\n",
       "      <th>1</th>\n",
       "      <td>25229.703405248</td>\n",
       "      <td>3</td>\n",
       "      <td>-1</td>\n",
       "      <td>6</td>\n",
       "      <td>7896000</td>\n",
       "      <td>-1</td>\n",
       "    </tr>\n",
       "    <tr>\n",
       "      <th>2</th>\n",
       "      <td>25229.704395401</td>\n",
       "      <td>1</td>\n",
       "      <td>998</td>\n",
       "      <td>18</td>\n",
       "      <td>7898500</td>\n",
       "      <td>-1</td>\n",
       "    </tr>\n",
       "    <tr>\n",
       "      <th>3</th>\n",
       "      <td>25229.704439751</td>\n",
       "      <td>3</td>\n",
       "      <td>-1</td>\n",
       "      <td>6</td>\n",
       "      <td>7898200</td>\n",
       "      <td>-1</td>\n",
       "    </tr>\n",
       "    <tr>\n",
       "      <th>4</th>\n",
       "      <td>25229.739425619</td>\n",
       "      <td>3</td>\n",
       "      <td>-1</td>\n",
       "      <td>6</td>\n",
       "      <td>7874600</td>\n",
       "      <td>1</td>\n",
       "    </tr>\n",
       "    <tr>\n",
       "      <th>5</th>\n",
       "      <td>25229.739440119</td>\n",
       "      <td>3</td>\n",
       "      <td>-1</td>\n",
       "      <td>60</td>\n",
       "      <td>7863200</td>\n",
       "      <td>1</td>\n",
       "    </tr>\n",
       "    <tr>\n",
       "      <th>6</th>\n",
       "      <td>25229.743440376</td>\n",
       "      <td>3</td>\n",
       "      <td>-1</td>\n",
       "      <td>6</td>\n",
       "      <td>7900100</td>\n",
       "      <td>-1</td>\n",
       "    </tr>\n",
       "    <tr>\n",
       "      <th>7</th>\n",
       "      <td>25229.745325586</td>\n",
       "      <td>1</td>\n",
       "      <td>993</td>\n",
       "      <td>6</td>\n",
       "      <td>7897600</td>\n",
       "      <td>-1</td>\n",
       "    </tr>\n",
       "    <tr>\n",
       "      <th>8</th>\n",
       "      <td>25229.745332256</td>\n",
       "      <td>1</td>\n",
       "      <td>992</td>\n",
       "      <td>24</td>\n",
       "      <td>7862700</td>\n",
       "      <td>1</td>\n",
       "    </tr>\n",
       "    <tr>\n",
       "      <th>9</th>\n",
       "      <td>25229.745348240</td>\n",
       "      <td>3</td>\n",
       "      <td>-1</td>\n",
       "      <td>6</td>\n",
       "      <td>7897700</td>\n",
       "      <td>-1</td>\n",
       "    </tr>\n",
       "  </tbody>\n",
       "</table>\n",
       "</div>"
      ],
      "text/plain": [
       "              time  event_type  order_id  size    price  direction\n",
       "0  25229.703371149           1      1000     6  7900100         -1\n",
       "1  25229.703405248           3        -1     6  7896000         -1\n",
       "2  25229.704395401           1       998    18  7898500         -1\n",
       "3  25229.704439751           3        -1     6  7898200         -1\n",
       "4  25229.739425619           3        -1     6  7874600          1\n",
       "5  25229.739440119           3        -1    60  7863200          1\n",
       "6  25229.743440376           3        -1     6  7900100         -1\n",
       "7  25229.745325586           1       993     6  7897600         -1\n",
       "8  25229.745332256           1       992    24  7862700          1\n",
       "9  25229.745348240           3        -1     6  7897700         -1"
      ]
     },
     "execution_count": 23,
     "metadata": {},
     "output_type": "execute_result"
    }
   ],
   "source": [
    "inference.msg_to_lobster_format( msgs_decoded[0:10])\n"
   ]
  },
  {
   "cell_type": "code",
   "execution_count": 30,
   "metadata": {},
   "outputs": [
    {
     "data": {
      "text/html": [
       "<div>\n",
       "<style scoped>\n",
       "    .dataframe tbody tr th:only-of-type {\n",
       "        vertical-align: middle;\n",
       "    }\n",
       "\n",
       "    .dataframe tbody tr th {\n",
       "        vertical-align: top;\n",
       "    }\n",
       "\n",
       "    .dataframe thead th {\n",
       "        text-align: right;\n",
       "    }\n",
       "</style>\n",
       "<table border=\"1\" class=\"dataframe\">\n",
       "  <thead>\n",
       "    <tr style=\"text-align: right;\">\n",
       "      <th></th>\n",
       "      <th>0</th>\n",
       "      <th>1</th>\n",
       "      <th>2</th>\n",
       "      <th>3</th>\n",
       "      <th>4</th>\n",
       "      <th>5</th>\n",
       "      <th>6</th>\n",
       "      <th>7</th>\n",
       "      <th>8</th>\n",
       "      <th>9</th>\n",
       "      <th>10</th>\n",
       "      <th>11</th>\n",
       "      <th>12</th>\n",
       "      <th>13</th>\n",
       "      <th>14</th>\n",
       "      <th>15</th>\n",
       "      <th>16</th>\n",
       "      <th>17</th>\n",
       "      <th>18</th>\n",
       "      <th>19</th>\n",
       "    </tr>\n",
       "  </thead>\n",
       "  <tbody>\n",
       "    <tr>\n",
       "      <th>0</th>\n",
       "      <td>6</td>\n",
       "      <td>7926200</td>\n",
       "      <td>66</td>\n",
       "      <td>100</td>\n",
       "      <td>100</td>\n",
       "      <td>1999999900</td>\n",
       "      <td>100</td>\n",
       "      <td>-1</td>\n",
       "      <td>0</td>\n",
       "      <td>-1</td>\n",
       "      <td>0</td>\n",
       "      <td>-1</td>\n",
       "      <td>0</td>\n",
       "      <td>-1</td>\n",
       "      <td>0</td>\n",
       "      <td>-1</td>\n",
       "      <td>0</td>\n",
       "      <td>-1</td>\n",
       "      <td>0</td>\n",
       "      <td>-1</td>\n",
       "    </tr>\n",
       "    <tr>\n",
       "      <th>1</th>\n",
       "      <td>6</td>\n",
       "      <td>7926200</td>\n",
       "      <td>66</td>\n",
       "      <td>100</td>\n",
       "      <td>100</td>\n",
       "      <td>1999999900</td>\n",
       "      <td>100</td>\n",
       "      <td>-1</td>\n",
       "      <td>0</td>\n",
       "      <td>-1</td>\n",
       "      <td>0</td>\n",
       "      <td>-1</td>\n",
       "      <td>0</td>\n",
       "      <td>-1</td>\n",
       "      <td>0</td>\n",
       "      <td>-1</td>\n",
       "      <td>0</td>\n",
       "      <td>-1</td>\n",
       "      <td>0</td>\n",
       "      <td>-1</td>\n",
       "    </tr>\n",
       "    <tr>\n",
       "      <th>2</th>\n",
       "      <td>6</td>\n",
       "      <td>7916600</td>\n",
       "      <td>6</td>\n",
       "      <td>100</td>\n",
       "      <td>100</td>\n",
       "      <td>7926200</td>\n",
       "      <td>66</td>\n",
       "      <td>-1</td>\n",
       "      <td>0</td>\n",
       "      <td>1999999900</td>\n",
       "      <td>100</td>\n",
       "      <td>-1</td>\n",
       "      <td>0</td>\n",
       "      <td>-1</td>\n",
       "      <td>0</td>\n",
       "      <td>-1</td>\n",
       "      <td>0</td>\n",
       "      <td>-1</td>\n",
       "      <td>0</td>\n",
       "      <td>-1</td>\n",
       "    </tr>\n",
       "    <tr>\n",
       "      <th>3</th>\n",
       "      <td>6</td>\n",
       "      <td>7916600</td>\n",
       "      <td>6</td>\n",
       "      <td>100</td>\n",
       "      <td>100</td>\n",
       "      <td>7926200</td>\n",
       "      <td>66</td>\n",
       "      <td>-1</td>\n",
       "      <td>0</td>\n",
       "      <td>1999999900</td>\n",
       "      <td>100</td>\n",
       "      <td>-1</td>\n",
       "      <td>0</td>\n",
       "      <td>-1</td>\n",
       "      <td>0</td>\n",
       "      <td>-1</td>\n",
       "      <td>0</td>\n",
       "      <td>-1</td>\n",
       "      <td>0</td>\n",
       "      <td>-1</td>\n",
       "    </tr>\n",
       "    <tr>\n",
       "      <th>4</th>\n",
       "      <td>6</td>\n",
       "      <td>7916600</td>\n",
       "      <td>6</td>\n",
       "      <td>100</td>\n",
       "      <td>100</td>\n",
       "      <td>7926200</td>\n",
       "      <td>66</td>\n",
       "      <td>-1</td>\n",
       "      <td>0</td>\n",
       "      <td>1999999900</td>\n",
       "      <td>100</td>\n",
       "      <td>-1</td>\n",
       "      <td>0</td>\n",
       "      <td>-1</td>\n",
       "      <td>0</td>\n",
       "      <td>-1</td>\n",
       "      <td>0</td>\n",
       "      <td>-1</td>\n",
       "      <td>0</td>\n",
       "      <td>-1</td>\n",
       "    </tr>\n",
       "    <tr>\n",
       "      <th>5</th>\n",
       "      <td>6</td>\n",
       "      <td>7916600</td>\n",
       "      <td>6</td>\n",
       "      <td>100</td>\n",
       "      <td>100</td>\n",
       "      <td>7926200</td>\n",
       "      <td>66</td>\n",
       "      <td>-1</td>\n",
       "      <td>0</td>\n",
       "      <td>1999999900</td>\n",
       "      <td>100</td>\n",
       "      <td>-1</td>\n",
       "      <td>0</td>\n",
       "      <td>-1</td>\n",
       "      <td>0</td>\n",
       "      <td>-1</td>\n",
       "      <td>0</td>\n",
       "      <td>-1</td>\n",
       "      <td>0</td>\n",
       "      <td>-1</td>\n",
       "    </tr>\n",
       "    <tr>\n",
       "      <th>6</th>\n",
       "      <td>6</td>\n",
       "      <td>7916600</td>\n",
       "      <td>6</td>\n",
       "      <td>100</td>\n",
       "      <td>100</td>\n",
       "      <td>7926200</td>\n",
       "      <td>66</td>\n",
       "      <td>-1</td>\n",
       "      <td>0</td>\n",
       "      <td>1999999900</td>\n",
       "      <td>100</td>\n",
       "      <td>-1</td>\n",
       "      <td>0</td>\n",
       "      <td>-1</td>\n",
       "      <td>0</td>\n",
       "      <td>-1</td>\n",
       "      <td>0</td>\n",
       "      <td>-1</td>\n",
       "      <td>0</td>\n",
       "      <td>-1</td>\n",
       "    </tr>\n",
       "    <tr>\n",
       "      <th>7</th>\n",
       "      <td>6</td>\n",
       "      <td>7900100</td>\n",
       "      <td>6</td>\n",
       "      <td>100</td>\n",
       "      <td>100</td>\n",
       "      <td>7916600</td>\n",
       "      <td>6</td>\n",
       "      <td>-1</td>\n",
       "      <td>0</td>\n",
       "      <td>7926200</td>\n",
       "      <td>66</td>\n",
       "      <td>-1</td>\n",
       "      <td>0</td>\n",
       "      <td>1999999900</td>\n",
       "      <td>100</td>\n",
       "      <td>-1</td>\n",
       "      <td>0</td>\n",
       "      <td>-1</td>\n",
       "      <td>0</td>\n",
       "      <td>-1</td>\n",
       "    </tr>\n",
       "    <tr>\n",
       "      <th>8</th>\n",
       "      <td>24</td>\n",
       "      <td>7900100</td>\n",
       "      <td>6</td>\n",
       "      <td>7862400</td>\n",
       "      <td>6</td>\n",
       "      <td>7916600</td>\n",
       "      <td>6</td>\n",
       "      <td>100</td>\n",
       "      <td>100</td>\n",
       "      <td>7926200</td>\n",
       "      <td>66</td>\n",
       "      <td>-1</td>\n",
       "      <td>0</td>\n",
       "      <td>1999999900</td>\n",
       "      <td>100</td>\n",
       "      <td>-1</td>\n",
       "      <td>0</td>\n",
       "      <td>-1</td>\n",
       "      <td>0</td>\n",
       "      <td>-1</td>\n",
       "    </tr>\n",
       "    <tr>\n",
       "      <th>9</th>\n",
       "      <td>24</td>\n",
       "      <td>7900100</td>\n",
       "      <td>6</td>\n",
       "      <td>7862400</td>\n",
       "      <td>6</td>\n",
       "      <td>7916600</td>\n",
       "      <td>6</td>\n",
       "      <td>100</td>\n",
       "      <td>100</td>\n",
       "      <td>7926200</td>\n",
       "      <td>66</td>\n",
       "      <td>-1</td>\n",
       "      <td>0</td>\n",
       "      <td>1999999900</td>\n",
       "      <td>100</td>\n",
       "      <td>-1</td>\n",
       "      <td>0</td>\n",
       "      <td>-1</td>\n",
       "      <td>0</td>\n",
       "      <td>-1</td>\n",
       "    </tr>\n",
       "  </tbody>\n",
       "</table>\n",
       "</div>"
      ],
      "text/plain": [
       "   0        1   2        3    4           5    6    7    8           9    10  \\\n",
       "0   6  7926200  66      100  100  1999999900  100   -1    0          -1    0   \n",
       "1   6  7926200  66      100  100  1999999900  100   -1    0          -1    0   \n",
       "2   6  7916600   6      100  100     7926200   66   -1    0  1999999900  100   \n",
       "3   6  7916600   6      100  100     7926200   66   -1    0  1999999900  100   \n",
       "4   6  7916600   6      100  100     7926200   66   -1    0  1999999900  100   \n",
       "5   6  7916600   6      100  100     7926200   66   -1    0  1999999900  100   \n",
       "6   6  7916600   6      100  100     7926200   66   -1    0  1999999900  100   \n",
       "7   6  7900100   6      100  100     7916600    6   -1    0     7926200   66   \n",
       "8  24  7900100   6  7862400    6     7916600    6  100  100     7926200   66   \n",
       "9  24  7900100   6  7862400    6     7916600    6  100  100     7926200   66   \n",
       "\n",
       "   11  12          13   14  15  16  17  18  19  \n",
       "0  -1   0          -1    0  -1   0  -1   0  -1  \n",
       "1  -1   0          -1    0  -1   0  -1   0  -1  \n",
       "2  -1   0          -1    0  -1   0  -1   0  -1  \n",
       "3  -1   0          -1    0  -1   0  -1   0  -1  \n",
       "4  -1   0          -1    0  -1   0  -1   0  -1  \n",
       "5  -1   0          -1    0  -1   0  -1   0  -1  \n",
       "6  -1   0          -1    0  -1   0  -1   0  -1  \n",
       "7  -1   0  1999999900  100  -1   0  -1   0  -1  \n",
       "8  -1   0  1999999900  100  -1   0  -1   0  -1  \n",
       "9  -1   0  1999999900  100  -1   0  -1   0  -1  "
      ]
     },
     "execution_count": 30,
     "metadata": {},
     "output_type": "execute_result"
    }
   ],
   "source": [
    "inference.book_to_lobster_format(l2_book_states[0:10,15:35])"
   ]
  },
  {
   "cell_type": "code",
   "execution_count": 20,
   "metadata": {},
   "outputs": [
    {
     "name": "stdout",
     "output_type": "stream",
     "text": [
      "([(1, 1, 256), (1, 1, 256)], ([(1, 1, 256)], [(1, 1, 256)]), [(1, 1, 256), (1, 1, 256), (1, 1, 256), (1, 1, 256), (1, 1, 256), (1, 1, 256), (1, 1, 256), (1, 1, 256), (1, 1, 256), (1, 1, 256), (1, 1, 256), (1, 1, 256)])\n",
      "([(16, 1, 1, 256), (16, 1, 1, 256)], ([(16, 1, 1, 256)], [(16, 1, 1, 256)]), [(16, 1, 1, 256), (16, 1, 1, 256), (16, 1, 1, 256), (16, 1, 1, 256), (16, 1, 1, 256), (16, 1, 1, 256), (16, 1, 1, 256), (16, 1, 1, 256), (16, 1, 1, 256), (16, 1, 1, 256), (16, 1, 1, 256), (16, 1, 1, 256)])\n",
      "((1,), (1,))\n",
      "((16, 1), (16, 1))\n"
     ]
    },
    {
     "name": "stderr",
     "output_type": "stream",
     "text": [
      "  0%|          | 0/10 [00:00<?, ?it/s]"
     ]
    },
    {
     "name": "stdout",
     "output_type": "stream",
     "text": [
      "BATCH [225109, 43405, 23400, 204158, 120045, 156096, 111123, 184358, 201905, 25776, 217364, 47568, 179108, 153087, 86083, 180859]\n",
      "(16, 33001)\n",
      "Shapes: (11000,) (11000, 501) (11000,) (11000,)\n",
      "num_errors [488 530 642 533 392 516 434 581 606 497 596 533 607 641 537 461]\n"
     ]
    },
    {
     "name": "stderr",
     "output_type": "stream",
     "text": [
      " 10%|█         | 1/10 [01:13<11:05, 73.93s/it]"
     ]
    },
    {
     "name": "stdout",
     "output_type": "stream",
     "text": [
      "BATCH [30075, 71460, 235944, 227142, 76711, 173973, 144488, 148192, 197492, 163529, 164720, 105177, 74853, 3550, 163062, 212693]\n",
      "(16, 33001)\n",
      "num_errors [580 611 544 502 474 477 473 519 592 522 539 453 492 569 493 557]\n"
     ]
    },
    {
     "name": "stderr",
     "output_type": "stream",
     "text": [
      " 20%|██        | 2/10 [02:05<08:04, 60.52s/it]"
     ]
    },
    {
     "name": "stdout",
     "output_type": "stream",
     "text": [
      "BATCH [158837, 130981, 212778, 92903, 130463, 6378, 156206, 200864, 219247, 121750, 161688, 49688, 186519, 223495, 28732, 56155]\n",
      "(16, 33001)\n",
      "num_errors [649 626 636 441 460 512 499 559 619 414 598 538 527 567 627 536]\n"
     ]
    },
    {
     "name": "stderr",
     "output_type": "stream",
     "text": [
      " 30%|███       | 3/10 [02:54<06:29, 55.58s/it]"
     ]
    },
    {
     "name": "stdout",
     "output_type": "stream",
     "text": [
      "BATCH [190025, 220755, 136259, 202664, 218871, 196875, 202826, 179914, 139359, 203073, 215836, 77201, 250, 173248, 77533, 51024]\n",
      "(16, 33001)\n",
      "num_errors [406 558 510 658 458 578 643 574 465 589 630 462 470 541 429 475]\n"
     ]
    },
    {
     "name": "stderr",
     "output_type": "stream",
     "text": [
      " 40%|████      | 4/10 [03:44<05:18, 53.15s/it]"
     ]
    },
    {
     "name": "stdout",
     "output_type": "stream",
     "text": [
      "BATCH [25305, 153701, 200527, 234139, 52908, 81398, 224175, 55992, 219892, 146467, 179800, 166912, 69015, 104139, 8997, 140708]\n",
      "(16, 33001)\n",
      "num_errors [514 582 514 602 484 590 438 467 431 524 554 556 575 500 547 424]\n"
     ]
    },
    {
     "name": "stderr",
     "output_type": "stream",
     "text": [
      " 50%|█████     | 5/10 [04:35<04:22, 52.43s/it]"
     ]
    },
    {
     "name": "stdout",
     "output_type": "stream",
     "text": [
      "BATCH [105400, 178295, 21527, 206944, 5630, 11457, 165270, 210857, 191998, 78779, 144828, 162682, 100460, 20910, 136822, 39606]\n",
      "(16, 33001)\n",
      "num_errors [448 657 550 560 601 553 540 529 580 625 463 533 557 536 427 521]\n"
     ]
    },
    {
     "name": "stderr",
     "output_type": "stream",
     "text": [
      " 60%|██████    | 6/10 [05:25<03:26, 51.69s/it]"
     ]
    },
    {
     "name": "stdout",
     "output_type": "stream",
     "text": [
      "BATCH [171268, 221944, 179460, 222499, 171266, 105145, 167644, 22225, 203269, 127060, 95927, 117082, 60990, 64432, 108757, 201621]\n",
      "(16, 33001)\n",
      "num_errors [499 434 561 385 437 463 446 537 609 481 460 619 384 482 470 489]\n"
     ]
    },
    {
     "name": "stderr",
     "output_type": "stream",
     "text": [
      " 70%|███████   | 7/10 [06:15<02:33, 51.05s/it]"
     ]
    },
    {
     "name": "stdout",
     "output_type": "stream",
     "text": [
      "BATCH [72176, 224861, 109885, 221776, 218160, 138582, 147534, 76642, 66433, 102961, 16071, 193255, 126907, 138655, 71303, 54796]\n",
      "(16, 33001)\n",
      "num_errors [475 474 504 487 447 486 579 629 492 562 528 519 485 498 569 484]\n"
     ]
    },
    {
     "name": "stderr",
     "output_type": "stream",
     "text": [
      " 80%|████████  | 8/10 [07:05<01:41, 50.81s/it]"
     ]
    },
    {
     "name": "stdout",
     "output_type": "stream",
     "text": [
      "BATCH [25850, 23756, 75245, 234753, 145059, 16959, 52811, 213331, 159605, 63000, 159380, 67265, 226941, 20129, 64934, 50975]\n",
      "(16, 33001)\n",
      "num_errors [261 348 425 584 557 524 557 511 467 632 477 515 619 586 628 510]\n"
     ]
    },
    {
     "name": "stderr",
     "output_type": "stream",
     "text": [
      " 90%|█████████ | 9/10 [07:55<00:50, 50.44s/it]"
     ]
    },
    {
     "name": "stdout",
     "output_type": "stream",
     "text": [
      "BATCH [2942, 9521, 189484, 165953, 233652, 88681, 98372, 212118, 24167, 139837, 187348, 29207, 171535, 212651, 74332, 29392]\n",
      "(16, 33001)\n",
      "num_errors [465 363 528 481 460 586 519 512 574 446 427 547 616 488 498 500]\n"
     ]
    },
    {
     "name": "stderr",
     "output_type": "stream",
     "text": [
      "100%|██████████| 10/10 [08:46<00:00, 52.67s/it]\n"
     ]
    }
   ],
   "source": [
    "n_samples = 160\n",
    "batch_size = 16\n",
    "\n",
    "# m_seq_gen, b_seq_gen, msgs_decoded, l2_book_states, num_errors = inference.sample_new(\n",
    "# saves data to disk\n",
    "inference.sample_new(\n",
    "    n_samples,\n",
    "    batch_size,\n",
    "    ds,\n",
    "    rng,\n",
    "    cond_seq_len,\n",
    "    n_eval_messages,\n",
    "    n_gen_msgs,\n",
    "    state,\n",
    "    model,\n",
    "    args.batchnorm,\n",
    "    v.ENCODING,\n",
    "    stock,\n",
    "    save_folder='/data1/sascha/data/GOOG_eval',\n",
    "    args=args,\n",
    "    conditional= True,\n",
    "    init_time = (jnp.array([0]),jnp.array([0])),\n",
    ")"
   ]
  },
  {
   "cell_type": "code",
   "execution_count": null,
   "metadata": {},
   "outputs": [],
   "source": []
  },
  {
   "cell_type": "code",
   "execution_count": null,
   "metadata": {},
   "outputs": [],
   "source": []
  }
 ],
 "metadata": {
  "kernelspec": {
   "display_name": "alphatrade_new",
   "language": "python",
   "name": "python3"
  },
  "language_info": {
   "codemirror_mode": {
    "name": "ipython",
    "version": 3
   },
   "file_extension": ".py",
   "mimetype": "text/x-python",
   "name": "python",
   "nbconvert_exporter": "python",
   "pygments_lexer": "ipython3",
   "version": "3.10.13"
  }
 },
 "nbformat": 4,
 "nbformat_minor": 2
}
