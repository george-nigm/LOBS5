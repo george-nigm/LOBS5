{
 "cells": [
  {
   "cell_type": "code",
   "execution_count": 1,
   "metadata": {},
   "outputs": [],
   "source": [
    "%load_ext autoreload\n",
    "%autoreload 2"
   ]
  },
  {
   "cell_type": "code",
   "execution_count": 2,
   "metadata": {},
   "outputs": [],
   "source": [
    "import os\n",
    "import sys\n",
    "\n",
    "# add git submodule to path to allow imports to work\n",
    "submodule_name = 'AlphaTrade'\n",
    "#(parent_folder_path, current_dir) = os.path.split(os.path.abspath(''))\n",
    "sys.path.append(os.path.join(os.path.abspath(''), submodule_name))\n"
   ]
  },
  {
   "cell_type": "code",
   "execution_count": 6,
   "metadata": {},
   "outputs": [],
   "source": [
    "import pandas as pd"
   ]
  },
  {
   "cell_type": "code",
   "execution_count": 3,
   "metadata": {},
   "outputs": [
    {
     "data": {
      "text/plain": [
       "['/nfs/home/peern/LOBS5',\n",
       " '/usr/lib/python38.zip',\n",
       " '/usr/lib/python3.8',\n",
       " '/usr/lib/python3.8/lib-dynload',\n",
       " '',\n",
       " '/nfs/home/peern/rlenv/lib/python3.8/site-packages',\n",
       " '/nfs/home/peern/LOBS5',\n",
       " '/nfs/home/peern/rlenv/lib/python3.8/site-packages/IPython/extensions',\n",
       " '/nfs/home/peern/.ipython',\n",
       " '/nfs/home/peern/LOBS5/AlphaTrade']"
      ]
     },
     "execution_count": 3,
     "metadata": {},
     "output_type": "execute_result"
    }
   ],
   "source": [
    "sys.path"
   ]
  },
  {
   "cell_type": "code",
   "execution_count": 50,
   "metadata": {},
   "outputs": [],
   "source": [
    "from gymnax_exchange.jaxob.jorderbook import OrderBook\n",
    "import gymnax_exchange.jaxob.JaxOrderbook as job"
   ]
  },
  {
   "cell_type": "code",
   "execution_count": 4,
   "metadata": {},
   "outputs": [
    {
     "data": {
      "text/plain": [
       "<gymnax_exchange.jaxob.jorderbook.OrderBook at 0x7feff1b2b550>"
      ]
     },
     "execution_count": 4,
     "metadata": {},
     "output_type": "execute_result"
    }
   ],
   "source": [
    "b = OrderBook(price_levels=10, orderQueueLen=10)\n",
    "b"
   ]
  },
  {
   "cell_type": "code",
   "execution_count": null,
   "metadata": {},
   "outputs": [],
   "source": [
    "# TODO: load message data from file and test b.process_orders_array(msgs)\n",
    "#       and b.process_order(quote:Dict,from_data=False,verbose=False):"
   ]
  },
  {
   "cell_type": "code",
   "execution_count": 51,
   "metadata": {},
   "outputs": [
    {
     "name": "stderr",
     "output_type": "stream",
     "text": [
      "/nfs/home/peern/rlenv/lib/python3.8/site-packages/IPython/core/interactiveshell.py:3553: DtypeWarning: Columns (6) have mixed types.Specify dtype option on import or set low_memory=False.\n",
      "  exec(code_obj, self.user_global_ns, self.user_ns)\n",
      "/nfs/home/peern/rlenv/lib/python3.8/site-packages/pandas/util/_decorators.py:311: ParserWarning: Length of header or names does not match length of data. This leads to a loss of data with index_col=False.\n",
      "  return func(*args, **kwargs)\n"
     ]
    }
   ],
   "source": [
    "m_df = pd.read_csv(\n",
    "    'data/raw/GOOG_2023-01-03_34200000_57600000_message_10.csv',\n",
    "    index_col=False,\n",
    "    #header=None,\n",
    "    names=['timestamp', 'type', 'order_id', 'quantity', 'price', 'side'])\n",
    "\n",
    "b_df = pd.read_csv(\n",
    "    'data/raw/GOOG_2023-01-03_34200000_57600000_orderbook_10.csv',\n",
    "    index_col=False,\n",
    "    header=None\n",
    ")"
   ]
  },
  {
   "cell_type": "code",
   "execution_count": 35,
   "metadata": {},
   "outputs": [
    {
     "data": {
      "text/html": [
       "<div>\n",
       "<style scoped>\n",
       "    .dataframe tbody tr th:only-of-type {\n",
       "        vertical-align: middle;\n",
       "    }\n",
       "\n",
       "    .dataframe tbody tr th {\n",
       "        vertical-align: top;\n",
       "    }\n",
       "\n",
       "    .dataframe thead th {\n",
       "        text-align: right;\n",
       "    }\n",
       "</style>\n",
       "<table border=\"1\" class=\"dataframe\">\n",
       "  <thead>\n",
       "    <tr style=\"text-align: right;\">\n",
       "      <th></th>\n",
       "      <th>timestamp</th>\n",
       "      <th>type</th>\n",
       "      <th>order_id</th>\n",
       "      <th>quantity</th>\n",
       "      <th>price</th>\n",
       "      <th>side</th>\n",
       "      <th>trade_id</th>\n",
       "    </tr>\n",
       "  </thead>\n",
       "  <tbody>\n",
       "    <tr>\n",
       "      <th>0</th>\n",
       "      <td>34200.001061298</td>\n",
       "      <td>4</td>\n",
       "      <td>26617106</td>\n",
       "      <td>185</td>\n",
       "      <td>898500</td>\n",
       "      <td>-1</td>\n",
       "      <td>0</td>\n",
       "    </tr>\n",
       "    <tr>\n",
       "      <th>1</th>\n",
       "      <td>34200.001095123</td>\n",
       "      <td>4</td>\n",
       "      <td>26617106</td>\n",
       "      <td>100</td>\n",
       "      <td>898500</td>\n",
       "      <td>-1</td>\n",
       "      <td>0</td>\n",
       "    </tr>\n",
       "    <tr>\n",
       "      <th>2</th>\n",
       "      <td>34200.002310775</td>\n",
       "      <td>1</td>\n",
       "      <td>26628478</td>\n",
       "      <td>1700</td>\n",
       "      <td>897000</td>\n",
       "      <td>1</td>\n",
       "      <td>0</td>\n",
       "    </tr>\n",
       "    <tr>\n",
       "      <th>3</th>\n",
       "      <td>34200.002364829</td>\n",
       "      <td>1</td>\n",
       "      <td>26628606</td>\n",
       "      <td>2300</td>\n",
       "      <td>897600</td>\n",
       "      <td>1</td>\n",
       "      <td>0</td>\n",
       "    </tr>\n",
       "    <tr>\n",
       "      <th>4</th>\n",
       "      <td>34200.002446746</td>\n",
       "      <td>1</td>\n",
       "      <td>26628742</td>\n",
       "      <td>2254</td>\n",
       "      <td>897800</td>\n",
       "      <td>1</td>\n",
       "      <td>0</td>\n",
       "    </tr>\n",
       "    <tr>\n",
       "      <th>...</th>\n",
       "      <td>...</td>\n",
       "      <td>...</td>\n",
       "      <td>...</td>\n",
       "      <td>...</td>\n",
       "      <td>...</td>\n",
       "      <td>...</td>\n",
       "      <td>...</td>\n",
       "    </tr>\n",
       "    <tr>\n",
       "      <th>1962415</th>\n",
       "      <td>57599.985151757</td>\n",
       "      <td>1</td>\n",
       "      <td>905843398</td>\n",
       "      <td>6159</td>\n",
       "      <td>896800</td>\n",
       "      <td>1</td>\n",
       "      <td>0</td>\n",
       "    </tr>\n",
       "    <tr>\n",
       "      <th>1962416</th>\n",
       "      <td>57599.985166759</td>\n",
       "      <td>1</td>\n",
       "      <td>905843410</td>\n",
       "      <td>6159</td>\n",
       "      <td>897600</td>\n",
       "      <td>-1</td>\n",
       "      <td>0</td>\n",
       "    </tr>\n",
       "    <tr>\n",
       "      <th>1962417</th>\n",
       "      <td>57599.985729067</td>\n",
       "      <td>1</td>\n",
       "      <td>905843602</td>\n",
       "      <td>11600</td>\n",
       "      <td>897200</td>\n",
       "      <td>-1</td>\n",
       "      <td>0</td>\n",
       "    </tr>\n",
       "    <tr>\n",
       "      <th>1962418</th>\n",
       "      <td>57599.986159522</td>\n",
       "      <td>1</td>\n",
       "      <td>905843674</td>\n",
       "      <td>4500</td>\n",
       "      <td>897300</td>\n",
       "      <td>-1</td>\n",
       "      <td>0</td>\n",
       "    </tr>\n",
       "    <tr>\n",
       "      <th>1962419</th>\n",
       "      <td>57599.986217028</td>\n",
       "      <td>1</td>\n",
       "      <td>905843686</td>\n",
       "      <td>6500</td>\n",
       "      <td>897400</td>\n",
       "      <td>-1</td>\n",
       "      <td>0</td>\n",
       "    </tr>\n",
       "  </tbody>\n",
       "</table>\n",
       "<p>1962420 rows × 7 columns</p>\n",
       "</div>"
      ],
      "text/plain": [
       "               timestamp  type   order_id  quantity   price  side  trade_id\n",
       "0        34200.001061298     4   26617106       185  898500    -1         0\n",
       "1        34200.001095123     4   26617106       100  898500    -1         0\n",
       "2        34200.002310775     1   26628478      1700  897000     1         0\n",
       "3        34200.002364829     1   26628606      2300  897600     1         0\n",
       "4        34200.002446746     1   26628742      2254  897800     1         0\n",
       "...                  ...   ...        ...       ...     ...   ...       ...\n",
       "1962415  57599.985151757     1  905843398      6159  896800     1         0\n",
       "1962416  57599.985166759     1  905843410      6159  897600    -1         0\n",
       "1962417  57599.985729067     1  905843602     11600  897200    -1         0\n",
       "1962418  57599.986159522     1  905843674      4500  897300    -1         0\n",
       "1962419  57599.986217028     1  905843686      6500  897400    -1         0\n",
       "\n",
       "[1962420 rows x 7 columns]"
      ]
     },
     "execution_count": 35,
     "metadata": {},
     "output_type": "execute_result"
    }
   ],
   "source": [
    "# should be \"trader_id\" for multiple agents\n",
    "m['trade_id'] = 0\n",
    "m.timestamp = m.timestamp.astype(str)\n",
    "m"
   ]
  },
  {
   "cell_type": "code",
   "execution_count": 36,
   "metadata": {},
   "outputs": [
    {
     "data": {
      "text/plain": [
       "{'timestamp': '34200.001061298',\n",
       " 'type': 4,\n",
       " 'order_id': 26617106,\n",
       " 'quantity': 185,\n",
       " 'price': 898500,\n",
       " 'side': -1,\n",
       " 'trade_id': 0}"
      ]
     },
     "execution_count": 36,
     "metadata": {},
     "output_type": "execute_result"
    }
   ],
   "source": [
    "m.iloc[0].to_dict()"
   ]
  },
  {
   "cell_type": "code",
   "execution_count": 47,
   "metadata": {},
   "outputs": [
    {
     "data": {
      "text/plain": [
       "(2, 10, 10, 6)"
      ]
     },
     "execution_count": 47,
     "metadata": {},
     "output_type": "execute_result"
    }
   ],
   "source": [
    "b.orderbook_array.shape"
   ]
  },
  {
   "cell_type": "code",
   "execution_count": 38,
   "metadata": {},
   "outputs": [
    {
     "name": "stdout",
     "output_type": "stream",
     "text": [
      "[       5       -1      185   898500        0 26617106    34200  1061298]\n",
      "[[[[-1 -1 -1 -1 -1 -1]\n",
      "   [-1 -1 -1 -1 -1 -1]\n",
      "   [-1 -1 -1 -1 -1 -1]\n",
      "   ...\n",
      "   [-1 -1 -1 -1 -1 -1]\n",
      "   [-1 -1 -1 -1 -1 -1]\n",
      "   [-1 -1 -1 -1 -1 -1]]\n",
      "\n",
      "  [[-1 -1 -1 -1 -1 -1]\n",
      "   [-1 -1 -1 -1 -1 -1]\n",
      "   [-1 -1 -1 -1 -1 -1]\n",
      "   ...\n",
      "   [-1 -1 -1 -1 -1 -1]\n",
      "   [-1 -1 -1 -1 -1 -1]\n",
      "   [-1 -1 -1 -1 -1 -1]]\n",
      "\n",
      "  [[-1 -1 -1 -1 -1 -1]\n",
      "   [-1 -1 -1 -1 -1 -1]\n",
      "   [-1 -1 -1 -1 -1 -1]\n",
      "   ...\n",
      "   [-1 -1 -1 -1 -1 -1]\n",
      "   [-1 -1 -1 -1 -1 -1]\n",
      "   [-1 -1 -1 -1 -1 -1]]\n",
      "\n",
      "  ...\n",
      "\n",
      "  [[-1 -1 -1 -1 -1 -1]\n",
      "   [-1 -1 -1 -1 -1 -1]\n",
      "   [-1 -1 -1 -1 -1 -1]\n",
      "   ...\n",
      "   [-1 -1 -1 -1 -1 -1]\n",
      "   [-1 -1 -1 -1 -1 -1]\n",
      "   [-1 -1 -1 -1 -1 -1]]\n",
      "\n",
      "  [[-1 -1 -1 -1 -1 -1]\n",
      "   [-1 -1 -1 -1 -1 -1]\n",
      "   [-1 -1 -1 -1 -1 -1]\n",
      "   ...\n",
      "   [-1 -1 -1 -1 -1 -1]\n",
      "   [-1 -1 -1 -1 -1 -1]\n",
      "   [-1 -1 -1 -1 -1 -1]]\n",
      "\n",
      "  [[-1 -1 -1 -1 -1 -1]\n",
      "   [-1 -1 -1 -1 -1 -1]\n",
      "   [-1 -1 -1 -1 -1 -1]\n",
      "   ...\n",
      "   [-1 -1 -1 -1 -1 -1]\n",
      "   [-1 -1 -1 -1 -1 -1]\n",
      "   [-1 -1 -1 -1 -1 -1]]]\n",
      "\n",
      "\n",
      " [[[-1 -1 -1 -1 -1 -1]\n",
      "   [-1 -1 -1 -1 -1 -1]\n",
      "   [-1 -1 -1 -1 -1 -1]\n",
      "   ...\n",
      "   [-1 -1 -1 -1 -1 -1]\n",
      "   [-1 -1 -1 -1 -1 -1]\n",
      "   [-1 -1 -1 -1 -1 -1]]\n",
      "\n",
      "  [[-1 -1 -1 -1 -1 -1]\n",
      "   [-1 -1 -1 -1 -1 -1]\n",
      "   [-1 -1 -1 -1 -1 -1]\n",
      "   ...\n",
      "   [-1 -1 -1 -1 -1 -1]\n",
      "   [-1 -1 -1 -1 -1 -1]\n",
      "   [-1 -1 -1 -1 -1 -1]]\n",
      "\n",
      "  [[-1 -1 -1 -1 -1 -1]\n",
      "   [-1 -1 -1 -1 -1 -1]\n",
      "   [-1 -1 -1 -1 -1 -1]\n",
      "   ...\n",
      "   [-1 -1 -1 -1 -1 -1]\n",
      "   [-1 -1 -1 -1 -1 -1]\n",
      "   [-1 -1 -1 -1 -1 -1]]\n",
      "\n",
      "  ...\n",
      "\n",
      "  [[-1 -1 -1 -1 -1 -1]\n",
      "   [-1 -1 -1 -1 -1 -1]\n",
      "   [-1 -1 -1 -1 -1 -1]\n",
      "   ...\n",
      "   [-1 -1 -1 -1 -1 -1]\n",
      "   [-1 -1 -1 -1 -1 -1]\n",
      "   [-1 -1 -1 -1 -1 -1]]\n",
      "\n",
      "  [[-1 -1 -1 -1 -1 -1]\n",
      "   [-1 -1 -1 -1 -1 -1]\n",
      "   [-1 -1 -1 -1 -1 -1]\n",
      "   ...\n",
      "   [-1 -1 -1 -1 -1 -1]\n",
      "   [-1 -1 -1 -1 -1 -1]\n",
      "   [-1 -1 -1 -1 -1 -1]]\n",
      "\n",
      "  [[-1 -1 -1 -1 -1 -1]\n",
      "   [-1 -1 -1 -1 -1 -1]\n",
      "   [-1 -1 -1 -1 -1 -1]\n",
      "   ...\n",
      "   [-1 -1 -1 -1 -1 -1]\n",
      "   [-1 -1 -1 -1 -1 -1]\n",
      "   [-1 -1 -1 -1 -1 -1]]]]\n"
     ]
    }
   ],
   "source": [
    "trades, order_array = b.process_order(m.iloc[0].to_dict())"
   ]
  },
  {
   "cell_type": "code",
   "execution_count": 45,
   "metadata": {},
   "outputs": [
    {
     "data": {
      "text/plain": [
       "{'timestamp': '34200.001061298',\n",
       " 'type': 4,\n",
       " 'order_id': 26617106,\n",
       " 'quantity': 185,\n",
       " 'price': 898500,\n",
       " 'side': -1,\n",
       " 'trade_id': 0}"
      ]
     },
     "execution_count": 45,
     "metadata": {},
     "output_type": "execute_result"
    }
   ],
   "source": [
    "m.iloc[0].to_dict()"
   ]
  },
  {
   "cell_type": "code",
   "execution_count": 44,
   "metadata": {},
   "outputs": [
    {
     "data": {
      "text/plain": [
       "Array([       5,       -1,      185,   898500,        0, 26617106,\n",
       "          34200,  1061298], dtype=int32)"
      ]
     },
     "execution_count": 44,
     "metadata": {},
     "output_type": "execute_result"
    }
   ],
   "source": [
    "order_array"
   ]
  },
  {
   "cell_type": "code",
   "execution_count": null,
   "metadata": {},
   "outputs": [],
   "source": []
  },
  {
   "cell_type": "code",
   "execution_count": 48,
   "metadata": {},
   "outputs": [],
   "source": [
    "orderbookLevels = 10"
   ]
  },
  {
   "cell_type": "code",
   "execution_count": 49,
   "metadata": {},
   "outputs": [],
   "source": [
    "import jax.numpy as jnp"
   ]
  },
  {
   "cell_type": "code",
   "execution_count": 86,
   "metadata": {},
   "outputs": [],
   "source": [
    "from typing import Optional, Union\n",
    "import numpy as np\n",
    "\n",
    "\n",
    "def init_msgs_from_l2(book: Union[pd.Series, np.ndarray]) -> jnp.ndarray:\n",
    "    orderbookLevels = len(book) // 4  # price/quantity for bid/ask\n",
    "    data = jnp.array(book).reshape(int(orderbookLevels*2),2)\n",
    "    newarr = jnp.zeros((int(orderbookLevels*2),8))\n",
    "    initOB = newarr \\\n",
    "        .at[:,3].set(data[:,0]) \\\n",
    "        .at[:,2].set(data[:,1]) \\\n",
    "        .at[:,0].set(1) \\\n",
    "        .at[0:orderbookLevels*4:2,1].set(-1) \\\n",
    "        .at[1:orderbookLevels*4:2,1].set(1) \\\n",
    "        .at[:,4].set(0) \\\n",
    "        .at[:,5].set(job.INITID) \\\n",
    "        .at[:,6].set(34200) \\\n",
    "        .at[:,7].set(0).astype('int32')\n",
    "    return initOB\n",
    "\n",
    "def msgs_to_jnp(m_df: pd.DataFrame) -> jnp.ndarray:\n",
    "    cols = ['Time', 'Type', 'OrderID', 'Quantity', 'Price', 'Side']\n",
    "    if m_df.shape[1] == 7:\n",
    "        cols += [\"TradeID\"]\n",
    "    m_df.columns = cols\n",
    "    m_df['TradeID'] = 0  #  TODO: should be TraderID for multi-agent support\n",
    "    col_order=['Type','Side','Quantity','Price','TradeID','OrderID','Time']\n",
    "    m_df = m_df[col_order]\n",
    "    m_df = m_df[(m_df['Type'] != 6) & (m_df['Type'] != 7) & (m_df['Type'] != 5)]\n",
    "    time = m_df[\"Time\"].astype('string').str.split('.',expand=True)\n",
    "    m_df[[\"TimeWhole\",\"TimeDec\"]] = time.astype('int32')\n",
    "    m_df = m_df.drop(\"Time\", axis=1)\n",
    "    mJNP = jnp.array(m_df)\n",
    "    return mJNP\n",
    "\n",
    "def reset_orderbook(\n",
    "        b: OrderBook,\n",
    "        l2_book: Optional[Union[pd.Series, np.ndarray]] = None,\n",
    "    ) -> None:\n",
    "    b.orderbook_array = b.orderbook_array.at[:].set(-1)\n",
    "    if l2_book is not None:\n",
    "        msgs = init_msgs_from_l2(l2_book)\n",
    "        b.process_orders_array(msgs)"
   ]
  },
  {
   "cell_type": "code",
   "execution_count": 80,
   "metadata": {},
   "outputs": [
    {
     "data": {
      "text/plain": [
       "<gymnax_exchange.jaxob.jorderbook.OrderBook at 0x7fe669e67460>"
      ]
     },
     "execution_count": 80,
     "metadata": {},
     "output_type": "execute_result"
    }
   ],
   "source": [
    "b = OrderBook(price_levels=10, orderQueueLen=10)\n",
    "b"
   ]
  },
  {
   "cell_type": "code",
   "execution_count": 90,
   "metadata": {},
   "outputs": [],
   "source": [
    "reset_orderbook(b, b_df.iloc[0])"
   ]
  },
  {
   "cell_type": "code",
   "execution_count": 91,
   "metadata": {},
   "outputs": [
    {
     "data": {
      "text/plain": [
       "Array([[[[     307,   898500,        0, 90000000,    34200,        0],\n",
       "         [      -1,       -1,       -1,       -1,       -1,       -1],\n",
       "         [      -1,       -1,       -1,       -1,       -1,       -1],\n",
       "         ...,\n",
       "         [      -1,       -1,       -1,       -1,       -1,       -1],\n",
       "         [      -1,       -1,       -1,       -1,       -1,       -1],\n",
       "         [      -1,       -1,       -1,       -1,       -1,       -1]],\n",
       "\n",
       "        [[       6,   899800,        0, 90000000,    34200,        0],\n",
       "         [      -1,       -1,       -1,       -1,       -1,       -1],\n",
       "         [      -1,       -1,       -1,       -1,       -1,       -1],\n",
       "         ...,\n",
       "         [      -1,       -1,       -1,       -1,       -1,       -1],\n",
       "         [      -1,       -1,       -1,       -1,       -1,       -1],\n",
       "         [      -1,       -1,       -1,       -1,       -1,       -1]],\n",
       "\n",
       "        [[      22,   900200,        0, 90000000,    34200,        0],\n",
       "         [      -1,       -1,       -1,       -1,       -1,       -1],\n",
       "         [      -1,       -1,       -1,       -1,       -1,       -1],\n",
       "         ...,\n",
       "         [      -1,       -1,       -1,       -1,       -1,       -1],\n",
       "         [      -1,       -1,       -1,       -1,       -1,       -1],\n",
       "         [      -1,       -1,       -1,       -1,       -1,       -1]],\n",
       "\n",
       "        ...,\n",
       "\n",
       "        [[     100,   902300,        0, 90000000,    34200,        0],\n",
       "         [      -1,       -1,       -1,       -1,       -1,       -1],\n",
       "         [      -1,       -1,       -1,       -1,       -1,       -1],\n",
       "         ...,\n",
       "         [      -1,       -1,       -1,       -1,       -1,       -1],\n",
       "         [      -1,       -1,       -1,       -1,       -1,       -1],\n",
       "         [      -1,       -1,       -1,       -1,       -1,       -1]],\n",
       "\n",
       "        [[       1,   903000,        0, 90000000,    34200,        0],\n",
       "         [      -1,       -1,       -1,       -1,       -1,       -1],\n",
       "         [      -1,       -1,       -1,       -1,       -1,       -1],\n",
       "         ...,\n",
       "         [      -1,       -1,       -1,       -1,       -1,       -1],\n",
       "         [      -1,       -1,       -1,       -1,       -1,       -1],\n",
       "         [      -1,       -1,       -1,       -1,       -1,       -1]],\n",
       "\n",
       "        [[    1300,   903300,        0, 90000000,    34200,        0],\n",
       "         [      -1,       -1,       -1,       -1,       -1,       -1],\n",
       "         [      -1,       -1,       -1,       -1,       -1,       -1],\n",
       "         ...,\n",
       "         [      -1,       -1,       -1,       -1,       -1,       -1],\n",
       "         [      -1,       -1,       -1,       -1,       -1,       -1],\n",
       "         [      -1,       -1,       -1,       -1,       -1,       -1]]],\n",
       "\n",
       "\n",
       "       [[[     355,   898300,        0, 90000000,    34200,        0],\n",
       "         [      -1,       -1,       -1,       -1,       -1,       -1],\n",
       "         [      -1,       -1,       -1,       -1,       -1,       -1],\n",
       "         ...,\n",
       "         [      -1,       -1,       -1,       -1,       -1,       -1],\n",
       "         [      -1,       -1,       -1,       -1,       -1,       -1],\n",
       "         [      -1,       -1,       -1,       -1,       -1,       -1]],\n",
       "\n",
       "        [[    2353,   898200,        0, 90000000,    34200,        0],\n",
       "         [      -1,       -1,       -1,       -1,       -1,       -1],\n",
       "         [      -1,       -1,       -1,       -1,       -1,       -1],\n",
       "         ...,\n",
       "         [      -1,       -1,       -1,       -1,       -1,       -1],\n",
       "         [      -1,       -1,       -1,       -1,       -1,       -1],\n",
       "         [      -1,       -1,       -1,       -1,       -1,       -1]],\n",
       "\n",
       "        [[    2817,   898100,        0, 90000000,    34200,        0],\n",
       "         [      -1,       -1,       -1,       -1,       -1,       -1],\n",
       "         [      -1,       -1,       -1,       -1,       -1,       -1],\n",
       "         ...,\n",
       "         [      -1,       -1,       -1,       -1,       -1,       -1],\n",
       "         [      -1,       -1,       -1,       -1,       -1,       -1],\n",
       "         [      -1,       -1,       -1,       -1,       -1,       -1]],\n",
       "\n",
       "        ...,\n",
       "\n",
       "        [[     300,   896800,        0, 90000000,    34200,        0],\n",
       "         [      -1,       -1,       -1,       -1,       -1,       -1],\n",
       "         [      -1,       -1,       -1,       -1,       -1,       -1],\n",
       "         ...,\n",
       "         [      -1,       -1,       -1,       -1,       -1,       -1],\n",
       "         [      -1,       -1,       -1,       -1,       -1,       -1],\n",
       "         [      -1,       -1,       -1,       -1,       -1,       -1]],\n",
       "\n",
       "        [[     200,   896700,        0, 90000000,    34200,        0],\n",
       "         [      -1,       -1,       -1,       -1,       -1,       -1],\n",
       "         [      -1,       -1,       -1,       -1,       -1,       -1],\n",
       "         ...,\n",
       "         [      -1,       -1,       -1,       -1,       -1,       -1],\n",
       "         [      -1,       -1,       -1,       -1,       -1,       -1],\n",
       "         [      -1,       -1,       -1,       -1,       -1,       -1]],\n",
       "\n",
       "        [[       2,   896000,        0, 90000000,    34200,        0],\n",
       "         [      -1,       -1,       -1,       -1,       -1,       -1],\n",
       "         [      -1,       -1,       -1,       -1,       -1,       -1],\n",
       "         ...,\n",
       "         [      -1,       -1,       -1,       -1,       -1,       -1],\n",
       "         [      -1,       -1,       -1,       -1,       -1,       -1],\n",
       "         [      -1,       -1,       -1,       -1,       -1,       -1]]]],      dtype=int32)"
      ]
     },
     "execution_count": 91,
     "metadata": {},
     "output_type": "execute_result"
    }
   ],
   "source": [
    "b.orderbook_array"
   ]
  },
  {
   "cell_type": "code",
   "execution_count": 87,
   "metadata": {},
   "outputs": [],
   "source": [
    "replay = msgs_to_jnp(m_df)"
   ]
  },
  {
   "cell_type": "code",
   "execution_count": 92,
   "metadata": {},
   "outputs": [],
   "source": [
    "trades = b.process_orders_array(replay[:1000])"
   ]
  },
  {
   "cell_type": "code",
   "execution_count": 94,
   "metadata": {},
   "outputs": [
    {
     "data": {
      "text/plain": [
       "Array([899700,     22, 899100,    122, 899900,    100, 899000,    100,\n",
       "       900000,    100, 898800,    118, 900600,    100, 898700,    272,\n",
       "       900700,     66, 898600,    100, 900900,     13,     -1,      0,\n",
       "           -1,      0,     -1,      0,     -1,      0,     -1,      0,\n",
       "           -1,      0,     -1,      0,     -1,      0,     -1,      0],      dtype=int32)"
      ]
     },
     "execution_count": 94,
     "metadata": {},
     "output_type": "execute_result"
    }
   ],
   "source": [
    "b.get_L2_state()"
   ]
  },
  {
   "cell_type": "code",
   "execution_count": 93,
   "metadata": {},
   "outputs": [
    {
     "data": {
      "text/plain": [
       "Array([[[[       22,    899700,         0,  27274166,     34200,\n",
       "          996828344],\n",
       "         [       -1,        -1,        -1,        -1,        -1,\n",
       "                 -1],\n",
       "         [       -1,        -1,        -1,        -1,        -1,\n",
       "                 -1],\n",
       "         ...,\n",
       "         [       -1,        -1,        -1,        -1,        -1,\n",
       "                 -1],\n",
       "         [       -1,        -1,        -1,        -1,        -1,\n",
       "                 -1],\n",
       "         [       -1,        -1,        -1,        -1,        -1,\n",
       "                 -1]],\n",
       "\n",
       "        [[       99,    899900,         0,  27213982,     34200,\n",
       "          892262942],\n",
       "         [        1,    899900,         0,  27222734,     34200,\n",
       "          909743549],\n",
       "         [       -1,        -1,        -1,        -1,        -1,\n",
       "                 -1],\n",
       "         ...,\n",
       "         [       -1,        -1,        -1,        -1,        -1,\n",
       "                 -1],\n",
       "         [       -1,        -1,        -1,        -1,        -1,\n",
       "                 -1],\n",
       "         [       -1,        -1,        -1,        -1,        -1,\n",
       "                 -1]],\n",
       "\n",
       "        [[      100,    900000,         0,  27275258,     34200,\n",
       "          999113076],\n",
       "         [       -1,        -1,        -1,        -1,        -1,\n",
       "                 -1],\n",
       "         [       -1,        -1,        -1,        -1,        -1,\n",
       "                 -1],\n",
       "         ...,\n",
       "         [       -1,        -1,        -1,        -1,        -1,\n",
       "                 -1],\n",
       "         [       -1,        -1,        -1,        -1,        -1,\n",
       "                 -1],\n",
       "         [       -1,        -1,        -1,        -1,        -1,\n",
       "                 -1]],\n",
       "\n",
       "        ...,\n",
       "\n",
       "        [[       -1,        -1,        -1,        -1,        -1,\n",
       "                 -1],\n",
       "         [       -1,        -1,        -1,        -1,        -1,\n",
       "                 -1],\n",
       "         [       -1,        -1,        -1,        -1,        -1,\n",
       "                 -1],\n",
       "         ...,\n",
       "         [       -1,        -1,        -1,        -1,        -1,\n",
       "                 -1],\n",
       "         [       -1,        -1,        -1,        -1,        -1,\n",
       "                 -1],\n",
       "         [       -1,        -1,        -1,        -1,        -1,\n",
       "                 -1]],\n",
       "\n",
       "        [[       -1,        -1,        -1,        -1,        -1,\n",
       "                 -1],\n",
       "         [       -1,        -1,        -1,        -1,        -1,\n",
       "                 -1],\n",
       "         [       -1,        -1,        -1,        -1,        -1,\n",
       "                 -1],\n",
       "         ...,\n",
       "         [       -1,        -1,        -1,        -1,        -1,\n",
       "                 -1],\n",
       "         [       -1,        -1,        -1,        -1,        -1,\n",
       "                 -1],\n",
       "         [       -1,        -1,        -1,        -1,        -1,\n",
       "                 -1]],\n",
       "\n",
       "        [[       -1,        -1,        -1,        -1,        -1,\n",
       "                 -1],\n",
       "         [       -1,        -1,        -1,        -1,        -1,\n",
       "                 -1],\n",
       "         [       -1,        -1,        -1,        -1,        -1,\n",
       "                 -1],\n",
       "         ...,\n",
       "         [       -1,        -1,        -1,        -1,        -1,\n",
       "                 -1],\n",
       "         [       -1,        -1,        -1,        -1,        -1,\n",
       "                 -1],\n",
       "         [       -1,        -1,        -1,        -1,        -1,\n",
       "                 -1]]],\n",
       "\n",
       "\n",
       "       [[[       22,    899100,         0,  27243290,     34200,\n",
       "          944349945],\n",
       "         [      100,    899100,         0,  27245090,     34200,\n",
       "          947866667],\n",
       "         [       -1,        -1,        -1,        -1,        -1,\n",
       "                 -1],\n",
       "         ...,\n",
       "         [       -1,        -1,        -1,        -1,        -1,\n",
       "                 -1],\n",
       "         [       -1,        -1,        -1,        -1,        -1,\n",
       "                 -1],\n",
       "         [       -1,        -1,        -1,        -1,        -1,\n",
       "                 -1]],\n",
       "\n",
       "        [[      100,    899000,         0,  27260858,     34200,\n",
       "           97509824],\n",
       "         [       -1,        -1,        -1,        -1,        -1,\n",
       "                 -1],\n",
       "         [       -1,        -1,        -1,        -1,        -1,\n",
       "                 -1],\n",
       "         ...,\n",
       "         [       -1,        -1,        -1,        -1,        -1,\n",
       "                 -1],\n",
       "         [       -1,        -1,        -1,        -1,        -1,\n",
       "                 -1],\n",
       "         [       -1,        -1,        -1,        -1,        -1,\n",
       "                 -1]],\n",
       "\n",
       "        [[      100,    898800,         0,  27190246,     34200,\n",
       "          842215794],\n",
       "         [       18,    898800,         0,  27211030,     34200,\n",
       "          884184781],\n",
       "         [       -1,        -1,        -1,        -1,        -1,\n",
       "                 -1],\n",
       "         ...,\n",
       "         [       -1,        -1,        -1,        -1,        -1,\n",
       "                 -1],\n",
       "         [       -1,        -1,        -1,        -1,        -1,\n",
       "                 -1],\n",
       "         [       -1,        -1,        -1,        -1,        -1,\n",
       "                 -1]],\n",
       "\n",
       "        ...,\n",
       "\n",
       "        [[       -1,        -1,        -1,        -1,        -1,\n",
       "                 -1],\n",
       "         [       -1,        -1,        -1,        -1,        -1,\n",
       "                 -1],\n",
       "         [       -1,        -1,        -1,        -1,        -1,\n",
       "                 -1],\n",
       "         ...,\n",
       "         [       -1,        -1,        -1,        -1,        -1,\n",
       "                 -1],\n",
       "         [       -1,        -1,        -1,        -1,        -1,\n",
       "                 -1],\n",
       "         [       -1,        -1,        -1,        -1,        -1,\n",
       "                 -1]],\n",
       "\n",
       "        [[       -1,        -1,        -1,        -1,        -1,\n",
       "                 -1],\n",
       "         [       -1,        -1,        -1,        -1,        -1,\n",
       "                 -1],\n",
       "         [       -1,        -1,        -1,        -1,        -1,\n",
       "                 -1],\n",
       "         ...,\n",
       "         [       -1,        -1,        -1,        -1,        -1,\n",
       "                 -1],\n",
       "         [       -1,        -1,        -1,        -1,        -1,\n",
       "                 -1],\n",
       "         [       -1,        -1,        -1,        -1,        -1,\n",
       "                 -1]],\n",
       "\n",
       "        [[       -1,        -1,        -1,        -1,        -1,\n",
       "                 -1],\n",
       "         [       -1,        -1,        -1,        -1,        -1,\n",
       "                 -1],\n",
       "         [       -1,        -1,        -1,        -1,        -1,\n",
       "                 -1],\n",
       "         ...,\n",
       "         [       -1,        -1,        -1,        -1,        -1,\n",
       "                 -1],\n",
       "         [       -1,        -1,        -1,        -1,        -1,\n",
       "                 -1],\n",
       "         [       -1,        -1,        -1,        -1,        -1,\n",
       "                 -1]]]], dtype=int32)"
      ]
     },
     "execution_count": 93,
     "metadata": {},
     "output_type": "execute_result"
    }
   ],
   "source": [
    "b.orderbook_array"
   ]
  },
  {
   "cell_type": "code",
   "execution_count": null,
   "metadata": {},
   "outputs": [],
   "source": []
  }
 ],
 "metadata": {
  "kernelspec": {
   "display_name": "rlenv",
   "language": "python",
   "name": "python3"
  },
  "language_info": {
   "codemirror_mode": {
    "name": "ipython",
    "version": 3
   },
   "file_extension": ".py",
   "mimetype": "text/x-python",
   "name": "python",
   "nbconvert_exporter": "python",
   "pygments_lexer": "ipython3",
   "version": "3.10.12"
  },
  "orig_nbformat": 4
 },
 "nbformat": 4,
 "nbformat_minor": 2
}
